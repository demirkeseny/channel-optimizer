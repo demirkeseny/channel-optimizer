{
 "cells": [
  {
   "cell_type": "markdown",
   "metadata": {},
   "source": [
    "# 02_Classification\n",
    "\n",
    "> Last Update: 06/13/2020 <br>\n",
    "Author: [Gunsu Altindag](https://www.linkedin.com/in/gunsualtindag) | [Yalim Demirkesen](https://www.linkedin.com/in/yalimdemirkesen/)\n",
    "\n",
    "**Description**\n",
    "\n",
    "After the preprocessing is completed, we have the dataset that we will train/test our classification model. After the testing is completed, I have an additional dataset for all the combinations of location, industry, part of the day, day of the week and amount spent. The model will be used to predict how many conversions we will have as a result of the campaigns."
   ]
  },
  {
   "cell_type": "code",
   "execution_count": 83,
   "metadata": {},
   "outputs": [],
   "source": [
    "# necessary libraries:\n",
    "import matplotlib.pyplot as plt\n",
    "import seaborn as sns\n",
    "%matplotlib inline\n",
    "plt.style.use(\"ggplot\")\n",
    "import pandas as pd\n",
    "import numpy as np\n",
    "from itertools import product\n",
    "import warnings\n",
    "warnings.filterwarnings('ignore')\n",
    "\n",
    "# display settings\n",
    "from IPython.display import display\n",
    "pd.options.display.max_columns = None\n",
    "pd.options.display.max_rows = 500\n",
    "\n",
    "# modelling libraries:\n",
    "from sklearn.model_selection import train_test_split, cross_val_score, GridSearchCV, RandomizedSearchCV, StratifiedKFold\n",
    "from sklearn.linear_model import LogisticRegression\n",
    "from sklearn.preprocessing import StandardScaler\n",
    "from sklearn.metrics import f1_score, accuracy_score, precision_score, recall_score, confusion_matrix, make_scorer\n",
    "from sklearn import metrics\n",
    "from sklearn.ensemble import RandomForestClassifier"
   ]
  },
  {
   "cell_type": "code",
   "execution_count": 84,
   "metadata": {},
   "outputs": [],
   "source": [
    "# # import pickle\n",
    "# # from datetime import datetime, date, time, timedelta\n",
    "# # from dateutil import relativedelta\n",
    "\n",
    "# from scipy.stats import gaussian_kde\n",
    "# # from hashlib import md5\n",
    "\n",
    "# # import os \n",
    "# # import sys\n",
    "# # import re\n",
    "# # import io\n",
    "# # import requests\n",
    "# # import zipfile\n",
    "\n",
    "# #import pystan \n",
    "# #import matplotlib as plt\n",
    "\n",
    "\n",
    "\n",
    "# from sklearn.model_selection import train_test_split, GridSearchCV, StratifiedKFold, StratifiedShuffleSplit, KFold, cross_val_score\n",
    "# from sklearn.base import clone, BaseEstimator, TransformerMixin\n",
    "# from sklearn.metrics import f1_score, accuracy_score, precision_score, confusion_matrix, roc_curve, precision_recall_curve, auc, make_scorer, recall_score\n",
    "# from sklearn.utils.class_weight import compute_class_weight\n",
    "# from sklearn.compose import ColumnTransformer, make_column_transformer\n",
    "# from sklearn.pipeline import Pipeline, FeatureUnion, make_pipeline\n",
    "# from sklearn.impute import SimpleImputer\n",
    "# from sklearn.preprocessing import LabelBinarizer, OneHotEncoder, LabelEncoder, MultiLabelBinarizer\n",
    "# from sklearn_features.transformers import DataFrameSelector\n",
    "# from itertools import product\n",
    "\n",
    "\n",
    "# # from __future__ import print_function\n",
    "\n",
    "\n",
    "\n",
    "\n",
    "\n",
    "# # from sklearn.preprocessing import Imputer\n",
    "# # from sklearn.preprocessing import CategoricalEncoder\n",
    "\n",
    "# # from sklearn.compose import TransformedTargetRegressor\n",
    "# from sklearn.ensemble import RandomForestClassifier\n",
    "# # from sklearn.preprocessing import QuantileTransformer\n",
    "# from sklearn.linear_model import LinearRegression\n",
    "# from sklearn.ensemble import AdaBoostClassifier\n",
    "# from sklearn.tree import DecisionTreeClassifier\n",
    "# from sklearn.ensemble import BaggingClassifier \n",
    "# from sklearn.metrics import balanced_accuracy_score\n",
    "# # from imblearn.datasets import fetch_datasets\n",
    "# from sklearn.svm import SVC\n",
    "# from sklearn.ensemble import VotingClassifier \n",
    "\n",
    "# # from sklearn.datasets.samples_generator import make_blobs\n",
    "# from sklearn.multiclass import OneVsRestClassifier\n",
    "# from sklearn.naive_bayes import MultinomialNB\n",
    "# from sklearn.linear_model import SGDClassifier\n",
    "# # from sklearn.metrics import hamming_loss\n",
    "# # from sklearn import metrics\n",
    "\n",
    "# from sklearn.calibration import CalibratedClassifierCV\n",
    "# from sklearn import linear_model\n",
    "\n",
    "# #Import scikit-learn metrics module for accuracy calculation\n",
    "# # from sklearn import metrics\n",
    "# # from imblearn.ensemble import BalancedBaggingClassifier\n",
    "# # from imblearn.ensemble import BalancedRandomForestClassifier\n",
    "# # from imblearn.ensemble import EasyEnsembleClassifier\n",
    "# # from imblearn.ensemble import RUSBoostClassifier\n",
    "# # from imblearn.metrics import geometric_mean_score\n",
    "# from sklearn.naive_bayes import MultinomialNB, GaussianNB, BernoulliNB\n",
    "# import nltk\n",
    "# # from nltk.classify.scikitlearn import SklearnClassifier\n",
    "# from sklearn.svm import LinearSVC\n",
    "# from sklearn.feature_selection import SelectFromModel\n",
    "\n",
    "# from imblearn import under_sampling, over_sampling\n",
    "\n",
    "# # from imblearn.datasets import make_imbalance\n",
    "# # from imblearn.under_sampling import NearMiss\n",
    "# # from imblearn.pipeline import make_pipeline\n",
    "# # from imblearn.metrics import classification_report_imbalanced\n",
    "# # from collections import Counter\n",
    "# # from imblearn.under_sampling import RandomUnderSampler, NearMiss, CondensedNearestNeighbour\n",
    "# # from imblearn.under_sampling import EditedNearestNeighbours, RepeatedEditedNearestNeighbours, TomekLinks\n",
    "# from imblearn.over_sampling import RandomOverSampler, SMOTE\n",
    "# from imblearn.combine import SMOTEENN, SMOTETomek\n",
    "# # from imblearn.ensemble import BalanceCascade, EasyEnsemble\n",
    "\n",
    "# # import sagemaker\n",
    "# # from sagemaker.tensorflow import TensorFlow\n",
    "\n",
    "# import tensorflow # Imports tensorflow\n",
    "# import keras # Imports keras\n",
    "\n",
    "# from keras.models import Sequential #Sequential Models\n",
    "# from keras.layers import Dense, Dropout #Dense Fully Connected Layer Type\n",
    "# from keras.optimizers import SGD #Stochastic Gradient Descent Optimizer\n",
    "# from keras.callbacks import EarlyStopping\n",
    "# from keras.wrappers.scikit_learn import KerasClassifier\n",
    "# from keras.utils import to_categorical\n",
    "\n",
    "# from sklearn import tree\n",
    "# import graphviz\n",
    "# from IPython.display import Image\n",
    "# # import io\n",
    "# # from sklearn.externals.six import StringIO  \n",
    "# import pydot\n",
    "# import pydotplus\n",
    "# from graphviz import Digraph\n",
    "\n",
    "# # from sklearn.externals.six import StringIO  \n",
    "# from IPython.display import Image  \n",
    "# from sklearn.tree import export_graphviz"
   ]
  },
  {
   "cell_type": "code",
   "execution_count": null,
   "metadata": {},
   "outputs": [],
   "source": [
    "# from itertools import product\n",
    "\n",
    "# import numpy as np\n",
    "# import matplotlib.pyplot as plt\n",
    "\n",
    "# from sklearn.tree import DecisionTreeClassifier\n",
    "# from sklearn.neighbors import KNeighborsClassifier\n",
    "# from sklearn.svm import SVC\n",
    "# from sklearn.ensemble import VotingClassifier"
   ]
  },
  {
   "cell_type": "code",
   "execution_count": 85,
   "metadata": {},
   "outputs": [],
   "source": [
    "# class DataFrameSelector(BaseEstimator, TransformerMixin):\n",
    "#     def __init__(self, attribute_names):\n",
    "#         self.attribute_names=attribute_names\n",
    "#     def fit(self, X, y=None):\n",
    "#         return self\n",
    "#     def transform(self, X):\n",
    "#         return X[self.attribute_names].values"
   ]
  },
  {
   "cell_type": "raw",
   "metadata": {},
   "source": [
    "# imblearn has a problem by installation! First pip install is needed. Then the kernel\n",
    "# must be restarted then imblearn needs to be imported.\n",
    "\n",
    "!pip install imblearn"
   ]
  },
  {
   "cell_type": "raw",
   "metadata": {},
   "source": [
    "!pip install graphviz"
   ]
  },
  {
   "cell_type": "raw",
   "metadata": {},
   "source": [
    "!pip install pydot"
   ]
  },
  {
   "cell_type": "raw",
   "metadata": {},
   "source": [
    "!pip install pydotplus --user"
   ]
  },
  {
   "cell_type": "code",
   "execution_count": 86,
   "metadata": {},
   "outputs": [],
   "source": [
    "# !pip install pymc3"
   ]
  },
  {
   "cell_type": "code",
   "execution_count": 87,
   "metadata": {},
   "outputs": [],
   "source": [
    "# import pymc3 as pm"
   ]
  },
  {
   "cell_type": "code",
   "execution_count": 88,
   "metadata": {},
   "outputs": [],
   "source": [
    "# !conda config --add channels conda-forge"
   ]
  },
  {
   "cell_type": "markdown",
   "metadata": {},
   "source": [
    "## Uploading and Preparing the Data"
   ]
  },
  {
   "cell_type": "code",
   "execution_count": 89,
   "metadata": {},
   "outputs": [],
   "source": [
    "fb = pd.read_csv(\"./data/fb.csv\")"
   ]
  },
  {
   "cell_type": "code",
   "execution_count": 90,
   "metadata": {},
   "outputs": [],
   "source": [
    "df_sept = pd.read_csv(\"./data/testdata_sep.csv\")"
   ]
  },
  {
   "cell_type": "code",
   "execution_count": 91,
   "metadata": {},
   "outputs": [
    {
     "data": {
      "text/plain": [
       "(23384, 28)"
      ]
     },
     "execution_count": 91,
     "metadata": {},
     "output_type": "execute_result"
    }
   ],
   "source": [
    "fb.shape"
   ]
  },
  {
   "cell_type": "code",
   "execution_count": 92,
   "metadata": {},
   "outputs": [],
   "source": [
    "fb.drop(columns=['Unnamed: 0'], inplace=True)\n",
    "df_sept.drop(columns=['Unnamed: 0'], inplace=True)"
   ]
  },
  {
   "cell_type": "markdown",
   "metadata": {},
   "source": [
    "I will exclude the month of September from the training and testing data. After I test the data, I will go on and make the predictions and optimization and compare it with the actual results in September. "
   ]
  },
  {
   "cell_type": "code",
   "execution_count": 93,
   "metadata": {},
   "outputs": [],
   "source": [
    "fb[(fb['2019']==1) & (fb['month']==9)].to_csv('./data/actual_sep.csv')"
   ]
  },
  {
   "cell_type": "code",
   "execution_count": 94,
   "metadata": {},
   "outputs": [],
   "source": [
    "fb = fb[~((fb['2019']==1) & (fb['month']==9))].reset_index(drop=True)"
   ]
  },
  {
   "cell_type": "code",
   "execution_count": 95,
   "metadata": {},
   "outputs": [
    {
     "data": {
      "text/html": [
       "<div>\n",
       "<style scoped>\n",
       "    .dataframe tbody tr th:only-of-type {\n",
       "        vertical-align: middle;\n",
       "    }\n",
       "\n",
       "    .dataframe tbody tr th {\n",
       "        vertical-align: top;\n",
       "    }\n",
       "\n",
       "    .dataframe thead th {\n",
       "        text-align: right;\n",
       "    }\n",
       "</style>\n",
       "<table border=\"1\" class=\"dataframe\">\n",
       "  <thead>\n",
       "    <tr style=\"text-align: right;\">\n",
       "      <th></th>\n",
       "      <th>month</th>\n",
       "      <th>week_num</th>\n",
       "      <th>afternoon</th>\n",
       "      <th>evening</th>\n",
       "      <th>morning</th>\n",
       "      <th>night</th>\n",
       "      <th>DE</th>\n",
       "      <th>ES</th>\n",
       "      <th>FR</th>\n",
       "      <th>IT</th>\n",
       "      <th>MX</th>\n",
       "      <th>UK</th>\n",
       "      <th>US</th>\n",
       "      <th>ZA</th>\n",
       "      <th>OR</th>\n",
       "      <th>SSF</th>\n",
       "      <th>Mon</th>\n",
       "      <th>Tues</th>\n",
       "      <th>Weds</th>\n",
       "      <th>Thurs</th>\n",
       "      <th>Fri</th>\n",
       "      <th>Sat</th>\n",
       "      <th>Sun</th>\n",
       "      <th>2018</th>\n",
       "      <th>2019</th>\n",
       "      <th>amount_spent_usd</th>\n",
       "      <th>labels</th>\n",
       "    </tr>\n",
       "  </thead>\n",
       "  <tbody>\n",
       "    <tr>\n",
       "      <th>0</th>\n",
       "      <td>1</td>\n",
       "      <td>1</td>\n",
       "      <td>1</td>\n",
       "      <td>0</td>\n",
       "      <td>0</td>\n",
       "      <td>0</td>\n",
       "      <td>1</td>\n",
       "      <td>0</td>\n",
       "      <td>0</td>\n",
       "      <td>0</td>\n",
       "      <td>0</td>\n",
       "      <td>0</td>\n",
       "      <td>0</td>\n",
       "      <td>0</td>\n",
       "      <td>0</td>\n",
       "      <td>1</td>\n",
       "      <td>1</td>\n",
       "      <td>0</td>\n",
       "      <td>0</td>\n",
       "      <td>0</td>\n",
       "      <td>0</td>\n",
       "      <td>0</td>\n",
       "      <td>0</td>\n",
       "      <td>1</td>\n",
       "      <td>0</td>\n",
       "      <td>17.052800</td>\n",
       "      <td>btw 1 and 2 conversions</td>\n",
       "    </tr>\n",
       "    <tr>\n",
       "      <th>1</th>\n",
       "      <td>1</td>\n",
       "      <td>1</td>\n",
       "      <td>1</td>\n",
       "      <td>0</td>\n",
       "      <td>0</td>\n",
       "      <td>0</td>\n",
       "      <td>0</td>\n",
       "      <td>1</td>\n",
       "      <td>0</td>\n",
       "      <td>0</td>\n",
       "      <td>0</td>\n",
       "      <td>0</td>\n",
       "      <td>0</td>\n",
       "      <td>0</td>\n",
       "      <td>1</td>\n",
       "      <td>0</td>\n",
       "      <td>1</td>\n",
       "      <td>0</td>\n",
       "      <td>0</td>\n",
       "      <td>0</td>\n",
       "      <td>0</td>\n",
       "      <td>0</td>\n",
       "      <td>0</td>\n",
       "      <td>1</td>\n",
       "      <td>0</td>\n",
       "      <td>23.137473</td>\n",
       "      <td>btw 1 and 2 conversions</td>\n",
       "    </tr>\n",
       "    <tr>\n",
       "      <th>2</th>\n",
       "      <td>1</td>\n",
       "      <td>1</td>\n",
       "      <td>1</td>\n",
       "      <td>0</td>\n",
       "      <td>0</td>\n",
       "      <td>0</td>\n",
       "      <td>0</td>\n",
       "      <td>0</td>\n",
       "      <td>1</td>\n",
       "      <td>0</td>\n",
       "      <td>0</td>\n",
       "      <td>0</td>\n",
       "      <td>0</td>\n",
       "      <td>0</td>\n",
       "      <td>1</td>\n",
       "      <td>0</td>\n",
       "      <td>1</td>\n",
       "      <td>0</td>\n",
       "      <td>0</td>\n",
       "      <td>0</td>\n",
       "      <td>0</td>\n",
       "      <td>0</td>\n",
       "      <td>0</td>\n",
       "      <td>1</td>\n",
       "      <td>0</td>\n",
       "      <td>3.204700</td>\n",
       "      <td>0 conversions</td>\n",
       "    </tr>\n",
       "    <tr>\n",
       "      <th>3</th>\n",
       "      <td>1</td>\n",
       "      <td>1</td>\n",
       "      <td>1</td>\n",
       "      <td>0</td>\n",
       "      <td>0</td>\n",
       "      <td>0</td>\n",
       "      <td>0</td>\n",
       "      <td>0</td>\n",
       "      <td>1</td>\n",
       "      <td>0</td>\n",
       "      <td>0</td>\n",
       "      <td>0</td>\n",
       "      <td>0</td>\n",
       "      <td>0</td>\n",
       "      <td>0</td>\n",
       "      <td>1</td>\n",
       "      <td>1</td>\n",
       "      <td>0</td>\n",
       "      <td>0</td>\n",
       "      <td>0</td>\n",
       "      <td>0</td>\n",
       "      <td>0</td>\n",
       "      <td>0</td>\n",
       "      <td>1</td>\n",
       "      <td>0</td>\n",
       "      <td>39.000829</td>\n",
       "      <td>0 conversions</td>\n",
       "    </tr>\n",
       "    <tr>\n",
       "      <th>4</th>\n",
       "      <td>1</td>\n",
       "      <td>1</td>\n",
       "      <td>1</td>\n",
       "      <td>0</td>\n",
       "      <td>0</td>\n",
       "      <td>0</td>\n",
       "      <td>0</td>\n",
       "      <td>0</td>\n",
       "      <td>0</td>\n",
       "      <td>1</td>\n",
       "      <td>0</td>\n",
       "      <td>0</td>\n",
       "      <td>0</td>\n",
       "      <td>0</td>\n",
       "      <td>1</td>\n",
       "      <td>0</td>\n",
       "      <td>1</td>\n",
       "      <td>0</td>\n",
       "      <td>0</td>\n",
       "      <td>0</td>\n",
       "      <td>0</td>\n",
       "      <td>0</td>\n",
       "      <td>0</td>\n",
       "      <td>1</td>\n",
       "      <td>0</td>\n",
       "      <td>11.831640</td>\n",
       "      <td>0 conversions</td>\n",
       "    </tr>\n",
       "  </tbody>\n",
       "</table>\n",
       "</div>"
      ],
      "text/plain": [
       "   month  week_num  afternoon  evening  morning  night  DE  ES  FR  IT  MX  \\\n",
       "0      1         1          1        0        0      0   1   0   0   0   0   \n",
       "1      1         1          1        0        0      0   0   1   0   0   0   \n",
       "2      1         1          1        0        0      0   0   0   1   0   0   \n",
       "3      1         1          1        0        0      0   0   0   1   0   0   \n",
       "4      1         1          1        0        0      0   0   0   0   1   0   \n",
       "\n",
       "   UK  US  ZA  OR  SSF  Mon  Tues  Weds  Thurs  Fri  Sat  Sun  2018  2019  \\\n",
       "0   0   0   0   0    1    1     0     0      0    0    0    0     1     0   \n",
       "1   0   0   0   1    0    1     0     0      0    0    0    0     1     0   \n",
       "2   0   0   0   1    0    1     0     0      0    0    0    0     1     0   \n",
       "3   0   0   0   0    1    1     0     0      0    0    0    0     1     0   \n",
       "4   0   0   0   1    0    1     0     0      0    0    0    0     1     0   \n",
       "\n",
       "   amount_spent_usd                   labels  \n",
       "0         17.052800  btw 1 and 2 conversions  \n",
       "1         23.137473  btw 1 and 2 conversions  \n",
       "2          3.204700            0 conversions  \n",
       "3         39.000829            0 conversions  \n",
       "4         11.831640            0 conversions  "
      ]
     },
     "execution_count": 95,
     "metadata": {},
     "output_type": "execute_result"
    }
   ],
   "source": [
    "fb.head()"
   ]
  },
  {
   "cell_type": "code",
   "execution_count": 96,
   "metadata": {},
   "outputs": [
    {
     "data": {
      "text/html": [
       "<div>\n",
       "<style scoped>\n",
       "    .dataframe tbody tr th:only-of-type {\n",
       "        vertical-align: middle;\n",
       "    }\n",
       "\n",
       "    .dataframe tbody tr th {\n",
       "        vertical-align: top;\n",
       "    }\n",
       "\n",
       "    .dataframe thead th {\n",
       "        text-align: right;\n",
       "    }\n",
       "</style>\n",
       "<table border=\"1\" class=\"dataframe\">\n",
       "  <thead>\n",
       "    <tr style=\"text-align: right;\">\n",
       "      <th></th>\n",
       "      <th>month</th>\n",
       "      <th>week_num</th>\n",
       "      <th>afternoon</th>\n",
       "      <th>evening</th>\n",
       "      <th>morning</th>\n",
       "      <th>night</th>\n",
       "      <th>DE</th>\n",
       "      <th>ES</th>\n",
       "      <th>FR</th>\n",
       "      <th>IT</th>\n",
       "      <th>MX</th>\n",
       "      <th>UK</th>\n",
       "      <th>US</th>\n",
       "      <th>ZA</th>\n",
       "      <th>OR</th>\n",
       "      <th>SSF</th>\n",
       "      <th>Fri</th>\n",
       "      <th>Mon</th>\n",
       "      <th>Sat</th>\n",
       "      <th>Sun</th>\n",
       "      <th>Thurs</th>\n",
       "      <th>Tues</th>\n",
       "      <th>Weds</th>\n",
       "      <th>2018</th>\n",
       "      <th>2019</th>\n",
       "      <th>amount_spent_usd</th>\n",
       "    </tr>\n",
       "  </thead>\n",
       "  <tbody>\n",
       "    <tr>\n",
       "      <th>0</th>\n",
       "      <td>9</td>\n",
       "      <td>35</td>\n",
       "      <td>1</td>\n",
       "      <td>0</td>\n",
       "      <td>0</td>\n",
       "      <td>0</td>\n",
       "      <td>0</td>\n",
       "      <td>0</td>\n",
       "      <td>0</td>\n",
       "      <td>0</td>\n",
       "      <td>0</td>\n",
       "      <td>0</td>\n",
       "      <td>1</td>\n",
       "      <td>0</td>\n",
       "      <td>1</td>\n",
       "      <td>0</td>\n",
       "      <td>0</td>\n",
       "      <td>0</td>\n",
       "      <td>0</td>\n",
       "      <td>1</td>\n",
       "      <td>0</td>\n",
       "      <td>0</td>\n",
       "      <td>0</td>\n",
       "      <td>0</td>\n",
       "      <td>1</td>\n",
       "      <td>0</td>\n",
       "    </tr>\n",
       "    <tr>\n",
       "      <th>1</th>\n",
       "      <td>9</td>\n",
       "      <td>35</td>\n",
       "      <td>1</td>\n",
       "      <td>0</td>\n",
       "      <td>0</td>\n",
       "      <td>0</td>\n",
       "      <td>0</td>\n",
       "      <td>0</td>\n",
       "      <td>0</td>\n",
       "      <td>0</td>\n",
       "      <td>0</td>\n",
       "      <td>0</td>\n",
       "      <td>1</td>\n",
       "      <td>0</td>\n",
       "      <td>0</td>\n",
       "      <td>1</td>\n",
       "      <td>0</td>\n",
       "      <td>0</td>\n",
       "      <td>0</td>\n",
       "      <td>1</td>\n",
       "      <td>0</td>\n",
       "      <td>0</td>\n",
       "      <td>0</td>\n",
       "      <td>0</td>\n",
       "      <td>1</td>\n",
       "      <td>0</td>\n",
       "    </tr>\n",
       "    <tr>\n",
       "      <th>2</th>\n",
       "      <td>9</td>\n",
       "      <td>35</td>\n",
       "      <td>1</td>\n",
       "      <td>0</td>\n",
       "      <td>0</td>\n",
       "      <td>0</td>\n",
       "      <td>0</td>\n",
       "      <td>0</td>\n",
       "      <td>1</td>\n",
       "      <td>0</td>\n",
       "      <td>0</td>\n",
       "      <td>0</td>\n",
       "      <td>0</td>\n",
       "      <td>0</td>\n",
       "      <td>1</td>\n",
       "      <td>0</td>\n",
       "      <td>0</td>\n",
       "      <td>0</td>\n",
       "      <td>0</td>\n",
       "      <td>1</td>\n",
       "      <td>0</td>\n",
       "      <td>0</td>\n",
       "      <td>0</td>\n",
       "      <td>0</td>\n",
       "      <td>1</td>\n",
       "      <td>0</td>\n",
       "    </tr>\n",
       "    <tr>\n",
       "      <th>3</th>\n",
       "      <td>9</td>\n",
       "      <td>35</td>\n",
       "      <td>1</td>\n",
       "      <td>0</td>\n",
       "      <td>0</td>\n",
       "      <td>0</td>\n",
       "      <td>0</td>\n",
       "      <td>0</td>\n",
       "      <td>1</td>\n",
       "      <td>0</td>\n",
       "      <td>0</td>\n",
       "      <td>0</td>\n",
       "      <td>0</td>\n",
       "      <td>0</td>\n",
       "      <td>0</td>\n",
       "      <td>1</td>\n",
       "      <td>0</td>\n",
       "      <td>0</td>\n",
       "      <td>0</td>\n",
       "      <td>1</td>\n",
       "      <td>0</td>\n",
       "      <td>0</td>\n",
       "      <td>0</td>\n",
       "      <td>0</td>\n",
       "      <td>1</td>\n",
       "      <td>0</td>\n",
       "    </tr>\n",
       "    <tr>\n",
       "      <th>4</th>\n",
       "      <td>9</td>\n",
       "      <td>35</td>\n",
       "      <td>1</td>\n",
       "      <td>0</td>\n",
       "      <td>0</td>\n",
       "      <td>0</td>\n",
       "      <td>0</td>\n",
       "      <td>0</td>\n",
       "      <td>0</td>\n",
       "      <td>0</td>\n",
       "      <td>0</td>\n",
       "      <td>1</td>\n",
       "      <td>0</td>\n",
       "      <td>0</td>\n",
       "      <td>1</td>\n",
       "      <td>0</td>\n",
       "      <td>0</td>\n",
       "      <td>0</td>\n",
       "      <td>0</td>\n",
       "      <td>1</td>\n",
       "      <td>0</td>\n",
       "      <td>0</td>\n",
       "      <td>0</td>\n",
       "      <td>0</td>\n",
       "      <td>1</td>\n",
       "      <td>0</td>\n",
       "    </tr>\n",
       "  </tbody>\n",
       "</table>\n",
       "</div>"
      ],
      "text/plain": [
       "   month  week_num  afternoon  evening  morning  night  DE  ES  FR  IT  MX  \\\n",
       "0      9        35          1        0        0      0   0   0   0   0   0   \n",
       "1      9        35          1        0        0      0   0   0   0   0   0   \n",
       "2      9        35          1        0        0      0   0   0   1   0   0   \n",
       "3      9        35          1        0        0      0   0   0   1   0   0   \n",
       "4      9        35          1        0        0      0   0   0   0   0   0   \n",
       "\n",
       "   UK  US  ZA  OR  SSF  Fri  Mon  Sat  Sun  Thurs  Tues  Weds  2018  2019  \\\n",
       "0   0   1   0   1    0    0    0    0    1      0     0     0     0     1   \n",
       "1   0   1   0   0    1    0    0    0    1      0     0     0     0     1   \n",
       "2   0   0   0   1    0    0    0    0    1      0     0     0     0     1   \n",
       "3   0   0   0   0    1    0    0    0    1      0     0     0     0     1   \n",
       "4   1   0   0   1    0    0    0    0    1      0     0     0     0     1   \n",
       "\n",
       "   amount_spent_usd  \n",
       "0                 0  \n",
       "1                 0  \n",
       "2                 0  \n",
       "3                 0  \n",
       "4                 0  "
      ]
     },
     "execution_count": 96,
     "metadata": {},
     "output_type": "execute_result"
    }
   ],
   "source": [
    "df_sept.head()"
   ]
  },
  {
   "cell_type": "code",
   "execution_count": 97,
   "metadata": {},
   "outputs": [],
   "source": [
    "# creating the predictor and target datasets:\n",
    "X = fb[['month','week_num','DE','ES','FR','IT','MX','UK','US','ZA','OR','SSF','night','morning','afternoon','evening',\n",
    "        'Mon','Tues','Weds','Thurs','Fri','Sat','Sun','2018','2019','amount_spent_usd']]\n",
    "y = fb['labels']"
   ]
  },
  {
   "cell_type": "code",
   "execution_count": 98,
   "metadata": {},
   "outputs": [],
   "source": [
    "X_sep = df_sept[['month','week_num','DE','ES','FR','IT','MX','UK','US','ZA','OR','SSF','night','morning','afternoon','evening',\n",
    "        'Mon','Tues','Weds','Thurs','Fri','Sat','Sun','2018','2019','amount_spent_usd']]"
   ]
  },
  {
   "cell_type": "code",
   "execution_count": 99,
   "metadata": {},
   "outputs": [],
   "source": [
    "# splitting the data into training and testing:\n",
    "X_train, X_test, y_train, y_test = train_test_split(X, y, stratify=y, test_size=0.25,random_state=44)"
   ]
  },
  {
   "cell_type": "markdown",
   "metadata": {},
   "source": [
    "Checking the shape of each new dataset. I expect training and testing datasets to have same length. All datasets need to have same number of predictors."
   ]
  },
  {
   "cell_type": "code",
   "execution_count": 100,
   "metadata": {},
   "outputs": [
    {
     "data": {
      "text/plain": [
       "(16676, 26)"
      ]
     },
     "execution_count": 100,
     "metadata": {},
     "output_type": "execute_result"
    }
   ],
   "source": [
    "X_train.shape"
   ]
  },
  {
   "cell_type": "code",
   "execution_count": 101,
   "metadata": {},
   "outputs": [
    {
     "data": {
      "text/plain": [
       "(16676,)"
      ]
     },
     "execution_count": 101,
     "metadata": {},
     "output_type": "execute_result"
    }
   ],
   "source": [
    "y_train.shape"
   ]
  },
  {
   "cell_type": "code",
   "execution_count": 102,
   "metadata": {},
   "outputs": [
    {
     "data": {
      "text/plain": [
       "(5559,)"
      ]
     },
     "execution_count": 102,
     "metadata": {},
     "output_type": "execute_result"
    }
   ],
   "source": [
    "y_test.shape"
   ]
  },
  {
   "cell_type": "code",
   "execution_count": 103,
   "metadata": {},
   "outputs": [
    {
     "data": {
      "text/plain": [
       "(5559, 26)"
      ]
     },
     "execution_count": 103,
     "metadata": {},
     "output_type": "execute_result"
    }
   ],
   "source": [
    "X_test.shape"
   ]
  },
  {
   "cell_type": "code",
   "execution_count": 104,
   "metadata": {},
   "outputs": [
    {
     "data": {
      "text/plain": [
       "(337920, 26)"
      ]
     },
     "execution_count": 104,
     "metadata": {},
     "output_type": "execute_result"
    }
   ],
   "source": [
    "X_sep.shape"
   ]
  },
  {
   "cell_type": "code",
   "execution_count": 105,
   "metadata": {},
   "outputs": [
    {
     "data": {
      "text/plain": [
       "0 conversions              6528\n",
       "btw 1 and 2 conversions    5338\n",
       "btw 3 and 5 conversions    2726\n",
       "more than 5 conversions    2084\n",
       "Name: labels, dtype: int64"
      ]
     },
     "execution_count": 105,
     "metadata": {},
     "output_type": "execute_result"
    }
   ],
   "source": [
    "y_train.value_counts()"
   ]
  },
  {
   "cell_type": "markdown",
   "metadata": {},
   "source": [
    "Scaling for the amount spent column throughout all the datasets:"
   ]
  },
  {
   "cell_type": "code",
   "execution_count": 106,
   "metadata": {},
   "outputs": [],
   "source": [
    "scaler = StandardScaler()"
   ]
  },
  {
   "cell_type": "code",
   "execution_count": 107,
   "metadata": {},
   "outputs": [],
   "source": [
    "X_train['amount_spent_usd'] = scaler.fit_transform(X_train.amount_spent_usd.values.reshape(-1, 1))"
   ]
  },
  {
   "cell_type": "code",
   "execution_count": 108,
   "metadata": {},
   "outputs": [
    {
     "data": {
      "text/plain": [
       "count    1.667600e+04\n",
       "mean     2.014393e-16\n",
       "std      1.000030e+00\n",
       "min     -5.598794e-01\n",
       "25%     -4.632067e-01\n",
       "50%     -3.437911e-01\n",
       "75%     -4.851158e-03\n",
       "max      1.877850e+01\n",
       "Name: amount_spent_usd, dtype: float64"
      ]
     },
     "execution_count": 108,
     "metadata": {},
     "output_type": "execute_result"
    }
   ],
   "source": [
    "X_train.amount_spent_usd.describe()"
   ]
  },
  {
   "cell_type": "code",
   "execution_count": 109,
   "metadata": {},
   "outputs": [],
   "source": [
    "X_test['amount_spent_usd'] = scaler.fit_transform(X_test.amount_spent_usd.values.reshape(-1, 1))"
   ]
  },
  {
   "cell_type": "code",
   "execution_count": 110,
   "metadata": {},
   "outputs": [
    {
     "data": {
      "text/plain": [
       "count    5.559000e+03\n",
       "mean     1.773481e-16\n",
       "std      1.000090e+00\n",
       "min     -5.849667e-01\n",
       "25%     -4.850203e-01\n",
       "50%     -3.609831e-01\n",
       "75%     -7.979976e-04\n",
       "max      1.884786e+01\n",
       "Name: amount_spent_usd, dtype: float64"
      ]
     },
     "execution_count": 110,
     "metadata": {},
     "output_type": "execute_result"
    }
   ],
   "source": [
    "X_test.amount_spent_usd.describe()"
   ]
  },
  {
   "cell_type": "code",
   "execution_count": 111,
   "metadata": {},
   "outputs": [],
   "source": [
    "X_sep['amount_spent_usd'] = scaler.fit_transform(X_sep.amount_spent_usd.values.reshape(-1, 1))"
   ]
  },
  {
   "cell_type": "code",
   "execution_count": 112,
   "metadata": {},
   "outputs": [
    {
     "data": {
      "text/plain": [
       "count    3.379200e+05\n",
       "mean    -1.135324e-17\n",
       "std      1.000001e+00\n",
       "min     -1.722237e+00\n",
       "25%     -8.611187e-01\n",
       "50%      0.000000e+00\n",
       "75%      8.611187e-01\n",
       "max      1.722237e+00\n",
       "Name: amount_spent_usd, dtype: float64"
      ]
     },
     "execution_count": 112,
     "metadata": {},
     "output_type": "execute_result"
    }
   ],
   "source": [
    "X_sep.amount_spent_usd.describe()"
   ]
  },
  {
   "cell_type": "markdown",
   "metadata": {},
   "source": [
    "## Modelling"
   ]
  },
  {
   "cell_type": "markdown",
   "metadata": {},
   "source": [
    "In the modelling phase, the road map is to create an ensemble model including different classification models. At the end the models will have a weight as much as their accuracy. The weights will be summed and the class with the most votes will be accepted as the final prediction.\n",
    "\n",
    "Let's say, each algorithm's predictions for the level of conversion if we spend $50 for 09/03/2019 evening (in the time zone of the host account) for users in Germany who are in OR industry:\n",
    "- Algorithm 1 predicts for each class: 0.23 | 0.07 | 0.63 | 0.07\n",
    "- Algorithm 2 predicts for each class: 0.21 | 0.02 | 0.57 | 0.20\n",
    "- Algorithm 3 predicts for each class: 0.27 | 0.05 | 0.66 | 0.02\n",
    "- Algorithm 4 predicts for each class: 0.15 | 0.04 | 0.59 | 0.22\n",
    "- Algorithm 5 predicts for each class: 0.19 | 0.06 | 0.33 | 0.42\n",
    "\n",
    "Then the conversions between 3 and 5 wins since its average probability is higher than any other class."
   ]
  },
  {
   "cell_type": "markdown",
   "metadata": {},
   "source": [
    "### Logistic Regression"
   ]
  },
  {
   "cell_type": "markdown",
   "metadata": {},
   "source": [
    "In logistic regression, we will use softmax instead of sigmoid function which is the default case. The reason is we are working with multiclass problem. While initiating the model, there will be different hyperparameters that we need to work with which are listed below:\n",
    "- `multiclass`: this will be `multinomial` since we are dealing with a multiclass problem.\n",
    "- `solver`: there are plenty solvers that we can use for this use case which are `newton-cg`, `sag`, `saga` and `lbfgs`.\n",
    "    - Newton's Method uses a quadratic approximation. In each step we are getting closer to the global optima. It is expensive to deploy and also has problems with minimax (saddle) points. \n",
    "    <img src=\"https://i.stack.imgur.com/VqQnf.png\" >\n",
    "    - Limited-memory Broyden–Fletcher–Goldfarb–Shanno Algorithm is very similar to Newton's but it stores that represent the approximation. lbfgs is very memory efficient but have some drawbacks like converging to any value. No global optima is guarenteed.\n",
    "    - Stochastic Average Gradient holds a memory of previous gradient values and using this technique it converges faster. Storing older iterations makes it more precise but slower.\n",
    "    - SAGA is a version of Stochastic Average Gradient that supports L1 regularization which eliminates the non-contributing predictors. That's why its best use is with large datasets.\n",
    "- `penalty`: most of the solvers need `l2` but with saga we can also use `l1` but we don't need to utilize that since out dataset is not huge in terms of predictors.\n",
    "- `tol`: stands for tolerance. This is the level for scikit-learn to understand when to stop for optimizing the objective function of the model.\n",
    "- `C`: smaller C gets, stronger regularization becomes. \n",
    "- `max_iter`: just like tol, max_iter provides a limit for the model to stop looking for additional improvement.\n",
    "\n",
    "**[Source: scikit-learn logistic regression](https://scikit-learn.org/stable/modules/generated/sklearn.linear_model.LogisticRegression.html)**"
   ]
  },
  {
   "cell_type": "code",
   "execution_count": 113,
   "metadata": {},
   "outputs": [],
   "source": [
    "softmax_params = {\n",
    "    'C':[12,13,14,15],\n",
    "    'max_iter':[10000,100000]\n",
    "    \n",
    "}\n",
    "\n",
    "softmax_grid = GridSearchCV(\n",
    "                    LogisticRegression(multi_class='multinomial', \n",
    "                                       solver='lbfgs',\n",
    "                                       penalty='l2',\n",
    "                                       tol=1e-16, \n",
    "                                      ),\n",
    "                    softmax_params,\n",
    "                    cv = 5,\n",
    "                    verbose = 1,\n",
    "                    return_train_score = True\n",
    ")"
   ]
  },
  {
   "cell_type": "code",
   "execution_count": 115,
   "metadata": {},
   "outputs": [
    {
     "name": "stdout",
     "output_type": "stream",
     "text": [
      "Fitting 5 folds for each of 8 candidates, totalling 40 fits\n"
     ]
    },
    {
     "name": "stderr",
     "output_type": "stream",
     "text": [
      "[Parallel(n_jobs=1)]: Using backend SequentialBackend with 1 concurrent workers.\n",
      "[Parallel(n_jobs=1)]: Done  40 out of  40 | elapsed:  1.6min finished\n"
     ]
    }
   ],
   "source": [
    "# fit the data:\n",
    "softmax_reg=softmax_grid.fit(X_train,y_train) "
   ]
  },
  {
   "cell_type": "code",
   "execution_count": 118,
   "metadata": {},
   "outputs": [],
   "source": [
    "label=np.unique(y_train)"
   ]
  },
  {
   "cell_type": "code",
   "execution_count": 119,
   "metadata": {},
   "outputs": [],
   "source": [
    "def plot_confusion_matrix(cm, classes,\n",
    "                          normalize=False,\n",
    "                          title='Confusion matrix',\n",
    "                          cmap=plt.cm.Blues):\n",
    "    \"\"\"\n",
    "    This function prints and plots the confusion matrix.\n",
    "    \"\"\"\n",
    "\n",
    "    plt.imshow(cm, interpolation='nearest', cmap=cmap)\n",
    "    plt.title(title)\n",
    "    plt.colorbar()\n",
    "    tick_marks = np.arange(len(classes))\n",
    "    plt.xticks(tick_marks, classes, rotation=45)\n",
    "    plt.yticks(tick_marks, classes)\n",
    "\n",
    "    fmt = '.2f' if normalize else 'd'\n",
    "    thresh = cm.max() / 2.\n",
    "    for i, j in product(range(cm.shape[0]), range(cm.shape[1])):\n",
    "        plt.text(j, i, format(cm[i, j], fmt),\n",
    "                 horizontalalignment=\"center\",\n",
    "                 color=\"white\" if cm[i, j] > thresh else \"black\")\n",
    "\n",
    "    plt.ylabel('Actual Class')\n",
    "    plt.xlabel('Predicted Class')\n",
    "    plt.tight_layout()"
   ]
  },
  {
   "cell_type": "code",
   "execution_count": 120,
   "metadata": {},
   "outputs": [
    {
     "data": {
      "image/png": "[encoded data removed]",
      "text/plain": [
       "<Figure size 720x720 with 2 Axes>"
      ]
     },
     "metadata": {},
     "output_type": "display_data"
    }
   ],
   "source": [
    "cnf_matrix = confusion_matrix(y_test, y_pred_softmax,labels=label)\n",
    "np.set_printoptions(precision=2)\n",
    "\n",
    "# Plot non-normalized confusion matrix\n",
    "plt.figure(figsize=(10,10))\n",
    "plot_confusion_matrix(cnf_matrix, classes=label,\n",
    "                      title='Confusion Matrix for Logistic Regression')"
   ]
  },
  {
   "cell_type": "code",
   "execution_count": 121,
   "metadata": {},
   "outputs": [
    {
     "name": "stdout",
     "output_type": "stream",
     "text": [
      "Accuracy of the training set: 0.5504\n",
      "Accuracy of the training set: 0.556\n"
     ]
    }
   ],
   "source": [
    "print(\"Accuracy of the training set: {}\".format(round(accuracy_score(y_train,softmax_grid.predict(X_train)),4)))\n",
    "print(\"Accuracy of the training set: {}\".format(round(accuracy_score(y_test,softmax_grid.predict(X_test)),4)))"
   ]
  },
  {
   "cell_type": "code",
   "execution_count": 155,
   "metadata": {},
   "outputs": [],
   "source": [
    "# generate the predictions:\n",
    "y_pred_softmax = softmax_grid.predict(X_test)  \n",
    "y_pred_sep_softmax = softmax_grid.predict(X_sep)\n",
    "\n",
    "# calculate the probabilities:\n",
    "y_prob_softmax = softmax_grid.predict_proba(X_test)\n",
    "y_prob_sep_softmax = softmax_grid.predict_proba(X_sep)"
   ]
  },
  {
   "cell_type": "markdown",
   "metadata": {},
   "source": [
    "As expected the accuracy of the Logistic Regression model is not that high. After all it is a better model to use when we have a binary classification problem. Next model I will use it Random Forest. Now I am expecting a higher performance since we will be using an ensemble model that takes into account the \"forest\" instead of the single \"trees\"."
   ]
  },
  {
   "cell_type": "markdown",
   "metadata": {},
   "source": [
    "### Random Forest"
   ]
  },
  {
   "cell_type": "markdown",
   "metadata": {},
   "source": [
    "Random forest hyperparameters:\n",
    "- `n_estimators`: number of trees\n",
    "- `criterion`: `gini` or `entropy`\n",
    "- `max_depth`: max depth for the trees\n",
    "- `min_sample_split`: minimum number of samples needed to split the nodes:\n",
    "- `max_features`: number of features to consider while splitting\n",
    "    - `auto` for square root of number of features.\n",
    "    - `None` for taking into account all the features.\n",
    "    - if int, then take that many features.\n",
    "- `class_weight`: Described like the following in the sklearn webpage:\n",
    ">*Weights associated with classes in the form {class_label: weight}. If not given, all classes are supposed to have weight one. For multi-output problems, a list of dicts can be provided in the same order as the columns of y.*\n",
    "    *Note that for multioutput (including multilabel) weights should be defined for each class of every column in its own dict. For example, for four-class multilabel classification weights should be `[{0: 1, 1: 1}, {0: 1, 1: 5}, {0: 1, 1: 1}, {0: 1, 1: 1}]` instead of `[{1:1}, {2:5}, {3:1}, {4:1}]`.\n",
    "    The “balanced” mode uses the values of y to automatically adjust weights inversely proportional to class frequencies in the input data as `n_samples / (n_classes * np.bincount(y))`. \n",
    "    The “balanced_subsample” mode is the same as “balanced” except that weights are computed based on the bootstrap sample for every tree grown.*\n",
    "\n",
    "**[Source: scikit-learn random forest](https://scikit-learn.org/stable/modules/generated/sklearn.ensemble.RandomForestClassifier.html)**"
   ]
  },
  {
   "cell_type": "code",
   "execution_count": 143,
   "metadata": {},
   "outputs": [],
   "source": [
    "rfc = RandomForestClassifier(n_estimators = 50, max_leaf_nodes = 16 ,\n",
    "                             n_jobs =-1, random_state=42)\n",
    "\n",
    "param_grid = {\n",
    "    'min_samples_split': [5, 7], \n",
    "    'n_estimators' : [400,500,600],\n",
    "    'max_depth': [25,27,30],\n",
    "    'max_features': [20,22]\n",
    "}\n",
    "\n",
    "scorers = {\n",
    "    'precision_score': make_scorer(precision_score,average='micro'),\n",
    "    'recall_score': make_scorer(recall_score,average='micro')\n",
    "}"
   ]
  },
  {
   "cell_type": "code",
   "execution_count": 150,
   "metadata": {},
   "outputs": [],
   "source": [
    "# fits a GridSearchCV classifier using refit_score for optimization\n",
    "refit_score='precision_score'\n",
    "\n",
    "# prints classifier performance metrics\n",
    "skf = StratifiedKFold(n_splits=10)\n",
    "rfc_grid = GridSearchCV(rfc, param_grid, scoring=scorers, refit=refit_score,\n",
    "                           cv=skf, return_train_score=True, n_jobs=-1)\n"
   ]
  },
  {
   "cell_type": "code",
   "execution_count": 151,
   "metadata": {},
   "outputs": [
    {
     "data": {
      "text/plain": [
       "GridSearchCV(cv=StratifiedKFold(n_splits=10, random_state=None, shuffle=False),\n",
       "             estimator=RandomForestClassifier(max_leaf_nodes=16,\n",
       "                                              n_estimators=50, n_jobs=-1,\n",
       "                                              random_state=42),\n",
       "             n_jobs=-1,\n",
       "             param_grid={'max_depth': [25, 27, 30], 'max_features': [20, 22],\n",
       "                         'min_samples_split': [5, 7],\n",
       "                         'n_estimators': [400, 500, 600]},\n",
       "             refit='precision_score', return_train_score=True,\n",
       "             scoring={'precision_score': make_scorer(precision_score, average=micro),\n",
       "                      'recall_score': make_scorer(recall_score, average=micro)})"
      ]
     },
     "execution_count": 151,
     "metadata": {},
     "output_type": "execute_result"
    }
   ],
   "source": [
    "rfc_grid.fit(X_train, y_train)"
   ]
  },
  {
   "cell_type": "code",
   "execution_count": 153,
   "metadata": {},
   "outputs": [
    {
     "name": "stdout",
     "output_type": "stream",
     "text": [
      "Best parameters for precision_score:\n",
      "{'max_depth': 25, 'max_features': 22, 'min_samples_split': 5, 'n_estimators': 500}\n",
      "Best score for precision_score:\n",
      "0.5587675630341558\n"
     ]
    }
   ],
   "source": [
    "print('Best parameters for {}:'.format(refit_score))\n",
    "print(rfc_grid.best_params_)\n",
    "print('Best score for {}:'.format(refit_score))\n",
    "print(rfc_grid.best_score_)"
   ]
  },
  {
   "cell_type": "code",
   "execution_count": 154,
   "metadata": {},
   "outputs": [],
   "source": [
    "# Build the model after having the hyperparameters that creates the highest performance:\n",
    "\n",
    "# Using entropy during the split:\n",
    "clf_rf_enpy = RandomForestClassifier(criterion='entropy',max_depth=25, \n",
    "                                 max_features=22,min_samples_split=5, \n",
    "                                 n_estimators=500).fit(X_train, y_train)\n",
    "\n",
    "# Using gini during the split:\n",
    "clf_rf_gini = RandomForestClassifier(criterion='gini',max_depth=25, \n",
    "                                 max_features=22,min_samples_split=5, \n",
    "                                 n_estimators=500).fit(X_train, y_train)"
   ]
  },
  {
   "cell_type": "code",
   "execution_count": 156,
   "metadata": {},
   "outputs": [],
   "source": [
    "# make the predictions for rf with entropy\n",
    "y_pred_enpy = clf_rf_enpy.predict(X_test)\n",
    "y_pred_sep_enpy = clf_rf_enpy.predict(X_sep)\n",
    "\n",
    "# calculate the probabilities for rf with entropy\n",
    "y_prob_enpy = clf_rf_enpy.predict_proba(X_test)\n",
    "y_prob_sep_enpy = clf_rf_enpy.predict_proba(X_sep)\n",
    "\n",
    "# make the predictions for rf with gini\n",
    "y_pred_gini = clf_rf_gini.predict(X_test)\n",
    "y_pred_sep_gini = clf_rf_gini.predict(X_sep)\n",
    "\n",
    "# calculate the probabilities for rf with gini\n",
    "y_prob_gini = clf_rf_gini.predict_proba(X_test)\n",
    "y_prob_sep_gini = clf_rf_gini.predict_proba(X_sep)"
   ]
  },
  {
   "cell_type": "code",
   "execution_count": null,
   "metadata": {},
   "outputs": [],
   "source": []
  },
  {
   "cell_type": "code",
   "execution_count": 157,
   "metadata": {},
   "outputs": [
    {
     "data": {
      "image/png": "[encoded data removed]",
      "text/plain": [
       "<Figure size 720x720 with 2 Axes>"
      ]
     },
     "metadata": {},
     "output_type": "display_data"
    }
   ],
   "source": [
    "cnf_matrix = confusion_matrix(y_test, y_pred_gini,labels=label)\n",
    "np.set_printoptions(precision=2)\n",
    "\n",
    "# Plot non-normalized confusion matrix\n",
    "plt.figure(figsize=(10,10))\n",
    "plot_confusion_matrix(cnf_matrix, classes=label,\n",
    "                      title='Confusion Matrix for Random Forest-Gini')"
   ]
  },
  {
   "cell_type": "code",
   "execution_count": 158,
   "metadata": {},
   "outputs": [
    {
     "data": {
      "image/png": "[encoded data removed]",
      "text/plain": [
       "<Figure size 720x720 with 2 Axes>"
      ]
     },
     "metadata": {},
     "output_type": "display_data"
    }
   ],
   "source": [
    "cnf_matrix = confusion_matrix(y_test, y_pred_enpy,labels=label)\n",
    "np.set_printoptions(precision=2)\n",
    "\n",
    "# Plot non-normalized confusion matrix\n",
    "plt.figure(figsize=(10,10))\n",
    "plot_confusion_matrix(cnf_matrix, classes=label,\n",
    "                      title='Confusion Matrix for Random Forest-Entropy')"
   ]
  },
  {
   "cell_type": "markdown",
   "metadata": {},
   "source": [
    "Since at the end I will build a voting ensemble, we need a dataframe with probabilities and predictions for each observation with probabilities for each algorithm. "
   ]
  },
  {
   "cell_type": "code",
   "execution_count": 162,
   "metadata": {},
   "outputs": [],
   "source": [
    "y_test_df=pd.DataFrame(y_test)\n",
    "y_test_sep_df=pd.DataFrame(None)"
   ]
  },
  {
   "cell_type": "code",
   "execution_count": 163,
   "metadata": {},
   "outputs": [
    {
     "data": {
      "text/plain": [
       "7890     more than 5 conversions\n",
       "21440              0 conversions\n",
       "5536     btw 1 and 2 conversions\n",
       "14287    more than 5 conversions\n",
       "12994              0 conversions\n",
       "Name: labels, dtype: object"
      ]
     },
     "execution_count": 163,
     "metadata": {},
     "output_type": "execute_result"
    }
   ],
   "source": [
    "y_test.head()"
   ]
  },
  {
   "cell_type": "code",
   "execution_count": 164,
   "metadata": {},
   "outputs": [],
   "source": [
    "# For logistic regression:\n",
    "y_test_df['pred_softmax'] = y_pred_softmax\n",
    "y_test_df['prob_softmax']= np.round(np.array(y_prob_softmax),2).tolist()\n",
    "\n",
    "y_test_sep_df['pred_softmax'] = y_pred_sep_softmax\n",
    "y_test_sep_df['prob_softmax'] = np.round(np.array(y_prob_sep_softmax),2).tolist()\n",
    "\n",
    "# For Random Forest with Gini:\n",
    "y_test_df['pred_rf_gini'] = y_pred_gini\n",
    "y_test_df['prob_rf_gini']= np.round(np.array(y_prob_gini),2).tolist()\n",
    "\n",
    "y_test_sep_df['pred_rf_gini'] = y_pred_sep_gini\n",
    "y_test_sep_df['prob_rf_gini'] = np.round(np.array(y_prob_sep_gini),2).tolist()\n",
    "\n",
    "# For Random Forest with Entropy:\n",
    "y_test_df['pred_rf_enpy'] = y_pred_enpy\n",
    "y_test_df['prob_rf_enpy']= np.round(np.array(y_prob_enpy),2).tolist()\n",
    "\n",
    "y_test_sep_df['pred_rf_enpy'] = y_pred_sep_enpy\n",
    "y_test_sep_df['prob_rf_enpy'] = np.round(np.array(y_prob_sep_enpy),2).tolist()"
   ]
  },
  {
   "cell_type": "code",
   "execution_count": 165,
   "metadata": {},
   "outputs": [
    {
     "data": {
      "text/html": [
       "<div>\n",
       "<style scoped>\n",
       "    .dataframe tbody tr th:only-of-type {\n",
       "        vertical-align: middle;\n",
       "    }\n",
       "\n",
       "    .dataframe tbody tr th {\n",
       "        vertical-align: top;\n",
       "    }\n",
       "\n",
       "    .dataframe thead th {\n",
       "        text-align: right;\n",
       "    }\n",
       "</style>\n",
       "<table border=\"1\" class=\"dataframe\">\n",
       "  <thead>\n",
       "    <tr style=\"text-align: right;\">\n",
       "      <th></th>\n",
       "      <th>labels</th>\n",
       "      <th>pred_softmax</th>\n",
       "      <th>prob_softmax</th>\n",
       "      <th>pred_rf_gini</th>\n",
       "      <th>prob_rf_gini</th>\n",
       "      <th>pred_rf_enpy</th>\n",
       "      <th>prob_rf_enpy</th>\n",
       "    </tr>\n",
       "  </thead>\n",
       "  <tbody>\n",
       "    <tr>\n",
       "      <th>7890</th>\n",
       "      <td>more than 5 conversions</td>\n",
       "      <td>more than 5 conversions</td>\n",
       "      <td>[0.0, 0.11, 0.32, 0.56]</td>\n",
       "      <td>more than 5 conversions</td>\n",
       "      <td>[0.02, 0.04, 0.4, 0.54]</td>\n",
       "      <td>more than 5 conversions</td>\n",
       "      <td>[0.02, 0.03, 0.41, 0.54]</td>\n",
       "    </tr>\n",
       "    <tr>\n",
       "      <th>21440</th>\n",
       "      <td>0 conversions</td>\n",
       "      <td>0 conversions</td>\n",
       "      <td>[0.79, 0.18, 0.03, 0.0]</td>\n",
       "      <td>0 conversions</td>\n",
       "      <td>[0.92, 0.08, 0.0, 0.0]</td>\n",
       "      <td>0 conversions</td>\n",
       "      <td>[0.93, 0.07, 0.0, 0.0]</td>\n",
       "    </tr>\n",
       "  </tbody>\n",
       "</table>\n",
       "</div>"
      ],
      "text/plain": [
       "                        labels             pred_softmax  \\\n",
       "7890   more than 5 conversions  more than 5 conversions   \n",
       "21440            0 conversions            0 conversions   \n",
       "\n",
       "                  prob_softmax             pred_rf_gini  \\\n",
       "7890   [0.0, 0.11, 0.32, 0.56]  more than 5 conversions   \n",
       "21440  [0.79, 0.18, 0.03, 0.0]            0 conversions   \n",
       "\n",
       "                  prob_rf_gini             pred_rf_enpy  \\\n",
       "7890   [0.02, 0.04, 0.4, 0.54]  more than 5 conversions   \n",
       "21440   [0.92, 0.08, 0.0, 0.0]            0 conversions   \n",
       "\n",
       "                   prob_rf_enpy  \n",
       "7890   [0.02, 0.03, 0.41, 0.54]  \n",
       "21440    [0.93, 0.07, 0.0, 0.0]  "
      ]
     },
     "execution_count": 165,
     "metadata": {},
     "output_type": "execute_result"
    }
   ],
   "source": [
    "y_test_df.head(2)"
   ]
  },
  {
   "cell_type": "code",
   "execution_count": 166,
   "metadata": {},
   "outputs": [
    {
     "data": {
      "text/html": [
       "<div>\n",
       "<style scoped>\n",
       "    .dataframe tbody tr th:only-of-type {\n",
       "        vertical-align: middle;\n",
       "    }\n",
       "\n",
       "    .dataframe tbody tr th {\n",
       "        vertical-align: top;\n",
       "    }\n",
       "\n",
       "    .dataframe thead th {\n",
       "        text-align: right;\n",
       "    }\n",
       "</style>\n",
       "<table border=\"1\" class=\"dataframe\">\n",
       "  <thead>\n",
       "    <tr style=\"text-align: right;\">\n",
       "      <th></th>\n",
       "      <th>pred_softmax</th>\n",
       "      <th>prob_softmax</th>\n",
       "      <th>pred_rf_gini</th>\n",
       "      <th>prob_rf_gini</th>\n",
       "      <th>pred_rf_enpy</th>\n",
       "      <th>prob_rf_enpy</th>\n",
       "    </tr>\n",
       "  </thead>\n",
       "  <tbody>\n",
       "    <tr>\n",
       "      <th>0</th>\n",
       "      <td>0 conversions</td>\n",
       "      <td>[0.97, 0.02, 0.0, 0.0]</td>\n",
       "      <td>0 conversions</td>\n",
       "      <td>[0.92, 0.08, 0.0, 0.0]</td>\n",
       "      <td>0 conversions</td>\n",
       "      <td>[0.95, 0.05, 0.0, 0.0]</td>\n",
       "    </tr>\n",
       "    <tr>\n",
       "      <th>1</th>\n",
       "      <td>0 conversions</td>\n",
       "      <td>[0.99, 0.01, 0.0, 0.0]</td>\n",
       "      <td>0 conversions</td>\n",
       "      <td>[0.99, 0.01, 0.0, 0.0]</td>\n",
       "      <td>0 conversions</td>\n",
       "      <td>[0.98, 0.02, 0.0, 0.0]</td>\n",
       "    </tr>\n",
       "  </tbody>\n",
       "</table>\n",
       "</div>"
      ],
      "text/plain": [
       "    pred_softmax            prob_softmax   pred_rf_gini  \\\n",
       "0  0 conversions  [0.97, 0.02, 0.0, 0.0]  0 conversions   \n",
       "1  0 conversions  [0.99, 0.01, 0.0, 0.0]  0 conversions   \n",
       "\n",
       "             prob_rf_gini   pred_rf_enpy            prob_rf_enpy  \n",
       "0  [0.92, 0.08, 0.0, 0.0]  0 conversions  [0.95, 0.05, 0.0, 0.0]  \n",
       "1  [0.99, 0.01, 0.0, 0.0]  0 conversions  [0.98, 0.02, 0.0, 0.0]  "
      ]
     },
     "execution_count": 166,
     "metadata": {},
     "output_type": "execute_result"
    }
   ],
   "source": [
    "y_test_sep_df.head(2)"
   ]
  },
  {
   "cell_type": "code",
   "execution_count": 167,
   "metadata": {},
   "outputs": [],
   "source": [
    "# create a new df to include the features\n",
    "df_test = pd.merge(X_test,y_test_df,how = 'left',left_index = True, right_index = True)"
   ]
  },
  {
   "cell_type": "code",
   "execution_count": 169,
   "metadata": {},
   "outputs": [],
   "source": [
    "df_test_sep = pd.merge(X_sep.reset_index(drop = True),y_test_sep_df,how = 'left',left_index = True, right_index = True)"
   ]
  },
  {
   "cell_type": "code",
   "execution_count": 173,
   "metadata": {},
   "outputs": [
    {
     "data": {
      "text/html": [
       "<div>\n",
       "<style scoped>\n",
       "    .dataframe tbody tr th:only-of-type {\n",
       "        vertical-align: middle;\n",
       "    }\n",
       "\n",
       "    .dataframe tbody tr th {\n",
       "        vertical-align: top;\n",
       "    }\n",
       "\n",
       "    .dataframe thead th {\n",
       "        text-align: right;\n",
       "    }\n",
       "</style>\n",
       "<table border=\"1\" class=\"dataframe\">\n",
       "  <thead>\n",
       "    <tr style=\"text-align: right;\">\n",
       "      <th></th>\n",
       "      <th>month</th>\n",
       "      <th>week_num</th>\n",
       "      <th>DE</th>\n",
       "      <th>ES</th>\n",
       "      <th>FR</th>\n",
       "      <th>IT</th>\n",
       "      <th>MX</th>\n",
       "      <th>UK</th>\n",
       "      <th>US</th>\n",
       "      <th>ZA</th>\n",
       "      <th>OR</th>\n",
       "      <th>SSF</th>\n",
       "      <th>night</th>\n",
       "      <th>morning</th>\n",
       "      <th>afternoon</th>\n",
       "      <th>evening</th>\n",
       "      <th>Mon</th>\n",
       "      <th>Tues</th>\n",
       "      <th>Weds</th>\n",
       "      <th>Thurs</th>\n",
       "      <th>Fri</th>\n",
       "      <th>Sat</th>\n",
       "      <th>Sun</th>\n",
       "      <th>2018</th>\n",
       "      <th>2019</th>\n",
       "      <th>amount_spent_usd</th>\n",
       "      <th>labels</th>\n",
       "      <th>pred_softmax</th>\n",
       "      <th>prob_softmax</th>\n",
       "      <th>pred_rf_gini</th>\n",
       "      <th>prob_rf_gini</th>\n",
       "      <th>pred_rf_enpy</th>\n",
       "      <th>prob_rf_enpy</th>\n",
       "    </tr>\n",
       "  </thead>\n",
       "  <tbody>\n",
       "    <tr>\n",
       "      <th>7890</th>\n",
       "      <td>7</td>\n",
       "      <td>27</td>\n",
       "      <td>0</td>\n",
       "      <td>0</td>\n",
       "      <td>0</td>\n",
       "      <td>0</td>\n",
       "      <td>0</td>\n",
       "      <td>0</td>\n",
       "      <td>1</td>\n",
       "      <td>0</td>\n",
       "      <td>1</td>\n",
       "      <td>0</td>\n",
       "      <td>0</td>\n",
       "      <td>1</td>\n",
       "      <td>0</td>\n",
       "      <td>0</td>\n",
       "      <td>0</td>\n",
       "      <td>1</td>\n",
       "      <td>0</td>\n",
       "      <td>0</td>\n",
       "      <td>0</td>\n",
       "      <td>0</td>\n",
       "      <td>0</td>\n",
       "      <td>1</td>\n",
       "      <td>0</td>\n",
       "      <td>0.861900</td>\n",
       "      <td>more than 5 conversions</td>\n",
       "      <td>more than 5 conversions</td>\n",
       "      <td>[0.0, 0.11, 0.32, 0.56]</td>\n",
       "      <td>more than 5 conversions</td>\n",
       "      <td>[0.02, 0.04, 0.4, 0.54]</td>\n",
       "      <td>more than 5 conversions</td>\n",
       "      <td>[0.02, 0.03, 0.41, 0.54]</td>\n",
       "    </tr>\n",
       "    <tr>\n",
       "      <th>21440</th>\n",
       "      <td>8</td>\n",
       "      <td>33</td>\n",
       "      <td>0</td>\n",
       "      <td>0</td>\n",
       "      <td>0</td>\n",
       "      <td>0</td>\n",
       "      <td>0</td>\n",
       "      <td>1</td>\n",
       "      <td>0</td>\n",
       "      <td>0</td>\n",
       "      <td>0</td>\n",
       "      <td>1</td>\n",
       "      <td>1</td>\n",
       "      <td>0</td>\n",
       "      <td>0</td>\n",
       "      <td>0</td>\n",
       "      <td>0</td>\n",
       "      <td>1</td>\n",
       "      <td>0</td>\n",
       "      <td>0</td>\n",
       "      <td>0</td>\n",
       "      <td>0</td>\n",
       "      <td>0</td>\n",
       "      <td>0</td>\n",
       "      <td>1</td>\n",
       "      <td>-0.386709</td>\n",
       "      <td>0 conversions</td>\n",
       "      <td>0 conversions</td>\n",
       "      <td>[0.79, 0.18, 0.03, 0.0]</td>\n",
       "      <td>0 conversions</td>\n",
       "      <td>[0.92, 0.08, 0.0, 0.0]</td>\n",
       "      <td>0 conversions</td>\n",
       "      <td>[0.93, 0.07, 0.0, 0.0]</td>\n",
       "    </tr>\n",
       "    <tr>\n",
       "      <th>5536</th>\n",
       "      <td>4</td>\n",
       "      <td>17</td>\n",
       "      <td>0</td>\n",
       "      <td>0</td>\n",
       "      <td>0</td>\n",
       "      <td>0</td>\n",
       "      <td>0</td>\n",
       "      <td>0</td>\n",
       "      <td>1</td>\n",
       "      <td>0</td>\n",
       "      <td>1</td>\n",
       "      <td>0</td>\n",
       "      <td>0</td>\n",
       "      <td>1</td>\n",
       "      <td>0</td>\n",
       "      <td>0</td>\n",
       "      <td>0</td>\n",
       "      <td>0</td>\n",
       "      <td>0</td>\n",
       "      <td>0</td>\n",
       "      <td>1</td>\n",
       "      <td>0</td>\n",
       "      <td>0</td>\n",
       "      <td>1</td>\n",
       "      <td>0</td>\n",
       "      <td>-0.334054</td>\n",
       "      <td>btw 1 and 2 conversions</td>\n",
       "      <td>btw 1 and 2 conversions</td>\n",
       "      <td>[0.26, 0.33, 0.27, 0.14]</td>\n",
       "      <td>0 conversions</td>\n",
       "      <td>[0.46, 0.36, 0.13, 0.05]</td>\n",
       "      <td>0 conversions</td>\n",
       "      <td>[0.47, 0.36, 0.14, 0.04]</td>\n",
       "    </tr>\n",
       "    <tr>\n",
       "      <th>14287</th>\n",
       "      <td>2</td>\n",
       "      <td>6</td>\n",
       "      <td>0</td>\n",
       "      <td>0</td>\n",
       "      <td>0</td>\n",
       "      <td>0</td>\n",
       "      <td>0</td>\n",
       "      <td>0</td>\n",
       "      <td>1</td>\n",
       "      <td>0</td>\n",
       "      <td>1</td>\n",
       "      <td>0</td>\n",
       "      <td>1</td>\n",
       "      <td>0</td>\n",
       "      <td>0</td>\n",
       "      <td>0</td>\n",
       "      <td>1</td>\n",
       "      <td>0</td>\n",
       "      <td>0</td>\n",
       "      <td>0</td>\n",
       "      <td>0</td>\n",
       "      <td>0</td>\n",
       "      <td>0</td>\n",
       "      <td>0</td>\n",
       "      <td>1</td>\n",
       "      <td>0.657277</td>\n",
       "      <td>more than 5 conversions</td>\n",
       "      <td>more than 5 conversions</td>\n",
       "      <td>[0.01, 0.17, 0.27, 0.55]</td>\n",
       "      <td>more than 5 conversions</td>\n",
       "      <td>[0.0, 0.02, 0.08, 0.9]</td>\n",
       "      <td>more than 5 conversions</td>\n",
       "      <td>[0.0, 0.03, 0.1, 0.87]</td>\n",
       "    </tr>\n",
       "    <tr>\n",
       "      <th>12994</th>\n",
       "      <td>12</td>\n",
       "      <td>50</td>\n",
       "      <td>0</td>\n",
       "      <td>0</td>\n",
       "      <td>1</td>\n",
       "      <td>0</td>\n",
       "      <td>0</td>\n",
       "      <td>0</td>\n",
       "      <td>0</td>\n",
       "      <td>0</td>\n",
       "      <td>1</td>\n",
       "      <td>0</td>\n",
       "      <td>1</td>\n",
       "      <td>0</td>\n",
       "      <td>0</td>\n",
       "      <td>0</td>\n",
       "      <td>0</td>\n",
       "      <td>1</td>\n",
       "      <td>0</td>\n",
       "      <td>0</td>\n",
       "      <td>0</td>\n",
       "      <td>0</td>\n",
       "      <td>0</td>\n",
       "      <td>1</td>\n",
       "      <td>0</td>\n",
       "      <td>-0.473704</td>\n",
       "      <td>0 conversions</td>\n",
       "      <td>0 conversions</td>\n",
       "      <td>[0.61, 0.31, 0.07, 0.0]</td>\n",
       "      <td>0 conversions</td>\n",
       "      <td>[0.87, 0.11, 0.02, 0.0]</td>\n",
       "      <td>0 conversions</td>\n",
       "      <td>[0.92, 0.08, 0.0, 0.0]</td>\n",
       "    </tr>\n",
       "  </tbody>\n",
       "</table>\n",
       "</div>"
      ],
      "text/plain": [
       "       month  week_num  DE  ES  FR  IT  MX  UK  US  ZA  OR  SSF  night  \\\n",
       "7890       7        27   0   0   0   0   0   0   1   0   1    0      0   \n",
       "21440      8        33   0   0   0   0   0   1   0   0   0    1      1   \n",
       "5536       4        17   0   0   0   0   0   0   1   0   1    0      0   \n",
       "14287      2         6   0   0   0   0   0   0   1   0   1    0      1   \n",
       "12994     12        50   0   0   1   0   0   0   0   0   1    0      1   \n",
       "\n",
       "       morning  afternoon  evening  Mon  Tues  Weds  Thurs  Fri  Sat  Sun  \\\n",
       "7890         1          0        0    0     1     0      0    0    0    0   \n",
       "21440        0          0        0    0     1     0      0    0    0    0   \n",
       "5536         1          0        0    0     0     0      0    1    0    0   \n",
       "14287        0          0        0    1     0     0      0    0    0    0   \n",
       "12994        0          0        0    0     1     0      0    0    0    0   \n",
       "\n",
       "       2018  2019  amount_spent_usd                   labels  \\\n",
       "7890      1     0          0.861900  more than 5 conversions   \n",
       "21440     0     1         -0.386709            0 conversions   \n",
       "5536      1     0         -0.334054  btw 1 and 2 conversions   \n",
       "14287     0     1          0.657277  more than 5 conversions   \n",
       "12994     1     0         -0.473704            0 conversions   \n",
       "\n",
       "                  pred_softmax              prob_softmax  \\\n",
       "7890   more than 5 conversions   [0.0, 0.11, 0.32, 0.56]   \n",
       "21440            0 conversions   [0.79, 0.18, 0.03, 0.0]   \n",
       "5536   btw 1 and 2 conversions  [0.26, 0.33, 0.27, 0.14]   \n",
       "14287  more than 5 conversions  [0.01, 0.17, 0.27, 0.55]   \n",
       "12994            0 conversions   [0.61, 0.31, 0.07, 0.0]   \n",
       "\n",
       "                  pred_rf_gini              prob_rf_gini  \\\n",
       "7890   more than 5 conversions   [0.02, 0.04, 0.4, 0.54]   \n",
       "21440            0 conversions    [0.92, 0.08, 0.0, 0.0]   \n",
       "5536             0 conversions  [0.46, 0.36, 0.13, 0.05]   \n",
       "14287  more than 5 conversions    [0.0, 0.02, 0.08, 0.9]   \n",
       "12994            0 conversions   [0.87, 0.11, 0.02, 0.0]   \n",
       "\n",
       "                  pred_rf_enpy              prob_rf_enpy  \n",
       "7890   more than 5 conversions  [0.02, 0.03, 0.41, 0.54]  \n",
       "21440            0 conversions    [0.93, 0.07, 0.0, 0.0]  \n",
       "5536             0 conversions  [0.47, 0.36, 0.14, 0.04]  \n",
       "14287  more than 5 conversions    [0.0, 0.03, 0.1, 0.87]  \n",
       "12994            0 conversions    [0.92, 0.08, 0.0, 0.0]  "
      ]
     },
     "execution_count": 173,
     "metadata": {},
     "output_type": "execute_result"
    }
   ],
   "source": [
    "df_test.head()"
   ]
  },
  {
   "cell_type": "markdown",
   "metadata": {},
   "source": [
    "### kNN"
   ]
  },
  {
   "cell_type": "code",
   "execution_count": 143,
   "metadata": {},
   "outputs": [],
   "source": [
    "rfc = KNeighborsClassifier(n_neighbors=7)(n_estimators = 50, max_leaf_nodes = 16 ,\n",
    "                             n_jobs =-1, random_state=42)\n",
    "\n",
    "param_grid = {\n",
    "    'min_samples_split': [5, 7], \n",
    "    'n_estimators' : [400,500,600],\n",
    "    'max_depth': [25,27,30],\n",
    "    'max_features': [20,22]\n",
    "}\n",
    "\n",
    "scorers = {\n",
    "    'precision_score': make_scorer(precision_score,average='micro'),\n",
    "    'recall_score': make_scorer(recall_score,average='micro')\n",
    "}"
   ]
  },
  {
   "cell_type": "code",
   "execution_count": 150,
   "metadata": {},
   "outputs": [],
   "source": [
    "# fits a GridSearchCV classifier using refit_score for optimization\n",
    "refit_score='precision_score'\n",
    "\n",
    "# prints classifier performance metrics\n",
    "skf = StratifiedKFold(n_splits=10)\n",
    "rfc_grid = GridSearchCV(rfc, param_grid, scoring=scorers, refit=refit_score,\n",
    "                           cv=skf, return_train_score=True, n_jobs=-1)\n"
   ]
  },
  {
   "cell_type": "code",
   "execution_count": 151,
   "metadata": {},
   "outputs": [
    {
     "data": {
      "text/plain": [
       "GridSearchCV(cv=StratifiedKFold(n_splits=10, random_state=None, shuffle=False),\n",
       "             estimator=RandomForestClassifier(max_leaf_nodes=16,\n",
       "                                              n_estimators=50, n_jobs=-1,\n",
       "                                              random_state=42),\n",
       "             n_jobs=-1,\n",
       "             param_grid={'max_depth': [25, 27, 30], 'max_features': [20, 22],\n",
       "                         'min_samples_split': [5, 7],\n",
       "                         'n_estimators': [400, 500, 600]},\n",
       "             refit='precision_score', return_train_score=True,\n",
       "             scoring={'precision_score': make_scorer(precision_score, average=micro),\n",
       "                      'recall_score': make_scorer(recall_score, average=micro)})"
      ]
     },
     "execution_count": 151,
     "metadata": {},
     "output_type": "execute_result"
    }
   ],
   "source": [
    "rfc_grid.fit(X_train, y_train)"
   ]
  },
  {
   "cell_type": "code",
   "execution_count": 153,
   "metadata": {},
   "outputs": [
    {
     "name": "stdout",
     "output_type": "stream",
     "text": [
      "Best parameters for precision_score:\n",
      "{'max_depth': 25, 'max_features': 22, 'min_samples_split': 5, 'n_estimators': 500}\n",
      "Best score for precision_score:\n",
      "0.5587675630341558\n"
     ]
    }
   ],
   "source": [
    "print('Best parameters for {}:'.format(refit_score))\n",
    "print(rfc_grid.best_params_)\n",
    "print('Best score for {}:'.format(refit_score))\n",
    "print(rfc_grid.best_score_)"
   ]
  },
  {
   "cell_type": "code",
   "execution_count": null,
   "metadata": {},
   "outputs": [],
   "source": []
  },
  {
   "cell_type": "code",
   "execution_count": null,
   "metadata": {},
   "outputs": [],
   "source": [
    "# Training classifiers:\n",
    "clf1 = DecisionTreeClassifier(max_depth=5,class_weight='balanced')\n",
    "clf2 = KNeighborsClassifier(n_neighbors=7)\n",
    "clf3 = SVC(gamma=.01, kernel='rbf', probability=True)\n",
    "\n",
    "# Combining them with a voting classifier:\n",
    "eclf = VotingClassifier(estimators=[('dt', clf1), ('knn', clf2),\n",
    "                                    ('svc', clf3)],\n",
    "                        voting='soft', weights=[2, 1, 2])\n",
    "\n",
    "clf1.fit(train_X, y_train)\n",
    "clf2.fit(train_X, y_train)\n",
    "clf3.fit(train_X, y_train)\n",
    "eclf.fit(train_X, y_train)\n"
   ]
  },
  {
   "cell_type": "code",
   "execution_count": null,
   "metadata": {},
   "outputs": [],
   "source": [
    "cross_val_score(eclf,train_X, y_train, cv=10, scoring=\"accuracy\")"
   ]
  },
  {
   "cell_type": "code",
   "execution_count": null,
   "metadata": {},
   "outputs": [],
   "source": [
    "y_pred_clf1 = clf1.predict(test_X) \n",
    "y_pred_clf2 = clf2.predict(test_X)\n",
    "y_pred_clf3 = clf3.predict(test_X)\n",
    "y_pred_voter=eclf.predict(test_X)"
   ]
  },
  {
   "cell_type": "code",
   "execution_count": null,
   "metadata": {},
   "outputs": [],
   "source": [
    "select_ind = np.array(list(range(0,100)))\n",
    "testa_X.tocsr()[select_ind,:]"
   ]
  },
  {
   "cell_type": "code",
   "execution_count": null,
   "metadata": {},
   "outputs": [],
   "source": [
    "y_preda_clf1 = clf1.predict(testa_X)\n",
    "y_preda_clf2 = clf2.predict(testa_X)\n",
    "y_preda_clf3 = clf3.predict(testa_X)\n",
    "y_preda_voter=eclf.predict(testa_X)"
   ]
  },
  {
   "cell_type": "code",
   "execution_count": null,
   "metadata": {},
   "outputs": [],
   "source": [
    "prb_voter_clf=eclf.predict_proba(test_X)\n",
    "my_list_voter=np.round(np.array(prb_voter_clf),2).tolist()"
   ]
  },
  {
   "cell_type": "code",
   "execution_count": null,
   "metadata": {},
   "outputs": [],
   "source": [
    "prba_voter_clf=eclf.predict_proba(testa_X)\n",
    "my_lista_voter=np.round(np.array(prba_voter_clf),2).tolist()"
   ]
  },
  {
   "cell_type": "code",
   "execution_count": null,
   "metadata": {},
   "outputs": [],
   "source": [
    "df_test['pred_voter']=y_pred_voter\n",
    "df_test['prop_voter']=my_list_voter"
   ]
  },
  {
   "cell_type": "code",
   "execution_count": null,
   "metadata": {},
   "outputs": [],
   "source": [
    "df_testa['pred_voter']=y_preda_voter\n",
    "df_testa['prop_voter']=my_lista_voter"
   ]
  },
  {
   "cell_type": "code",
   "execution_count": null,
   "metadata": {},
   "outputs": [],
   "source": [
    "df_test.head()"
   ]
  },
  {
   "cell_type": "code",
   "execution_count": null,
   "metadata": {},
   "outputs": [],
   "source": [
    "df_testa.head()"
   ]
  },
  {
   "cell_type": "code",
   "execution_count": null,
   "metadata": {},
   "outputs": [],
   "source": [
    "cross_val_score(clf_rf_gini,train_X, y_train, cv=10, scoring=\"accuracy\")"
   ]
  },
  {
   "cell_type": "code",
   "execution_count": null,
   "metadata": {},
   "outputs": [],
   "source": [
    "cross_val_score(clf_rf_enpy,train_X, y_train, cv=10, scoring=\"accuracy\")"
   ]
  },
  {
   "cell_type": "code",
   "execution_count": null,
   "metadata": {},
   "outputs": [],
   "source": [
    "cnf_matrix_gini = confusion_matrix(y_test,y_pred_voter,labels=label)\n",
    "np.set_printoptions(precision=2)\n",
    "\n",
    "# Plot non-normalized confusion matrix\n",
    "plt.figure(figsize=(7,7))\n",
    "plot_confusion_matrix(cnf_matrix_gini, classes=label,\n",
    "                      title='Confusion matrix, without normalization')"
   ]
  },
  {
   "cell_type": "code",
   "execution_count": null,
   "metadata": {},
   "outputs": [],
   "source": [
    "#rf_err_df=df_test[df_test['labels']!=df_test['rf_pred']].iloc[0:30,0:12].head(30)"
   ]
  },
  {
   "cell_type": "code",
   "execution_count": null,
   "metadata": {},
   "outputs": [],
   "source": [
    "unique_val_count(df_test.target_grouped)"
   ]
  },
  {
   "cell_type": "code",
   "execution_count": null,
   "metadata": {},
   "outputs": [],
   "source": [
    "df_test.head(15)"
   ]
  },
  {
   "cell_type": "code",
   "execution_count": null,
   "metadata": {},
   "outputs": [],
   "source": [
    "df_test[\"month\"] = pd.to_numeric(df_test[\"month\"])"
   ]
  },
  {
   "cell_type": "code",
   "execution_count": null,
   "metadata": {},
   "outputs": [],
   "source": [
    "df_testa[\"month\"] = pd.to_numeric(df_testa[\"month\"])"
   ]
  },
  {
   "cell_type": "code",
   "execution_count": null,
   "metadata": {},
   "outputs": [],
   "source": [
    "np.unique(df_test.labels)"
   ]
  },
  {
   "cell_type": "code",
   "execution_count": null,
   "metadata": {},
   "outputs": [],
   "source": [
    "df_test.head(2)"
   ]
  },
  {
   "cell_type": "code",
   "execution_count": null,
   "metadata": {},
   "outputs": [],
   "source": [
    "import seaborn as sns\n",
    "import matplotlib.pylab as plt\n",
    "%matplotlib inline\n",
    "\n",
    "#df_test['new'] = np.where(df_test.labels=='btw 0 and 2 conversions', 'low',\n",
    "                          # np.where(df_test.labels=='more 3 than 6 conversions', 'low','high'))"
   ]
  },
  {
   "cell_type": "code",
   "execution_count": null,
   "metadata": {},
   "outputs": [],
   "source": [
    "#df_test=df_test.drop('new',axis=1)"
   ]
  },
  {
   "cell_type": "markdown",
   "metadata": {},
   "source": [
    "Below code generated an error saying that 'seaborn doesn't have a function called catplot.' That's why I picked countplot with the same purpose."
   ]
  },
  {
   "cell_type": "code",
   "execution_count": null,
   "metadata": {},
   "outputs": [],
   "source": [
    "# orders=label\n",
    "# sns.set_style(\"whitegrid\")\n",
    "# sns.set(font_scale=1)\n",
    "# p=sns.catplot(x=\"labels\",hue=\"labels\", kind=\"count\",order=orders,height=8,aspect=1,col='year', data=df_test)\n",
    "\n"
   ]
  },
  {
   "cell_type": "code",
   "execution_count": null,
   "metadata": {},
   "outputs": [],
   "source": [
    "sns.set(rc={'figure.figsize':(11.7,8.27)})\n",
    "ax = sns.countplot(x=df_test['year'], hue = df_test['labels'], \n",
    "                    data = df_test, )"
   ]
  },
  {
   "cell_type": "code",
   "execution_count": null,
   "metadata": {},
   "outputs": [],
   "source": [
    "bag_clf = BaggingClassifier(DecisionTreeClassifier( splitter = \"random\" ,class_weight='balanced', max_leaf_nodes = 5, min_samples_split=10 ), \n",
    "                            n_estimators =100 , max_samples = 0.5 , bootstrap = True , n_jobs =-1 ) "
   ]
  },
  {
   "cell_type": "code",
   "execution_count": null,
   "metadata": {},
   "outputs": [],
   "source": [
    "bag_clf.fit(train_X,y_train)"
   ]
  },
  {
   "cell_type": "code",
   "execution_count": null,
   "metadata": {
    "scrolled": true
   },
   "outputs": [],
   "source": [
    "cross_val_score(bag_clf,train_X, y_train, cv=10, scoring=\"accuracy\")"
   ]
  },
  {
   "cell_type": "code",
   "execution_count": null,
   "metadata": {},
   "outputs": [],
   "source": [
    "X_train.shape[0]"
   ]
  },
  {
   "cell_type": "code",
   "execution_count": null,
   "metadata": {},
   "outputs": [],
   "source": [
    "smote=SMOTE('minority')"
   ]
  },
  {
   "cell_type": "code",
   "execution_count": null,
   "metadata": {},
   "outputs": [],
   "source": [
    "X_sm_logr,y_sm_logr=smote.fit_sample(train_X,y_train)"
   ]
  },
  {
   "cell_type": "code",
   "execution_count": null,
   "metadata": {},
   "outputs": [],
   "source": [
    "logr_sm=softmax_reg.fit(X_sm_logr,y_sm_logr)"
   ]
  },
  {
   "cell_type": "code",
   "execution_count": null,
   "metadata": {},
   "outputs": [],
   "source": [
    "softmax_pred_sm=logr_sm.predict(test_X) \n"
   ]
  },
  {
   "cell_type": "code",
   "execution_count": null,
   "metadata": {},
   "outputs": [],
   "source": [
    "softmax_preda_sm=logr_sm.predict(testa_X) \n"
   ]
  },
  {
   "cell_type": "code",
   "execution_count": null,
   "metadata": {},
   "outputs": [],
   "source": [
    "cnf_matrix = confusion_matrix(y_test,softmax_pred_sm,labels=np.unique(y_train))\n",
    "np.set_printoptions(precision=2)\n",
    "\n",
    "# Plot non-normalized confusion matrix\n",
    "plt.figure(figsize=(7,7))\n",
    "plot_confusion_matrix(cnf_matrix, classes=np.unique(y_train),\n",
    "                      title='Confusion matrix, without normalization')"
   ]
  },
  {
   "cell_type": "code",
   "execution_count": null,
   "metadata": {},
   "outputs": [],
   "source": [
    "cross_val_score(logr_sm,X_sm_logr, y_sm_logr, cv=10, scoring=\"accuracy\",)"
   ]
  },
  {
   "cell_type": "code",
   "execution_count": null,
   "metadata": {},
   "outputs": [],
   "source": [
    "print (metrics.classification_report(y_test,softmax_pred_sm, target_names=df_test['labels'].unique()))"
   ]
  },
  {
   "cell_type": "code",
   "execution_count": null,
   "metadata": {},
   "outputs": [],
   "source": [
    "#lsvc\n",
    "\n",
    "lsvc = LinearSVC(C=0.9, penalty=\"l1\", dual=False, multi_class='ovr',class_weight='balanced').fit(train_X, y_train)\n",
    "model = SelectFromModel(lsvc, prefit=True)"
   ]
  },
  {
   "cell_type": "code",
   "execution_count": null,
   "metadata": {},
   "outputs": [],
   "source": [
    "y_pred_lsvc= lsvc.predict(test_X) "
   ]
  },
  {
   "cell_type": "code",
   "execution_count": null,
   "metadata": {},
   "outputs": [],
   "source": [
    "y_preda_lsvc= lsvc.predict(testa_X) "
   ]
  },
  {
   "cell_type": "code",
   "execution_count": null,
   "metadata": {},
   "outputs": [],
   "source": [
    "#df_test['pred_lsvc']=y_pred_lsvc"
   ]
  },
  {
   "cell_type": "code",
   "execution_count": null,
   "metadata": {},
   "outputs": [],
   "source": [
    "#df_test=df_test.drop('pred_lsvc',axis=1)"
   ]
  },
  {
   "cell_type": "code",
   "execution_count": null,
   "metadata": {},
   "outputs": [],
   "source": [
    "cross_val_score(lsvc,train_X, y_train, cv=10, scoring=\"accuracy\",)"
   ]
  },
  {
   "cell_type": "code",
   "execution_count": null,
   "metadata": {},
   "outputs": [],
   "source": [
    "cnf_matrix = confusion_matrix(y_test,y_pred_lsvc,labels=np.unique(y_train))\n",
    "np.set_printoptions(precision=2)\n",
    "\n",
    "# Plot non-normalized confusion matrix\n",
    "plt.figure(figsize=(7,7))\n",
    "plot_confusion_matrix(cnf_matrix, classes=np.unique(y_train),\n",
    "                      title='Confusion matrix, without normalization')"
   ]
  },
  {
   "cell_type": "code",
   "execution_count": null,
   "metadata": {},
   "outputs": [],
   "source": [
    "print(metrics.classification_report(y_test, y_pred_lsvc, target_names=df_test['labels'].unique()))"
   ]
  },
  {
   "cell_type": "code",
   "execution_count": null,
   "metadata": {},
   "outputs": [],
   "source": [
    "y_pred_bag= bag_clf.predict(test_X) "
   ]
  },
  {
   "cell_type": "code",
   "execution_count": null,
   "metadata": {},
   "outputs": [],
   "source": [
    "y_preda_bag= bag_clf.predict(testa_X) "
   ]
  },
  {
   "cell_type": "code",
   "execution_count": null,
   "metadata": {},
   "outputs": [],
   "source": [
    "prb_bag_clf=bag_clf.predict_proba(test_X)\n",
    "my_list_bag=np.round(np.array(prb_bag_clf),2).tolist()"
   ]
  },
  {
   "cell_type": "code",
   "execution_count": null,
   "metadata": {},
   "outputs": [],
   "source": [
    "prba_bag_clf=bag_clf.predict_proba(testa_X)\n",
    "my_lista_bag=np.round(np.array(prba_bag_clf),2).tolist()"
   ]
  },
  {
   "cell_type": "code",
   "execution_count": null,
   "metadata": {},
   "outputs": [],
   "source": [
    "df_test['pred_bag']=y_pred_bag"
   ]
  },
  {
   "cell_type": "code",
   "execution_count": null,
   "metadata": {},
   "outputs": [],
   "source": [
    "df_testa['pred_bag']=y_preda_bag"
   ]
  },
  {
   "cell_type": "code",
   "execution_count": null,
   "metadata": {},
   "outputs": [],
   "source": [
    "df_test['prb_bag_clf']=my_list_bag"
   ]
  },
  {
   "cell_type": "code",
   "execution_count": null,
   "metadata": {},
   "outputs": [],
   "source": [
    "df_testa['prb_bag_clf']=my_lista_bag"
   ]
  },
  {
   "cell_type": "code",
   "execution_count": null,
   "metadata": {},
   "outputs": [],
   "source": [
    "df_test.isnull().sum()"
   ]
  },
  {
   "cell_type": "code",
   "execution_count": null,
   "metadata": {},
   "outputs": [],
   "source": [
    "df_testa.isnull().sum()"
   ]
  },
  {
   "cell_type": "code",
   "execution_count": null,
   "metadata": {},
   "outputs": [],
   "source": [
    "df_test.columns"
   ]
  },
  {
   "cell_type": "code",
   "execution_count": null,
   "metadata": {},
   "outputs": [],
   "source": [
    "df_test.head(10)"
   ]
  },
  {
   "cell_type": "code",
   "execution_count": null,
   "metadata": {},
   "outputs": [],
   "source": [
    "#print(metrics.classification_report(y_test, y_pred_bag, target_names=df['labels'].unique()))"
   ]
  },
  {
   "cell_type": "code",
   "execution_count": null,
   "metadata": {},
   "outputs": [],
   "source": [
    "#print(metrics.classification_report(y_test, y_pred_clf1, target_names=df['labels'].unique()))"
   ]
  },
  {
   "cell_type": "code",
   "execution_count": null,
   "metadata": {},
   "outputs": [],
   "source": [
    "#print(metrics.classification_report(y_test, y_pred_clf2, target_names=df['labels'].unique()))"
   ]
  },
  {
   "cell_type": "code",
   "execution_count": null,
   "metadata": {},
   "outputs": [],
   "source": [
    "#print(metrics.classification_report(y_test, y_pred_clf3, target_names=df['labels'].unique()))"
   ]
  },
  {
   "cell_type": "code",
   "execution_count": null,
   "metadata": {},
   "outputs": [],
   "source": [
    "#print(metrics.classification_report(y_test, y_pred_voter, target_names=df['labels'].unique()))"
   ]
  },
  {
   "cell_type": "code",
   "execution_count": null,
   "metadata": {},
   "outputs": [],
   "source": [
    "tree_reg=DecisionTreeClassifier(class_weight='balanced',max_depth=3,criterion='gini',min_samples_leaf=10)\n",
    "tree_reg.fit(train_X,y_train)"
   ]
  },
  {
   "cell_type": "code",
   "execution_count": null,
   "metadata": {},
   "outputs": [],
   "source": [
    "y_pred_tree=tree_reg.predict(test_X)\n",
    "prb_tree_reg=tree_reg.predict_proba(test_X)\n",
    "my_list_tree=np.round(np.array(prb_tree_reg),2).tolist()\n"
   ]
  },
  {
   "cell_type": "code",
   "execution_count": null,
   "metadata": {},
   "outputs": [],
   "source": [
    "y_preda_tree=tree_reg.predict(testa_X)\n",
    "prba_tree_reg=tree_reg.predict_proba(testa_X)\n",
    "my_lista_tree=np.round(np.array(prba_tree_reg),2).tolist()\n"
   ]
  },
  {
   "cell_type": "code",
   "execution_count": null,
   "metadata": {},
   "outputs": [],
   "source": [
    "df_test['pred_reg_tree']=y_pred_tree\n",
    "df_test['probs_reg_tree']=my_list_tree"
   ]
  },
  {
   "cell_type": "code",
   "execution_count": null,
   "metadata": {},
   "outputs": [],
   "source": [
    "df_testa['pred_reg_tree']=y_preda_tree\n",
    "df_testa['probs_reg_tree']=my_lista_tree"
   ]
  },
  {
   "cell_type": "code",
   "execution_count": null,
   "metadata": {
    "scrolled": false
   },
   "outputs": [],
   "source": [
    "cnf_matrix = confusion_matrix(y_test, y_pred_tree,labels=np.unique(y_train))\n",
    "np.set_printoptions(precision=2)\n",
    "\n",
    "# Plot non-normalized confusion matrix\n",
    "plt.figure(figsize=(7,7))\n",
    "plot_confusion_matrix(cnf_matrix, classes=np.unique(y_train),\n",
    "                      title='Confusion matrix, without normalization')"
   ]
  },
  {
   "cell_type": "code",
   "execution_count": null,
   "metadata": {},
   "outputs": [],
   "source": [
    "!pip install xgboost"
   ]
  },
  {
   "cell_type": "code",
   "execution_count": null,
   "metadata": {},
   "outputs": [],
   "source": [
    "from pandas import read_csv\n",
    "from xgboost import XGBClassifier\n",
    "from sklearn.model_selection import GridSearchCV\n",
    "from sklearn.model_selection import StratifiedKFold\n",
    "from sklearn.preprocessing import LabelEncoder\n",
    "import matplotlib\n",
    "matplotlib.use('Agg')\n",
    "from matplotlib import pyplot"
   ]
  },
  {
   "cell_type": "code",
   "execution_count": null,
   "metadata": {},
   "outputs": [],
   "source": [
    "# grid search\n",
    "model_xgb = XGBClassifier()\n",
    "n_estimators = range(50, 400, 50)\n",
    "param_grid = dict(n_estimators=n_estimators)\n",
    "kfold = StratifiedKFold(n_splits=10, shuffle=True, random_state=7)\n",
    "grid_search = GridSearchCV(model_xgb, param_grid, scoring=\"neg_log_loss\", n_jobs=-1, cv=kfold)\n",
    "grid_result = grid_search.fit(train_X,y_train)"
   ]
  },
  {
   "cell_type": "code",
   "execution_count": null,
   "metadata": {},
   "outputs": [],
   "source": [
    "# summarize results\n",
    "print(\"Best: %f using %s\" % (grid_result.best_score_, grid_result.best_params_))\n",
    "means = grid_result.cv_results_['mean_test_score']\n",
    "stds = grid_result.cv_results_['std_test_score']\n",
    "params = grid_result.cv_results_['params']\n",
    "for mean, stdev, param in zip(means, stds, params):\n",
    "\tprint(\"%f (%f) with: %r\" % (mean, stdev, param))\n",
    "# plot\n",
    "pyplot.errorbar(n_estimators, means, yerr=stds)\n",
    "pyplot.title(\"XGBoost n_estimators vs Log Loss\")\n",
    "pyplot.xlabel('n_estimators')\n",
    "pyplot.ylabel('Log Loss')\n",
    "pyplot.savefig('n_estimators.png')"
   ]
  },
  {
   "cell_type": "code",
   "execution_count": null,
   "metadata": {},
   "outputs": [],
   "source": [
    "# XGBoost, Tune n_estimators and max_depth\n",
    "from pandas import read_csv\n",
    "from xgboost import XGBClassifier\n",
    "from sklearn.model_selection import GridSearchCV\n",
    "from sklearn.model_selection import StratifiedKFold\n",
    "from sklearn.preprocessing import LabelEncoder\n",
    "import matplotlib\n",
    "matplotlib.use('Agg')\n",
    "from matplotlib import pyplot"
   ]
  },
  {
   "cell_type": "code",
   "execution_count": null,
   "metadata": {},
   "outputs": [],
   "source": [
    "model_xgb = XGBClassifier()\n",
    "n_estimators = [50, 100, 150, 200]\n",
    "max_depth = [2, 4, 6, 8]\n",
    "print(max_depth)\n",
    "param_grid = dict(max_depth=max_depth, n_estimators=n_estimators)\n",
    "kfold = StratifiedKFold(n_splits=10, shuffle=True, random_state=7)\n",
    "grid_search = GridSearchCV(model_xgb, param_grid, scoring=\"neg_log_loss\", n_jobs=-1, cv=kfold, verbose=1)\n",
    "grid_result = grid_search.fit(train_X, y_train)"
   ]
  },
  {
   "cell_type": "code",
   "execution_count": null,
   "metadata": {},
   "outputs": [],
   "source": [
    "# summarize results\n",
    "print(\"Best: %f using %s\" % (grid_result.best_score_, grid_result.best_params_))\n",
    "means = grid_result.cv_results_['mean_test_score']\n",
    "stds = grid_result.cv_results_['std_test_score']\n",
    "params = grid_result.cv_results_['params']\n",
    "for mean, stdev, param in zip(means, stds, params):\n",
    "\tprint(\"%f (%f) with: %r\" % (mean, stdev, param))\n",
    "# plot results\n",
    "scores = np.array(means).reshape(len(max_depth), len(n_estimators))\n",
    "for i, value in enumerate(max_depth):\n",
    "    pyplot.plot(n_estimators, scores[i], label='depth: ' + str(value))\n",
    "pyplot.legend()\n",
    "pyplot.xlabel('n_estimators')\n",
    "pyplot.ylabel('Log Loss')\n",
    "pyplot.savefig('n_estimators_vs_max_depth.png')"
   ]
  },
  {
   "cell_type": "code",
   "execution_count": null,
   "metadata": {},
   "outputs": [],
   "source": [
    "model_xgb_tn = XGBClassifier(n_estimators=150,max_depth=4,objective='multi:softprob')\n",
    "model_xgb_tn.fit(train_X,y_train)"
   ]
  },
  {
   "cell_type": "code",
   "execution_count": null,
   "metadata": {},
   "outputs": [],
   "source": [
    "y_pred_xgb=model_xgb_tn.predict(test_X)"
   ]
  },
  {
   "cell_type": "code",
   "execution_count": null,
   "metadata": {},
   "outputs": [],
   "source": [
    "y_preda_xgb=model_xgb_tn.predict(testa_X)"
   ]
  },
  {
   "cell_type": "code",
   "execution_count": null,
   "metadata": {},
   "outputs": [],
   "source": [
    "np.set_printoptions(precision=3,suppress=True)\n",
    "prb_xgb_clf=model_xgb_tn.predict_proba(test_X)\n",
    "my_list_xgb=np.round(np.array(prb_xgb_clf),2).tolist()"
   ]
  },
  {
   "cell_type": "code",
   "execution_count": null,
   "metadata": {},
   "outputs": [],
   "source": [
    "np.set_printoptions(precision=3,suppress=True)\n",
    "prba_xgb_clf=model_xgb_tn.predict_proba(testa_X)\n",
    "my_lista_xgb=np.round(np.array(prba_xgb_clf),2).tolist()"
   ]
  },
  {
   "cell_type": "code",
   "execution_count": null,
   "metadata": {},
   "outputs": [],
   "source": [
    "df_test['pred_xgb']=y_pred_xgb\n",
    "df_test['xgb_prob']=my_list_xgb\n"
   ]
  },
  {
   "cell_type": "code",
   "execution_count": null,
   "metadata": {},
   "outputs": [],
   "source": [
    "df_testa['pred_xgb']=y_preda_xgb\n",
    "df_testa['xgb_prob']=my_lista_xgb\n"
   ]
  },
  {
   "cell_type": "code",
   "execution_count": null,
   "metadata": {},
   "outputs": [],
   "source": [
    "print(metrics.classification_report(y_test, y_pred_xgb, target_names=df_test['labels'].unique()))"
   ]
  },
  {
   "cell_type": "code",
   "execution_count": null,
   "metadata": {},
   "outputs": [],
   "source": [
    "df_test.head(20)"
   ]
  },
  {
   "cell_type": "code",
   "execution_count": null,
   "metadata": {},
   "outputs": [],
   "source": [
    "cnf_matrix = confusion_matrix(y_test, y_pred_xgb,labels=np.unique(y_train))\n",
    "np.set_printoptions(precision=2)\n",
    "\n",
    "# Plot non-normalized confusion matrix\n",
    "plt.figure(figsize=(7,7))\n",
    "plot_confusion_matrix(cnf_matrix, classes=np.unique(y_train),\n",
    "                      title='Confusion matrix, without normalization')"
   ]
  },
  {
   "cell_type": "code",
   "execution_count": null,
   "metadata": {},
   "outputs": [],
   "source": [
    "fb.columns"
   ]
  },
  {
   "cell_type": "code",
   "execution_count": null,
   "metadata": {},
   "outputs": [],
   "source": [
    "# Create adaboost classifer object\n",
    "abc_discrete =AdaBoostClassifier(n_estimators=100, base_estimator=clf_rf_gini,learning_rate=0.001,\n",
    "    algorithm=\"SAMME\")\n",
    "\n",
    "abc_real =AdaBoostClassifier(n_estimators=100, base_estimator=clf_rf_gini,learning_rate=0.001)"
   ]
  },
  {
   "cell_type": "code",
   "execution_count": null,
   "metadata": {},
   "outputs": [],
   "source": [
    "# Train Adaboost Classifer\n",
    "abc_discrete.fit(train_X, y_train)\n",
    "abc_real.fit(train_X, y_train)"
   ]
  },
  {
   "cell_type": "code",
   "execution_count": null,
   "metadata": {},
   "outputs": [],
   "source": [
    "#Predict the response for test dataset\n",
    "y_pred_abc_disc = abc_discrete.predict(test_X)\n",
    "y_pred_abc_real = abc_real.predict(test_X)\n",
    "\n",
    "\n",
    "\n",
    "\n",
    "# Model Accuracy, how often is the classifier correct?\n",
    "print(\"Accuracy abc SAMME:\",metrics.accuracy_score(y_test, y_pred_abc_disc))\n",
    "print(\"Accuracy abc:\",metrics.accuracy_score(y_test, y_pred_abc_real))"
   ]
  },
  {
   "cell_type": "code",
   "execution_count": null,
   "metadata": {},
   "outputs": [],
   "source": [
    "#Predict the response for test dataset\n",
    "y_preda_abc_disc = abc_discrete.predict(testa_X)\n",
    "y_preda_abc_real = abc_real.predict(testa_X)\n",
    "\n",
    "\n",
    "\n",
    "\n",
    "# Model Accuracy, how often is the classifier correct?\n",
    "print(\"Accuracy abc SAMME:\",metrics.accuracy_score(y_test, y_pred_abc_disc))\n",
    "print(\"Accuracy abc:\",metrics.accuracy_score(y_test, y_pred_abc_real))"
   ]
  },
  {
   "cell_type": "code",
   "execution_count": null,
   "metadata": {},
   "outputs": [],
   "source": [
    "print(metrics.classification_report(y_test, y_pred_abc_real, target_names=fb['labels'].unique()))"
   ]
  },
  {
   "cell_type": "code",
   "execution_count": null,
   "metadata": {},
   "outputs": [],
   "source": [
    "print(metrics.classification_report(y_test, y_pred_abc_disc, target_names=fb['labels'].unique()))"
   ]
  },
  {
   "cell_type": "code",
   "execution_count": null,
   "metadata": {},
   "outputs": [],
   "source": [
    "cnf_matrix = confusion_matrix(y_test, y_pred_abc_disc,labels=np.unique(y_train))\n",
    "np.set_printoptions(precision=2)\n",
    "\n",
    "# Plot non-normalized confusion matrix\n",
    "plt.figure(figsize=(7,7))\n",
    "plot_confusion_matrix(cnf_matrix, classes=np.unique(y_train),\n",
    "                      title='Confusion matrix, without normalization')"
   ]
  },
  {
   "cell_type": "code",
   "execution_count": null,
   "metadata": {},
   "outputs": [],
   "source": [
    "cnf_matrix = confusion_matrix(y_test, y_pred_abc_real,labels=np.unique(y_train))\n",
    "np.set_printoptions(precision=2)\n",
    "\n",
    "# Plot non-normalized confusion matrix\n",
    "plt.figure(figsize=(7,7))\n",
    "plot_confusion_matrix(cnf_matrix, classes=np.unique(y_train),\n",
    "                      title='Confusion matrix, without normalization')"
   ]
  },
  {
   "cell_type": "code",
   "execution_count": null,
   "metadata": {},
   "outputs": [],
   "source": [
    "prb_abc_disc=abc_discrete.predict_proba(test_X)\n",
    "my_list_abc_disc=np.round(np.array(prb_abc_disc),2).tolist()"
   ]
  },
  {
   "cell_type": "code",
   "execution_count": null,
   "metadata": {},
   "outputs": [],
   "source": [
    "prba_abc_disc=abc_discrete.predict_proba(testa_X)\n",
    "my_lista_abc_disc=np.round(np.array(prba_abc_disc),2).tolist()"
   ]
  },
  {
   "cell_type": "code",
   "execution_count": null,
   "metadata": {},
   "outputs": [],
   "source": [
    "df_test['pred_abc_disc']=y_pred_abc_disc\n",
    "df_test['probs_abc_disc']=my_list_abc_disc"
   ]
  },
  {
   "cell_type": "code",
   "execution_count": null,
   "metadata": {},
   "outputs": [],
   "source": [
    "df_testa['pred_abc_disc']=y_preda_abc_disc\n",
    "df_testa['probs_abc_disc']=my_lista_abc_disc"
   ]
  },
  {
   "cell_type": "code",
   "execution_count": null,
   "metadata": {},
   "outputs": [],
   "source": [
    "prb_abc_real=abc_real.predict_proba(test_X)\n",
    "my_list_abc_real=np.round(np.array(prb_abc_real),2).tolist()"
   ]
  },
  {
   "cell_type": "code",
   "execution_count": null,
   "metadata": {},
   "outputs": [],
   "source": [
    "prba_abc_real=abc_real.predict_proba(testa_X)\n",
    "my_lista_abc_real=np.round(np.array(prba_abc_real),2).tolist()"
   ]
  },
  {
   "cell_type": "code",
   "execution_count": null,
   "metadata": {},
   "outputs": [],
   "source": [
    "df_test['pred_abc_real']=y_pred_abc_real\n",
    "df_test['probs_abc_real']=my_list_abc_real\n"
   ]
  },
  {
   "cell_type": "code",
   "execution_count": null,
   "metadata": {},
   "outputs": [],
   "source": [
    "df_testa['pred_abc_real']=y_preda_abc_real\n",
    "df_testa['probs_abc_real']=my_lista_abc_real\n"
   ]
  },
  {
   "cell_type": "code",
   "execution_count": null,
   "metadata": {},
   "outputs": [],
   "source": [
    "df_test.shape"
   ]
  },
  {
   "cell_type": "code",
   "execution_count": null,
   "metadata": {},
   "outputs": [],
   "source": [
    "df_testa.shape"
   ]
  },
  {
   "cell_type": "code",
   "execution_count": null,
   "metadata": {},
   "outputs": [],
   "source": []
  },
  {
   "cell_type": "code",
   "execution_count": null,
   "metadata": {},
   "outputs": [],
   "source": [
    "#np.unique(df_test['topic'].values.tolist())"
   ]
  },
  {
   "cell_type": "code",
   "execution_count": null,
   "metadata": {},
   "outputs": [],
   "source": [
    "df_test[df_test['year']==2019].sort_values(by='amount_spent_usd',ascending=False).head(20)"
   ]
  },
  {
   "cell_type": "code",
   "execution_count": null,
   "metadata": {},
   "outputs": [],
   "source": [
    "df_test[df_test['labels']=='btw 7 and 12 conversions'].head(10)"
   ]
  },
  {
   "cell_type": "code",
   "execution_count": null,
   "metadata": {},
   "outputs": [],
   "source": [
    "# How many observations there are per week in June 2019\n",
    "june_pred = pd.DataFrame(df_test[(df_test['year'] == 2019) & (df_test['month'] == 6)]['week_num'].value_counts()).reset_index()\n",
    "june_pred.columns = ['week_num', 'count']\n",
    "june_pred.sort_values(by = ['week_num'], inplace = True)\n",
    "june_pred"
   ]
  },
  {
   "cell_type": "code",
   "execution_count": null,
   "metadata": {},
   "outputs": [],
   "source": [
    "# How many observations there are per week in July 2019\n",
    "july_pred = pd.DataFrame(df_test[(df_test['year'] == 2019) & (df_test['month'] == 7)]['week_num'].value_counts()).reset_index()\n",
    "july_pred.columns = ['week_num', 'count']\n",
    "july_pred.sort_values(by = ['week_num'], inplace = True)\n",
    "july_pred"
   ]
  },
  {
   "cell_type": "code",
   "execution_count": null,
   "metadata": {},
   "outputs": [],
   "source": [
    "df_testa = df_testa.rename(index=str, columns={'prop_voter':'props_voter',\n",
    "                                    'prb_bag_clf':'probs_bag_clf',\n",
    "                                    'xgb_prob':'probs_xgb'})"
   ]
  },
  {
   "cell_type": "code",
   "execution_count": null,
   "metadata": {
    "scrolled": false
   },
   "outputs": [],
   "source": [
    "df_testa.columns.tolist()"
   ]
  },
  {
   "cell_type": "code",
   "execution_count": null,
   "metadata": {},
   "outputs": [],
   "source": [
    "prob_cols = [prob_col for prob_col in df_testa if prob_col.startswith('probs')]\n",
    "df_probs = df_testa[prob_cols]\n",
    "df_probs['probs_final'] = np.nan"
   ]
  },
  {
   "cell_type": "code",
   "execution_count": null,
   "metadata": {},
   "outputs": [],
   "source": [
    "df_probs.columns.tolist()"
   ]
  },
  {
   "cell_type": "code",
   "execution_count": null,
   "metadata": {},
   "outputs": [],
   "source": [
    "prob_lst = []\n",
    "for i in range(len(df_probs)):\n",
    "    total_1 = 0\n",
    "    total_2 = 0\n",
    "    total_3 = 0\n",
    "    total_4 = 0\n",
    "    \n",
    "    for j in range(len(df_probs.columns)-1):\n",
    "        total_1 = total_1 + df_probs.iloc[i,j][0]\n",
    "        total_2 = total_2 + df_probs.iloc[i,j][1]\n",
    "        total_3 = total_3 + df_probs.iloc[i,j][2]\n",
    "        total_4 = total_4 + df_probs.iloc[i,j][3]\n",
    "        \n",
    "    num_col = (len(df_probs.columns.tolist()) - 1)\n",
    "    all_probs = [total_1, total_2, total_3, total_4]\n",
    "    prob_lst.append([k/num_col for k in all_probs])"
   ]
  },
  {
   "cell_type": "code",
   "execution_count": null,
   "metadata": {},
   "outputs": [],
   "source": [
    "df_probs['probs_final'] = prob_lst"
   ]
  },
  {
   "cell_type": "code",
   "execution_count": null,
   "metadata": {},
   "outputs": [],
   "source": [
    "df_probs['pred_final'] = 0"
   ]
  },
  {
   "cell_type": "code",
   "execution_count": null,
   "metadata": {},
   "outputs": [],
   "source": [
    "df_testa['probs_final'] = prob_lst"
   ]
  },
  {
   "cell_type": "code",
   "execution_count": null,
   "metadata": {},
   "outputs": [],
   "source": [
    "some_ser = []\n",
    "for i in range(len(df_probs)):\n",
    "    some_lst = df_probs['probs_final'][i]\n",
    "    m = max(some_lst)\n",
    "    ind_max = some_lst.index(max(some_lst))\n",
    "    some_ser.append(ind_max)"
   ]
  },
  {
   "cell_type": "code",
   "execution_count": null,
   "metadata": {},
   "outputs": [],
   "source": [
    "df_probs['pred_final'] = some_ser"
   ]
  },
  {
   "cell_type": "code",
   "execution_count": null,
   "metadata": {},
   "outputs": [],
   "source": [
    "df_probs.pred_final.value_counts()"
   ]
  },
  {
   "cell_type": "code",
   "execution_count": null,
   "metadata": {},
   "outputs": [],
   "source": [
    "df_probs.pred_final = df_probs.pred_final.astype(int)\n",
    "df_probs['final_prediction'] = np.nan"
   ]
  },
  {
   "cell_type": "code",
   "execution_count": null,
   "metadata": {},
   "outputs": [],
   "source": [
    "def label_converter(x):\n",
    "    if x == 0:\n",
    "        return 'btw 0 and 2 conversions'\n",
    "    elif x == 1:\n",
    "        return 'btw 3 and 6 conversions'\n",
    "    elif x == 2:\n",
    "        return 'btw 7 and 12 conversions'\n",
    "    elif x == 3:\n",
    "        return 'more than 12 conversions'\n",
    "    else:\n",
    "        return 'Error'"
   ]
  },
  {
   "cell_type": "code",
   "execution_count": null,
   "metadata": {},
   "outputs": [],
   "source": [
    "df_probs['final_prediction'] = df_probs['pred_final'].apply(label_converter)"
   ]
  },
  {
   "cell_type": "code",
   "execution_count": null,
   "metadata": {},
   "outputs": [],
   "source": [
    "df_probs.final_prediction.value_counts()"
   ]
  },
  {
   "cell_type": "code",
   "execution_count": null,
   "metadata": {},
   "outputs": [],
   "source": [
    "df_probs"
   ]
  },
  {
   "cell_type": "code",
   "execution_count": null,
   "metadata": {},
   "outputs": [],
   "source": [
    "df_predictionsa = pd.merge(df_testa,df_probs[['final_prediction']],how = 'left',left_index = True, right_index = True)"
   ]
  },
  {
   "cell_type": "code",
   "execution_count": null,
   "metadata": {},
   "outputs": [],
   "source": [
    "# The below line can computed if the results needs to be printed but for now what we are curious\n",
    "# about is the predictions for the first week of august, which is uploaded to S3 and SageMaker in the below cell:\n",
    "# df_test.to_csv('/home/ec2-user/SageMaker/fb_conversion_predictions_2019-06-27/Data/predictions.csv',index=False)"
   ]
  },
  {
   "cell_type": "code",
   "execution_count": null,
   "metadata": {},
   "outputs": [],
   "source": [
    "df_predictionsa = df_predictionsa[(df_predictionsa['year'] == 2019) & (df_predictionsa['month'] == 8)]\n",
    "df_testa = df_testa[(df_testa['year'] == 2019) & (df_testa['month'] == 8)]"
   ]
  },
  {
   "cell_type": "code",
   "execution_count": null,
   "metadata": {
    "scrolled": true
   },
   "outputs": [],
   "source": [
    "len(df_testa)"
   ]
  },
  {
   "cell_type": "code",
   "execution_count": null,
   "metadata": {},
   "outputs": [],
   "source": [
    "df_predictionsa.final_prediction.value_counts()"
   ]
  },
  {
   "cell_type": "code",
   "execution_count": null,
   "metadata": {},
   "outputs": [],
   "source": [
    "df_predictionsa"
   ]
  },
  {
   "cell_type": "code",
   "execution_count": null,
   "metadata": {},
   "outputs": [],
   "source": [
    "df_predictionsa.to_csv('/home/ec2-user/SageMaker/fb_conversion_predictions_2019-06-27/Data/predictions_aug.csv',index=False)"
   ]
  },
  {
   "cell_type": "code",
   "execution_count": null,
   "metadata": {},
   "outputs": [],
   "source": [
    "# Saving the file to S3:\n",
    "from io import StringIO\n",
    "import boto3\n",
    "\n",
    "bucket='facebookconversionrates' # bucket name\n",
    "data_key = 'modelling/predictions_aug.csv' # name of the csv file that will be created\n",
    "csv_buffer = StringIO()\n",
    "df_predictionsa.to_csv(csv_buffer)\n",
    "s3_resource = boto3.resource('s3')\n",
    "s3_resource.Object(bucket, data_key).put(Body=csv_buffer.getvalue())"
   ]
  },
  {
   "cell_type": "markdown",
   "metadata": {},
   "source": [
    "Below code are WIP! They need adjustment to give a prediction result!"
   ]
  },
  {
   "cell_type": "code",
   "execution_count": null,
   "metadata": {},
   "outputs": [],
   "source": [
    "encoder = LabelBinarizer()\n",
    "Y = encoder.fit_transform(y_train)\n",
    "Y_test = encoder.fit_transform(y_test)"
   ]
  }
 ],
 "metadata": {
  "kernelspec": {
   "display_name": "Python 3",
   "language": "python",
   "name": "python3"
  },
  "language_info": {
   "codemirror_mode": {
    "name": "ipython",
    "version": 3
   },
   "file_extension": ".py",
   "mimetype": "text/x-python",
   "name": "python",
   "nbconvert_exporter": "python",
   "pygments_lexer": "ipython3",
   "version": "3.6.6"
  }
 },
 "nbformat": 4,
 "nbformat_minor": 2
}
