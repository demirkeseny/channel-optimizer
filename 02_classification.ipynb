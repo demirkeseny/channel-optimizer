{
 "cells": [
  {
   "cell_type": "markdown",
   "metadata": {},
   "source": [
    "# 02_Classification\n",
    "\n",
    "> Last Update: 06/13/2020 <br>\n",
    "Author: [Gunsu Altindag](https://www.linkedin.com/in/gunsualtindag) | [Yalim Demirkesen](https://www.linkedin.com/in/yalimdemirkesen/)\n",
    "\n",
    "**Description**\n",
    "\n",
    "After the preprocessing is completed, we have the dataset that we will train/test our classification model. After the testing is completed, I have an additional dataset for all the combinations of location, industry, part of the day, day of the week and amount spent. The model will be used to predict how many conversions we will have as a result of the campaigns."
   ]
  },
  {
   "cell_type": "code",
   "execution_count": 268,
   "metadata": {},
   "outputs": [],
   "source": [
    "# necessary libraries:\n",
    "import matplotlib.pyplot as plt\n",
    "import seaborn as sns\n",
    "%matplotlib inline\n",
    "plt.style.use(\"ggplot\")\n",
    "import pandas as pd\n",
    "import numpy as np\n",
    "from itertools import product\n",
    "import warnings\n",
    "warnings.filterwarnings('ignore')\n",
    "\n",
    "# display settings\n",
    "from IPython.display import display\n",
    "pd.options.display.max_columns = None\n",
    "pd.options.display.max_rows = 500\n",
    "\n",
    "# modelling libraries:\n",
    "from sklearn.model_selection import train_test_split, cross_val_score, GridSearchCV, RandomizedSearchCV, StratifiedKFold\n",
    "from sklearn.linear_model import LogisticRegression\n",
    "from sklearn.preprocessing import StandardScaler\n",
    "from sklearn.metrics import f1_score, accuracy_score, precision_score, recall_score, confusion_matrix, make_scorer\n",
    "from sklearn import metrics\n",
    "from sklearn.ensemble import RandomForestClassifier, AdaBoostClassifier\n",
    "from sklearn.neighbors import KNeighborsClassifier\n",
    "from sklearn.svm import SVC, LinearSVC\n",
    "from xgboost import XGBClassifier"
   ]
  },
  {
   "cell_type": "markdown",
   "metadata": {},
   "source": [
    "## Uploading and Preparing the Data"
   ]
  },
  {
   "cell_type": "code",
   "execution_count": 290,
   "metadata": {},
   "outputs": [],
   "source": [
    "fb = pd.read_csv(\"./data/fb.csv\")"
   ]
  },
  {
   "cell_type": "code",
   "execution_count": 291,
   "metadata": {},
   "outputs": [],
   "source": [
    "df_sept = pd.read_csv(\"./data/testdata_sep.csv\")"
   ]
  },
  {
   "cell_type": "code",
   "execution_count": 292,
   "metadata": {},
   "outputs": [
    {
     "data": {
      "text/plain": [
       "(23384, 28)"
      ]
     },
     "execution_count": 292,
     "metadata": {},
     "output_type": "execute_result"
    }
   ],
   "source": [
    "fb.shape"
   ]
  },
  {
   "cell_type": "code",
   "execution_count": 293,
   "metadata": {},
   "outputs": [],
   "source": [
    "fb.drop(columns=['Unnamed: 0'], inplace=True)\n",
    "df_sept.drop(columns=['Unnamed: 0'], inplace=True)"
   ]
  },
  {
   "cell_type": "markdown",
   "metadata": {},
   "source": [
    "I will exclude the month of September from the training and testing data. After I test the data, I will go on and make the predictions and optimization and compare it with the actual results in September. "
   ]
  },
  {
   "cell_type": "code",
   "execution_count": 294,
   "metadata": {},
   "outputs": [],
   "source": [
    "fb[(fb['2019']==1) & (fb['month']==9)].to_csv('./data/actual_sep.csv')"
   ]
  },
  {
   "cell_type": "code",
   "execution_count": 295,
   "metadata": {},
   "outputs": [],
   "source": [
    "fb = fb[~((fb['2019']==1) & (fb['month']==9))].reset_index(drop=True)"
   ]
  },
  {
   "cell_type": "code",
   "execution_count": 296,
   "metadata": {},
   "outputs": [
    {
     "data": {
      "text/html": [
       "<div>\n",
       "<style scoped>\n",
       "    .dataframe tbody tr th:only-of-type {\n",
       "        vertical-align: middle;\n",
       "    }\n",
       "\n",
       "    .dataframe tbody tr th {\n",
       "        vertical-align: top;\n",
       "    }\n",
       "\n",
       "    .dataframe thead th {\n",
       "        text-align: right;\n",
       "    }\n",
       "</style>\n",
       "<table border=\"1\" class=\"dataframe\">\n",
       "  <thead>\n",
       "    <tr style=\"text-align: right;\">\n",
       "      <th></th>\n",
       "      <th>month</th>\n",
       "      <th>week_num</th>\n",
       "      <th>afternoon</th>\n",
       "      <th>evening</th>\n",
       "      <th>morning</th>\n",
       "      <th>night</th>\n",
       "      <th>DE</th>\n",
       "      <th>ES</th>\n",
       "      <th>FR</th>\n",
       "      <th>IT</th>\n",
       "      <th>MX</th>\n",
       "      <th>UK</th>\n",
       "      <th>US</th>\n",
       "      <th>ZA</th>\n",
       "      <th>OR</th>\n",
       "      <th>SSF</th>\n",
       "      <th>Mon</th>\n",
       "      <th>Tues</th>\n",
       "      <th>Weds</th>\n",
       "      <th>Thurs</th>\n",
       "      <th>Fri</th>\n",
       "      <th>Sat</th>\n",
       "      <th>Sun</th>\n",
       "      <th>2018</th>\n",
       "      <th>2019</th>\n",
       "      <th>amount_spent_usd</th>\n",
       "      <th>labels</th>\n",
       "    </tr>\n",
       "  </thead>\n",
       "  <tbody>\n",
       "    <tr>\n",
       "      <th>0</th>\n",
       "      <td>1</td>\n",
       "      <td>1</td>\n",
       "      <td>1</td>\n",
       "      <td>0</td>\n",
       "      <td>0</td>\n",
       "      <td>0</td>\n",
       "      <td>1</td>\n",
       "      <td>0</td>\n",
       "      <td>0</td>\n",
       "      <td>0</td>\n",
       "      <td>0</td>\n",
       "      <td>0</td>\n",
       "      <td>0</td>\n",
       "      <td>0</td>\n",
       "      <td>0</td>\n",
       "      <td>1</td>\n",
       "      <td>1</td>\n",
       "      <td>0</td>\n",
       "      <td>0</td>\n",
       "      <td>0</td>\n",
       "      <td>0</td>\n",
       "      <td>0</td>\n",
       "      <td>0</td>\n",
       "      <td>1</td>\n",
       "      <td>0</td>\n",
       "      <td>17.052800</td>\n",
       "      <td>btw 1 and 2 conversions</td>\n",
       "    </tr>\n",
       "    <tr>\n",
       "      <th>1</th>\n",
       "      <td>1</td>\n",
       "      <td>1</td>\n",
       "      <td>1</td>\n",
       "      <td>0</td>\n",
       "      <td>0</td>\n",
       "      <td>0</td>\n",
       "      <td>0</td>\n",
       "      <td>1</td>\n",
       "      <td>0</td>\n",
       "      <td>0</td>\n",
       "      <td>0</td>\n",
       "      <td>0</td>\n",
       "      <td>0</td>\n",
       "      <td>0</td>\n",
       "      <td>1</td>\n",
       "      <td>0</td>\n",
       "      <td>1</td>\n",
       "      <td>0</td>\n",
       "      <td>0</td>\n",
       "      <td>0</td>\n",
       "      <td>0</td>\n",
       "      <td>0</td>\n",
       "      <td>0</td>\n",
       "      <td>1</td>\n",
       "      <td>0</td>\n",
       "      <td>23.137473</td>\n",
       "      <td>btw 1 and 2 conversions</td>\n",
       "    </tr>\n",
       "    <tr>\n",
       "      <th>2</th>\n",
       "      <td>1</td>\n",
       "      <td>1</td>\n",
       "      <td>1</td>\n",
       "      <td>0</td>\n",
       "      <td>0</td>\n",
       "      <td>0</td>\n",
       "      <td>0</td>\n",
       "      <td>0</td>\n",
       "      <td>1</td>\n",
       "      <td>0</td>\n",
       "      <td>0</td>\n",
       "      <td>0</td>\n",
       "      <td>0</td>\n",
       "      <td>0</td>\n",
       "      <td>1</td>\n",
       "      <td>0</td>\n",
       "      <td>1</td>\n",
       "      <td>0</td>\n",
       "      <td>0</td>\n",
       "      <td>0</td>\n",
       "      <td>0</td>\n",
       "      <td>0</td>\n",
       "      <td>0</td>\n",
       "      <td>1</td>\n",
       "      <td>0</td>\n",
       "      <td>3.204700</td>\n",
       "      <td>0 conversions</td>\n",
       "    </tr>\n",
       "    <tr>\n",
       "      <th>3</th>\n",
       "      <td>1</td>\n",
       "      <td>1</td>\n",
       "      <td>1</td>\n",
       "      <td>0</td>\n",
       "      <td>0</td>\n",
       "      <td>0</td>\n",
       "      <td>0</td>\n",
       "      <td>0</td>\n",
       "      <td>1</td>\n",
       "      <td>0</td>\n",
       "      <td>0</td>\n",
       "      <td>0</td>\n",
       "      <td>0</td>\n",
       "      <td>0</td>\n",
       "      <td>0</td>\n",
       "      <td>1</td>\n",
       "      <td>1</td>\n",
       "      <td>0</td>\n",
       "      <td>0</td>\n",
       "      <td>0</td>\n",
       "      <td>0</td>\n",
       "      <td>0</td>\n",
       "      <td>0</td>\n",
       "      <td>1</td>\n",
       "      <td>0</td>\n",
       "      <td>39.000829</td>\n",
       "      <td>0 conversions</td>\n",
       "    </tr>\n",
       "    <tr>\n",
       "      <th>4</th>\n",
       "      <td>1</td>\n",
       "      <td>1</td>\n",
       "      <td>1</td>\n",
       "      <td>0</td>\n",
       "      <td>0</td>\n",
       "      <td>0</td>\n",
       "      <td>0</td>\n",
       "      <td>0</td>\n",
       "      <td>0</td>\n",
       "      <td>1</td>\n",
       "      <td>0</td>\n",
       "      <td>0</td>\n",
       "      <td>0</td>\n",
       "      <td>0</td>\n",
       "      <td>1</td>\n",
       "      <td>0</td>\n",
       "      <td>1</td>\n",
       "      <td>0</td>\n",
       "      <td>0</td>\n",
       "      <td>0</td>\n",
       "      <td>0</td>\n",
       "      <td>0</td>\n",
       "      <td>0</td>\n",
       "      <td>1</td>\n",
       "      <td>0</td>\n",
       "      <td>11.831640</td>\n",
       "      <td>0 conversions</td>\n",
       "    </tr>\n",
       "  </tbody>\n",
       "</table>\n",
       "</div>"
      ],
      "text/plain": [
       "   month  week_num  afternoon  evening  morning  night  DE  ES  FR  IT  MX  \\\n",
       "0      1         1          1        0        0      0   1   0   0   0   0   \n",
       "1      1         1          1        0        0      0   0   1   0   0   0   \n",
       "2      1         1          1        0        0      0   0   0   1   0   0   \n",
       "3      1         1          1        0        0      0   0   0   1   0   0   \n",
       "4      1         1          1        0        0      0   0   0   0   1   0   \n",
       "\n",
       "   UK  US  ZA  OR  SSF  Mon  Tues  Weds  Thurs  Fri  Sat  Sun  2018  2019  \\\n",
       "0   0   0   0   0    1    1     0     0      0    0    0    0     1     0   \n",
       "1   0   0   0   1    0    1     0     0      0    0    0    0     1     0   \n",
       "2   0   0   0   1    0    1     0     0      0    0    0    0     1     0   \n",
       "3   0   0   0   0    1    1     0     0      0    0    0    0     1     0   \n",
       "4   0   0   0   1    0    1     0     0      0    0    0    0     1     0   \n",
       "\n",
       "   amount_spent_usd                   labels  \n",
       "0         17.052800  btw 1 and 2 conversions  \n",
       "1         23.137473  btw 1 and 2 conversions  \n",
       "2          3.204700            0 conversions  \n",
       "3         39.000829            0 conversions  \n",
       "4         11.831640            0 conversions  "
      ]
     },
     "execution_count": 296,
     "metadata": {},
     "output_type": "execute_result"
    }
   ],
   "source": [
    "fb.head()"
   ]
  },
  {
   "cell_type": "code",
   "execution_count": 297,
   "metadata": {},
   "outputs": [
    {
     "data": {
      "text/html": [
       "<div>\n",
       "<style scoped>\n",
       "    .dataframe tbody tr th:only-of-type {\n",
       "        vertical-align: middle;\n",
       "    }\n",
       "\n",
       "    .dataframe tbody tr th {\n",
       "        vertical-align: top;\n",
       "    }\n",
       "\n",
       "    .dataframe thead th {\n",
       "        text-align: right;\n",
       "    }\n",
       "</style>\n",
       "<table border=\"1\" class=\"dataframe\">\n",
       "  <thead>\n",
       "    <tr style=\"text-align: right;\">\n",
       "      <th></th>\n",
       "      <th>month</th>\n",
       "      <th>week_num</th>\n",
       "      <th>afternoon</th>\n",
       "      <th>evening</th>\n",
       "      <th>morning</th>\n",
       "      <th>night</th>\n",
       "      <th>DE</th>\n",
       "      <th>ES</th>\n",
       "      <th>FR</th>\n",
       "      <th>IT</th>\n",
       "      <th>MX</th>\n",
       "      <th>UK</th>\n",
       "      <th>US</th>\n",
       "      <th>ZA</th>\n",
       "      <th>OR</th>\n",
       "      <th>SSF</th>\n",
       "      <th>Fri</th>\n",
       "      <th>Mon</th>\n",
       "      <th>Sat</th>\n",
       "      <th>Sun</th>\n",
       "      <th>Thurs</th>\n",
       "      <th>Tues</th>\n",
       "      <th>Weds</th>\n",
       "      <th>2018</th>\n",
       "      <th>2019</th>\n",
       "      <th>amount_spent_usd</th>\n",
       "    </tr>\n",
       "  </thead>\n",
       "  <tbody>\n",
       "    <tr>\n",
       "      <th>0</th>\n",
       "      <td>9</td>\n",
       "      <td>35</td>\n",
       "      <td>1</td>\n",
       "      <td>0</td>\n",
       "      <td>0</td>\n",
       "      <td>0</td>\n",
       "      <td>0</td>\n",
       "      <td>0</td>\n",
       "      <td>0</td>\n",
       "      <td>0</td>\n",
       "      <td>0</td>\n",
       "      <td>0</td>\n",
       "      <td>1</td>\n",
       "      <td>0</td>\n",
       "      <td>1</td>\n",
       "      <td>0</td>\n",
       "      <td>0</td>\n",
       "      <td>0</td>\n",
       "      <td>0</td>\n",
       "      <td>1</td>\n",
       "      <td>0</td>\n",
       "      <td>0</td>\n",
       "      <td>0</td>\n",
       "      <td>0</td>\n",
       "      <td>1</td>\n",
       "      <td>0</td>\n",
       "    </tr>\n",
       "    <tr>\n",
       "      <th>1</th>\n",
       "      <td>9</td>\n",
       "      <td>35</td>\n",
       "      <td>1</td>\n",
       "      <td>0</td>\n",
       "      <td>0</td>\n",
       "      <td>0</td>\n",
       "      <td>0</td>\n",
       "      <td>0</td>\n",
       "      <td>0</td>\n",
       "      <td>0</td>\n",
       "      <td>0</td>\n",
       "      <td>0</td>\n",
       "      <td>1</td>\n",
       "      <td>0</td>\n",
       "      <td>0</td>\n",
       "      <td>1</td>\n",
       "      <td>0</td>\n",
       "      <td>0</td>\n",
       "      <td>0</td>\n",
       "      <td>1</td>\n",
       "      <td>0</td>\n",
       "      <td>0</td>\n",
       "      <td>0</td>\n",
       "      <td>0</td>\n",
       "      <td>1</td>\n",
       "      <td>0</td>\n",
       "    </tr>\n",
       "    <tr>\n",
       "      <th>2</th>\n",
       "      <td>9</td>\n",
       "      <td>35</td>\n",
       "      <td>1</td>\n",
       "      <td>0</td>\n",
       "      <td>0</td>\n",
       "      <td>0</td>\n",
       "      <td>0</td>\n",
       "      <td>0</td>\n",
       "      <td>1</td>\n",
       "      <td>0</td>\n",
       "      <td>0</td>\n",
       "      <td>0</td>\n",
       "      <td>0</td>\n",
       "      <td>0</td>\n",
       "      <td>1</td>\n",
       "      <td>0</td>\n",
       "      <td>0</td>\n",
       "      <td>0</td>\n",
       "      <td>0</td>\n",
       "      <td>1</td>\n",
       "      <td>0</td>\n",
       "      <td>0</td>\n",
       "      <td>0</td>\n",
       "      <td>0</td>\n",
       "      <td>1</td>\n",
       "      <td>0</td>\n",
       "    </tr>\n",
       "    <tr>\n",
       "      <th>3</th>\n",
       "      <td>9</td>\n",
       "      <td>35</td>\n",
       "      <td>1</td>\n",
       "      <td>0</td>\n",
       "      <td>0</td>\n",
       "      <td>0</td>\n",
       "      <td>0</td>\n",
       "      <td>0</td>\n",
       "      <td>1</td>\n",
       "      <td>0</td>\n",
       "      <td>0</td>\n",
       "      <td>0</td>\n",
       "      <td>0</td>\n",
       "      <td>0</td>\n",
       "      <td>0</td>\n",
       "      <td>1</td>\n",
       "      <td>0</td>\n",
       "      <td>0</td>\n",
       "      <td>0</td>\n",
       "      <td>1</td>\n",
       "      <td>0</td>\n",
       "      <td>0</td>\n",
       "      <td>0</td>\n",
       "      <td>0</td>\n",
       "      <td>1</td>\n",
       "      <td>0</td>\n",
       "    </tr>\n",
       "    <tr>\n",
       "      <th>4</th>\n",
       "      <td>9</td>\n",
       "      <td>35</td>\n",
       "      <td>1</td>\n",
       "      <td>0</td>\n",
       "      <td>0</td>\n",
       "      <td>0</td>\n",
       "      <td>0</td>\n",
       "      <td>0</td>\n",
       "      <td>0</td>\n",
       "      <td>0</td>\n",
       "      <td>0</td>\n",
       "      <td>1</td>\n",
       "      <td>0</td>\n",
       "      <td>0</td>\n",
       "      <td>1</td>\n",
       "      <td>0</td>\n",
       "      <td>0</td>\n",
       "      <td>0</td>\n",
       "      <td>0</td>\n",
       "      <td>1</td>\n",
       "      <td>0</td>\n",
       "      <td>0</td>\n",
       "      <td>0</td>\n",
       "      <td>0</td>\n",
       "      <td>1</td>\n",
       "      <td>0</td>\n",
       "    </tr>\n",
       "  </tbody>\n",
       "</table>\n",
       "</div>"
      ],
      "text/plain": [
       "   month  week_num  afternoon  evening  morning  night  DE  ES  FR  IT  MX  \\\n",
       "0      9        35          1        0        0      0   0   0   0   0   0   \n",
       "1      9        35          1        0        0      0   0   0   0   0   0   \n",
       "2      9        35          1        0        0      0   0   0   1   0   0   \n",
       "3      9        35          1        0        0      0   0   0   1   0   0   \n",
       "4      9        35          1        0        0      0   0   0   0   0   0   \n",
       "\n",
       "   UK  US  ZA  OR  SSF  Fri  Mon  Sat  Sun  Thurs  Tues  Weds  2018  2019  \\\n",
       "0   0   1   0   1    0    0    0    0    1      0     0     0     0     1   \n",
       "1   0   1   0   0    1    0    0    0    1      0     0     0     0     1   \n",
       "2   0   0   0   1    0    0    0    0    1      0     0     0     0     1   \n",
       "3   0   0   0   0    1    0    0    0    1      0     0     0     0     1   \n",
       "4   1   0   0   1    0    0    0    0    1      0     0     0     0     1   \n",
       "\n",
       "   amount_spent_usd  \n",
       "0                 0  \n",
       "1                 0  \n",
       "2                 0  \n",
       "3                 0  \n",
       "4                 0  "
      ]
     },
     "execution_count": 297,
     "metadata": {},
     "output_type": "execute_result"
    }
   ],
   "source": [
    "df_sept.head()"
   ]
  },
  {
   "cell_type": "code",
   "execution_count": 97,
   "metadata": {},
   "outputs": [],
   "source": [
    "# creating the predictor and target datasets:\n",
    "X = fb[['month','week_num','DE','ES','FR','IT','MX','UK','US','ZA','OR','SSF','night','morning','afternoon','evening',\n",
    "        'Mon','Tues','Weds','Thurs','Fri','Sat','Sun','2018','2019','amount_spent_usd']]\n",
    "y = fb['labels']"
   ]
  },
  {
   "cell_type": "code",
   "execution_count": 98,
   "metadata": {},
   "outputs": [],
   "source": [
    "X_sep = df_sept[['month','week_num','DE','ES','FR','IT','MX','UK','US','ZA','OR','SSF','night','morning','afternoon','evening',\n",
    "        'Mon','Tues','Weds','Thurs','Fri','Sat','Sun','2018','2019','amount_spent_usd']]"
   ]
  },
  {
   "cell_type": "code",
   "execution_count": 99,
   "metadata": {},
   "outputs": [],
   "source": [
    "# splitting the data into training and testing:\n",
    "X_train, X_test, y_train, y_test = train_test_split(X, y, stratify=y, test_size=0.25,random_state=44)"
   ]
  },
  {
   "cell_type": "markdown",
   "metadata": {},
   "source": [
    "Checking the shape of each new dataset. I expect training and testing datasets to have same length. All datasets need to have same number of predictors."
   ]
  },
  {
   "cell_type": "code",
   "execution_count": 100,
   "metadata": {},
   "outputs": [
    {
     "data": {
      "text/plain": [
       "(16676, 26)"
      ]
     },
     "execution_count": 100,
     "metadata": {},
     "output_type": "execute_result"
    }
   ],
   "source": [
    "X_train.shape"
   ]
  },
  {
   "cell_type": "code",
   "execution_count": 101,
   "metadata": {},
   "outputs": [
    {
     "data": {
      "text/plain": [
       "(16676,)"
      ]
     },
     "execution_count": 101,
     "metadata": {},
     "output_type": "execute_result"
    }
   ],
   "source": [
    "y_train.shape"
   ]
  },
  {
   "cell_type": "code",
   "execution_count": 102,
   "metadata": {},
   "outputs": [
    {
     "data": {
      "text/plain": [
       "(5559,)"
      ]
     },
     "execution_count": 102,
     "metadata": {},
     "output_type": "execute_result"
    }
   ],
   "source": [
    "y_test.shape"
   ]
  },
  {
   "cell_type": "code",
   "execution_count": 103,
   "metadata": {},
   "outputs": [
    {
     "data": {
      "text/plain": [
       "(5559, 26)"
      ]
     },
     "execution_count": 103,
     "metadata": {},
     "output_type": "execute_result"
    }
   ],
   "source": [
    "X_test.shape"
   ]
  },
  {
   "cell_type": "code",
   "execution_count": 104,
   "metadata": {},
   "outputs": [
    {
     "data": {
      "text/plain": [
       "(337920, 26)"
      ]
     },
     "execution_count": 104,
     "metadata": {},
     "output_type": "execute_result"
    }
   ],
   "source": [
    "X_sep.shape"
   ]
  },
  {
   "cell_type": "code",
   "execution_count": 105,
   "metadata": {},
   "outputs": [
    {
     "data": {
      "text/plain": [
       "0 conversions              6528\n",
       "btw 1 and 2 conversions    5338\n",
       "btw 3 and 5 conversions    2726\n",
       "more than 5 conversions    2084\n",
       "Name: labels, dtype: int64"
      ]
     },
     "execution_count": 105,
     "metadata": {},
     "output_type": "execute_result"
    }
   ],
   "source": [
    "y_train.value_counts()"
   ]
  },
  {
   "cell_type": "markdown",
   "metadata": {},
   "source": [
    "Scaling for the amount spent column throughout all the datasets:"
   ]
  },
  {
   "cell_type": "code",
   "execution_count": 106,
   "metadata": {},
   "outputs": [],
   "source": [
    "scaler = StandardScaler()"
   ]
  },
  {
   "cell_type": "code",
   "execution_count": 107,
   "metadata": {},
   "outputs": [],
   "source": [
    "X_train['amount_spent_usd'] = scaler.fit_transform(X_train.amount_spent_usd.values.reshape(-1, 1))"
   ]
  },
  {
   "cell_type": "code",
   "execution_count": 108,
   "metadata": {},
   "outputs": [
    {
     "data": {
      "text/plain": [
       "count    1.667600e+04\n",
       "mean     2.014393e-16\n",
       "std      1.000030e+00\n",
       "min     -5.598794e-01\n",
       "25%     -4.632067e-01\n",
       "50%     -3.437911e-01\n",
       "75%     -4.851158e-03\n",
       "max      1.877850e+01\n",
       "Name: amount_spent_usd, dtype: float64"
      ]
     },
     "execution_count": 108,
     "metadata": {},
     "output_type": "execute_result"
    }
   ],
   "source": [
    "X_train.amount_spent_usd.describe()"
   ]
  },
  {
   "cell_type": "code",
   "execution_count": 109,
   "metadata": {},
   "outputs": [],
   "source": [
    "X_test['amount_spent_usd'] = scaler.fit_transform(X_test.amount_spent_usd.values.reshape(-1, 1))"
   ]
  },
  {
   "cell_type": "code",
   "execution_count": 110,
   "metadata": {},
   "outputs": [
    {
     "data": {
      "text/plain": [
       "count    5.559000e+03\n",
       "mean     1.773481e-16\n",
       "std      1.000090e+00\n",
       "min     -5.849667e-01\n",
       "25%     -4.850203e-01\n",
       "50%     -3.609831e-01\n",
       "75%     -7.979976e-04\n",
       "max      1.884786e+01\n",
       "Name: amount_spent_usd, dtype: float64"
      ]
     },
     "execution_count": 110,
     "metadata": {},
     "output_type": "execute_result"
    }
   ],
   "source": [
    "X_test.amount_spent_usd.describe()"
   ]
  },
  {
   "cell_type": "code",
   "execution_count": 111,
   "metadata": {},
   "outputs": [],
   "source": [
    "X_sep['amount_spent_usd'] = scaler.fit_transform(X_sep.amount_spent_usd.values.reshape(-1, 1))"
   ]
  },
  {
   "cell_type": "code",
   "execution_count": 112,
   "metadata": {},
   "outputs": [
    {
     "data": {
      "text/plain": [
       "count    3.379200e+05\n",
       "mean    -1.135324e-17\n",
       "std      1.000001e+00\n",
       "min     -1.722237e+00\n",
       "25%     -8.611187e-01\n",
       "50%      0.000000e+00\n",
       "75%      8.611187e-01\n",
       "max      1.722237e+00\n",
       "Name: amount_spent_usd, dtype: float64"
      ]
     },
     "execution_count": 112,
     "metadata": {},
     "output_type": "execute_result"
    }
   ],
   "source": [
    "X_sep.amount_spent_usd.describe()"
   ]
  },
  {
   "cell_type": "markdown",
   "metadata": {},
   "source": [
    "## Modelling"
   ]
  },
  {
   "cell_type": "markdown",
   "metadata": {},
   "source": [
    "In the modelling phase, the road map is to create an ensemble model including different classification models. At the end the models will have a weight as much as their accuracy. The weights will be summed and the class with the most votes will be accepted as the final prediction.\n",
    "\n",
    "Let's say, each algorithm's predictions for the level of conversion if we spend $50 for 09/03/2019 evening (in the time zone of the host account) for users in Germany who are in OR industry:\n",
    "- Algorithm 1 predicts for each class: 0.23 | 0.07 | 0.63 | 0.07\n",
    "- Algorithm 2 predicts for each class: 0.21 | 0.02 | 0.57 | 0.20\n",
    "- Algorithm 3 predicts for each class: 0.27 | 0.05 | 0.66 | 0.02\n",
    "- Algorithm 4 predicts for each class: 0.15 | 0.04 | 0.59 | 0.22\n",
    "- Algorithm 5 predicts for each class: 0.19 | 0.06 | 0.33 | 0.42\n",
    "\n",
    "Then the conversions between 3 and 5 wins since its average probability is higher than any other class."
   ]
  },
  {
   "cell_type": "markdown",
   "metadata": {},
   "source": [
    "### Logistic Regression"
   ]
  },
  {
   "cell_type": "markdown",
   "metadata": {},
   "source": [
    "In logistic regression, we will use softmax instead of sigmoid function which is the default case. The reason is we are working with multiclass problem. While initiating the model, there will be different hyperparameters that we need to work with which are listed below:\n",
    "- `multiclass`: this will be `multinomial` since we are dealing with a multiclass problem.\n",
    "- `solver`: there are plenty solvers that we can use for this use case which are `newton-cg`, `sag`, `saga` and `lbfgs`.\n",
    "    - Newton's Method uses a quadratic approximation. In each step we are getting closer to the global optima. It is expensive to deploy and also has problems with minimax (saddle) points. \n",
    "    <img src=\"https://i.stack.imgur.com/VqQnf.png\" >\n",
    "    - Limited-memory Broyden–Fletcher–Goldfarb–Shanno Algorithm is very similar to Newton's but it stores that represent the approximation. lbfgs is very memory efficient but have some drawbacks like converging to any value. No global optima is guarenteed.\n",
    "    - Stochastic Average Gradient holds a memory of previous gradient values and using this technique it converges faster. Storing older iterations makes it more precise but slower.\n",
    "    - SAGA is a version of Stochastic Average Gradient that supports L1 regularization which eliminates the non-contributing predictors. That's why its best use is with large datasets.\n",
    "- `penalty`: most of the solvers need `l2` but with saga we can also use `l1` but we don't need to utilize that since out dataset is not huge in terms of predictors.\n",
    "- `tol`: stands for tolerance. This is the level for scikit-learn to understand when to stop for optimizing the objective function of the model.\n",
    "- `C`: smaller C gets, stronger regularization becomes. \n",
    "- `max_iter`: just like tol, max_iter provides a limit for the model to stop looking for additional improvement.\n",
    "\n",
    "**[Source: scikit-learn logistic regression](https://scikit-learn.org/stable/modules/generated/sklearn.linear_model.LogisticRegression.html)**"
   ]
  },
  {
   "cell_type": "code",
   "execution_count": 113,
   "metadata": {},
   "outputs": [],
   "source": [
    "softmax_params = {\n",
    "    'C':[12,13,14,15],\n",
    "    'max_iter':[10000,100000]\n",
    "    \n",
    "}\n",
    "\n",
    "softmax_grid = GridSearchCV(\n",
    "                    LogisticRegression(multi_class='multinomial', \n",
    "                                       solver='lbfgs',\n",
    "                                       penalty='l2',\n",
    "                                       tol=1e-16, \n",
    "                                      ),\n",
    "                    softmax_params,\n",
    "                    cv = 5,\n",
    "                    verbose = 1,\n",
    "                    return_train_score = True\n",
    ")"
   ]
  },
  {
   "cell_type": "code",
   "execution_count": 115,
   "metadata": {},
   "outputs": [
    {
     "name": "stdout",
     "output_type": "stream",
     "text": [
      "Fitting 5 folds for each of 8 candidates, totalling 40 fits\n"
     ]
    },
    {
     "name": "stderr",
     "output_type": "stream",
     "text": [
      "[Parallel(n_jobs=1)]: Using backend SequentialBackend with 1 concurrent workers.\n",
      "[Parallel(n_jobs=1)]: Done  40 out of  40 | elapsed:  1.6min finished\n"
     ]
    }
   ],
   "source": [
    "# fit the data:\n",
    "softmax_reg=softmax_grid.fit(X_train,y_train) "
   ]
  },
  {
   "cell_type": "code",
   "execution_count": 118,
   "metadata": {},
   "outputs": [],
   "source": [
    "label=np.unique(y_train)"
   ]
  },
  {
   "cell_type": "code",
   "execution_count": 119,
   "metadata": {},
   "outputs": [],
   "source": [
    "def plot_confusion_matrix(cm, classes,\n",
    "                          normalize=False,\n",
    "                          title='Confusion matrix',\n",
    "                          cmap=plt.cm.Blues):\n",
    "    \"\"\"\n",
    "    This function prints and plots the confusion matrix.\n",
    "    \"\"\"\n",
    "\n",
    "    plt.imshow(cm, interpolation='nearest', cmap=cmap)\n",
    "    plt.title(title)\n",
    "    plt.colorbar()\n",
    "    tick_marks = np.arange(len(classes))\n",
    "    plt.xticks(tick_marks, classes, rotation=45)\n",
    "    plt.yticks(tick_marks, classes)\n",
    "\n",
    "    fmt = '.2f' if normalize else 'd'\n",
    "    thresh = cm.max() / 2.\n",
    "    for i, j in product(range(cm.shape[0]), range(cm.shape[1])):\n",
    "        plt.text(j, i, format(cm[i, j], fmt),\n",
    "                 horizontalalignment=\"center\",\n",
    "                 color=\"white\" if cm[i, j] > thresh else \"black\")\n",
    "\n",
    "    plt.ylabel('Actual Class')\n",
    "    plt.xlabel('Predicted Class')\n",
    "    plt.tight_layout()"
   ]
  },
  {
   "cell_type": "code",
   "execution_count": 120,
   "metadata": {},
   "outputs": [
    {
     "data": {
      "image/png": "[encoded data removed]",
      "text/plain": [
       "<Figure size 720x720 with 2 Axes>"
      ]
     },
     "metadata": {},
     "output_type": "display_data"
    }
   ],
   "source": [
    "cnf_matrix = confusion_matrix(y_test, y_pred_softmax,labels=label)\n",
    "np.set_printoptions(precision=2)\n",
    "\n",
    "# Plot non-normalized confusion matrix\n",
    "plt.figure(figsize=(10,10))\n",
    "plot_confusion_matrix(cnf_matrix, classes=label,\n",
    "                      title='Confusion Matrix for Logistic Regression')"
   ]
  },
  {
   "cell_type": "code",
   "execution_count": 121,
   "metadata": {},
   "outputs": [
    {
     "name": "stdout",
     "output_type": "stream",
     "text": [
      "Accuracy of the training set: 0.5504\n",
      "Accuracy of the training set: 0.556\n"
     ]
    }
   ],
   "source": [
    "print(\"Accuracy of the training set: {}\".format(round(accuracy_score(y_train,softmax_grid.predict(X_train)),4)))\n",
    "print(\"Accuracy of the training set: {}\".format(round(accuracy_score(y_test,softmax_grid.predict(X_test)),4)))"
   ]
  },
  {
   "cell_type": "code",
   "execution_count": 155,
   "metadata": {},
   "outputs": [],
   "source": [
    "# generate the predictions:\n",
    "y_pred_softmax = softmax_grid.predict(X_test)  \n",
    "y_pred_sep_softmax = softmax_grid.predict(X_sep)\n",
    "\n",
    "# calculate the probabilities:\n",
    "y_prob_softmax = softmax_grid.predict_proba(X_test)\n",
    "y_prob_sep_softmax = softmax_grid.predict_proba(X_sep)"
   ]
  },
  {
   "cell_type": "markdown",
   "metadata": {},
   "source": [
    "As expected the accuracy of the Logistic Regression model is not that high. After all it is a better model to use when we have a binary classification problem. Next model I will use it Random Forest. Now I am expecting a higher performance since we will be using an ensemble model that takes into account the \"forest\" instead of the single \"trees\"."
   ]
  },
  {
   "cell_type": "markdown",
   "metadata": {},
   "source": [
    "### Random Forest"
   ]
  },
  {
   "cell_type": "markdown",
   "metadata": {},
   "source": [
    "Random forest hyperparameters:\n",
    "- `n_estimators`: number of trees\n",
    "- `criterion`: `gini` or `entropy`\n",
    "- `max_depth`: max depth for the trees\n",
    "- `min_sample_split`: minimum number of samples needed to split the nodes:\n",
    "- `max_features`: number of features to consider while splitting\n",
    "    - `auto` for square root of number of features.\n",
    "    - `None` for taking into account all the features.\n",
    "    - if int, then take that many features.\n",
    "- `class_weight`: Described like the following in the sklearn webpage:\n",
    ">*Weights associated with classes in the form {class_label: weight}. If not given, all classes are supposed to have weight one. For multi-output problems, a list of dicts can be provided in the same order as the columns of y.*\n",
    "    *Note that for multioutput (including multilabel) weights should be defined for each class of every column in its own dict. For example, for four-class multilabel classification weights should be `[{0: 1, 1: 1}, {0: 1, 1: 5}, {0: 1, 1: 1}, {0: 1, 1: 1}]` instead of `[{1:1}, {2:5}, {3:1}, {4:1}]`.\n",
    "    The “balanced” mode uses the values of y to automatically adjust weights inversely proportional to class frequencies in the input data as `n_samples / (n_classes * np.bincount(y))`. \n",
    "    The “balanced_subsample” mode is the same as “balanced” except that weights are computed based on the bootstrap sample for every tree grown.*\n",
    "\n",
    "**[Source: scikit-learn random forest](https://scikit-learn.org/stable/modules/generated/sklearn.ensemble.RandomForestClassifier.html)**"
   ]
  },
  {
   "cell_type": "code",
   "execution_count": 143,
   "metadata": {},
   "outputs": [],
   "source": [
    "rfc = RandomForestClassifier(n_estimators = 50, max_leaf_nodes = 16 ,\n",
    "                             n_jobs =-1, random_state=42)\n",
    "\n",
    "param_grid = {\n",
    "    'min_samples_split': [5, 7], \n",
    "    'n_estimators' : [400,500,600],\n",
    "    'max_depth': [25,27,30],\n",
    "    'max_features': [20,22]\n",
    "}\n",
    "\n",
    "scorers = {\n",
    "    'precision_score': make_scorer(precision_score,average='micro'),\n",
    "    'recall_score': make_scorer(recall_score,average='micro')\n",
    "}"
   ]
  },
  {
   "cell_type": "code",
   "execution_count": 150,
   "metadata": {},
   "outputs": [],
   "source": [
    "# fits a GridSearchCV classifier using refit_score for optimization\n",
    "refit_score='precision_score'\n",
    "\n",
    "# prints classifier performance metrics\n",
    "skf = StratifiedKFold(n_splits=10)\n",
    "rfc_grid = GridSearchCV(rfc, param_grid, scoring=scorers, refit=refit_score,\n",
    "                           cv=skf, return_train_score=True, n_jobs=-1)\n"
   ]
  },
  {
   "cell_type": "code",
   "execution_count": 151,
   "metadata": {},
   "outputs": [
    {
     "data": {
      "text/plain": [
       "GridSearchCV(cv=StratifiedKFold(n_splits=10, random_state=None, shuffle=False),\n",
       "             estimator=RandomForestClassifier(max_leaf_nodes=16,\n",
       "                                              n_estimators=50, n_jobs=-1,\n",
       "                                              random_state=42),\n",
       "             n_jobs=-1,\n",
       "             param_grid={'max_depth': [25, 27, 30], 'max_features': [20, 22],\n",
       "                         'min_samples_split': [5, 7],\n",
       "                         'n_estimators': [400, 500, 600]},\n",
       "             refit='precision_score', return_train_score=True,\n",
       "             scoring={'precision_score': make_scorer(precision_score, average=micro),\n",
       "                      'recall_score': make_scorer(recall_score, average=micro)})"
      ]
     },
     "execution_count": 151,
     "metadata": {},
     "output_type": "execute_result"
    }
   ],
   "source": [
    "rfc_grid.fit(X_train, y_train)"
   ]
  },
  {
   "cell_type": "code",
   "execution_count": 153,
   "metadata": {},
   "outputs": [
    {
     "name": "stdout",
     "output_type": "stream",
     "text": [
      "Best parameters for precision_score:\n",
      "{'max_depth': 25, 'max_features': 22, 'min_samples_split': 5, 'n_estimators': 500}\n",
      "Best score for precision_score:\n",
      "0.5587675630341558\n"
     ]
    }
   ],
   "source": [
    "print('Best parameters for {}:'.format(refit_score))\n",
    "print(rfc_grid.best_params_)\n",
    "print('Best score for {}:'.format(refit_score))\n",
    "print(rfc_grid.best_score_)"
   ]
  },
  {
   "cell_type": "code",
   "execution_count": 154,
   "metadata": {},
   "outputs": [],
   "source": [
    "# Build the model after having the hyperparameters that creates the highest performance:\n",
    "\n",
    "# Using entropy during the split:\n",
    "clf_rf_enpy = RandomForestClassifier(criterion='entropy',max_depth=25, \n",
    "                                 max_features=22,min_samples_split=5, \n",
    "                                 n_estimators=500).fit(X_train, y_train)\n",
    "\n",
    "# Using gini during the split:\n",
    "clf_rf_gini = RandomForestClassifier(criterion='gini',max_depth=25, \n",
    "                                 max_features=22,min_samples_split=5, \n",
    "                                 n_estimators=500).fit(X_train, y_train)"
   ]
  },
  {
   "cell_type": "code",
   "execution_count": 156,
   "metadata": {},
   "outputs": [],
   "source": [
    "# make the predictions for rf with entropy\n",
    "y_pred_enpy = clf_rf_enpy.predict(X_test)\n",
    "y_pred_sep_enpy = clf_rf_enpy.predict(X_sep)\n",
    "\n",
    "# calculate the probabilities for rf with entropy\n",
    "y_prob_enpy = clf_rf_enpy.predict_proba(X_test)\n",
    "y_prob_sep_enpy = clf_rf_enpy.predict_proba(X_sep)\n",
    "\n",
    "# make the predictions for rf with gini\n",
    "y_pred_gini = clf_rf_gini.predict(X_test)\n",
    "y_pred_sep_gini = clf_rf_gini.predict(X_sep)\n",
    "\n",
    "# calculate the probabilities for rf with gini\n",
    "y_prob_gini = clf_rf_gini.predict_proba(X_test)\n",
    "y_prob_sep_gini = clf_rf_gini.predict_proba(X_sep)"
   ]
  },
  {
   "cell_type": "code",
   "execution_count": null,
   "metadata": {},
   "outputs": [],
   "source": []
  },
  {
   "cell_type": "code",
   "execution_count": 157,
   "metadata": {},
   "outputs": [
    {
     "data": {
      "image/png": "[encoded data removed]",
      "text/plain": [
       "<Figure size 720x720 with 2 Axes>"
      ]
     },
     "metadata": {},
     "output_type": "display_data"
    }
   ],
   "source": [
    "cnf_matrix = confusion_matrix(y_test, y_pred_gini,labels=label)\n",
    "np.set_printoptions(precision=2)\n",
    "\n",
    "# Plot non-normalized confusion matrix\n",
    "plt.figure(figsize=(10,10))\n",
    "plot_confusion_matrix(cnf_matrix, classes=label,\n",
    "                      title='Confusion Matrix for Random Forest-Gini')"
   ]
  },
  {
   "cell_type": "code",
   "execution_count": 158,
   "metadata": {},
   "outputs": [
    {
     "data": {
      "image/png": "[encoded data removed]",
      "text/plain": [
       "<Figure size 720x720 with 2 Axes>"
      ]
     },
     "metadata": {},
     "output_type": "display_data"
    }
   ],
   "source": [
    "cnf_matrix = confusion_matrix(y_test, y_pred_enpy,labels=label)\n",
    "np.set_printoptions(precision=2)\n",
    "\n",
    "# Plot non-normalized confusion matrix\n",
    "plt.figure(figsize=(10,10))\n",
    "plot_confusion_matrix(cnf_matrix, classes=label,\n",
    "                      title='Confusion Matrix for Random Forest-Entropy')"
   ]
  },
  {
   "cell_type": "markdown",
   "metadata": {},
   "source": [
    "Since at the end I will build a voting ensemble, we need a dataframe with probabilities and predictions for each observation with probabilities for each algorithm. "
   ]
  },
  {
   "cell_type": "code",
   "execution_count": 162,
   "metadata": {},
   "outputs": [],
   "source": [
    "y_test_df=pd.DataFrame(y_test)\n",
    "y_test_sep_df=pd.DataFrame(None)"
   ]
  },
  {
   "cell_type": "code",
   "execution_count": 163,
   "metadata": {},
   "outputs": [
    {
     "data": {
      "text/plain": [
       "7890     more than 5 conversions\n",
       "21440              0 conversions\n",
       "5536     btw 1 and 2 conversions\n",
       "14287    more than 5 conversions\n",
       "12994              0 conversions\n",
       "Name: labels, dtype: object"
      ]
     },
     "execution_count": 163,
     "metadata": {},
     "output_type": "execute_result"
    }
   ],
   "source": [
    "y_test.head()"
   ]
  },
  {
   "cell_type": "code",
   "execution_count": 164,
   "metadata": {},
   "outputs": [],
   "source": [
    "# For logistic regression:\n",
    "y_test_df['pred_softmax'] = y_pred_softmax\n",
    "y_test_df['prob_softmax']= np.round(np.array(y_prob_softmax),2).tolist()\n",
    "\n",
    "y_test_sep_df['pred_softmax'] = y_pred_sep_softmax\n",
    "y_test_sep_df['prob_softmax'] = np.round(np.array(y_prob_sep_softmax),2).tolist()\n",
    "\n",
    "# For Random Forest with Gini:\n",
    "y_test_df['pred_rf_gini'] = y_pred_gini\n",
    "y_test_df['prob_rf_gini']= np.round(np.array(y_prob_gini),2).tolist()\n",
    "\n",
    "y_test_sep_df['pred_rf_gini'] = y_pred_sep_gini\n",
    "y_test_sep_df['prob_rf_gini'] = np.round(np.array(y_prob_sep_gini),2).tolist()\n",
    "\n",
    "# For Random Forest with Entropy:\n",
    "y_test_df['pred_rf_enpy'] = y_pred_enpy\n",
    "y_test_df['prob_rf_enpy']= np.round(np.array(y_prob_enpy),2).tolist()\n",
    "\n",
    "y_test_sep_df['pred_rf_enpy'] = y_pred_sep_enpy\n",
    "y_test_sep_df['prob_rf_enpy'] = np.round(np.array(y_prob_sep_enpy),2).tolist()"
   ]
  },
  {
   "cell_type": "code",
   "execution_count": 165,
   "metadata": {},
   "outputs": [
    {
     "data": {
      "text/html": [
       "<div>\n",
       "<style scoped>\n",
       "    .dataframe tbody tr th:only-of-type {\n",
       "        vertical-align: middle;\n",
       "    }\n",
       "\n",
       "    .dataframe tbody tr th {\n",
       "        vertical-align: top;\n",
       "    }\n",
       "\n",
       "    .dataframe thead th {\n",
       "        text-align: right;\n",
       "    }\n",
       "</style>\n",
       "<table border=\"1\" class=\"dataframe\">\n",
       "  <thead>\n",
       "    <tr style=\"text-align: right;\">\n",
       "      <th></th>\n",
       "      <th>labels</th>\n",
       "      <th>pred_softmax</th>\n",
       "      <th>prob_softmax</th>\n",
       "      <th>pred_rf_gini</th>\n",
       "      <th>prob_rf_gini</th>\n",
       "      <th>pred_rf_enpy</th>\n",
       "      <th>prob_rf_enpy</th>\n",
       "    </tr>\n",
       "  </thead>\n",
       "  <tbody>\n",
       "    <tr>\n",
       "      <th>7890</th>\n",
       "      <td>more than 5 conversions</td>\n",
       "      <td>more than 5 conversions</td>\n",
       "      <td>[0.0, 0.11, 0.32, 0.56]</td>\n",
       "      <td>more than 5 conversions</td>\n",
       "      <td>[0.02, 0.04, 0.4, 0.54]</td>\n",
       "      <td>more than 5 conversions</td>\n",
       "      <td>[0.02, 0.03, 0.41, 0.54]</td>\n",
       "    </tr>\n",
       "    <tr>\n",
       "      <th>21440</th>\n",
       "      <td>0 conversions</td>\n",
       "      <td>0 conversions</td>\n",
       "      <td>[0.79, 0.18, 0.03, 0.0]</td>\n",
       "      <td>0 conversions</td>\n",
       "      <td>[0.92, 0.08, 0.0, 0.0]</td>\n",
       "      <td>0 conversions</td>\n",
       "      <td>[0.93, 0.07, 0.0, 0.0]</td>\n",
       "    </tr>\n",
       "  </tbody>\n",
       "</table>\n",
       "</div>"
      ],
      "text/plain": [
       "                        labels             pred_softmax  \\\n",
       "7890   more than 5 conversions  more than 5 conversions   \n",
       "21440            0 conversions            0 conversions   \n",
       "\n",
       "                  prob_softmax             pred_rf_gini  \\\n",
       "7890   [0.0, 0.11, 0.32, 0.56]  more than 5 conversions   \n",
       "21440  [0.79, 0.18, 0.03, 0.0]            0 conversions   \n",
       "\n",
       "                  prob_rf_gini             pred_rf_enpy  \\\n",
       "7890   [0.02, 0.04, 0.4, 0.54]  more than 5 conversions   \n",
       "21440   [0.92, 0.08, 0.0, 0.0]            0 conversions   \n",
       "\n",
       "                   prob_rf_enpy  \n",
       "7890   [0.02, 0.03, 0.41, 0.54]  \n",
       "21440    [0.93, 0.07, 0.0, 0.0]  "
      ]
     },
     "execution_count": 165,
     "metadata": {},
     "output_type": "execute_result"
    }
   ],
   "source": [
    "y_test_df.head(2)"
   ]
  },
  {
   "cell_type": "code",
   "execution_count": 166,
   "metadata": {},
   "outputs": [
    {
     "data": {
      "text/html": [
       "<div>\n",
       "<style scoped>\n",
       "    .dataframe tbody tr th:only-of-type {\n",
       "        vertical-align: middle;\n",
       "    }\n",
       "\n",
       "    .dataframe tbody tr th {\n",
       "        vertical-align: top;\n",
       "    }\n",
       "\n",
       "    .dataframe thead th {\n",
       "        text-align: right;\n",
       "    }\n",
       "</style>\n",
       "<table border=\"1\" class=\"dataframe\">\n",
       "  <thead>\n",
       "    <tr style=\"text-align: right;\">\n",
       "      <th></th>\n",
       "      <th>pred_softmax</th>\n",
       "      <th>prob_softmax</th>\n",
       "      <th>pred_rf_gini</th>\n",
       "      <th>prob_rf_gini</th>\n",
       "      <th>pred_rf_enpy</th>\n",
       "      <th>prob_rf_enpy</th>\n",
       "    </tr>\n",
       "  </thead>\n",
       "  <tbody>\n",
       "    <tr>\n",
       "      <th>0</th>\n",
       "      <td>0 conversions</td>\n",
       "      <td>[0.97, 0.02, 0.0, 0.0]</td>\n",
       "      <td>0 conversions</td>\n",
       "      <td>[0.92, 0.08, 0.0, 0.0]</td>\n",
       "      <td>0 conversions</td>\n",
       "      <td>[0.95, 0.05, 0.0, 0.0]</td>\n",
       "    </tr>\n",
       "    <tr>\n",
       "      <th>1</th>\n",
       "      <td>0 conversions</td>\n",
       "      <td>[0.99, 0.01, 0.0, 0.0]</td>\n",
       "      <td>0 conversions</td>\n",
       "      <td>[0.99, 0.01, 0.0, 0.0]</td>\n",
       "      <td>0 conversions</td>\n",
       "      <td>[0.98, 0.02, 0.0, 0.0]</td>\n",
       "    </tr>\n",
       "  </tbody>\n",
       "</table>\n",
       "</div>"
      ],
      "text/plain": [
       "    pred_softmax            prob_softmax   pred_rf_gini  \\\n",
       "0  0 conversions  [0.97, 0.02, 0.0, 0.0]  0 conversions   \n",
       "1  0 conversions  [0.99, 0.01, 0.0, 0.0]  0 conversions   \n",
       "\n",
       "             prob_rf_gini   pred_rf_enpy            prob_rf_enpy  \n",
       "0  [0.92, 0.08, 0.0, 0.0]  0 conversions  [0.95, 0.05, 0.0, 0.0]  \n",
       "1  [0.99, 0.01, 0.0, 0.0]  0 conversions  [0.98, 0.02, 0.0, 0.0]  "
      ]
     },
     "execution_count": 166,
     "metadata": {},
     "output_type": "execute_result"
    }
   ],
   "source": [
    "y_test_sep_df.head(2)"
   ]
  },
  {
   "cell_type": "markdown",
   "metadata": {},
   "source": [
    "### kNN"
   ]
  },
  {
   "cell_type": "code",
   "execution_count": 191,
   "metadata": {},
   "outputs": [],
   "source": [
    "knn = KNeighborsClassifier()\n",
    "\n",
    "param_grid = {\n",
    "    'n_neighbors': [15,21,27]\n",
    "}\n",
    "\n",
    "scorers = {\n",
    "    'precision_score': make_scorer(precision_score,average='micro'),\n",
    "    'recall_score': make_scorer(recall_score,average='micro'),\n",
    "    'accuracy_score': make_scorer(accuracy_score)\n",
    "}"
   ]
  },
  {
   "cell_type": "code",
   "execution_count": 192,
   "metadata": {},
   "outputs": [],
   "source": [
    "# fits a GridSearchCV classifier using refit_score for optimization\n",
    "refit_score='accuracy_score'\n",
    "\n",
    "# prints classifier performance metrics\n",
    "skf = StratifiedKFold(n_splits=10)\n",
    "knn_grid = GridSearchCV(knn, param_grid, scoring=scorers, refit=refit_score,\n",
    "                           cv=skf, return_train_score=True)\n"
   ]
  },
  {
   "cell_type": "code",
   "execution_count": 193,
   "metadata": {},
   "outputs": [
    {
     "data": {
      "text/plain": [
       "GridSearchCV(cv=StratifiedKFold(n_splits=10, random_state=None, shuffle=False),\n",
       "             estimator=KNeighborsClassifier(),\n",
       "             param_grid={'n_neighbors': [15, 21, 27]}, refit='accuracy_score',\n",
       "             return_train_score=True,\n",
       "             scoring={'accuracy_score': make_scorer(accuracy_score),\n",
       "                      'precision_score': make_scorer(precision_score, average=micro),\n",
       "                      'recall_score': make_scorer(recall_score, average=micro)})"
      ]
     },
     "execution_count": 193,
     "metadata": {},
     "output_type": "execute_result"
    }
   ],
   "source": [
    "knn_grid.fit(X_train, y_train)"
   ]
  },
  {
   "cell_type": "code",
   "execution_count": 194,
   "metadata": {},
   "outputs": [
    {
     "name": "stdout",
     "output_type": "stream",
     "text": [
      "Best parameters for accuracy_score:\n",
      "{'n_neighbors': 21}\n",
      "Best score for accuracy_score:\n",
      "0.5711193372836225\n"
     ]
    }
   ],
   "source": [
    "print('Best parameters for {}:'.format(refit_score))\n",
    "print(knn_grid.best_params_)\n",
    "print('Best score for {}:'.format(refit_score))\n",
    "print(knn_grid.best_score_)"
   ]
  },
  {
   "cell_type": "code",
   "execution_count": 195,
   "metadata": {},
   "outputs": [],
   "source": [
    "# Build the model after having the hyperparameters that creates the highest performance:\n",
    "clf_knn = KNeighborsClassifier(n_neighbors=21).fit(X_train, y_train)"
   ]
  },
  {
   "cell_type": "code",
   "execution_count": 196,
   "metadata": {},
   "outputs": [],
   "source": [
    "# make the predictions \n",
    "y_pred_knn = clf_knn.predict(X_test)\n",
    "y_pred_sep_knn = clf_knn.predict(X_sep)\n",
    "\n",
    "# calculate the probabilities \n",
    "y_prob_knn = clf_knn.predict_proba(X_test)\n",
    "y_prob_sep_knn = clf_knn.predict_proba(X_sep)"
   ]
  },
  {
   "cell_type": "code",
   "execution_count": 197,
   "metadata": {},
   "outputs": [
    {
     "data": {
      "image/png": "[encoded data removed]",
      "text/plain": [
       "<Figure size 720x720 with 2 Axes>"
      ]
     },
     "metadata": {},
     "output_type": "display_data"
    }
   ],
   "source": [
    "cnf_matrix = confusion_matrix(y_test, y_pred_knn,labels=label)\n",
    "np.set_printoptions(precision=2)\n",
    "\n",
    "# Plot non-normalized confusion matrix\n",
    "plt.figure(figsize=(10,10))\n",
    "plot_confusion_matrix(cnf_matrix, classes=label,\n",
    "                      title='Confusion Matrix for kNN')"
   ]
  },
  {
   "cell_type": "code",
   "execution_count": 198,
   "metadata": {},
   "outputs": [],
   "source": [
    "# Expending the dataframe with kNN:\n",
    "y_test_df['pred_knn'] = y_pred_knn\n",
    "y_test_df['prob_knn']= np.round(np.array(y_prob_knn),2).tolist()\n",
    "\n",
    "y_test_sep_df['pred_knn'] = y_pred_sep_knn\n",
    "y_test_sep_df['prob_knn'] = np.round(np.array(y_prob_sep_knn),2).tolist()"
   ]
  },
  {
   "cell_type": "code",
   "execution_count": 199,
   "metadata": {},
   "outputs": [
    {
     "data": {
      "text/html": [
       "<div>\n",
       "<style scoped>\n",
       "    .dataframe tbody tr th:only-of-type {\n",
       "        vertical-align: middle;\n",
       "    }\n",
       "\n",
       "    .dataframe tbody tr th {\n",
       "        vertical-align: top;\n",
       "    }\n",
       "\n",
       "    .dataframe thead th {\n",
       "        text-align: right;\n",
       "    }\n",
       "</style>\n",
       "<table border=\"1\" class=\"dataframe\">\n",
       "  <thead>\n",
       "    <tr style=\"text-align: right;\">\n",
       "      <th></th>\n",
       "      <th>labels</th>\n",
       "      <th>pred_softmax</th>\n",
       "      <th>prob_softmax</th>\n",
       "      <th>pred_rf_gini</th>\n",
       "      <th>prob_rf_gini</th>\n",
       "      <th>pred_rf_enpy</th>\n",
       "      <th>prob_rf_enpy</th>\n",
       "      <th>pred_knn</th>\n",
       "      <th>prob_knn</th>\n",
       "    </tr>\n",
       "  </thead>\n",
       "  <tbody>\n",
       "    <tr>\n",
       "      <th>7890</th>\n",
       "      <td>more than 5 conversions</td>\n",
       "      <td>more than 5 conversions</td>\n",
       "      <td>[0.0, 0.11, 0.32, 0.56]</td>\n",
       "      <td>more than 5 conversions</td>\n",
       "      <td>[0.02, 0.04, 0.4, 0.54]</td>\n",
       "      <td>more than 5 conversions</td>\n",
       "      <td>[0.02, 0.03, 0.41, 0.54]</td>\n",
       "      <td>more than 5 conversions</td>\n",
       "      <td>[0.05, 0.1, 0.29, 0.57]</td>\n",
       "    </tr>\n",
       "    <tr>\n",
       "      <th>21440</th>\n",
       "      <td>0 conversions</td>\n",
       "      <td>0 conversions</td>\n",
       "      <td>[0.79, 0.18, 0.03, 0.0]</td>\n",
       "      <td>0 conversions</td>\n",
       "      <td>[0.92, 0.08, 0.0, 0.0]</td>\n",
       "      <td>0 conversions</td>\n",
       "      <td>[0.93, 0.07, 0.0, 0.0]</td>\n",
       "      <td>0 conversions</td>\n",
       "      <td>[0.86, 0.05, 0.1, 0.0]</td>\n",
       "    </tr>\n",
       "  </tbody>\n",
       "</table>\n",
       "</div>"
      ],
      "text/plain": [
       "                        labels             pred_softmax  \\\n",
       "7890   more than 5 conversions  more than 5 conversions   \n",
       "21440            0 conversions            0 conversions   \n",
       "\n",
       "                  prob_softmax             pred_rf_gini  \\\n",
       "7890   [0.0, 0.11, 0.32, 0.56]  more than 5 conversions   \n",
       "21440  [0.79, 0.18, 0.03, 0.0]            0 conversions   \n",
       "\n",
       "                  prob_rf_gini             pred_rf_enpy  \\\n",
       "7890   [0.02, 0.04, 0.4, 0.54]  more than 5 conversions   \n",
       "21440   [0.92, 0.08, 0.0, 0.0]            0 conversions   \n",
       "\n",
       "                   prob_rf_enpy                 pred_knn  \\\n",
       "7890   [0.02, 0.03, 0.41, 0.54]  more than 5 conversions   \n",
       "21440    [0.93, 0.07, 0.0, 0.0]            0 conversions   \n",
       "\n",
       "                      prob_knn  \n",
       "7890   [0.05, 0.1, 0.29, 0.57]  \n",
       "21440   [0.86, 0.05, 0.1, 0.0]  "
      ]
     },
     "execution_count": 199,
     "metadata": {},
     "output_type": "execute_result"
    }
   ],
   "source": [
    "y_test_df.head(2)"
   ]
  },
  {
   "cell_type": "code",
   "execution_count": 200,
   "metadata": {},
   "outputs": [
    {
     "data": {
      "text/html": [
       "<div>\n",
       "<style scoped>\n",
       "    .dataframe tbody tr th:only-of-type {\n",
       "        vertical-align: middle;\n",
       "    }\n",
       "\n",
       "    .dataframe tbody tr th {\n",
       "        vertical-align: top;\n",
       "    }\n",
       "\n",
       "    .dataframe thead th {\n",
       "        text-align: right;\n",
       "    }\n",
       "</style>\n",
       "<table border=\"1\" class=\"dataframe\">\n",
       "  <thead>\n",
       "    <tr style=\"text-align: right;\">\n",
       "      <th></th>\n",
       "      <th>pred_softmax</th>\n",
       "      <th>prob_softmax</th>\n",
       "      <th>pred_rf_gini</th>\n",
       "      <th>prob_rf_gini</th>\n",
       "      <th>pred_rf_enpy</th>\n",
       "      <th>prob_rf_enpy</th>\n",
       "      <th>pred_knn</th>\n",
       "      <th>prob_knn</th>\n",
       "    </tr>\n",
       "  </thead>\n",
       "  <tbody>\n",
       "    <tr>\n",
       "      <th>0</th>\n",
       "      <td>0 conversions</td>\n",
       "      <td>[0.97, 0.02, 0.0, 0.0]</td>\n",
       "      <td>0 conversions</td>\n",
       "      <td>[0.92, 0.08, 0.0, 0.0]</td>\n",
       "      <td>0 conversions</td>\n",
       "      <td>[0.95, 0.05, 0.0, 0.0]</td>\n",
       "      <td>0 conversions</td>\n",
       "      <td>[0.57, 0.38, 0.0, 0.05]</td>\n",
       "    </tr>\n",
       "    <tr>\n",
       "      <th>1</th>\n",
       "      <td>0 conversions</td>\n",
       "      <td>[0.99, 0.01, 0.0, 0.0]</td>\n",
       "      <td>0 conversions</td>\n",
       "      <td>[0.99, 0.01, 0.0, 0.0]</td>\n",
       "      <td>0 conversions</td>\n",
       "      <td>[0.98, 0.02, 0.0, 0.0]</td>\n",
       "      <td>0 conversions</td>\n",
       "      <td>[0.95, 0.05, 0.0, 0.0]</td>\n",
       "    </tr>\n",
       "  </tbody>\n",
       "</table>\n",
       "</div>"
      ],
      "text/plain": [
       "    pred_softmax            prob_softmax   pred_rf_gini  \\\n",
       "0  0 conversions  [0.97, 0.02, 0.0, 0.0]  0 conversions   \n",
       "1  0 conversions  [0.99, 0.01, 0.0, 0.0]  0 conversions   \n",
       "\n",
       "             prob_rf_gini   pred_rf_enpy            prob_rf_enpy  \\\n",
       "0  [0.92, 0.08, 0.0, 0.0]  0 conversions  [0.95, 0.05, 0.0, 0.0]   \n",
       "1  [0.99, 0.01, 0.0, 0.0]  0 conversions  [0.98, 0.02, 0.0, 0.0]   \n",
       "\n",
       "        pred_knn                 prob_knn  \n",
       "0  0 conversions  [0.57, 0.38, 0.0, 0.05]  \n",
       "1  0 conversions   [0.95, 0.05, 0.0, 0.0]  "
      ]
     },
     "execution_count": 200,
     "metadata": {},
     "output_type": "execute_result"
    }
   ],
   "source": [
    "y_test_sep_df.head(2)"
   ]
  },
  {
   "cell_type": "markdown",
   "metadata": {},
   "source": [
    "### Support Vector Machine"
   ]
  },
  {
   "cell_type": "code",
   "execution_count": 211,
   "metadata": {},
   "outputs": [],
   "source": [
    "svm = SVC(decision_function_shape='ovo', # for multiclass\n",
    "          random_state = 42,\n",
    "          kernel='rbf')\n",
    "\n",
    "param_grid = {\n",
    "    'gamma': [0.01,0.05,0.1]\n",
    "}\n",
    "\n",
    "scorers = {\n",
    "    'precision_score': make_scorer(precision_score,average='micro'),\n",
    "    'recall_score': make_scorer(recall_score,average='micro'),\n",
    "    'accuracy_score': make_scorer(accuracy_score)\n",
    "}"
   ]
  },
  {
   "cell_type": "code",
   "execution_count": 212,
   "metadata": {},
   "outputs": [],
   "source": [
    "# fits a GridSearchCV classifier using refit_score for optimization\n",
    "refit_score='precision_score'\n",
    "\n",
    "# prints classifier performance metrics\n",
    "skf = StratifiedKFold(n_splits=10)\n",
    "svm_grid = GridSearchCV(svm, param_grid, scoring=scorers, refit=refit_score,\n",
    "                           cv=skf, return_train_score=True)\n"
   ]
  },
  {
   "cell_type": "code",
   "execution_count": 213,
   "metadata": {},
   "outputs": [
    {
     "data": {
      "text/plain": [
       "GridSearchCV(cv=StratifiedKFold(n_splits=10, random_state=None, shuffle=False),\n",
       "             estimator=SVC(decision_function_shape='ovo', random_state=42),\n",
       "             param_grid={'gamma': [0.01, 0.05, 0.1]}, refit='precision_score',\n",
       "             return_train_score=True,\n",
       "             scoring={'accuracy_score': make_scorer(accuracy_score),\n",
       "                      'precision_score': make_scorer(precision_score, average=micro),\n",
       "                      'recall_score': make_scorer(recall_score, average=micro)})"
      ]
     },
     "execution_count": 213,
     "metadata": {},
     "output_type": "execute_result"
    }
   ],
   "source": [
    "svm_grid.fit(X_train, y_train)"
   ]
  },
  {
   "cell_type": "code",
   "execution_count": 214,
   "metadata": {},
   "outputs": [
    {
     "name": "stdout",
     "output_type": "stream",
     "text": [
      "Best parameters for precision_score:\n",
      "{'gamma': 0.1}\n",
      "Best score for precision_score:\n",
      "0.5817331857369533\n"
     ]
    }
   ],
   "source": [
    "print('Best parameters for {}:'.format(refit_score))\n",
    "print(svm_grid.best_params_)\n",
    "print('Best score for {}:'.format(refit_score))\n",
    "print(svm_grid.best_score_)"
   ]
  },
  {
   "cell_type": "code",
   "execution_count": 217,
   "metadata": {},
   "outputs": [],
   "source": [
    "# Build the model after having the hyperparameters that creates the highest performance:\n",
    "clf_svm = SVC(random_state=42,\n",
    "              kernel='rbf', \n",
    "              decision_function_shape='ovo',\n",
    "              gamma = 0.1, probability=True).fit(X_train, y_train)"
   ]
  },
  {
   "cell_type": "code",
   "execution_count": 218,
   "metadata": {},
   "outputs": [],
   "source": [
    "# make the predictions \n",
    "y_pred_svm = clf_svm.predict(X_test)\n",
    "y_pred_sep_svm = clf_svm.predict(X_sep)\n",
    "\n",
    "# calculate the probabilities\n",
    "y_prob_svm = clf_svm.predict_proba(X_test,)\n",
    "y_prob_sep_svm = clf_svm.predict_proba(X_sep)"
   ]
  },
  {
   "cell_type": "code",
   "execution_count": 219,
   "metadata": {},
   "outputs": [
    {
     "data": {
      "image/png": "[encoded data removed]",
      "text/plain": [
       "<Figure size 720x720 with 2 Axes>"
      ]
     },
     "metadata": {},
     "output_type": "display_data"
    }
   ],
   "source": [
    "cnf_matrix = confusion_matrix(y_test, y_pred_svm,labels=label)\n",
    "np.set_printoptions(precision=2)\n",
    "\n",
    "# Plot non-normalized confusion matrix\n",
    "plt.figure(figsize=(10,10))\n",
    "plot_confusion_matrix(cnf_matrix, classes=label,\n",
    "                      title='Confusion Matrix for SVM')"
   ]
  },
  {
   "cell_type": "code",
   "execution_count": 220,
   "metadata": {},
   "outputs": [],
   "source": [
    "# Expending the dataframe with kNN:\n",
    "y_test_df['pred_svm'] = y_pred_svm\n",
    "y_test_df['prob_svm']= np.round(np.array(y_prob_svm),2).tolist()\n",
    "\n",
    "y_test_sep_df['pred_svm'] = y_pred_sep_svm\n",
    "y_test_sep_df['prob_svm'] = np.round(np.array(y_prob_sep_svm),2).tolist()"
   ]
  },
  {
   "cell_type": "code",
   "execution_count": 221,
   "metadata": {},
   "outputs": [
    {
     "data": {
      "text/html": [
       "<div>\n",
       "<style scoped>\n",
       "    .dataframe tbody tr th:only-of-type {\n",
       "        vertical-align: middle;\n",
       "    }\n",
       "\n",
       "    .dataframe tbody tr th {\n",
       "        vertical-align: top;\n",
       "    }\n",
       "\n",
       "    .dataframe thead th {\n",
       "        text-align: right;\n",
       "    }\n",
       "</style>\n",
       "<table border=\"1\" class=\"dataframe\">\n",
       "  <thead>\n",
       "    <tr style=\"text-align: right;\">\n",
       "      <th></th>\n",
       "      <th>labels</th>\n",
       "      <th>pred_softmax</th>\n",
       "      <th>prob_softmax</th>\n",
       "      <th>pred_rf_gini</th>\n",
       "      <th>prob_rf_gini</th>\n",
       "      <th>pred_rf_enpy</th>\n",
       "      <th>prob_rf_enpy</th>\n",
       "      <th>pred_knn</th>\n",
       "      <th>prob_knn</th>\n",
       "      <th>pred_svm</th>\n",
       "      <th>prob_svm</th>\n",
       "    </tr>\n",
       "  </thead>\n",
       "  <tbody>\n",
       "    <tr>\n",
       "      <th>7890</th>\n",
       "      <td>more than 5 conversions</td>\n",
       "      <td>more than 5 conversions</td>\n",
       "      <td>[0.0, 0.11, 0.32, 0.56]</td>\n",
       "      <td>more than 5 conversions</td>\n",
       "      <td>[0.02, 0.04, 0.4, 0.54]</td>\n",
       "      <td>more than 5 conversions</td>\n",
       "      <td>[0.02, 0.03, 0.41, 0.54]</td>\n",
       "      <td>more than 5 conversions</td>\n",
       "      <td>[0.05, 0.1, 0.29, 0.57]</td>\n",
       "      <td>more than 5 conversions</td>\n",
       "      <td>[0.01, 0.03, 0.18, 0.79]</td>\n",
       "    </tr>\n",
       "    <tr>\n",
       "      <th>21440</th>\n",
       "      <td>0 conversions</td>\n",
       "      <td>0 conversions</td>\n",
       "      <td>[0.79, 0.18, 0.03, 0.0]</td>\n",
       "      <td>0 conversions</td>\n",
       "      <td>[0.92, 0.08, 0.0, 0.0]</td>\n",
       "      <td>0 conversions</td>\n",
       "      <td>[0.93, 0.07, 0.0, 0.0]</td>\n",
       "      <td>0 conversions</td>\n",
       "      <td>[0.86, 0.05, 0.1, 0.0]</td>\n",
       "      <td>0 conversions</td>\n",
       "      <td>[0.78, 0.15, 0.06, 0.01]</td>\n",
       "    </tr>\n",
       "  </tbody>\n",
       "</table>\n",
       "</div>"
      ],
      "text/plain": [
       "                        labels             pred_softmax  \\\n",
       "7890   more than 5 conversions  more than 5 conversions   \n",
       "21440            0 conversions            0 conversions   \n",
       "\n",
       "                  prob_softmax             pred_rf_gini  \\\n",
       "7890   [0.0, 0.11, 0.32, 0.56]  more than 5 conversions   \n",
       "21440  [0.79, 0.18, 0.03, 0.0]            0 conversions   \n",
       "\n",
       "                  prob_rf_gini             pred_rf_enpy  \\\n",
       "7890   [0.02, 0.04, 0.4, 0.54]  more than 5 conversions   \n",
       "21440   [0.92, 0.08, 0.0, 0.0]            0 conversions   \n",
       "\n",
       "                   prob_rf_enpy                 pred_knn  \\\n",
       "7890   [0.02, 0.03, 0.41, 0.54]  more than 5 conversions   \n",
       "21440    [0.93, 0.07, 0.0, 0.0]            0 conversions   \n",
       "\n",
       "                      prob_knn                 pred_svm  \\\n",
       "7890   [0.05, 0.1, 0.29, 0.57]  more than 5 conversions   \n",
       "21440   [0.86, 0.05, 0.1, 0.0]            0 conversions   \n",
       "\n",
       "                       prob_svm  \n",
       "7890   [0.01, 0.03, 0.18, 0.79]  \n",
       "21440  [0.78, 0.15, 0.06, 0.01]  "
      ]
     },
     "execution_count": 221,
     "metadata": {},
     "output_type": "execute_result"
    }
   ],
   "source": [
    "y_test_df.head(2)"
   ]
  },
  {
   "cell_type": "code",
   "execution_count": 222,
   "metadata": {},
   "outputs": [
    {
     "data": {
      "text/html": [
       "<div>\n",
       "<style scoped>\n",
       "    .dataframe tbody tr th:only-of-type {\n",
       "        vertical-align: middle;\n",
       "    }\n",
       "\n",
       "    .dataframe tbody tr th {\n",
       "        vertical-align: top;\n",
       "    }\n",
       "\n",
       "    .dataframe thead th {\n",
       "        text-align: right;\n",
       "    }\n",
       "</style>\n",
       "<table border=\"1\" class=\"dataframe\">\n",
       "  <thead>\n",
       "    <tr style=\"text-align: right;\">\n",
       "      <th></th>\n",
       "      <th>pred_softmax</th>\n",
       "      <th>prob_softmax</th>\n",
       "      <th>pred_rf_gini</th>\n",
       "      <th>prob_rf_gini</th>\n",
       "      <th>pred_rf_enpy</th>\n",
       "      <th>prob_rf_enpy</th>\n",
       "      <th>pred_knn</th>\n",
       "      <th>prob_knn</th>\n",
       "      <th>pred_svm</th>\n",
       "      <th>prob_svm</th>\n",
       "    </tr>\n",
       "  </thead>\n",
       "  <tbody>\n",
       "    <tr>\n",
       "      <th>0</th>\n",
       "      <td>0 conversions</td>\n",
       "      <td>[0.97, 0.02, 0.0, 0.0]</td>\n",
       "      <td>0 conversions</td>\n",
       "      <td>[0.92, 0.08, 0.0, 0.0]</td>\n",
       "      <td>0 conversions</td>\n",
       "      <td>[0.95, 0.05, 0.0, 0.0]</td>\n",
       "      <td>0 conversions</td>\n",
       "      <td>[0.57, 0.38, 0.0, 0.05]</td>\n",
       "      <td>0 conversions</td>\n",
       "      <td>[0.78, 0.18, 0.02, 0.01]</td>\n",
       "    </tr>\n",
       "    <tr>\n",
       "      <th>1</th>\n",
       "      <td>0 conversions</td>\n",
       "      <td>[0.99, 0.01, 0.0, 0.0]</td>\n",
       "      <td>0 conversions</td>\n",
       "      <td>[0.99, 0.01, 0.0, 0.0]</td>\n",
       "      <td>0 conversions</td>\n",
       "      <td>[0.98, 0.02, 0.0, 0.0]</td>\n",
       "      <td>0 conversions</td>\n",
       "      <td>[0.95, 0.05, 0.0, 0.0]</td>\n",
       "      <td>0 conversions</td>\n",
       "      <td>[0.84, 0.14, 0.01, 0.01]</td>\n",
       "    </tr>\n",
       "  </tbody>\n",
       "</table>\n",
       "</div>"
      ],
      "text/plain": [
       "    pred_softmax            prob_softmax   pred_rf_gini  \\\n",
       "0  0 conversions  [0.97, 0.02, 0.0, 0.0]  0 conversions   \n",
       "1  0 conversions  [0.99, 0.01, 0.0, 0.0]  0 conversions   \n",
       "\n",
       "             prob_rf_gini   pred_rf_enpy            prob_rf_enpy  \\\n",
       "0  [0.92, 0.08, 0.0, 0.0]  0 conversions  [0.95, 0.05, 0.0, 0.0]   \n",
       "1  [0.99, 0.01, 0.0, 0.0]  0 conversions  [0.98, 0.02, 0.0, 0.0]   \n",
       "\n",
       "        pred_knn                 prob_knn       pred_svm  \\\n",
       "0  0 conversions  [0.57, 0.38, 0.0, 0.05]  0 conversions   \n",
       "1  0 conversions   [0.95, 0.05, 0.0, 0.0]  0 conversions   \n",
       "\n",
       "                   prob_svm  \n",
       "0  [0.78, 0.18, 0.02, 0.01]  \n",
       "1  [0.84, 0.14, 0.01, 0.01]  "
      ]
     },
     "execution_count": 222,
     "metadata": {},
     "output_type": "execute_result"
    }
   ],
   "source": [
    "y_test_sep_df.head(2)"
   ]
  },
  {
   "cell_type": "markdown",
   "metadata": {},
   "source": [
    "### XGBoost"
   ]
  },
  {
   "cell_type": "code",
   "execution_count": 234,
   "metadata": {},
   "outputs": [],
   "source": [
    "xgb = XGBClassifier()\n",
    "\n",
    "param_grid = {\n",
    "    'n_estimators':[50, 100, 150, 200],\n",
    "    'max_depth':[2, 4, 6, 8]\n",
    "}\n",
    "\n",
    "scorers = {\n",
    "    'precision_score': make_scorer(precision_score,average='micro'),\n",
    "    'recall_score': make_scorer(recall_score,average='micro'),\n",
    "    'accuracy_score': make_scorer(accuracy_score)\n",
    "}"
   ]
  },
  {
   "cell_type": "code",
   "execution_count": 238,
   "metadata": {},
   "outputs": [],
   "source": [
    "# fits a GridSearchCV classifier using refit_score for optimization\n",
    "refit_score='precision_score'\n",
    "\n",
    "# prints classifier performance metrics\n",
    "skf = StratifiedKFold(n_splits=10, shuffle=True, random_state=7)\n",
    "xgb_grid = GridSearchCV(xgb, param_grid, scoring='neg_log_loss',\n",
    "                           cv=skf, n_jobs=-1, verbose=1)\n"
   ]
  },
  {
   "cell_type": "code",
   "execution_count": 240,
   "metadata": {},
   "outputs": [
    {
     "name": "stdout",
     "output_type": "stream",
     "text": [
      "Fitting 10 folds for each of 16 candidates, totalling 160 fits\n"
     ]
    },
    {
     "name": "stderr",
     "output_type": "stream",
     "text": [
      "[Parallel(n_jobs=-1)]: Using backend LokyBackend with 8 concurrent workers.\n",
      "[Parallel(n_jobs=-1)]: Done  34 tasks      | elapsed:   45.5s\n",
      "[Parallel(n_jobs=-1)]: Done 160 out of 160 | elapsed:  7.7min finished\n"
     ]
    }
   ],
   "source": [
    "xgb_results = xgb_grid.fit(X_train, y_train)"
   ]
  },
  {
   "cell_type": "code",
   "execution_count": 248,
   "metadata": {
    "scrolled": false
   },
   "outputs": [
    {
     "name": "stdout",
     "output_type": "stream",
     "text": [
      "Best: -0.888760 using {'max_depth': 6, 'n_estimators': 50}\n",
      "-0.932236 (0.010346) with: {'max_depth': 2, 'n_estimators': 50}\n",
      "-0.915413 (0.011710) with: {'max_depth': 2, 'n_estimators': 100}\n",
      "-0.908726 (0.012274) with: {'max_depth': 2, 'n_estimators': 150}\n",
      "-0.906103 (0.012636) with: {'max_depth': 2, 'n_estimators': 200}\n",
      "-0.896481 (0.014016) with: {'max_depth': 4, 'n_estimators': 50}\n",
      "-0.889654 (0.016394) with: {'max_depth': 4, 'n_estimators': 100}\n",
      "-0.891352 (0.016328) with: {'max_depth': 4, 'n_estimators': 150}\n",
      "-0.896667 (0.015729) with: {'max_depth': 4, 'n_estimators': 200}\n",
      "-0.888760 (0.014790) with: {'max_depth': 6, 'n_estimators': 50}\n",
      "-0.901144 (0.016027) with: {'max_depth': 6, 'n_estimators': 100}\n",
      "-0.917259 (0.017107) with: {'max_depth': 6, 'n_estimators': 150}\n",
      "-0.932054 (0.019021) with: {'max_depth': 6, 'n_estimators': 200}\n",
      "-0.904710 (0.017696) with: {'max_depth': 8, 'n_estimators': 50}\n",
      "-0.934374 (0.020382) with: {'max_depth': 8, 'n_estimators': 100}\n",
      "-0.963090 (0.022526) with: {'max_depth': 8, 'n_estimators': 150}\n",
      "-0.991353 (0.023845) with: {'max_depth': 8, 'n_estimators': 200}\n"
     ]
    },
    {
     "data": {
      "text/plain": [
       "Text(0, 0.5, 'Log Loss')"
      ]
     },
     "execution_count": 248,
     "metadata": {},
     "output_type": "execute_result"
    },
    {
     "data": {
      "image/png": "[encoded data removed]",
      "text/plain": [
       "<Figure size 1440x864 with 1 Axes>"
      ]
     },
     "metadata": {},
     "output_type": "display_data"
    }
   ],
   "source": [
    "plt.figure(figsize=(20,12))\n",
    "# summarize results\n",
    "print(\"Best: %f using %s\" % (xgb_results.best_score_, xgb_results.best_params_))\n",
    "means = xgb_results.cv_results_['mean_test_score']\n",
    "stds = xgb_results.cv_results_['std_test_score']\n",
    "params = xgb_results.cv_results_['params']\n",
    "for mean, stdev, param in zip(means, stds, params):\n",
    "    print(\"%f (%f) with: %r\" % (mean, stdev, param))\n",
    "    \n",
    "# plot results\n",
    "n_estimators = [50, 100, 150, 200]\n",
    "max_depth = [2, 4, 6, 8]\n",
    "\n",
    "scores = np.array(means).reshape(len(max_depth), len(n_estimators))\n",
    "for i, value in enumerate(max_depth):\n",
    "    plt.plot(n_estimators, scores[i], label='depth: ' + str(value))\n",
    "    \n",
    "plt.legend()\n",
    "plt.xlabel('n_estimators')\n",
    "plt.ylabel('Log Loss')"
   ]
  },
  {
   "cell_type": "markdown",
   "metadata": {},
   "source": [
    "As we can see above, we had a very strong model but let's tune the hyperparameters once again to create even a more stronger model."
   ]
  },
  {
   "cell_type": "code",
   "execution_count": 249,
   "metadata": {},
   "outputs": [],
   "source": [
    "xgb = XGBClassifier()\n",
    "\n",
    "param_grid = {'n_estimators':[35,40,50],'max_depth':[5,6,7]}"
   ]
  },
  {
   "cell_type": "code",
   "execution_count": 250,
   "metadata": {},
   "outputs": [],
   "source": [
    "# fits a GridSearchCV classifier using refit_score for optimization\n",
    "refit_score='precision_score'\n",
    "\n",
    "# prints classifier performance metrics\n",
    "skf = StratifiedKFold(n_splits=10, shuffle=True, random_state=7)\n",
    "xgb_grid = GridSearchCV(xgb, param_grid, scoring='neg_log_loss',\n",
    "                           cv=skf, n_jobs=-1, verbose=1)\n"
   ]
  },
  {
   "cell_type": "code",
   "execution_count": 251,
   "metadata": {},
   "outputs": [
    {
     "name": "stdout",
     "output_type": "stream",
     "text": [
      "Fitting 10 folds for each of 9 candidates, totalling 90 fits\n"
     ]
    },
    {
     "name": "stderr",
     "output_type": "stream",
     "text": [
      "[Parallel(n_jobs=-1)]: Using backend LokyBackend with 8 concurrent workers.\n",
      "[Parallel(n_jobs=-1)]: Done  34 tasks      | elapsed:   39.1s\n",
      "[Parallel(n_jobs=-1)]: Done  90 out of  90 | elapsed:  1.7min finished\n"
     ]
    }
   ],
   "source": [
    "xgb_results = xgb_grid.fit(X_train, y_train)"
   ]
  },
  {
   "cell_type": "code",
   "execution_count": 253,
   "metadata": {},
   "outputs": [
    {
     "name": "stdout",
     "output_type": "stream",
     "text": [
      "Best: -0.888759 using {'max_depth': 5, 'n_estimators': 50}\n",
      "-0.891876 (0.013411) with: {'max_depth': 5, 'n_estimators': 35}\n",
      "-0.890329 (0.013553) with: {'max_depth': 5, 'n_estimators': 40}\n",
      "-0.888759 (0.012722) with: {'max_depth': 5, 'n_estimators': 50}\n",
      "-0.889110 (0.014206) with: {'max_depth': 6, 'n_estimators': 35}\n",
      "-0.888916 (0.014055) with: {'max_depth': 6, 'n_estimators': 40}\n",
      "-0.888760 (0.014790) with: {'max_depth': 6, 'n_estimators': 50}\n",
      "-0.891305 (0.016721) with: {'max_depth': 7, 'n_estimators': 35}\n",
      "-0.891915 (0.016888) with: {'max_depth': 7, 'n_estimators': 40}\n",
      "-0.895125 (0.017422) with: {'max_depth': 7, 'n_estimators': 50}\n"
     ]
    },
    {
     "data": {
      "text/plain": [
       "Text(0, 0.5, 'Log Loss')"
      ]
     },
     "execution_count": 253,
     "metadata": {},
     "output_type": "execute_result"
    },
    {
     "data": {
      "image/png": "[encoded data removed]",
      "text/plain": [
       "<Figure size 1440x864 with 1 Axes>"
      ]
     },
     "metadata": {},
     "output_type": "display_data"
    }
   ],
   "source": [
    "plt.figure(figsize=(20,12))\n",
    "# summarize results\n",
    "print(\"Best: %f using %s\" % (xgb_results.best_score_, xgb_results.best_params_))\n",
    "means = xgb_results.cv_results_['mean_test_score']\n",
    "stds = xgb_results.cv_results_['std_test_score']\n",
    "params = xgb_results.cv_results_['params']\n",
    "for mean, stdev, param in zip(means, stds, params):\n",
    "    print(\"%f (%f) with: %r\" % (mean, stdev, param))\n",
    "    \n",
    "# plot results\n",
    "n_estimators = [35,40,50]\n",
    "max_depth = [5,6,7]\n",
    "\n",
    "scores = np.array(means).reshape(len(max_depth), len(n_estimators))\n",
    "for i, value in enumerate(max_depth):\n",
    "    plt.plot(n_estimators, scores[i], label='depth: ' + str(value))\n",
    "    \n",
    "plt.legend()\n",
    "plt.xlabel('n_estimators')\n",
    "plt.ylabel('Log Loss')"
   ]
  },
  {
   "cell_type": "code",
   "execution_count": 254,
   "metadata": {},
   "outputs": [],
   "source": [
    "xgb = XGBClassifier(max_depth=5, n_estimators=50).fit(X_train,y_train)"
   ]
  },
  {
   "cell_type": "code",
   "execution_count": 255,
   "metadata": {},
   "outputs": [],
   "source": [
    "# make the predictions \n",
    "y_pred_xgb = xgb.predict(X_test)\n",
    "y_pred_sep_xgb = xgb.predict(X_sep)\n",
    "\n",
    "# calculate the probabilities \n",
    "y_prob_xgb = xgb.predict_proba(X_test)\n",
    "y_prob_sep_xgb = xgb.predict_proba(X_sep)"
   ]
  },
  {
   "cell_type": "code",
   "execution_count": 256,
   "metadata": {},
   "outputs": [
    {
     "data": {
      "image/png": "[encoded data removed]",
      "text/plain": [
       "<Figure size 720x720 with 2 Axes>"
      ]
     },
     "metadata": {},
     "output_type": "display_data"
    }
   ],
   "source": [
    "cnf_matrix = confusion_matrix(y_test, y_pred_xgb,labels=label)\n",
    "np.set_printoptions(precision=2)\n",
    "\n",
    "# Plot non-normalized confusion matrix\n",
    "plt.figure(figsize=(10,10))\n",
    "plot_confusion_matrix(cnf_matrix, classes=label,\n",
    "                      title='Confusion Matrix for XGBoost')"
   ]
  },
  {
   "cell_type": "code",
   "execution_count": 257,
   "metadata": {},
   "outputs": [],
   "source": [
    "# Expending the dataframe with kNN:\n",
    "# For Random Forest with Entropy:\n",
    "y_test_df['pred_xgb'] = y_pred_xgb\n",
    "y_test_df['prob_xgb']= np.round(np.array(y_prob_xgb),2).tolist()\n",
    "\n",
    "y_test_sep_df['pred_xgb'] = y_pred_sep_xgb\n",
    "y_test_sep_df['prob_xgb'] = np.round(np.array(y_prob_sep_xgb),2).tolist()"
   ]
  },
  {
   "cell_type": "code",
   "execution_count": 258,
   "metadata": {},
   "outputs": [
    {
     "data": {
      "text/html": [
       "<div>\n",
       "<style scoped>\n",
       "    .dataframe tbody tr th:only-of-type {\n",
       "        vertical-align: middle;\n",
       "    }\n",
       "\n",
       "    .dataframe tbody tr th {\n",
       "        vertical-align: top;\n",
       "    }\n",
       "\n",
       "    .dataframe thead th {\n",
       "        text-align: right;\n",
       "    }\n",
       "</style>\n",
       "<table border=\"1\" class=\"dataframe\">\n",
       "  <thead>\n",
       "    <tr style=\"text-align: right;\">\n",
       "      <th></th>\n",
       "      <th>labels</th>\n",
       "      <th>pred_softmax</th>\n",
       "      <th>prob_softmax</th>\n",
       "      <th>pred_rf_gini</th>\n",
       "      <th>prob_rf_gini</th>\n",
       "      <th>pred_rf_enpy</th>\n",
       "      <th>prob_rf_enpy</th>\n",
       "      <th>pred_knn</th>\n",
       "      <th>prob_knn</th>\n",
       "      <th>pred_svm</th>\n",
       "      <th>prob_svm</th>\n",
       "      <th>pred_xgb</th>\n",
       "      <th>prob_xgb</th>\n",
       "    </tr>\n",
       "  </thead>\n",
       "  <tbody>\n",
       "    <tr>\n",
       "      <th>7890</th>\n",
       "      <td>more than 5 conversions</td>\n",
       "      <td>more than 5 conversions</td>\n",
       "      <td>[0.0, 0.11, 0.32, 0.56]</td>\n",
       "      <td>more than 5 conversions</td>\n",
       "      <td>[0.02, 0.04, 0.4, 0.54]</td>\n",
       "      <td>more than 5 conversions</td>\n",
       "      <td>[0.02, 0.03, 0.41, 0.54]</td>\n",
       "      <td>more than 5 conversions</td>\n",
       "      <td>[0.05, 0.1, 0.29, 0.57]</td>\n",
       "      <td>more than 5 conversions</td>\n",
       "      <td>[0.01, 0.03, 0.18, 0.79]</td>\n",
       "      <td>more than 5 conversions</td>\n",
       "      <td>[0.009999999776482582, 0.03999999910593033, 0....</td>\n",
       "    </tr>\n",
       "    <tr>\n",
       "      <th>21440</th>\n",
       "      <td>0 conversions</td>\n",
       "      <td>0 conversions</td>\n",
       "      <td>[0.79, 0.18, 0.03, 0.0]</td>\n",
       "      <td>0 conversions</td>\n",
       "      <td>[0.92, 0.08, 0.0, 0.0]</td>\n",
       "      <td>0 conversions</td>\n",
       "      <td>[0.93, 0.07, 0.0, 0.0]</td>\n",
       "      <td>0 conversions</td>\n",
       "      <td>[0.86, 0.05, 0.1, 0.0]</td>\n",
       "      <td>0 conversions</td>\n",
       "      <td>[0.78, 0.15, 0.06, 0.01]</td>\n",
       "      <td>0 conversions</td>\n",
       "      <td>[0.8600000143051147, 0.11999999731779099, 0.00...</td>\n",
       "    </tr>\n",
       "  </tbody>\n",
       "</table>\n",
       "</div>"
      ],
      "text/plain": [
       "                        labels             pred_softmax  \\\n",
       "7890   more than 5 conversions  more than 5 conversions   \n",
       "21440            0 conversions            0 conversions   \n",
       "\n",
       "                  prob_softmax             pred_rf_gini  \\\n",
       "7890   [0.0, 0.11, 0.32, 0.56]  more than 5 conversions   \n",
       "21440  [0.79, 0.18, 0.03, 0.0]            0 conversions   \n",
       "\n",
       "                  prob_rf_gini             pred_rf_enpy  \\\n",
       "7890   [0.02, 0.04, 0.4, 0.54]  more than 5 conversions   \n",
       "21440   [0.92, 0.08, 0.0, 0.0]            0 conversions   \n",
       "\n",
       "                   prob_rf_enpy                 pred_knn  \\\n",
       "7890   [0.02, 0.03, 0.41, 0.54]  more than 5 conversions   \n",
       "21440    [0.93, 0.07, 0.0, 0.0]            0 conversions   \n",
       "\n",
       "                      prob_knn                 pred_svm  \\\n",
       "7890   [0.05, 0.1, 0.29, 0.57]  more than 5 conversions   \n",
       "21440   [0.86, 0.05, 0.1, 0.0]            0 conversions   \n",
       "\n",
       "                       prob_svm                 pred_xgb  \\\n",
       "7890   [0.01, 0.03, 0.18, 0.79]  more than 5 conversions   \n",
       "21440  [0.78, 0.15, 0.06, 0.01]            0 conversions   \n",
       "\n",
       "                                                prob_xgb  \n",
       "7890   [0.009999999776482582, 0.03999999910593033, 0....  \n",
       "21440  [0.8600000143051147, 0.11999999731779099, 0.00...  "
      ]
     },
     "execution_count": 258,
     "metadata": {},
     "output_type": "execute_result"
    }
   ],
   "source": [
    "y_test_df.head(2)"
   ]
  },
  {
   "cell_type": "code",
   "execution_count": 269,
   "metadata": {},
   "outputs": [
    {
     "data": {
      "text/html": [
       "<div>\n",
       "<style scoped>\n",
       "    .dataframe tbody tr th:only-of-type {\n",
       "        vertical-align: middle;\n",
       "    }\n",
       "\n",
       "    .dataframe tbody tr th {\n",
       "        vertical-align: top;\n",
       "    }\n",
       "\n",
       "    .dataframe thead th {\n",
       "        text-align: right;\n",
       "    }\n",
       "</style>\n",
       "<table border=\"1\" class=\"dataframe\">\n",
       "  <thead>\n",
       "    <tr style=\"text-align: right;\">\n",
       "      <th></th>\n",
       "      <th>pred_softmax</th>\n",
       "      <th>prob_softmax</th>\n",
       "      <th>pred_rf_gini</th>\n",
       "      <th>prob_rf_gini</th>\n",
       "      <th>pred_rf_enpy</th>\n",
       "      <th>prob_rf_enpy</th>\n",
       "      <th>pred_knn</th>\n",
       "      <th>prob_knn</th>\n",
       "      <th>pred_svm</th>\n",
       "      <th>prob_svm</th>\n",
       "      <th>pred_xgb</th>\n",
       "      <th>prob_xgb</th>\n",
       "    </tr>\n",
       "  </thead>\n",
       "  <tbody>\n",
       "    <tr>\n",
       "      <th>0</th>\n",
       "      <td>0 conversions</td>\n",
       "      <td>[0.97, 0.02, 0.0, 0.0]</td>\n",
       "      <td>0 conversions</td>\n",
       "      <td>[0.92, 0.08, 0.0, 0.0]</td>\n",
       "      <td>0 conversions</td>\n",
       "      <td>[0.95, 0.05, 0.0, 0.0]</td>\n",
       "      <td>0 conversions</td>\n",
       "      <td>[0.57, 0.38, 0.0, 0.05]</td>\n",
       "      <td>0 conversions</td>\n",
       "      <td>[0.78, 0.18, 0.02, 0.01]</td>\n",
       "      <td>0 conversions</td>\n",
       "      <td>[0.9700000286102295, 0.019999999552965164, 0.0...</td>\n",
       "    </tr>\n",
       "    <tr>\n",
       "      <th>1</th>\n",
       "      <td>0 conversions</td>\n",
       "      <td>[0.99, 0.01, 0.0, 0.0]</td>\n",
       "      <td>0 conversions</td>\n",
       "      <td>[0.99, 0.01, 0.0, 0.0]</td>\n",
       "      <td>0 conversions</td>\n",
       "      <td>[0.98, 0.02, 0.0, 0.0]</td>\n",
       "      <td>0 conversions</td>\n",
       "      <td>[0.95, 0.05, 0.0, 0.0]</td>\n",
       "      <td>0 conversions</td>\n",
       "      <td>[0.84, 0.14, 0.01, 0.01]</td>\n",
       "      <td>0 conversions</td>\n",
       "      <td>[0.9900000095367432, 0.009999999776482582, 0.0...</td>\n",
       "    </tr>\n",
       "  </tbody>\n",
       "</table>\n",
       "</div>"
      ],
      "text/plain": [
       "    pred_softmax            prob_softmax   pred_rf_gini  \\\n",
       "0  0 conversions  [0.97, 0.02, 0.0, 0.0]  0 conversions   \n",
       "1  0 conversions  [0.99, 0.01, 0.0, 0.0]  0 conversions   \n",
       "\n",
       "             prob_rf_gini   pred_rf_enpy            prob_rf_enpy  \\\n",
       "0  [0.92, 0.08, 0.0, 0.0]  0 conversions  [0.95, 0.05, 0.0, 0.0]   \n",
       "1  [0.99, 0.01, 0.0, 0.0]  0 conversions  [0.98, 0.02, 0.0, 0.0]   \n",
       "\n",
       "        pred_knn                 prob_knn       pred_svm  \\\n",
       "0  0 conversions  [0.57, 0.38, 0.0, 0.05]  0 conversions   \n",
       "1  0 conversions   [0.95, 0.05, 0.0, 0.0]  0 conversions   \n",
       "\n",
       "                   prob_svm       pred_xgb  \\\n",
       "0  [0.78, 0.18, 0.02, 0.01]  0 conversions   \n",
       "1  [0.84, 0.14, 0.01, 0.01]  0 conversions   \n",
       "\n",
       "                                            prob_xgb  \n",
       "0  [0.9700000286102295, 0.019999999552965164, 0.0...  \n",
       "1  [0.9900000095367432, 0.009999999776482582, 0.0...  "
      ]
     },
     "execution_count": 269,
     "metadata": {},
     "output_type": "execute_result"
    }
   ],
   "source": [
    "y_test_sep_df.head(2)"
   ]
  },
  {
   "cell_type": "markdown",
   "metadata": {},
   "source": [
    "### AdaBoost"
   ]
  },
  {
   "cell_type": "code",
   "execution_count": 275,
   "metadata": {},
   "outputs": [],
   "source": [
    "ada = AdaBoostClassifier(algorithm='SAMME', learning_rate=0.001)"
   ]
  },
  {
   "cell_type": "code",
   "execution_count": 276,
   "metadata": {},
   "outputs": [
    {
     "data": {
      "text/plain": [
       "AdaBoostClassifier(algorithm='SAMME', learning_rate=0.001)"
      ]
     },
     "execution_count": 276,
     "metadata": {},
     "output_type": "execute_result"
    }
   ],
   "source": [
    "ada.fit(X_train,y_train)"
   ]
  },
  {
   "cell_type": "code",
   "execution_count": 277,
   "metadata": {},
   "outputs": [],
   "source": [
    "# make the predictions for adaboost\n",
    "y_pred_ada = ada.predict(X_test)\n",
    "y_pred_sep_ada = ada.predict(X_sep)\n",
    "\n",
    "# calculate the probabilities for adaboost\n",
    "y_prob_ada = ada.predict_proba(X_test)\n",
    "y_prob_sep_ada = ada.predict_proba(X_sep)"
   ]
  },
  {
   "cell_type": "code",
   "execution_count": 280,
   "metadata": {},
   "outputs": [
    {
     "data": {
      "image/png": "[encoded data removed]",
      "text/plain": [
       "<Figure size 720x720 with 2 Axes>"
      ]
     },
     "metadata": {},
     "output_type": "display_data"
    }
   ],
   "source": [
    "cnf_matrix = confusion_matrix(y_test, y_pred_ada,labels=label)\n",
    "np.set_printoptions(precision=2)\n",
    "\n",
    "# Plot non-normalized confusion matrix\n",
    "plt.figure(figsize=(10,10))\n",
    "plot_confusion_matrix(cnf_matrix, classes=label,\n",
    "                      title='Confusion Matrix for AdaBoost')"
   ]
  },
  {
   "cell_type": "code",
   "execution_count": 281,
   "metadata": {},
   "outputs": [],
   "source": [
    "# Expending the dataframe with kNN:\n",
    "# For Random Forest with Entropy:\n",
    "y_test_df['pred_ada'] = y_pred_ada\n",
    "y_test_df['prob_ada']= np.round(np.array(y_prob_ada),2).tolist()\n",
    "\n",
    "y_test_sep_df['pred_ada'] = y_pred_sep_ada\n",
    "y_test_sep_df['prob_ada'] = np.round(np.array(y_prob_sep_ada),2).tolist()"
   ]
  },
  {
   "cell_type": "code",
   "execution_count": 282,
   "metadata": {},
   "outputs": [
    {
     "data": {
      "text/html": [
       "<div>\n",
       "<style scoped>\n",
       "    .dataframe tbody tr th:only-of-type {\n",
       "        vertical-align: middle;\n",
       "    }\n",
       "\n",
       "    .dataframe tbody tr th {\n",
       "        vertical-align: top;\n",
       "    }\n",
       "\n",
       "    .dataframe thead th {\n",
       "        text-align: right;\n",
       "    }\n",
       "</style>\n",
       "<table border=\"1\" class=\"dataframe\">\n",
       "  <thead>\n",
       "    <tr style=\"text-align: right;\">\n",
       "      <th></th>\n",
       "      <th>labels</th>\n",
       "      <th>pred_softmax</th>\n",
       "      <th>prob_softmax</th>\n",
       "      <th>pred_rf_gini</th>\n",
       "      <th>prob_rf_gini</th>\n",
       "      <th>pred_rf_enpy</th>\n",
       "      <th>prob_rf_enpy</th>\n",
       "      <th>pred_knn</th>\n",
       "      <th>prob_knn</th>\n",
       "      <th>pred_svm</th>\n",
       "      <th>prob_svm</th>\n",
       "      <th>pred_xgb</th>\n",
       "      <th>prob_xgb</th>\n",
       "      <th>pred_ada</th>\n",
       "      <th>prob_ada</th>\n",
       "    </tr>\n",
       "  </thead>\n",
       "  <tbody>\n",
       "    <tr>\n",
       "      <th>7890</th>\n",
       "      <td>more than 5 conversions</td>\n",
       "      <td>more than 5 conversions</td>\n",
       "      <td>[0.0, 0.11, 0.32, 0.56]</td>\n",
       "      <td>more than 5 conversions</td>\n",
       "      <td>[0.02, 0.04, 0.4, 0.54]</td>\n",
       "      <td>more than 5 conversions</td>\n",
       "      <td>[0.02, 0.03, 0.41, 0.54]</td>\n",
       "      <td>more than 5 conversions</td>\n",
       "      <td>[0.05, 0.1, 0.29, 0.57]</td>\n",
       "      <td>more than 5 conversions</td>\n",
       "      <td>[0.01, 0.03, 0.18, 0.79]</td>\n",
       "      <td>more than 5 conversions</td>\n",
       "      <td>[0.009999999776482582, 0.03999999910593033, 0....</td>\n",
       "      <td>more than 5 conversions</td>\n",
       "      <td>[0.23, 0.23, 0.23, 0.32]</td>\n",
       "    </tr>\n",
       "    <tr>\n",
       "      <th>21440</th>\n",
       "      <td>0 conversions</td>\n",
       "      <td>0 conversions</td>\n",
       "      <td>[0.79, 0.18, 0.03, 0.0]</td>\n",
       "      <td>0 conversions</td>\n",
       "      <td>[0.92, 0.08, 0.0, 0.0]</td>\n",
       "      <td>0 conversions</td>\n",
       "      <td>[0.93, 0.07, 0.0, 0.0]</td>\n",
       "      <td>0 conversions</td>\n",
       "      <td>[0.86, 0.05, 0.1, 0.0]</td>\n",
       "      <td>0 conversions</td>\n",
       "      <td>[0.78, 0.15, 0.06, 0.01]</td>\n",
       "      <td>0 conversions</td>\n",
       "      <td>[0.8600000143051147, 0.11999999731779099, 0.00...</td>\n",
       "      <td>0 conversions</td>\n",
       "      <td>[0.32, 0.23, 0.23, 0.23]</td>\n",
       "    </tr>\n",
       "  </tbody>\n",
       "</table>\n",
       "</div>"
      ],
      "text/plain": [
       "                        labels             pred_softmax  \\\n",
       "7890   more than 5 conversions  more than 5 conversions   \n",
       "21440            0 conversions            0 conversions   \n",
       "\n",
       "                  prob_softmax             pred_rf_gini  \\\n",
       "7890   [0.0, 0.11, 0.32, 0.56]  more than 5 conversions   \n",
       "21440  [0.79, 0.18, 0.03, 0.0]            0 conversions   \n",
       "\n",
       "                  prob_rf_gini             pred_rf_enpy  \\\n",
       "7890   [0.02, 0.04, 0.4, 0.54]  more than 5 conversions   \n",
       "21440   [0.92, 0.08, 0.0, 0.0]            0 conversions   \n",
       "\n",
       "                   prob_rf_enpy                 pred_knn  \\\n",
       "7890   [0.02, 0.03, 0.41, 0.54]  more than 5 conversions   \n",
       "21440    [0.93, 0.07, 0.0, 0.0]            0 conversions   \n",
       "\n",
       "                      prob_knn                 pred_svm  \\\n",
       "7890   [0.05, 0.1, 0.29, 0.57]  more than 5 conversions   \n",
       "21440   [0.86, 0.05, 0.1, 0.0]            0 conversions   \n",
       "\n",
       "                       prob_svm                 pred_xgb  \\\n",
       "7890   [0.01, 0.03, 0.18, 0.79]  more than 5 conversions   \n",
       "21440  [0.78, 0.15, 0.06, 0.01]            0 conversions   \n",
       "\n",
       "                                                prob_xgb  \\\n",
       "7890   [0.009999999776482582, 0.03999999910593033, 0....   \n",
       "21440  [0.8600000143051147, 0.11999999731779099, 0.00...   \n",
       "\n",
       "                      pred_ada                  prob_ada  \n",
       "7890   more than 5 conversions  [0.23, 0.23, 0.23, 0.32]  \n",
       "21440            0 conversions  [0.32, 0.23, 0.23, 0.23]  "
      ]
     },
     "execution_count": 282,
     "metadata": {},
     "output_type": "execute_result"
    }
   ],
   "source": [
    "y_test_df.head(2)"
   ]
  },
  {
   "cell_type": "code",
   "execution_count": 283,
   "metadata": {},
   "outputs": [
    {
     "data": {
      "text/html": [
       "<div>\n",
       "<style scoped>\n",
       "    .dataframe tbody tr th:only-of-type {\n",
       "        vertical-align: middle;\n",
       "    }\n",
       "\n",
       "    .dataframe tbody tr th {\n",
       "        vertical-align: top;\n",
       "    }\n",
       "\n",
       "    .dataframe thead th {\n",
       "        text-align: right;\n",
       "    }\n",
       "</style>\n",
       "<table border=\"1\" class=\"dataframe\">\n",
       "  <thead>\n",
       "    <tr style=\"text-align: right;\">\n",
       "      <th></th>\n",
       "      <th>pred_softmax</th>\n",
       "      <th>prob_softmax</th>\n",
       "      <th>pred_rf_gini</th>\n",
       "      <th>prob_rf_gini</th>\n",
       "      <th>pred_rf_enpy</th>\n",
       "      <th>prob_rf_enpy</th>\n",
       "      <th>pred_knn</th>\n",
       "      <th>prob_knn</th>\n",
       "      <th>pred_svm</th>\n",
       "      <th>prob_svm</th>\n",
       "      <th>pred_xgb</th>\n",
       "      <th>prob_xgb</th>\n",
       "      <th>pred_ada</th>\n",
       "      <th>prob_ada</th>\n",
       "    </tr>\n",
       "  </thead>\n",
       "  <tbody>\n",
       "    <tr>\n",
       "      <th>0</th>\n",
       "      <td>0 conversions</td>\n",
       "      <td>[0.97, 0.02, 0.0, 0.0]</td>\n",
       "      <td>0 conversions</td>\n",
       "      <td>[0.92, 0.08, 0.0, 0.0]</td>\n",
       "      <td>0 conversions</td>\n",
       "      <td>[0.95, 0.05, 0.0, 0.0]</td>\n",
       "      <td>0 conversions</td>\n",
       "      <td>[0.57, 0.38, 0.0, 0.05]</td>\n",
       "      <td>0 conversions</td>\n",
       "      <td>[0.78, 0.18, 0.02, 0.01]</td>\n",
       "      <td>0 conversions</td>\n",
       "      <td>[0.9700000286102295, 0.019999999552965164, 0.0...</td>\n",
       "      <td>0 conversions</td>\n",
       "      <td>[0.32, 0.23, 0.23, 0.23]</td>\n",
       "    </tr>\n",
       "    <tr>\n",
       "      <th>1</th>\n",
       "      <td>0 conversions</td>\n",
       "      <td>[0.99, 0.01, 0.0, 0.0]</td>\n",
       "      <td>0 conversions</td>\n",
       "      <td>[0.99, 0.01, 0.0, 0.0]</td>\n",
       "      <td>0 conversions</td>\n",
       "      <td>[0.98, 0.02, 0.0, 0.0]</td>\n",
       "      <td>0 conversions</td>\n",
       "      <td>[0.95, 0.05, 0.0, 0.0]</td>\n",
       "      <td>0 conversions</td>\n",
       "      <td>[0.84, 0.14, 0.01, 0.01]</td>\n",
       "      <td>0 conversions</td>\n",
       "      <td>[0.9900000095367432, 0.009999999776482582, 0.0...</td>\n",
       "      <td>0 conversions</td>\n",
       "      <td>[0.32, 0.23, 0.23, 0.23]</td>\n",
       "    </tr>\n",
       "  </tbody>\n",
       "</table>\n",
       "</div>"
      ],
      "text/plain": [
       "    pred_softmax            prob_softmax   pred_rf_gini  \\\n",
       "0  0 conversions  [0.97, 0.02, 0.0, 0.0]  0 conversions   \n",
       "1  0 conversions  [0.99, 0.01, 0.0, 0.0]  0 conversions   \n",
       "\n",
       "             prob_rf_gini   pred_rf_enpy            prob_rf_enpy  \\\n",
       "0  [0.92, 0.08, 0.0, 0.0]  0 conversions  [0.95, 0.05, 0.0, 0.0]   \n",
       "1  [0.99, 0.01, 0.0, 0.0]  0 conversions  [0.98, 0.02, 0.0, 0.0]   \n",
       "\n",
       "        pred_knn                 prob_knn       pred_svm  \\\n",
       "0  0 conversions  [0.57, 0.38, 0.0, 0.05]  0 conversions   \n",
       "1  0 conversions   [0.95, 0.05, 0.0, 0.0]  0 conversions   \n",
       "\n",
       "                   prob_svm       pred_xgb  \\\n",
       "0  [0.78, 0.18, 0.02, 0.01]  0 conversions   \n",
       "1  [0.84, 0.14, 0.01, 0.01]  0 conversions   \n",
       "\n",
       "                                            prob_xgb       pred_ada  \\\n",
       "0  [0.9700000286102295, 0.019999999552965164, 0.0...  0 conversions   \n",
       "1  [0.9900000095367432, 0.009999999776482582, 0.0...  0 conversions   \n",
       "\n",
       "                   prob_ada  \n",
       "0  [0.32, 0.23, 0.23, 0.23]  \n",
       "1  [0.32, 0.23, 0.23, 0.23]  "
      ]
     },
     "execution_count": 283,
     "metadata": {},
     "output_type": "execute_result"
    }
   ],
   "source": [
    "y_test_sep_df.head(2)"
   ]
  },
  {
   "cell_type": "markdown",
   "metadata": {},
   "source": [
    "After all the modeling, I will create the dataframe where I can take into account all the probabilities and combine them to make the final decision."
   ]
  },
  {
   "cell_type": "code",
   "execution_count": 284,
   "metadata": {},
   "outputs": [],
   "source": [
    "# create a new df to include the features\n",
    "df_test = pd.merge(X_test,y_test_df,how = 'left',left_index = True, right_index = True)"
   ]
  },
  {
   "cell_type": "code",
   "execution_count": 285,
   "metadata": {},
   "outputs": [],
   "source": [
    "df_test_sep = pd.merge(X_sep.reset_index(drop = True),y_test_sep_df,how = 'left',left_index = True, right_index = True)"
   ]
  },
  {
   "cell_type": "markdown",
   "metadata": {},
   "source": [
    "Now let's do the opposite of standard scaling so that we can have the actual numbers. To do that we need to find out the mean and standard deviation.\n",
    "\n",
    "To standardize the data:\n",
    "$$\n",
    "z=\\frac{x-\\mu}{\\sigma}\n",
    "$$\n",
    "\n",
    "To reverse it:\n",
    "$$\n",
    "x=z*\\sigma + \\mu\n",
    "$$"
   ]
  },
  {
   "cell_type": "code",
   "execution_count": 301,
   "metadata": {},
   "outputs": [],
   "source": [
    "fb_std = df_sept.amount_spent_usd.std()\n",
    "fb_mean = df_sept.amount_spent_usd.mean()"
   ]
  },
  {
   "cell_type": "code",
   "execution_count": 305,
   "metadata": {},
   "outputs": [],
   "source": [
    "df_test_sep.amount_spent_usd = round(df_test_sep.amount_spent_usd*fb_std+fb_mean).astype(int)"
   ]
  },
  {
   "cell_type": "code",
   "execution_count": 306,
   "metadata": {},
   "outputs": [],
   "source": [
    "prob_cols = [prob_col for prob_col in df_test_sep if prob_col.startswith('prob')]\n",
    "df_probs = df_test_sep[prob_cols]\n",
    "df_probs['probs_final'] = np.nan"
   ]
  },
  {
   "cell_type": "code",
   "execution_count": 307,
   "metadata": {},
   "outputs": [
    {
     "data": {
      "text/plain": [
       "['prob_softmax',\n",
       " 'prob_rf_gini',\n",
       " 'prob_rf_enpy',\n",
       " 'prob_knn',\n",
       " 'prob_svm',\n",
       " 'prob_xgb',\n",
       " 'prob_ada',\n",
       " 'probs_final']"
      ]
     },
     "execution_count": 307,
     "metadata": {},
     "output_type": "execute_result"
    }
   ],
   "source": [
    "df_probs.columns.tolist()"
   ]
  },
  {
   "cell_type": "code",
   "execution_count": 308,
   "metadata": {},
   "outputs": [],
   "source": [
    "prob_lst = []\n",
    "for i in range(len(df_probs)):\n",
    "    total_1 = 0\n",
    "    total_2 = 0\n",
    "    total_3 = 0\n",
    "    total_4 = 0\n",
    "    \n",
    "    for j in range(len(df_probs.columns)-1):\n",
    "        total_1 = total_1 + df_probs.iloc[i,j][0]\n",
    "        total_2 = total_2 + df_probs.iloc[i,j][1]\n",
    "        total_3 = total_3 + df_probs.iloc[i,j][2]\n",
    "        total_4 = total_4 + df_probs.iloc[i,j][3]\n",
    "        \n",
    "    num_col = (len(df_probs.columns.tolist()) - 1)\n",
    "    all_probs = [total_1, total_2, total_3, total_4]\n",
    "    prob_lst.append([k/num_col for k in all_probs])"
   ]
  },
  {
   "cell_type": "code",
   "execution_count": 309,
   "metadata": {},
   "outputs": [],
   "source": [
    "df_probs['probs_final'] = prob_lst"
   ]
  },
  {
   "cell_type": "code",
   "execution_count": 310,
   "metadata": {},
   "outputs": [],
   "source": [
    "df_probs['pred_final'] = 0"
   ]
  },
  {
   "cell_type": "code",
   "execution_count": 311,
   "metadata": {},
   "outputs": [],
   "source": [
    "df_test_sep['probs_final'] = prob_lst"
   ]
  },
  {
   "cell_type": "code",
   "execution_count": 312,
   "metadata": {},
   "outputs": [],
   "source": [
    "some_ser = []\n",
    "for i in range(len(df_probs)):\n",
    "    some_lst = df_probs['probs_final'][i]\n",
    "    m = max(some_lst)\n",
    "    ind_max = some_lst.index(max(some_lst))\n",
    "    some_ser.append(ind_max)"
   ]
  },
  {
   "cell_type": "code",
   "execution_count": 313,
   "metadata": {},
   "outputs": [],
   "source": [
    "df_probs['pred_final'] = some_ser"
   ]
  },
  {
   "cell_type": "code",
   "execution_count": 314,
   "metadata": {},
   "outputs": [
    {
     "data": {
      "text/plain": [
       "0    196613\n",
       "1     70533\n",
       "2     40426\n",
       "3     30348\n",
       "Name: pred_final, dtype: int64"
      ]
     },
     "execution_count": 314,
     "metadata": {},
     "output_type": "execute_result"
    }
   ],
   "source": [
    "df_probs.pred_final.value_counts()"
   ]
  },
  {
   "cell_type": "code",
   "execution_count": 315,
   "metadata": {},
   "outputs": [],
   "source": [
    "df_probs.pred_final = df_probs.pred_final.astype(int)\n",
    "df_probs['final_prediction'] = np.nan"
   ]
  },
  {
   "cell_type": "code",
   "execution_count": 316,
   "metadata": {},
   "outputs": [],
   "source": [
    "def label_converter(x):\n",
    "    if x == 0:\n",
    "        return '0 conversions'\n",
    "    elif x == 1:\n",
    "        return '1 or 2 conversions'\n",
    "    elif x == 2:\n",
    "        return 'btw 3 and 5 conversions'\n",
    "    elif x == 3:\n",
    "        return 'more than 5 conversions'\n",
    "    else:\n",
    "        return 'Error'"
   ]
  },
  {
   "cell_type": "code",
   "execution_count": 317,
   "metadata": {},
   "outputs": [],
   "source": [
    "df_probs['final_prediction'] = df_probs['pred_final'].apply(label_converter)"
   ]
  },
  {
   "cell_type": "code",
   "execution_count": 319,
   "metadata": {},
   "outputs": [],
   "source": [
    "df_predictions_sep = pd.merge(df_test_sep,df_probs[['final_prediction']],how = 'left',left_index = True, right_index = True)"
   ]
  },
  {
   "cell_type": "code",
   "execution_count": 321,
   "metadata": {},
   "outputs": [
    {
     "data": {
      "text/html": [
       "<div>\n",
       "<style scoped>\n",
       "    .dataframe tbody tr th:only-of-type {\n",
       "        vertical-align: middle;\n",
       "    }\n",
       "\n",
       "    .dataframe tbody tr th {\n",
       "        vertical-align: top;\n",
       "    }\n",
       "\n",
       "    .dataframe thead th {\n",
       "        text-align: right;\n",
       "    }\n",
       "</style>\n",
       "<table border=\"1\" class=\"dataframe\">\n",
       "  <thead>\n",
       "    <tr style=\"text-align: right;\">\n",
       "      <th></th>\n",
       "      <th>month</th>\n",
       "      <th>week_num</th>\n",
       "      <th>DE</th>\n",
       "      <th>ES</th>\n",
       "      <th>FR</th>\n",
       "      <th>IT</th>\n",
       "      <th>MX</th>\n",
       "      <th>UK</th>\n",
       "      <th>US</th>\n",
       "      <th>ZA</th>\n",
       "      <th>OR</th>\n",
       "      <th>SSF</th>\n",
       "      <th>night</th>\n",
       "      <th>morning</th>\n",
       "      <th>afternoon</th>\n",
       "      <th>evening</th>\n",
       "      <th>Mon</th>\n",
       "      <th>Tues</th>\n",
       "      <th>Weds</th>\n",
       "      <th>Thurs</th>\n",
       "      <th>Fri</th>\n",
       "      <th>Sat</th>\n",
       "      <th>Sun</th>\n",
       "      <th>2018</th>\n",
       "      <th>2019</th>\n",
       "      <th>amount_spent_usd</th>\n",
       "      <th>pred_softmax</th>\n",
       "      <th>prob_softmax</th>\n",
       "      <th>pred_rf_gini</th>\n",
       "      <th>prob_rf_gini</th>\n",
       "      <th>pred_rf_enpy</th>\n",
       "      <th>prob_rf_enpy</th>\n",
       "      <th>pred_knn</th>\n",
       "      <th>prob_knn</th>\n",
       "      <th>pred_svm</th>\n",
       "      <th>prob_svm</th>\n",
       "      <th>pred_xgb</th>\n",
       "      <th>prob_xgb</th>\n",
       "      <th>pred_ada</th>\n",
       "      <th>prob_ada</th>\n",
       "      <th>probs_final</th>\n",
       "      <th>final_prediction</th>\n",
       "    </tr>\n",
       "  </thead>\n",
       "  <tbody>\n",
       "    <tr>\n",
       "      <th>0</th>\n",
       "      <td>9</td>\n",
       "      <td>35</td>\n",
       "      <td>0</td>\n",
       "      <td>0</td>\n",
       "      <td>0</td>\n",
       "      <td>0</td>\n",
       "      <td>0</td>\n",
       "      <td>0</td>\n",
       "      <td>1</td>\n",
       "      <td>0</td>\n",
       "      <td>1</td>\n",
       "      <td>0</td>\n",
       "      <td>0</td>\n",
       "      <td>0</td>\n",
       "      <td>1</td>\n",
       "      <td>0</td>\n",
       "      <td>0</td>\n",
       "      <td>0</td>\n",
       "      <td>0</td>\n",
       "      <td>0</td>\n",
       "      <td>0</td>\n",
       "      <td>0</td>\n",
       "      <td>1</td>\n",
       "      <td>0</td>\n",
       "      <td>1</td>\n",
       "      <td>0</td>\n",
       "      <td>0 conversions</td>\n",
       "      <td>[0.97, 0.02, 0.0, 0.0]</td>\n",
       "      <td>0 conversions</td>\n",
       "      <td>[0.92, 0.08, 0.0, 0.0]</td>\n",
       "      <td>0 conversions</td>\n",
       "      <td>[0.95, 0.05, 0.0, 0.0]</td>\n",
       "      <td>0 conversions</td>\n",
       "      <td>[0.57, 0.38, 0.0, 0.05]</td>\n",
       "      <td>0 conversions</td>\n",
       "      <td>[0.78, 0.18, 0.02, 0.01]</td>\n",
       "      <td>0 conversions</td>\n",
       "      <td>[0.9700000286102295, 0.019999999552965164, 0.0...</td>\n",
       "      <td>0 conversions</td>\n",
       "      <td>[0.32, 0.23, 0.23, 0.23]</td>\n",
       "      <td>[0.7828571469443185, 0.137142857078995, 0.0357...</td>\n",
       "      <td>0 conversions</td>\n",
       "    </tr>\n",
       "    <tr>\n",
       "      <th>1</th>\n",
       "      <td>9</td>\n",
       "      <td>35</td>\n",
       "      <td>0</td>\n",
       "      <td>0</td>\n",
       "      <td>0</td>\n",
       "      <td>0</td>\n",
       "      <td>0</td>\n",
       "      <td>0</td>\n",
       "      <td>1</td>\n",
       "      <td>0</td>\n",
       "      <td>0</td>\n",
       "      <td>1</td>\n",
       "      <td>0</td>\n",
       "      <td>0</td>\n",
       "      <td>1</td>\n",
       "      <td>0</td>\n",
       "      <td>0</td>\n",
       "      <td>0</td>\n",
       "      <td>0</td>\n",
       "      <td>0</td>\n",
       "      <td>0</td>\n",
       "      <td>0</td>\n",
       "      <td>1</td>\n",
       "      <td>0</td>\n",
       "      <td>1</td>\n",
       "      <td>0</td>\n",
       "      <td>0 conversions</td>\n",
       "      <td>[0.99, 0.01, 0.0, 0.0]</td>\n",
       "      <td>0 conversions</td>\n",
       "      <td>[0.99, 0.01, 0.0, 0.0]</td>\n",
       "      <td>0 conversions</td>\n",
       "      <td>[0.98, 0.02, 0.0, 0.0]</td>\n",
       "      <td>0 conversions</td>\n",
       "      <td>[0.95, 0.05, 0.0, 0.0]</td>\n",
       "      <td>0 conversions</td>\n",
       "      <td>[0.84, 0.14, 0.01, 0.01]</td>\n",
       "      <td>0 conversions</td>\n",
       "      <td>[0.9900000095367432, 0.009999999776482582, 0.0...</td>\n",
       "      <td>0 conversions</td>\n",
       "      <td>[0.32, 0.23, 0.23, 0.23]</td>\n",
       "      <td>[0.8657142870766776, 0.06714285711092609, 0.03...</td>\n",
       "      <td>0 conversions</td>\n",
       "    </tr>\n",
       "    <tr>\n",
       "      <th>2</th>\n",
       "      <td>9</td>\n",
       "      <td>35</td>\n",
       "      <td>0</td>\n",
       "      <td>0</td>\n",
       "      <td>1</td>\n",
       "      <td>0</td>\n",
       "      <td>0</td>\n",
       "      <td>0</td>\n",
       "      <td>0</td>\n",
       "      <td>0</td>\n",
       "      <td>1</td>\n",
       "      <td>0</td>\n",
       "      <td>0</td>\n",
       "      <td>0</td>\n",
       "      <td>1</td>\n",
       "      <td>0</td>\n",
       "      <td>0</td>\n",
       "      <td>0</td>\n",
       "      <td>0</td>\n",
       "      <td>0</td>\n",
       "      <td>0</td>\n",
       "      <td>0</td>\n",
       "      <td>1</td>\n",
       "      <td>0</td>\n",
       "      <td>1</td>\n",
       "      <td>0</td>\n",
       "      <td>0 conversions</td>\n",
       "      <td>[0.98, 0.02, 0.0, 0.0]</td>\n",
       "      <td>0 conversions</td>\n",
       "      <td>[0.98, 0.02, 0.0, 0.0]</td>\n",
       "      <td>0 conversions</td>\n",
       "      <td>[0.97, 0.03, 0.0, 0.0]</td>\n",
       "      <td>0 conversions</td>\n",
       "      <td>[0.81, 0.19, 0.0, 0.0]</td>\n",
       "      <td>0 conversions</td>\n",
       "      <td>[0.89, 0.1, 0.01, 0.0]</td>\n",
       "      <td>0 conversions</td>\n",
       "      <td>[0.9900000095367432, 0.009999999776482582, 0.0...</td>\n",
       "      <td>0 conversions</td>\n",
       "      <td>[0.32, 0.23, 0.23, 0.23]</td>\n",
       "      <td>[0.8485714299338205, 0.08571428568235465, 0.03...</td>\n",
       "      <td>0 conversions</td>\n",
       "    </tr>\n",
       "    <tr>\n",
       "      <th>3</th>\n",
       "      <td>9</td>\n",
       "      <td>35</td>\n",
       "      <td>0</td>\n",
       "      <td>0</td>\n",
       "      <td>1</td>\n",
       "      <td>0</td>\n",
       "      <td>0</td>\n",
       "      <td>0</td>\n",
       "      <td>0</td>\n",
       "      <td>0</td>\n",
       "      <td>0</td>\n",
       "      <td>1</td>\n",
       "      <td>0</td>\n",
       "      <td>0</td>\n",
       "      <td>1</td>\n",
       "      <td>0</td>\n",
       "      <td>0</td>\n",
       "      <td>0</td>\n",
       "      <td>0</td>\n",
       "      <td>0</td>\n",
       "      <td>0</td>\n",
       "      <td>0</td>\n",
       "      <td>1</td>\n",
       "      <td>0</td>\n",
       "      <td>1</td>\n",
       "      <td>0</td>\n",
       "      <td>0 conversions</td>\n",
       "      <td>[0.99, 0.01, 0.0, 0.0]</td>\n",
       "      <td>0 conversions</td>\n",
       "      <td>[0.99, 0.01, 0.0, 0.0]</td>\n",
       "      <td>0 conversions</td>\n",
       "      <td>[0.98, 0.02, 0.0, 0.0]</td>\n",
       "      <td>0 conversions</td>\n",
       "      <td>[0.76, 0.24, 0.0, 0.0]</td>\n",
       "      <td>0 conversions</td>\n",
       "      <td>[0.9, 0.09, 0.01, 0.0]</td>\n",
       "      <td>0 conversions</td>\n",
       "      <td>[0.9900000095367432, 0.009999999776482582, 0.0...</td>\n",
       "      <td>0 conversions</td>\n",
       "      <td>[0.32, 0.23, 0.23, 0.23]</td>\n",
       "      <td>[0.8471428585052491, 0.08714285711092608, 0.03...</td>\n",
       "      <td>0 conversions</td>\n",
       "    </tr>\n",
       "    <tr>\n",
       "      <th>4</th>\n",
       "      <td>9</td>\n",
       "      <td>35</td>\n",
       "      <td>0</td>\n",
       "      <td>0</td>\n",
       "      <td>0</td>\n",
       "      <td>0</td>\n",
       "      <td>0</td>\n",
       "      <td>1</td>\n",
       "      <td>0</td>\n",
       "      <td>0</td>\n",
       "      <td>1</td>\n",
       "      <td>0</td>\n",
       "      <td>0</td>\n",
       "      <td>0</td>\n",
       "      <td>1</td>\n",
       "      <td>0</td>\n",
       "      <td>0</td>\n",
       "      <td>0</td>\n",
       "      <td>0</td>\n",
       "      <td>0</td>\n",
       "      <td>0</td>\n",
       "      <td>0</td>\n",
       "      <td>1</td>\n",
       "      <td>0</td>\n",
       "      <td>1</td>\n",
       "      <td>0</td>\n",
       "      <td>0 conversions</td>\n",
       "      <td>[0.99, 0.01, 0.0, 0.0]</td>\n",
       "      <td>0 conversions</td>\n",
       "      <td>[0.99, 0.01, 0.0, 0.0]</td>\n",
       "      <td>0 conversions</td>\n",
       "      <td>[0.98, 0.02, 0.0, 0.0]</td>\n",
       "      <td>0 conversions</td>\n",
       "      <td>[0.86, 0.14, 0.0, 0.0]</td>\n",
       "      <td>0 conversions</td>\n",
       "      <td>[0.89, 0.09, 0.01, 0.01]</td>\n",
       "      <td>0 conversions</td>\n",
       "      <td>[0.9900000095367432, 0.0, 0.0, 0.0]</td>\n",
       "      <td>0 conversions</td>\n",
       "      <td>[0.32, 0.23, 0.23, 0.23]</td>\n",
       "      <td>[0.860000001362392, 0.07142857142857142, 0.034...</td>\n",
       "      <td>0 conversions</td>\n",
       "    </tr>\n",
       "    <tr>\n",
       "      <th>...</th>\n",
       "      <td>...</td>\n",
       "      <td>...</td>\n",
       "      <td>...</td>\n",
       "      <td>...</td>\n",
       "      <td>...</td>\n",
       "      <td>...</td>\n",
       "      <td>...</td>\n",
       "      <td>...</td>\n",
       "      <td>...</td>\n",
       "      <td>...</td>\n",
       "      <td>...</td>\n",
       "      <td>...</td>\n",
       "      <td>...</td>\n",
       "      <td>...</td>\n",
       "      <td>...</td>\n",
       "      <td>...</td>\n",
       "      <td>...</td>\n",
       "      <td>...</td>\n",
       "      <td>...</td>\n",
       "      <td>...</td>\n",
       "      <td>...</td>\n",
       "      <td>...</td>\n",
       "      <td>...</td>\n",
       "      <td>...</td>\n",
       "      <td>...</td>\n",
       "      <td>...</td>\n",
       "      <td>...</td>\n",
       "      <td>...</td>\n",
       "      <td>...</td>\n",
       "      <td>...</td>\n",
       "      <td>...</td>\n",
       "      <td>...</td>\n",
       "      <td>...</td>\n",
       "      <td>...</td>\n",
       "      <td>...</td>\n",
       "      <td>...</td>\n",
       "      <td>...</td>\n",
       "      <td>...</td>\n",
       "      <td>...</td>\n",
       "      <td>...</td>\n",
       "      <td>...</td>\n",
       "      <td>...</td>\n",
       "    </tr>\n",
       "    <tr>\n",
       "      <th>337915</th>\n",
       "      <td>9</td>\n",
       "      <td>40</td>\n",
       "      <td>1</td>\n",
       "      <td>0</td>\n",
       "      <td>0</td>\n",
       "      <td>0</td>\n",
       "      <td>0</td>\n",
       "      <td>0</td>\n",
       "      <td>0</td>\n",
       "      <td>0</td>\n",
       "      <td>0</td>\n",
       "      <td>1</td>\n",
       "      <td>0</td>\n",
       "      <td>0</td>\n",
       "      <td>0</td>\n",
       "      <td>1</td>\n",
       "      <td>1</td>\n",
       "      <td>0</td>\n",
       "      <td>0</td>\n",
       "      <td>0</td>\n",
       "      <td>0</td>\n",
       "      <td>0</td>\n",
       "      <td>0</td>\n",
       "      <td>0</td>\n",
       "      <td>1</td>\n",
       "      <td>350</td>\n",
       "      <td>btw 1 and 2 conversions</td>\n",
       "      <td>[0.02, 0.58, 0.31, 0.1]</td>\n",
       "      <td>btw 3 and 5 conversions</td>\n",
       "      <td>[0.17, 0.26, 0.44, 0.13]</td>\n",
       "      <td>btw 3 and 5 conversions</td>\n",
       "      <td>[0.16, 0.28, 0.42, 0.15]</td>\n",
       "      <td>more than 5 conversions</td>\n",
       "      <td>[0.0, 0.1, 0.38, 0.52]</td>\n",
       "      <td>more than 5 conversions</td>\n",
       "      <td>[0.13, 0.13, 0.28, 0.47]</td>\n",
       "      <td>btw 1 and 2 conversions</td>\n",
       "      <td>[0.25, 0.49000000953674316, 0.2300000041723251...</td>\n",
       "      <td>more than 5 conversions</td>\n",
       "      <td>[0.23, 0.23, 0.23, 0.32]</td>\n",
       "      <td>[0.13714285714285715, 0.29571428707667763, 0.3...</td>\n",
       "      <td>btw 3 and 5 conversions</td>\n",
       "    </tr>\n",
       "    <tr>\n",
       "      <th>337916</th>\n",
       "      <td>9</td>\n",
       "      <td>40</td>\n",
       "      <td>0</td>\n",
       "      <td>0</td>\n",
       "      <td>0</td>\n",
       "      <td>0</td>\n",
       "      <td>0</td>\n",
       "      <td>0</td>\n",
       "      <td>0</td>\n",
       "      <td>1</td>\n",
       "      <td>1</td>\n",
       "      <td>0</td>\n",
       "      <td>0</td>\n",
       "      <td>0</td>\n",
       "      <td>0</td>\n",
       "      <td>1</td>\n",
       "      <td>1</td>\n",
       "      <td>0</td>\n",
       "      <td>0</td>\n",
       "      <td>0</td>\n",
       "      <td>0</td>\n",
       "      <td>0</td>\n",
       "      <td>0</td>\n",
       "      <td>0</td>\n",
       "      <td>1</td>\n",
       "      <td>350</td>\n",
       "      <td>more than 5 conversions</td>\n",
       "      <td>[0.0, 0.12, 0.19, 0.69]</td>\n",
       "      <td>btw 1 and 2 conversions</td>\n",
       "      <td>[0.13, 0.32, 0.28, 0.27]</td>\n",
       "      <td>btw 1 and 2 conversions</td>\n",
       "      <td>[0.16, 0.31, 0.25, 0.28]</td>\n",
       "      <td>more than 5 conversions</td>\n",
       "      <td>[0.14, 0.19, 0.29, 0.38]</td>\n",
       "      <td>btw 3 and 5 conversions</td>\n",
       "      <td>[0.2, 0.23, 0.29, 0.28]</td>\n",
       "      <td>btw 1 and 2 conversions</td>\n",
       "      <td>[0.14000000059604645, 0.3700000047683716, 0.36...</td>\n",
       "      <td>more than 5 conversions</td>\n",
       "      <td>[0.23, 0.23, 0.23, 0.32]</td>\n",
       "      <td>[0.14285714294229238, 0.25285714353833877, 0.2...</td>\n",
       "      <td>more than 5 conversions</td>\n",
       "    </tr>\n",
       "    <tr>\n",
       "      <th>337917</th>\n",
       "      <td>9</td>\n",
       "      <td>40</td>\n",
       "      <td>0</td>\n",
       "      <td>0</td>\n",
       "      <td>0</td>\n",
       "      <td>0</td>\n",
       "      <td>0</td>\n",
       "      <td>0</td>\n",
       "      <td>0</td>\n",
       "      <td>1</td>\n",
       "      <td>0</td>\n",
       "      <td>1</td>\n",
       "      <td>0</td>\n",
       "      <td>0</td>\n",
       "      <td>0</td>\n",
       "      <td>1</td>\n",
       "      <td>1</td>\n",
       "      <td>0</td>\n",
       "      <td>0</td>\n",
       "      <td>0</td>\n",
       "      <td>0</td>\n",
       "      <td>0</td>\n",
       "      <td>0</td>\n",
       "      <td>0</td>\n",
       "      <td>1</td>\n",
       "      <td>350</td>\n",
       "      <td>more than 5 conversions</td>\n",
       "      <td>[0.01, 0.23, 0.23, 0.54]</td>\n",
       "      <td>btw 3 and 5 conversions</td>\n",
       "      <td>[0.19, 0.32, 0.34, 0.16]</td>\n",
       "      <td>btw 1 and 2 conversions</td>\n",
       "      <td>[0.19, 0.31, 0.3, 0.2]</td>\n",
       "      <td>more than 5 conversions</td>\n",
       "      <td>[0.0, 0.1, 0.38, 0.52]</td>\n",
       "      <td>more than 5 conversions</td>\n",
       "      <td>[0.11, 0.12, 0.28, 0.49]</td>\n",
       "      <td>btw 1 and 2 conversions</td>\n",
       "      <td>[0.2199999988079071, 0.46000000834465027, 0.28...</td>\n",
       "      <td>more than 5 conversions</td>\n",
       "      <td>[0.23, 0.23, 0.23, 0.32]</td>\n",
       "      <td>[0.13571428554398673, 0.25285714404923576, 0.2...</td>\n",
       "      <td>more than 5 conversions</td>\n",
       "    </tr>\n",
       "    <tr>\n",
       "      <th>337918</th>\n",
       "      <td>9</td>\n",
       "      <td>40</td>\n",
       "      <td>0</td>\n",
       "      <td>0</td>\n",
       "      <td>0</td>\n",
       "      <td>1</td>\n",
       "      <td>0</td>\n",
       "      <td>0</td>\n",
       "      <td>0</td>\n",
       "      <td>0</td>\n",
       "      <td>1</td>\n",
       "      <td>0</td>\n",
       "      <td>0</td>\n",
       "      <td>0</td>\n",
       "      <td>0</td>\n",
       "      <td>1</td>\n",
       "      <td>1</td>\n",
       "      <td>0</td>\n",
       "      <td>0</td>\n",
       "      <td>0</td>\n",
       "      <td>0</td>\n",
       "      <td>0</td>\n",
       "      <td>0</td>\n",
       "      <td>0</td>\n",
       "      <td>1</td>\n",
       "      <td>350</td>\n",
       "      <td>btw 1 and 2 conversions</td>\n",
       "      <td>[0.01, 0.38, 0.35, 0.27]</td>\n",
       "      <td>btw 1 and 2 conversions</td>\n",
       "      <td>[0.15, 0.33, 0.29, 0.23]</td>\n",
       "      <td>btw 1 and 2 conversions</td>\n",
       "      <td>[0.16, 0.35, 0.26, 0.23]</td>\n",
       "      <td>more than 5 conversions</td>\n",
       "      <td>[0.14, 0.19, 0.29, 0.38]</td>\n",
       "      <td>btw 3 and 5 conversions</td>\n",
       "      <td>[0.2, 0.23, 0.29, 0.28]</td>\n",
       "      <td>btw 3 and 5 conversions</td>\n",
       "      <td>[0.1599999964237213, 0.38999998569488525, 0.40...</td>\n",
       "      <td>more than 5 conversions</td>\n",
       "      <td>[0.23, 0.23, 0.23, 0.32]</td>\n",
       "      <td>[0.14999999948910306, 0.2999999979564122, 0.30...</td>\n",
       "      <td>btw 3 and 5 conversions</td>\n",
       "    </tr>\n",
       "    <tr>\n",
       "      <th>337919</th>\n",
       "      <td>9</td>\n",
       "      <td>40</td>\n",
       "      <td>0</td>\n",
       "      <td>0</td>\n",
       "      <td>0</td>\n",
       "      <td>1</td>\n",
       "      <td>0</td>\n",
       "      <td>0</td>\n",
       "      <td>0</td>\n",
       "      <td>0</td>\n",
       "      <td>0</td>\n",
       "      <td>1</td>\n",
       "      <td>0</td>\n",
       "      <td>0</td>\n",
       "      <td>0</td>\n",
       "      <td>1</td>\n",
       "      <td>1</td>\n",
       "      <td>0</td>\n",
       "      <td>0</td>\n",
       "      <td>0</td>\n",
       "      <td>0</td>\n",
       "      <td>0</td>\n",
       "      <td>0</td>\n",
       "      <td>0</td>\n",
       "      <td>1</td>\n",
       "      <td>350</td>\n",
       "      <td>btw 1 and 2 conversions</td>\n",
       "      <td>[0.01, 0.52, 0.32, 0.15]</td>\n",
       "      <td>btw 3 and 5 conversions</td>\n",
       "      <td>[0.2, 0.34, 0.35, 0.12]</td>\n",
       "      <td>btw 1 and 2 conversions</td>\n",
       "      <td>[0.19, 0.34, 0.31, 0.15]</td>\n",
       "      <td>more than 5 conversions</td>\n",
       "      <td>[0.0, 0.1, 0.38, 0.52]</td>\n",
       "      <td>more than 5 conversions</td>\n",
       "      <td>[0.11, 0.12, 0.28, 0.49]</td>\n",
       "      <td>btw 1 and 2 conversions</td>\n",
       "      <td>[0.2199999988079071, 0.4300000071525574, 0.330...</td>\n",
       "      <td>more than 5 conversions</td>\n",
       "      <td>[0.23, 0.23, 0.23, 0.32]</td>\n",
       "      <td>[0.13714285697255815, 0.2971428581646511, 0.31...</td>\n",
       "      <td>btw 3 and 5 conversions</td>\n",
       "    </tr>\n",
       "  </tbody>\n",
       "</table>\n",
       "<p>337920 rows × 42 columns</p>\n",
       "</div>"
      ],
      "text/plain": [
       "        month  week_num  DE  ES  FR  IT  MX  UK  US  ZA  OR  SSF  night  \\\n",
       "0           9        35   0   0   0   0   0   0   1   0   1    0      0   \n",
       "1           9        35   0   0   0   0   0   0   1   0   0    1      0   \n",
       "2           9        35   0   0   1   0   0   0   0   0   1    0      0   \n",
       "3           9        35   0   0   1   0   0   0   0   0   0    1      0   \n",
       "4           9        35   0   0   0   0   0   1   0   0   1    0      0   \n",
       "...       ...       ...  ..  ..  ..  ..  ..  ..  ..  ..  ..  ...    ...   \n",
       "337915      9        40   1   0   0   0   0   0   0   0   0    1      0   \n",
       "337916      9        40   0   0   0   0   0   0   0   1   1    0      0   \n",
       "337917      9        40   0   0   0   0   0   0   0   1   0    1      0   \n",
       "337918      9        40   0   0   0   1   0   0   0   0   1    0      0   \n",
       "337919      9        40   0   0   0   1   0   0   0   0   0    1      0   \n",
       "\n",
       "        morning  afternoon  evening  Mon  Tues  Weds  Thurs  Fri  Sat  Sun  \\\n",
       "0             0          1        0    0     0     0      0    0    0    1   \n",
       "1             0          1        0    0     0     0      0    0    0    1   \n",
       "2             0          1        0    0     0     0      0    0    0    1   \n",
       "3             0          1        0    0     0     0      0    0    0    1   \n",
       "4             0          1        0    0     0     0      0    0    0    1   \n",
       "...         ...        ...      ...  ...   ...   ...    ...  ...  ...  ...   \n",
       "337915        0          0        1    1     0     0      0    0    0    0   \n",
       "337916        0          0        1    1     0     0      0    0    0    0   \n",
       "337917        0          0        1    1     0     0      0    0    0    0   \n",
       "337918        0          0        1    1     0     0      0    0    0    0   \n",
       "337919        0          0        1    1     0     0      0    0    0    0   \n",
       "\n",
       "        2018  2019  amount_spent_usd             pred_softmax  \\\n",
       "0          0     1                 0            0 conversions   \n",
       "1          0     1                 0            0 conversions   \n",
       "2          0     1                 0            0 conversions   \n",
       "3          0     1                 0            0 conversions   \n",
       "4          0     1                 0            0 conversions   \n",
       "...      ...   ...               ...                      ...   \n",
       "337915     0     1               350  btw 1 and 2 conversions   \n",
       "337916     0     1               350  more than 5 conversions   \n",
       "337917     0     1               350  more than 5 conversions   \n",
       "337918     0     1               350  btw 1 and 2 conversions   \n",
       "337919     0     1               350  btw 1 and 2 conversions   \n",
       "\n",
       "                    prob_softmax             pred_rf_gini  \\\n",
       "0         [0.97, 0.02, 0.0, 0.0]            0 conversions   \n",
       "1         [0.99, 0.01, 0.0, 0.0]            0 conversions   \n",
       "2         [0.98, 0.02, 0.0, 0.0]            0 conversions   \n",
       "3         [0.99, 0.01, 0.0, 0.0]            0 conversions   \n",
       "4         [0.99, 0.01, 0.0, 0.0]            0 conversions   \n",
       "...                          ...                      ...   \n",
       "337915   [0.02, 0.58, 0.31, 0.1]  btw 3 and 5 conversions   \n",
       "337916   [0.0, 0.12, 0.19, 0.69]  btw 1 and 2 conversions   \n",
       "337917  [0.01, 0.23, 0.23, 0.54]  btw 3 and 5 conversions   \n",
       "337918  [0.01, 0.38, 0.35, 0.27]  btw 1 and 2 conversions   \n",
       "337919  [0.01, 0.52, 0.32, 0.15]  btw 3 and 5 conversions   \n",
       "\n",
       "                    prob_rf_gini             pred_rf_enpy  \\\n",
       "0         [0.92, 0.08, 0.0, 0.0]            0 conversions   \n",
       "1         [0.99, 0.01, 0.0, 0.0]            0 conversions   \n",
       "2         [0.98, 0.02, 0.0, 0.0]            0 conversions   \n",
       "3         [0.99, 0.01, 0.0, 0.0]            0 conversions   \n",
       "4         [0.99, 0.01, 0.0, 0.0]            0 conversions   \n",
       "...                          ...                      ...   \n",
       "337915  [0.17, 0.26, 0.44, 0.13]  btw 3 and 5 conversions   \n",
       "337916  [0.13, 0.32, 0.28, 0.27]  btw 1 and 2 conversions   \n",
       "337917  [0.19, 0.32, 0.34, 0.16]  btw 1 and 2 conversions   \n",
       "337918  [0.15, 0.33, 0.29, 0.23]  btw 1 and 2 conversions   \n",
       "337919   [0.2, 0.34, 0.35, 0.12]  btw 1 and 2 conversions   \n",
       "\n",
       "                    prob_rf_enpy                 pred_knn  \\\n",
       "0         [0.95, 0.05, 0.0, 0.0]            0 conversions   \n",
       "1         [0.98, 0.02, 0.0, 0.0]            0 conversions   \n",
       "2         [0.97, 0.03, 0.0, 0.0]            0 conversions   \n",
       "3         [0.98, 0.02, 0.0, 0.0]            0 conversions   \n",
       "4         [0.98, 0.02, 0.0, 0.0]            0 conversions   \n",
       "...                          ...                      ...   \n",
       "337915  [0.16, 0.28, 0.42, 0.15]  more than 5 conversions   \n",
       "337916  [0.16, 0.31, 0.25, 0.28]  more than 5 conversions   \n",
       "337917    [0.19, 0.31, 0.3, 0.2]  more than 5 conversions   \n",
       "337918  [0.16, 0.35, 0.26, 0.23]  more than 5 conversions   \n",
       "337919  [0.19, 0.34, 0.31, 0.15]  more than 5 conversions   \n",
       "\n",
       "                        prob_knn                 pred_svm  \\\n",
       "0        [0.57, 0.38, 0.0, 0.05]            0 conversions   \n",
       "1         [0.95, 0.05, 0.0, 0.0]            0 conversions   \n",
       "2         [0.81, 0.19, 0.0, 0.0]            0 conversions   \n",
       "3         [0.76, 0.24, 0.0, 0.0]            0 conversions   \n",
       "4         [0.86, 0.14, 0.0, 0.0]            0 conversions   \n",
       "...                          ...                      ...   \n",
       "337915    [0.0, 0.1, 0.38, 0.52]  more than 5 conversions   \n",
       "337916  [0.14, 0.19, 0.29, 0.38]  btw 3 and 5 conversions   \n",
       "337917    [0.0, 0.1, 0.38, 0.52]  more than 5 conversions   \n",
       "337918  [0.14, 0.19, 0.29, 0.38]  btw 3 and 5 conversions   \n",
       "337919    [0.0, 0.1, 0.38, 0.52]  more than 5 conversions   \n",
       "\n",
       "                        prob_svm                 pred_xgb  \\\n",
       "0       [0.78, 0.18, 0.02, 0.01]            0 conversions   \n",
       "1       [0.84, 0.14, 0.01, 0.01]            0 conversions   \n",
       "2         [0.89, 0.1, 0.01, 0.0]            0 conversions   \n",
       "3         [0.9, 0.09, 0.01, 0.0]            0 conversions   \n",
       "4       [0.89, 0.09, 0.01, 0.01]            0 conversions   \n",
       "...                          ...                      ...   \n",
       "337915  [0.13, 0.13, 0.28, 0.47]  btw 1 and 2 conversions   \n",
       "337916   [0.2, 0.23, 0.29, 0.28]  btw 1 and 2 conversions   \n",
       "337917  [0.11, 0.12, 0.28, 0.49]  btw 1 and 2 conversions   \n",
       "337918   [0.2, 0.23, 0.29, 0.28]  btw 3 and 5 conversions   \n",
       "337919  [0.11, 0.12, 0.28, 0.49]  btw 1 and 2 conversions   \n",
       "\n",
       "                                                 prob_xgb  \\\n",
       "0       [0.9700000286102295, 0.019999999552965164, 0.0...   \n",
       "1       [0.9900000095367432, 0.009999999776482582, 0.0...   \n",
       "2       [0.9900000095367432, 0.009999999776482582, 0.0...   \n",
       "3       [0.9900000095367432, 0.009999999776482582, 0.0...   \n",
       "4                     [0.9900000095367432, 0.0, 0.0, 0.0]   \n",
       "...                                                   ...   \n",
       "337915  [0.25, 0.49000000953674316, 0.2300000041723251...   \n",
       "337916  [0.14000000059604645, 0.3700000047683716, 0.36...   \n",
       "337917  [0.2199999988079071, 0.46000000834465027, 0.28...   \n",
       "337918  [0.1599999964237213, 0.38999998569488525, 0.40...   \n",
       "337919  [0.2199999988079071, 0.4300000071525574, 0.330...   \n",
       "\n",
       "                       pred_ada                  prob_ada  \\\n",
       "0                 0 conversions  [0.32, 0.23, 0.23, 0.23]   \n",
       "1                 0 conversions  [0.32, 0.23, 0.23, 0.23]   \n",
       "2                 0 conversions  [0.32, 0.23, 0.23, 0.23]   \n",
       "3                 0 conversions  [0.32, 0.23, 0.23, 0.23]   \n",
       "4                 0 conversions  [0.32, 0.23, 0.23, 0.23]   \n",
       "...                         ...                       ...   \n",
       "337915  more than 5 conversions  [0.23, 0.23, 0.23, 0.32]   \n",
       "337916  more than 5 conversions  [0.23, 0.23, 0.23, 0.32]   \n",
       "337917  more than 5 conversions  [0.23, 0.23, 0.23, 0.32]   \n",
       "337918  more than 5 conversions  [0.23, 0.23, 0.23, 0.32]   \n",
       "337919  more than 5 conversions  [0.23, 0.23, 0.23, 0.32]   \n",
       "\n",
       "                                              probs_final  \\\n",
       "0       [0.7828571469443185, 0.137142857078995, 0.0357...   \n",
       "1       [0.8657142870766776, 0.06714285711092609, 0.03...   \n",
       "2       [0.8485714299338205, 0.08571428568235465, 0.03...   \n",
       "3       [0.8471428585052491, 0.08714285711092608, 0.03...   \n",
       "4       [0.860000001362392, 0.07142857142857142, 0.034...   \n",
       "...                                                   ...   \n",
       "337915  [0.13714285714285715, 0.29571428707667763, 0.3...   \n",
       "337916  [0.14285714294229238, 0.25285714353833877, 0.2...   \n",
       "337917  [0.13571428554398673, 0.25285714404923576, 0.2...   \n",
       "337918  [0.14999999948910306, 0.2999999979564122, 0.30...   \n",
       "337919  [0.13714285697255815, 0.2971428581646511, 0.31...   \n",
       "\n",
       "               final_prediction  \n",
       "0                 0 conversions  \n",
       "1                 0 conversions  \n",
       "2                 0 conversions  \n",
       "3                 0 conversions  \n",
       "4                 0 conversions  \n",
       "...                         ...  \n",
       "337915  btw 3 and 5 conversions  \n",
       "337916  more than 5 conversions  \n",
       "337917  more than 5 conversions  \n",
       "337918  btw 3 and 5 conversions  \n",
       "337919  btw 3 and 5 conversions  \n",
       "\n",
       "[337920 rows x 42 columns]"
      ]
     },
     "execution_count": 321,
     "metadata": {},
     "output_type": "execute_result"
    }
   ],
   "source": [
    "df_predictions_sep"
   ]
  },
  {
   "cell_type": "code",
   "execution_count": 324,
   "metadata": {},
   "outputs": [
    {
     "data": {
      "text/plain": [
       "0 conversions              196613\n",
       "1 or 2 conversions          70533\n",
       "btw 3 and 5 conversions     40426\n",
       "more than 5 conversions     30348\n",
       "Name: final_prediction, dtype: int64"
      ]
     },
     "execution_count": 324,
     "metadata": {},
     "output_type": "execute_result"
    }
   ],
   "source": [
    "df_predictions_sep.final_prediction.value_counts()"
   ]
  },
  {
   "cell_type": "code",
   "execution_count": null,
   "metadata": {},
   "outputs": [],
   "source": [
    "df_predictions_sep.to_csv('./data/sep_pred.csv',index=False)"
   ]
  }
 ],
 "metadata": {
  "kernelspec": {
   "display_name": "Python 3",
   "language": "python",
   "name": "python3"
  }
 },
 "nbformat": 4,
 "nbformat_minor": 2
}
