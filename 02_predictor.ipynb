{
 "cells": [
  {
   "cell_type": "markdown",
   "metadata": {},
   "source": [
    "# Predicting Conversions"
   ]
  },
  {
   "cell_type": "markdown",
   "metadata": {},
   "source": [
    "This notebook is for generating predictions on the desired time frame, age group, target group, topic and dollar amount spent on marketing campaign. "
   ]
  },
  {
   "cell_type": "markdown",
   "metadata": {},
   "source": [
    "## Importing Packages"
   ]
  },
  {
   "cell_type": "code",
   "execution_count": 1,
   "metadata": {},
   "outputs": [],
   "source": [
    "import matplotlib.pyplot as plt\n",
    "import seaborn as sns\n",
    "import matplotlib\n",
    "%matplotlib inline\n",
    "#import modelplotpy as mp\n",
    "plt.style.use(\"ggplot\")\n",
    "import pandas as pd\n",
    "import numpy as np\n",
    "#import warnings \n",
    "#warnings.fiterwarnings('ignore')\n",
    "\n",
    "import pickle\n",
    "from datetime import datetime, date, time, timedelta\n",
    "from dateutil import relativedelta\n",
    "\n",
    "from scipy.stats import gaussian_kde\n",
    "from hashlib import md5\n",
    "\n",
    "import os \n",
    "import sys\n",
    "import re\n",
    "import io\n",
    "import requests\n",
    "import zipfile\n",
    "import warnings\n",
    "warnings.filterwarnings('ignore')\n",
    "#import pystan \n",
    "#import matplotlib as plt\n",
    "\n",
    "import seaborn as sns\n",
    "import matplotlib\n",
    "\n",
    "from sklearn.model_selection import train_test_split, GridSearchCV, StratifiedKFold\n",
    "from sklearn.model_selection import StratifiedShuffleSplit \n",
    "from sklearn.base import clone \n",
    "from sklearn.model_selection import KFold\n",
    "from sklearn import metrics\n",
    "from sklearn.metrics import f1_score\n",
    "from sklearn.metrics import roc_curve, precision_recall_curve, auc, make_scorer, recall_score, accuracy_score, precision_score, confusion_matrix\n",
    "from sklearn.utils.class_weight import compute_class_weight\n",
    "from sklearn.model_selection import cross_val_score\n",
    "from itertools import product\n",
    "\n",
    "from sklearn.pipeline import make_pipeline\n",
    "from sklearn.compose import ColumnTransformer, make_column_transformer\n",
    "\n",
    "from __future__ import print_function\n",
    "\n",
    "from sklearn.compose import ColumnTransformer\n",
    "from sklearn.pipeline import Pipeline\n",
    "from sklearn.impute import SimpleImputer\n",
    "from sklearn.preprocessing import LabelBinarizer \n",
    "from sklearn.preprocessing import OneHotEncoder\n",
    "from sklearn.preprocessing import LabelEncoder\n",
    "from sklearn.preprocessing import MultiLabelBinarizer\n",
    "\n",
    "from sklearn.base import BaseEstimator, TransformerMixin\n",
    "\n",
    "#from sklearn_features.transformers import DataFrameSelector\n",
    "from sklearn.preprocessing import Imputer\n",
    "# from sklearn.preprocessing import CategoricalEncoder\n",
    "from sklearn.pipeline import FeatureUnion \n",
    "from sklearn.preprocessing import StandardScaler, OneHotEncoder\n",
    "from sklearn.model_selection import train_test_split, GridSearchCV"
   ]
  },
  {
   "cell_type": "code",
   "execution_count": 2,
   "metadata": {},
   "outputs": [],
   "source": [
    "class DataFrameSelector(BaseEstimator, TransformerMixin):\n",
    "    def __init__(self, attribute_names):\n",
    "        self.attribute_names=attribute_names\n",
    "    def fit(self, X, y=None):\n",
    "        return self\n",
    "    def transform(self, X):\n",
    "        return X[self.attribute_names].values"
   ]
  },
  {
   "cell_type": "code",
   "execution_count": 3,
   "metadata": {},
   "outputs": [
    {
     "name": "stdout",
     "output_type": "stream",
     "text": [
      "Requirement already satisfied: imblearn in /home/ec2-user/anaconda3/envs/tensorflow_p36/lib/python3.6/site-packages (0.0)\n",
      "Requirement already satisfied: imbalanced-learn in /home/ec2-user/anaconda3/envs/tensorflow_p36/lib/python3.6/site-packages (from imblearn) (0.5.0)\n",
      "Requirement already satisfied: scikit-learn>=0.21 in /home/ec2-user/anaconda3/envs/tensorflow_p36/lib/python3.6/site-packages (from imbalanced-learn->imblearn) (0.21.2)\n",
      "Requirement already satisfied: joblib>=0.11 in /home/ec2-user/anaconda3/envs/tensorflow_p36/lib/python3.6/site-packages (from imbalanced-learn->imblearn) (0.13.2)\n",
      "Requirement already satisfied: scipy>=0.17 in /home/ec2-user/anaconda3/envs/tensorflow_p36/lib/python3.6/site-packages (from imbalanced-learn->imblearn) (1.3.0)\n",
      "Requirement already satisfied: numpy>=1.11 in /home/ec2-user/anaconda3/envs/tensorflow_p36/lib/python3.6/site-packages (from imbalanced-learn->imblearn) (1.16.4)\n",
      "\u001b[33mYou are using pip version 10.0.1, however version 19.2.3 is available.\n",
      "You should consider upgrading via the 'pip install --upgrade pip' command.\u001b[0m\n"
     ]
    }
   ],
   "source": [
    "# imblearn has a problem by installation! First pip install is needed. Then the kernel\n",
    "# must be restarted then imblearn needs to be imported.\n",
    "\n",
    "!pip install imblearn"
   ]
  },
  {
   "cell_type": "code",
   "execution_count": 4,
   "metadata": {
    "scrolled": false
   },
   "outputs": [
    {
     "name": "stderr",
     "output_type": "stream",
     "text": [
      "Using TensorFlow backend.\n"
     ]
    }
   ],
   "source": [
    "import imblearn"
   ]
  },
  {
   "cell_type": "code",
   "execution_count": 5,
   "metadata": {},
   "outputs": [],
   "source": [
    "from sklearn.compose import TransformedTargetRegressor\n",
    "from sklearn.ensemble import RandomForestClassifier\n",
    "from sklearn.preprocessing import QuantileTransformer\n",
    "from sklearn.linear_model import LinearRegression\n",
    "from sklearn.linear_model import LogisticRegression\n",
    "from sklearn.ensemble import AdaBoostClassifier\n",
    "from sklearn.tree import DecisionTreeClassifier\n",
    "from sklearn.ensemble import BaggingClassifier \n",
    "from sklearn.metrics import balanced_accuracy_score\n",
    "# from imblearn.datasets import fetch_datasets\n",
    "from sklearn.svm import SVC\n",
    "from sklearn.ensemble import VotingClassifier \n",
    "\n",
    "from sklearn.multiclass import OneVsRestClassifier\n",
    "from sklearn.naive_bayes import MultinomialNB\n",
    "from sklearn.linear_model import SGDClassifier\n",
    "from sklearn.linear_model import LogisticRegression\n",
    "from sklearn.metrics import hamming_loss\n",
    "from sklearn import metrics\n",
    "\n",
    "\n",
    "#Import scikit-learn metrics module for accuracy calculation\n",
    "from sklearn import metrics\n",
    "# from imblearn.ensemble import BalancedBaggingClassifier\n",
    "# from imblearn.ensemble import BalancedRandomForestClassifier\n",
    "# from imblearn.ensemble import EasyEnsembleClassifier\n",
    "# from imblearn.ensemble import RUSBoostClassifier\n",
    "# from imblearn.metrics import geometric_mean_score\n",
    "from sklearn.naive_bayes import MultinomialNB, GaussianNB, BernoulliNB\n",
    "import nltk\n",
    "from nltk.classify.scikitlearn import SklearnClassifier\n",
    "from sklearn.svm import LinearSVC\n",
    "from sklearn.feature_selection import SelectFromModel\n",
    "\n",
    "\n",
    "from imblearn.over_sampling import SMOTE\n",
    "# from imblearn.datasets import make_imbalance\n",
    "# from imblearn.under_sampling import NearMiss\n",
    "# from imblearn.pipeline import make_pipeline\n",
    "# from imblearn.metrics import classification_report_imbalanced\n",
    "# from collections import Counter\n",
    "# from imblearn.under_sampling import RandomUnderSampler, NearMiss, CondensedNearestNeighbour\n",
    "# from imblearn.under_sampling import EditedNearestNeighbours, RepeatedEditedNearestNeighbours, TomekLinks\n",
    "from imblearn.over_sampling import RandomOverSampler, SMOTE\n",
    "from imblearn.combine import SMOTEENN, SMOTETomek\n",
    "# from imblearn.ensemble import BalanceCascade, EasyEnsemble\n",
    "\n",
    "import sagemaker\n",
    "from sagemaker.tensorflow import TensorFlow\n",
    "\n",
    "import tensorflow # Imports tensorflow\n",
    "import keras # Imports keras\n",
    "\n",
    "from keras.models import Sequential #Sequential Models\n",
    "from keras.layers import Dense #Dense Fully Connected Layer Type\n",
    "from keras.optimizers import SGD #Stochastic Gradient Descent Optimizer\n",
    "from keras.callbacks import EarlyStopping\n",
    "from keras.wrappers.scikit_learn import KerasClassifier\n",
    "\n",
    "from sklearn.datasets.samples_generator import make_blobs\n",
    "from keras.layers import Dense\n",
    "from keras.models import Sequential\n",
    "from keras.optimizers import SGD\n",
    "from keras.utils import to_categorical\n",
    "from keras.layers import Dropout"
   ]
  },
  {
   "cell_type": "code",
   "execution_count": 6,
   "metadata": {},
   "outputs": [
    {
     "name": "stdout",
     "output_type": "stream",
     "text": [
      "Requirement already satisfied: graphviz in /home/ec2-user/anaconda3/envs/tensorflow_p36/lib/python3.6/site-packages (0.12)\n",
      "\u001b[33mYou are using pip version 10.0.1, however version 19.2.3 is available.\n",
      "You should consider upgrading via the 'pip install --upgrade pip' command.\u001b[0m\n"
     ]
    }
   ],
   "source": [
    "!pip install graphviz"
   ]
  },
  {
   "cell_type": "code",
   "execution_count": 7,
   "metadata": {},
   "outputs": [
    {
     "name": "stdout",
     "output_type": "stream",
     "text": [
      "Requirement already satisfied: pydot in /home/ec2-user/anaconda3/envs/tensorflow_p36/lib/python3.6/site-packages (1.4.1)\n",
      "Requirement already satisfied: pyparsing>=2.1.4 in /home/ec2-user/anaconda3/envs/tensorflow_p36/lib/python3.6/site-packages (from pydot) (2.2.0)\n",
      "\u001b[33mYou are using pip version 10.0.1, however version 19.2.3 is available.\n",
      "You should consider upgrading via the 'pip install --upgrade pip' command.\u001b[0m\n"
     ]
    }
   ],
   "source": [
    "!pip install pydot"
   ]
  },
  {
   "cell_type": "code",
   "execution_count": 8,
   "metadata": {},
   "outputs": [
    {
     "name": "stdout",
     "output_type": "stream",
     "text": [
      "Requirement already satisfied: pydotplus in /home/ec2-user/anaconda3/envs/tensorflow_p36/lib/python3.6/site-packages (2.0.2)\n",
      "Requirement already satisfied: pyparsing>=2.0.1 in /home/ec2-user/anaconda3/envs/tensorflow_p36/lib/python3.6/site-packages (from pydotplus) (2.2.0)\n",
      "\u001b[33mYou are using pip version 10.0.1, however version 19.2.3 is available.\n",
      "You should consider upgrading via the 'pip install --upgrade pip' command.\u001b[0m\n"
     ]
    }
   ],
   "source": [
    "!pip install pydotplus"
   ]
  },
  {
   "cell_type": "code",
   "execution_count": 9,
   "metadata": {},
   "outputs": [
    {
     "name": "stderr",
     "output_type": "stream",
     "text": [
      "/home/ec2-user/anaconda3/envs/tensorflow_p36/lib/python3.6/site-packages/sklearn/externals/six.py:31: DeprecationWarning: The module is deprecated in version 0.21 and will be removed in version 0.23 since we've dropped support for Python 2.7. Please rely on the official version of six (https://pypi.org/project/six/).\n",
      "  \"(https://pypi.org/project/six/).\", DeprecationWarning)\n"
     ]
    }
   ],
   "source": [
    "from sklearn import tree\n",
    "import graphviz\n",
    "from IPython.display import Image\n",
    "import io\n",
    "from sklearn.externals.six import StringIO  \n",
    "import pydot\n",
    "import pydotplus\n",
    "from graphviz import Digraph\n",
    "\n",
    "from sklearn.externals.six import StringIO  \n",
    "from IPython.display import Image  \n",
    "from sklearn.tree import export_graphviz"
   ]
  },
  {
   "cell_type": "code",
   "execution_count": 10,
   "metadata": {},
   "outputs": [
    {
     "name": "stdout",
     "output_type": "stream",
     "text": [
      "Requirement already satisfied: pymc3 in /home/ec2-user/anaconda3/envs/tensorflow_p36/lib/python3.6/site-packages (3.7)\n",
      "Requirement already satisfied: numpy>=1.13.0 in /home/ec2-user/anaconda3/envs/tensorflow_p36/lib/python3.6/site-packages (from pymc3) (1.16.4)\n",
      "Requirement already satisfied: h5py>=2.7.0 in /home/ec2-user/anaconda3/envs/tensorflow_p36/lib/python3.6/site-packages (from pymc3) (2.8.0)\n",
      "Requirement already satisfied: pandas>=0.18.0 in /home/ec2-user/anaconda3/envs/tensorflow_p36/lib/python3.6/site-packages (from pymc3) (0.24.2)\n",
      "Requirement already satisfied: theano>=1.0.4 in /home/ec2-user/anaconda3/envs/tensorflow_p36/lib/python3.6/site-packages (from pymc3) (1.0.4)\n",
      "Requirement already satisfied: scipy>=0.18.1 in /home/ec2-user/anaconda3/envs/tensorflow_p36/lib/python3.6/site-packages (from pymc3) (1.3.0)\n",
      "Requirement already satisfied: patsy>=0.4.0 in /home/ec2-user/anaconda3/envs/tensorflow_p36/lib/python3.6/site-packages (from pymc3) (0.5.0)\n",
      "Requirement already satisfied: tqdm>=4.8.4 in /home/ec2-user/anaconda3/envs/tensorflow_p36/lib/python3.6/site-packages (from pymc3) (4.35.0)\n",
      "Requirement already satisfied: six in /home/ec2-user/anaconda3/envs/tensorflow_p36/lib/python3.6/site-packages (from h5py>=2.7.0->pymc3) (1.11.0)\n",
      "Requirement already satisfied: pytz>=2011k in /home/ec2-user/anaconda3/envs/tensorflow_p36/lib/python3.6/site-packages (from pandas>=0.18.0->pymc3) (2018.4)\n",
      "Requirement already satisfied: python-dateutil>=2.5.0 in /home/ec2-user/anaconda3/envs/tensorflow_p36/lib/python3.6/site-packages (from pandas>=0.18.0->pymc3) (2.7.3)\n",
      "\u001b[33mYou are using pip version 10.0.1, however version 19.2.3 is available.\n",
      "You should consider upgrading via the 'pip install --upgrade pip' command.\u001b[0m\n"
     ]
    }
   ],
   "source": [
    "!pip install pymc3"
   ]
  },
  {
   "cell_type": "code",
   "execution_count": 11,
   "metadata": {},
   "outputs": [],
   "source": [
    "import pymc3 as pm"
   ]
  },
  {
   "cell_type": "code",
   "execution_count": 12,
   "metadata": {},
   "outputs": [
    {
     "name": "stdout",
     "output_type": "stream",
     "text": [
      "Warning: 'conda-forge' already in 'channels' list, moving to the top\r\n"
     ]
    }
   ],
   "source": [
    "!conda config --add channels conda-forge"
   ]
  },
  {
   "cell_type": "markdown",
   "metadata": {},
   "source": [
    "## Uploading the Data"
   ]
  },
  {
   "cell_type": "code",
   "execution_count": 13,
   "metadata": {},
   "outputs": [],
   "source": [
    "# Uploading the Facebook Ads Manager from S3 Bucket:\n",
    "import boto3\n",
    "from sagemaker import get_execution_role\n",
    "\n",
    "role = get_execution_role()\n",
    "bucket='facebookconversionrates/fb_raw_data'\n",
    "data_key = 'fbadset.xlsx'\n",
    "data_location = 's3://{}/{}'.format(bucket, data_key)\n",
    "\n",
    "df = pd.read_excel(data_location)\n",
    "xls = pd.ExcelFile\n",
    "\n",
    "df = pd.read_excel(data_location, \n",
    "                   sheet_name=None, # instead of entering all the sheet names, sheet_name=None indicates all sheets to be uploaded\n",
    "                   skiprows=None)\n",
    "\n",
    "#convert dict to df to concat all sheets\n",
    "dfs = []\n",
    "for dfname in df.keys():\n",
    "    temp_df = df[dfname]\n",
    "    temp_df['Session'] = dfname\n",
    "    dfs.append(temp_df)\n",
    "    \n",
    "df = pd.concat(dfs)"
   ]
  },
  {
   "cell_type": "code",
   "execution_count": 14,
   "metadata": {},
   "outputs": [
    {
     "data": {
      "text/plain": [
       "Index(['Ad Account ID', 'Ad Account Name', 'Reporting starts',\n",
       "       'Reporting ends', 'Ad set name', 'Age', 'Ad set delivery', 'Bid',\n",
       "       'Bid Type', 'Ad set budget', 'Ad set budget type',\n",
       "       'Last significant edit', 'Results', 'Result indicator', 'Reach',\n",
       "       'Impressions', 'Cost per results', 'Amount spent (USD)', 'Ends',\n",
       "       'Starts', 'Link clicks', 'Website purchases', 'Leads (form)',\n",
       "       'Campaign name', 'Campaign ID', 'Lead - Page Contains thank-you',\n",
       "       'Lead Submission', 'Ad set ID', 'Landing page views', 'Session'],\n",
       "      dtype='object')"
      ]
     },
     "execution_count": 14,
     "metadata": {},
     "output_type": "execute_result"
    }
   ],
   "source": [
    "df.columns"
   ]
  },
  {
   "cell_type": "code",
   "execution_count": 15,
   "metadata": {},
   "outputs": [
    {
     "data": {
      "text/plain": [
       "105971"
      ]
     },
     "execution_count": 15,
     "metadata": {},
     "output_type": "execute_result"
    }
   ],
   "source": [
    "len(df)"
   ]
  },
  {
   "cell_type": "code",
   "execution_count": 16,
   "metadata": {},
   "outputs": [],
   "source": [
    "#remove space and concat _column names\n",
    "df.columns = df.columns.str.strip().str.lower().str.replace(' ', '_').str.replace('_-_', '_')"
   ]
  },
  {
   "cell_type": "code",
   "execution_count": 17,
   "metadata": {},
   "outputs": [],
   "source": [
    "df.sort_values(by='reporting_starts',ascending=False, inplace = True)"
   ]
  },
  {
   "cell_type": "code",
   "execution_count": 18,
   "metadata": {},
   "outputs": [
    {
     "data": {
      "text/plain": [
       "Timestamp('2019-09-03 00:00:00')"
      ]
     },
     "execution_count": 18,
     "metadata": {},
     "output_type": "execute_result"
    }
   ],
   "source": [
    "max(df['reporting_starts'])"
   ]
  },
  {
   "cell_type": "code",
   "execution_count": 19,
   "metadata": {},
   "outputs": [
    {
     "data": {
      "text/plain": [
       "Timestamp('2018-01-01 00:00:00')"
      ]
     },
     "execution_count": 19,
     "metadata": {},
     "output_type": "execute_result"
    }
   ],
   "source": [
    "min(df['reporting_starts'])"
   ]
  },
  {
   "cell_type": "code",
   "execution_count": 20,
   "metadata": {},
   "outputs": [],
   "source": [
    "df.drop_duplicates(keep=False,inplace=True)"
   ]
  },
  {
   "cell_type": "code",
   "execution_count": 21,
   "metadata": {},
   "outputs": [
    {
     "data": {
      "text/html": [
       "<div>\n",
       "<style scoped>\n",
       "    .dataframe tbody tr th:only-of-type {\n",
       "        vertical-align: middle;\n",
       "    }\n",
       "\n",
       "    .dataframe tbody tr th {\n",
       "        vertical-align: top;\n",
       "    }\n",
       "\n",
       "    .dataframe thead th {\n",
       "        text-align: right;\n",
       "    }\n",
       "</style>\n",
       "<table border=\"1\" class=\"dataframe\">\n",
       "  <thead>\n",
       "    <tr style=\"text-align: right;\">\n",
       "      <th></th>\n",
       "      <th>ad_account_id</th>\n",
       "      <th>ad_account_name</th>\n",
       "      <th>reporting_starts</th>\n",
       "      <th>reporting_ends</th>\n",
       "      <th>ad_set_name</th>\n",
       "      <th>age</th>\n",
       "      <th>ad_set_delivery</th>\n",
       "      <th>bid</th>\n",
       "      <th>bid_type</th>\n",
       "      <th>ad_set_budget</th>\n",
       "      <th>...</th>\n",
       "      <th>link_clicks</th>\n",
       "      <th>website_purchases</th>\n",
       "      <th>leads_(form)</th>\n",
       "      <th>campaign_name</th>\n",
       "      <th>campaign_id</th>\n",
       "      <th>lead_page_contains_thank-you</th>\n",
       "      <th>lead_submission</th>\n",
       "      <th>ad_set_id</th>\n",
       "      <th>landing_page_views</th>\n",
       "      <th>session</th>\n",
       "    </tr>\n",
       "  </thead>\n",
       "  <tbody>\n",
       "    <tr>\n",
       "      <th>7797</th>\n",
       "      <td>971415906232505</td>\n",
       "      <td>Matterport</td>\n",
       "      <td>2019-09-03</td>\n",
       "      <td>2019-09-03</td>\n",
       "      <td>ES - PS - Evergreen - All Lists - 5.1</td>\n",
       "      <td>55-64</td>\n",
       "      <td>active</td>\n",
       "      <td>0</td>\n",
       "      <td>ABSOLUTE_OCPM</td>\n",
       "      <td>25.0</td>\n",
       "      <td>...</td>\n",
       "      <td>NaN</td>\n",
       "      <td>NaN</td>\n",
       "      <td>NaN</td>\n",
       "      <td>Facebook - EMEA - ES - PS - Lead Submissions</td>\n",
       "      <td>6074860433239</td>\n",
       "      <td>NaN</td>\n",
       "      <td>NaN</td>\n",
       "      <td>6124979913439</td>\n",
       "      <td>NaN</td>\n",
       "      <td>sheet10</td>\n",
       "    </tr>\n",
       "    <tr>\n",
       "      <th>7786</th>\n",
       "      <td>971415906232505</td>\n",
       "      <td>Matterport</td>\n",
       "      <td>2019-09-03</td>\n",
       "      <td>2019-09-03</td>\n",
       "      <td>UK - PS - Evergreen - Video &amp; Website Remarket...</td>\n",
       "      <td>25-34</td>\n",
       "      <td>active</td>\n",
       "      <td>0</td>\n",
       "      <td>ABSOLUTE_OCPM</td>\n",
       "      <td>400.0</td>\n",
       "      <td>...</td>\n",
       "      <td>52.0</td>\n",
       "      <td>NaN</td>\n",
       "      <td>NaN</td>\n",
       "      <td>Facebook - EMEA - UK - PS - Lead Submissions</td>\n",
       "      <td>6058738984839</td>\n",
       "      <td>1.0</td>\n",
       "      <td>NaN</td>\n",
       "      <td>6127430097839</td>\n",
       "      <td>37.0</td>\n",
       "      <td>sheet10</td>\n",
       "    </tr>\n",
       "    <tr>\n",
       "      <th>7776</th>\n",
       "      <td>971415906232505</td>\n",
       "      <td>Matterport</td>\n",
       "      <td>2019-09-03</td>\n",
       "      <td>2019-09-03</td>\n",
       "      <td>UK - PS - Evergreen - SQL LAL - 5.23</td>\n",
       "      <td>25-34</td>\n",
       "      <td>active</td>\n",
       "      <td>0</td>\n",
       "      <td>ABSOLUTE_OCPM</td>\n",
       "      <td>50.0</td>\n",
       "      <td>...</td>\n",
       "      <td>7.0</td>\n",
       "      <td>NaN</td>\n",
       "      <td>NaN</td>\n",
       "      <td>Facebook - EMEA - UK - PS - Lead Submissions</td>\n",
       "      <td>6058738984839</td>\n",
       "      <td>NaN</td>\n",
       "      <td>NaN</td>\n",
       "      <td>6127432339039</td>\n",
       "      <td>4.0</td>\n",
       "      <td>sheet10</td>\n",
       "    </tr>\n",
       "    <tr>\n",
       "      <th>7777</th>\n",
       "      <td>971415906232505</td>\n",
       "      <td>Matterport</td>\n",
       "      <td>2019-09-03</td>\n",
       "      <td>2019-09-03</td>\n",
       "      <td>UK - PS - Evergreen - SQL LAL - 5.23</td>\n",
       "      <td>18-24</td>\n",
       "      <td>active</td>\n",
       "      <td>0</td>\n",
       "      <td>ABSOLUTE_OCPM</td>\n",
       "      <td>50.0</td>\n",
       "      <td>...</td>\n",
       "      <td>NaN</td>\n",
       "      <td>NaN</td>\n",
       "      <td>NaN</td>\n",
       "      <td>Facebook - EMEA - UK - PS - Lead Submissions</td>\n",
       "      <td>6058738984839</td>\n",
       "      <td>NaN</td>\n",
       "      <td>NaN</td>\n",
       "      <td>6127432339039</td>\n",
       "      <td>NaN</td>\n",
       "      <td>sheet10</td>\n",
       "    </tr>\n",
       "    <tr>\n",
       "      <th>7778</th>\n",
       "      <td>971415906232505</td>\n",
       "      <td>Matterport</td>\n",
       "      <td>2019-09-03</td>\n",
       "      <td>2019-09-03</td>\n",
       "      <td>UK - PS - Evergreen - Camera Sales LAL - 5.23</td>\n",
       "      <td>55-64</td>\n",
       "      <td>active</td>\n",
       "      <td>0</td>\n",
       "      <td>ABSOLUTE_OCPM</td>\n",
       "      <td>50.0</td>\n",
       "      <td>...</td>\n",
       "      <td>NaN</td>\n",
       "      <td>NaN</td>\n",
       "      <td>NaN</td>\n",
       "      <td>Facebook - EMEA - UK - PS - Lead Submissions</td>\n",
       "      <td>6058738984839</td>\n",
       "      <td>NaN</td>\n",
       "      <td>NaN</td>\n",
       "      <td>6127431430239</td>\n",
       "      <td>NaN</td>\n",
       "      <td>sheet10</td>\n",
       "    </tr>\n",
       "  </tbody>\n",
       "</table>\n",
       "<p>5 rows × 30 columns</p>\n",
       "</div>"
      ],
      "text/plain": [
       "        ad_account_id ad_account_name reporting_starts reporting_ends  \\\n",
       "7797  971415906232505      Matterport       2019-09-03     2019-09-03   \n",
       "7786  971415906232505      Matterport       2019-09-03     2019-09-03   \n",
       "7776  971415906232505      Matterport       2019-09-03     2019-09-03   \n",
       "7777  971415906232505      Matterport       2019-09-03     2019-09-03   \n",
       "7778  971415906232505      Matterport       2019-09-03     2019-09-03   \n",
       "\n",
       "                                            ad_set_name    age  \\\n",
       "7797              ES - PS - Evergreen - All Lists - 5.1  55-64   \n",
       "7786  UK - PS - Evergreen - Video & Website Remarket...  25-34   \n",
       "7776               UK - PS - Evergreen - SQL LAL - 5.23  25-34   \n",
       "7777               UK - PS - Evergreen - SQL LAL - 5.23  18-24   \n",
       "7778      UK - PS - Evergreen - Camera Sales LAL - 5.23  55-64   \n",
       "\n",
       "     ad_set_delivery  bid       bid_type  ad_set_budget  ... link_clicks  \\\n",
       "7797          active    0  ABSOLUTE_OCPM           25.0  ...         NaN   \n",
       "7786          active    0  ABSOLUTE_OCPM          400.0  ...        52.0   \n",
       "7776          active    0  ABSOLUTE_OCPM           50.0  ...         7.0   \n",
       "7777          active    0  ABSOLUTE_OCPM           50.0  ...         NaN   \n",
       "7778          active    0  ABSOLUTE_OCPM           50.0  ...         NaN   \n",
       "\n",
       "     website_purchases  leads_(form)  \\\n",
       "7797               NaN           NaN   \n",
       "7786               NaN           NaN   \n",
       "7776               NaN           NaN   \n",
       "7777               NaN           NaN   \n",
       "7778               NaN           NaN   \n",
       "\n",
       "                                     campaign_name    campaign_id  \\\n",
       "7797  Facebook - EMEA - ES - PS - Lead Submissions  6074860433239   \n",
       "7786  Facebook - EMEA - UK - PS - Lead Submissions  6058738984839   \n",
       "7776  Facebook - EMEA - UK - PS - Lead Submissions  6058738984839   \n",
       "7777  Facebook - EMEA - UK - PS - Lead Submissions  6058738984839   \n",
       "7778  Facebook - EMEA - UK - PS - Lead Submissions  6058738984839   \n",
       "\n",
       "      lead_page_contains_thank-you  lead_submission      ad_set_id  \\\n",
       "7797                           NaN              NaN  6124979913439   \n",
       "7786                           1.0              NaN  6127430097839   \n",
       "7776                           NaN              NaN  6127432339039   \n",
       "7777                           NaN              NaN  6127432339039   \n",
       "7778                           NaN              NaN  6127431430239   \n",
       "\n",
       "     landing_page_views  session  \n",
       "7797                NaN  sheet10  \n",
       "7786               37.0  sheet10  \n",
       "7776                4.0  sheet10  \n",
       "7777                NaN  sheet10  \n",
       "7778                NaN  sheet10  \n",
       "\n",
       "[5 rows x 30 columns]"
      ]
     },
     "execution_count": 21,
     "metadata": {},
     "output_type": "execute_result"
    }
   ],
   "source": [
    "df.head()"
   ]
  },
  {
   "cell_type": "code",
   "execution_count": 22,
   "metadata": {},
   "outputs": [],
   "source": [
    "df['ends'] = df['ends'].replace('Sürekli', 'Ongoing')"
   ]
  },
  {
   "cell_type": "code",
   "execution_count": 23,
   "metadata": {},
   "outputs": [
    {
     "data": {
      "text/plain": [
       "Ongoing                102778\n",
       "2018-09-30 00:00:00      1629\n",
       "43706                     254\n",
       "2019-07-29 00:00:00       230\n",
       "43719                     140\n",
       "2018-03-23 00:00:00       120\n",
       "2018-02-28 00:00:00       112\n",
       "2018-04-30 00:00:00       104\n",
       "2019-07-23 00:00:00        96\n",
       "2018-09-23 00:00:00        85\n",
       "2019-05-27 00:00:00        84\n",
       "2018-10-24 00:00:00        60\n",
       "2018-07-10 00:00:00        56\n",
       "2019-05-15 00:00:00        52\n",
       "2018-11-26 00:00:00        48\n",
       "2019-06-23 00:00:00        35\n",
       "2018-09-20 00:00:00        32\n",
       "2018-07-09 00:00:00        28\n",
       "2018-10-23 00:00:00        28\n",
       "Name: ends, dtype: int64"
      ]
     },
     "execution_count": 23,
     "metadata": {},
     "output_type": "execute_result"
    }
   ],
   "source": [
    "df['ends'].value_counts()"
   ]
  },
  {
   "cell_type": "code",
   "execution_count": 24,
   "metadata": {},
   "outputs": [],
   "source": [
    "fb=df.copy()"
   ]
  },
  {
   "cell_type": "code",
   "execution_count": 25,
   "metadata": {},
   "outputs": [
    {
     "data": {
      "text/plain": [
       "Index(['ad_account_id', 'ad_account_name', 'reporting_starts',\n",
       "       'reporting_ends', 'ad_set_name', 'age', 'ad_set_delivery', 'bid',\n",
       "       'bid_type', 'ad_set_budget', 'ad_set_budget_type',\n",
       "       'last_significant_edit', 'results', 'result_indicator', 'reach',\n",
       "       'impressions', 'cost_per_results', 'amount_spent_(usd)', 'ends',\n",
       "       'starts', 'link_clicks', 'website_purchases', 'leads_(form)',\n",
       "       'campaign_name', 'campaign_id', 'lead_page_contains_thank-you',\n",
       "       'lead_submission', 'ad_set_id', 'landing_page_views', 'session'],\n",
       "      dtype='object')"
      ]
     },
     "execution_count": 25,
     "metadata": {},
     "output_type": "execute_result"
    }
   ],
   "source": [
    "fb.columns"
   ]
  },
  {
   "cell_type": "code",
   "execution_count": 26,
   "metadata": {},
   "outputs": [],
   "source": [
    "fb['day_of_week']=fb['reporting_starts'].dt.dayofweek\n",
    "days = {0:'Mon',1:'Tues',2:'Weds',3:'Thurs',4:'Fri',5:'Sat',6:'Sun'}\n",
    "fb['day_of_week'] = fb['day_of_week'].apply(lambda x: days[x])"
   ]
  },
  {
   "cell_type": "code",
   "execution_count": 27,
   "metadata": {},
   "outputs": [],
   "source": [
    "fb['year'],fb['month'],fb['week_num'] = fb['reporting_starts'].dt.year, fb['reporting_starts'].dt.month, fb['reporting_starts'].dt.week"
   ]
  },
  {
   "cell_type": "code",
   "execution_count": 28,
   "metadata": {},
   "outputs": [],
   "source": [
    "#return_inverse : bool, optional\n",
    "#If True, also return the indices of the unique array \n",
    "#(for the specified axis, if provided) that can be used to reconstruct ar.\n",
    "def unique_val_count(a):\n",
    "    unique, inverse = np.unique(a, return_inverse=True)\n",
    "    count = np.zeros(len(unique), np.int)\n",
    "    np.add.at(count, inverse, 1)\n",
    "    return np.vstack((unique, count)).T"
   ]
  },
  {
   "cell_type": "code",
   "execution_count": 29,
   "metadata": {},
   "outputs": [],
   "source": [
    "fb['campaign_name']=fb.campaign_name.str.replace('Facebook','').str.strip().str.replace(' ','')"
   ]
  },
  {
   "cell_type": "code",
   "execution_count": 30,
   "metadata": {},
   "outputs": [],
   "source": [
    "fb['campaign_name']=fb['campaign_name'].str.replace(' ',\n",
    "'').str.strip().apply(lambda x : x[1:] if x.startswith(\"-\") else x)"
   ]
  },
  {
   "cell_type": "code",
   "execution_count": 31,
   "metadata": {},
   "outputs": [],
   "source": [
    "fb['location'] = fb.campaign_name.str.split('-').str[0]\n",
    "fb['topic'] = fb.campaign_name.str.split('-').str[1]\n",
    "fb['type'] = fb.campaign_name.str.split('-').str[2]"
   ]
  },
  {
   "cell_type": "code",
   "execution_count": 32,
   "metadata": {},
   "outputs": [],
   "source": [
    "#fb[['location','topic','type']]=fb['campaign_name'].str.extract('(?P<location>[\\s\\S]+) - (?P<topic>[\\s\\S]+) - (?P<type>[\\s\\S]+)', expand=True)"
   ]
  },
  {
   "cell_type": "code",
   "execution_count": 33,
   "metadata": {
    "scrolled": true
   },
   "outputs": [
    {
     "data": {
      "text/plain": [
       "array(['AU - AU Site Retargeting - LAL', 'AU - ENT - Self Employed - 2.1',\n",
       "       'AU - ENT - Self Employed - 2.15',\n",
       "       'AU - ENT - Self Employed - 3.15',\n",
       "       'AU - ENT - Self Employed - 3.7',\n",
       "       'AU - ENT - Self Employed / Drivers',\n",
       "       'AU - RRE - All Lists - LAL- 1.19',\n",
       "       'AU - RRE - All Lists - LAL- 2.15',\n",
       "       'AU - RRE - All Lists - LAL- 3.15',\n",
       "       'AU - RRE - All Lists - LAL- 3.7',\n",
       "       'AU - RRE - All Lists - LAL- 4.26',\n",
       "       'AU - RRE - All Lists - LAL- 4.9',\n",
       "       'AU - RRE - Website Remarketing & LAL - 5.9',\n",
       "       'AU - RRE - Website Remarketing - 4.17',\n",
       "       'CA - CA REMAX Agents - LAL', 'CA - CA REMAX Agents - LAL - 2.26',\n",
       "       'CA - CA REMAX Agents - LAL - 3.29',\n",
       "       'CA - CA Website Retargeting - LAL',\n",
       "       'CA - ENT - Self Employed / Drivers',\n",
       "       'CA - ENT - Self Employed / Drivers - 1.30',\n",
       "       'CA - ENT - Self Employed / Drivers - 2.15',\n",
       "       'CA - ENT - Self Employed / Drivers - 3.1', 'CA - GEN - MQL - LAL',\n",
       "       'CA - RRE -  All Lists - LAL - 2.2',\n",
       "       'CA - RRE -  All Lists - LAL - 2.26',\n",
       "       'CA - RRE -  All Lists - LAL - 3.29',\n",
       "       'CA - RRE -  All Lists - LAL - 3.7',\n",
       "       'CA - RRE -  All Lists - LAL - Dynamic Creative - 4.5',\n",
       "       'CA - RRE -  All Lists - LAL - Landing Page Test - 4.13',\n",
       "       'CA - RRE - All Lists - LAL - 2.15',\n",
       "       'CA - RRE - REMAX Agents - LAL - 2.15',\n",
       "       'CA - SQL & MQL - RRE - 2-24 - LAL', 'DE - DE Remax Agents - LAL',\n",
       "       'DE - PS - All Lists - LAL - 2.1',\n",
       "       'DE - PS - All Lists - LAL - 2.15',\n",
       "       'DE - PS - All Lists - LAL - 2.6',\n",
       "       'DE - PS - All Lists - LAL - 5.15',\n",
       "       'DE - PS - All Lists - LAL - 5.2',\n",
       "       'DE - PS - All Lists - LAL - 5.31',\n",
       "       'DE - PS - All Lists - LAL - 6.28',\n",
       "       'DE - PS - All Lists - LAL - 7.17',\n",
       "       'DE - PS - All Lists - LAL - 7.5',\n",
       "       'DE - PS - All Lists - LAL - 8.24',\n",
       "       'DE - PS - All Lists - LAL - 8.31',\n",
       "       'DE - PS - All Lists - LAL - September Promo - 9.11',\n",
       "       'DE - PS - Evergreen - All Lists - LAL - 4.17',\n",
       "       'DE - PS - Evergreen - All Lists - LAL - 4.4',\n",
       "       'DE - PS - Evergreen - All Lists - LAL - 5.23',\n",
       "       'DE - PS - Evergreen - Job Titles - 7.16',\n",
       "       'DE - PS - Evergreen - Job Titles - 7.31',\n",
       "       'DE - PS - Feb Promo - All Lists - LAL - 2.1',\n",
       "       'DE - PS - SQL - LAL', 'DE - PS - SQL - LAL - 2.6',\n",
       "       'DE - PS - Submitted Lead Form & LAL - Evergreen - 10.4',\n",
       "       'DE - PS - Submitted Lead Form & LAL - Evergreen - New Form Test -  11.13',\n",
       "       'DE - PS - Submitted Lead Form & LAL - Evergreen - New Form Test -  11.7',\n",
       "       'DE - PS - Submitted Lead Form - LAL - 7.24',\n",
       "       'DE - PS - Website Remarketing & LAL - 6.27',\n",
       "       'DE - PS - Website Remarketing & LAL - 8.24',\n",
       "       'DE - PS - Website Remarketing & LAL - Evergreen - 10.1',\n",
       "       'DE - PS - Website Remarketing & LAL - Evergreen - New Form Test - 11.14',\n",
       "       'DE - PS - Website Remarketing & LAL - Evergreen - New Form Test - 11.7',\n",
       "       'DE - PS - Website Remarketing & LAL - September Promo - 9.11',\n",
       "       'DE - PS - Website Remarketing - LAL - 6.1',\n",
       "       'DE - RRE - Agents & Brokers - LAL - 2.1',\n",
       "       'DE - RRE - All Lists - LAL - 2.15',\n",
       "       'DE - RRE - All Lists - LAL - 2.8',\n",
       "       'DE - RRE - All Lists - LAL - 2.9',\n",
       "       'DE - RRE - DE/ROW - All Lists - LAL - 3.9',\n",
       "       'DE - RRE - DE/ROW - All Lists - LAL - 4.12',\n",
       "       'DE - RRE - DE/ROW - All Lists - LAL - 4.26',\n",
       "       'DE - RRE - DE/ROW - All Lists - LAL - 5.12',\n",
       "       'DE - RRE - DE/ROW - All Lists - LAL - 6.4',\n",
       "       'DE - RRE - DE/ROW - All Lists - LAL - 7.5',\n",
       "       'DE - RRE - DE/ROW - All Lists - LAL - 8.15',\n",
       "       'DE - RRE - DE/ROW - All Lists - LAL - 8.24',\n",
       "       'DE - RRE - DE/ROW - All Lists - LAL - 8.29',\n",
       "       'DE - RRE - DE/ROW - All Lists - LAL - 8.31',\n",
       "       'DE - RRE - DE/ROW - All Lists - LAL - 9.5',\n",
       "       'DE - RRE - DE/ROW - All Lists - LAL - September Promo - 9.11',\n",
       "       'DE - RRE - December Sale - Awareness - 12.12 - Traffic',\n",
       "       'DE - RRE - Evergreen - All Lists - LAL - 4.4',\n",
       "       'DE - RRE - Evergreen - Job Titles - 8.12',\n",
       "       'DE - RRE - Feb Promo - All Lists - LAL - 2.1',\n",
       "       'DE - RRE - Feb Promo - All Lists - LAL - 2.7',\n",
       "       'DE - RRE - Opened Lead Form - LAL - 7.11',\n",
       "       'DE - RRE - ROW - All Lists - LAL - 2.15',\n",
       "       'DE - RRE - ROW - All Lists - LAL - 2.8',\n",
       "       'DE - RRE - ROW - All Lists - LAL - 2.9',\n",
       "       'DE - RRE - Submitted Lead Form - LAL - 10.4',\n",
       "       'DE - RRE - Submitted Lead Form - LAL - 8.10',\n",
       "       'DE - RRE - Video Remarketing & LAL - Evergreen - 10.29',\n",
       "       'DE - RRE - Webinar Remarketing LAL - Awareness - 5.7',\n",
       "       'DE - RRE - Website Remarketing - LAL - 6.1',\n",
       "       'DE - RRE - Website Remarketing - LAL - 7.2',\n",
       "       'DE - RRE - Website Remarketing - LAL - 8.24',\n",
       "       'DE - RRE - Website Remarketing - LAL - 9.4',\n",
       "       'DE - RRE - Website Remarketing - LAL - Evergreen - 10.1',\n",
       "       'DE - RRE - Website Remarketing - LAL - September Promo - 9.11',\n",
       "       'DE ROW -  MQL - LAL', 'DE ROW -  MQL - LAL - 2.1',\n",
       "       'EMEA - ENGL - RRE - MQL - LAL',\n",
       "       'EMEA - PS -  Website Remarketing - 4.23',\n",
       "       'EMEA - PS -  Website Remarketing - 5.8',\n",
       "       'EMEA - PS -  Website Remarketing - Pro 3D Clearance - 6.27',\n",
       "       'EMEA - PS - MQL - LAL', 'EMEA - PS - MQL - LAL - 1.19',\n",
       "       'EMEA - PS - MQL - LAL - 2.15', 'EMEA - PS - MQL - LAL - 4.26',\n",
       "       'EMEA - PS - MQL - LAL - 8.7',\n",
       "       'EMEA - PS - Website Remarketing - $600 Promo - 7.26',\n",
       "       'EMEA - PS - Website Remarketing - $600 Promo - 8.1',\n",
       "       'EMEA - RRE - ENGL - MQL - LAL - 2.15',\n",
       "       'EMEA - RRE - ENGL - MQL - LAL - 2.6',\n",
       "       'EMEA - RRE - ENGL - MQL - LAL - 8.7',\n",
       "       'EMEA - RRE - Website Remarketing - $600 Promo - 7.26',\n",
       "       'EMEA - RRE - Website Remarketing - $600 Promo - 8.1',\n",
       "       'EMEA - RRE - Website Remarketing - 4.23',\n",
       "       'EMEA - RRE - Website Remarketing - Pro 3D Clearance - 6.27',\n",
       "       'EMEA - RRE - Website Remarketing - Pro 3D Clearance - 7.18',\n",
       "       'EMEA - RRE - Website Remarketing - Pro 3D Clearance - 8.14',\n",
       "       'ES - PS - All Lists - LAL - 4.13',\n",
       "       'ES - PS - All Lists - LAL - 6.28',\n",
       "       'ES - PS - All Lists - LAL - 8.24',\n",
       "       'ES - PS - All Lists - LAL - 9.5',\n",
       "       'ES - PS - All Lists - LAL - Evergreen - 10.1',\n",
       "       'ES - PS - All Lists - LAL - Evergreen - 10.5',\n",
       "       'ES - PS - All Lists - LAL - Evergreen - 11.9',\n",
       "       'ES - PS - All Lists - LAL - September Promo - 9.11',\n",
       "       'ES - PS - All Lists - LAL - September Promo - 9.18',\n",
       "       'ES - PS - Evergreen - All Lists - 4.22',\n",
       "       'ES - PS - Evergreen - All Lists - 4.4',\n",
       "       'ES - PS - Evergreen - All Lists - 5.1',\n",
       "       'ES - PS - Evergreen - Job Titles - 7.15',\n",
       "       'ES - PS - Evergreen - Job Titles - 7.31',\n",
       "       'ES - PS - Feb Promo - All Lists - 2.8',\n",
       "       'ES - PS - Opened Lead Form - LAL - 8.30',\n",
       "       'ES - PS - Video Remarketing - LAL - Evergreen - 10.1',\n",
       "       'ES - PS - Website Remarketing - 5.24',\n",
       "       'ES - PS - Website Remarketing - LAL - 6.1',\n",
       "       'ES - REMAX Agents & Brokers - LAL',\n",
       "       'ES - REMAX Agents & Brokers - LAL - 2.15',\n",
       "       'ES - REMAX Agents & Brokers - LAL - 5.9',\n",
       "       'ES - REMAX Agents & Brokers - LAL - 7.9',\n",
       "       'ES - REMAX Agents & Brokers - LAL - 8.24',\n",
       "       'ES - REMAX Agents & Brokers - LAL - 9.5',\n",
       "       'ES - REMAX Agents & Brokers - LAL - September Promo - 9.11',\n",
       "       'ES - RRE - December Sale - Awareness - 12.12 - Traffic',\n",
       "       'ES - RRE - Feb Promo - All Lists - 2.8',\n",
       "       'ES - RRE - Opened Lead Form - LAL - 8.30',\n",
       "       'ES - RRE - Retargeting Website - LAL - 2.15',\n",
       "       'ES - RRE - Retargeting Website - LAL - 2.6',\n",
       "       'ES - RRE - Webinar - Video Remarketing & LAL - 11.21',\n",
       "       'ES - RRE - Webinar - Website Remarketing & LAL - 11.15',\n",
       "       'ES - RRE - Webinar - Website Remarketing & LAL - 11.9',\n",
       "       'ES - RRE - Website Remarketing - LAL - 6.1',\n",
       "       'ES - Retargeting Website - LAL', 'ES - SQL - LAL',\n",
       "       'ES - SQL - LAL - 2.15',\n",
       "       'ES- RRE - All Lists - LAL - Awareness - 11.2',\n",
       "       'Event: Webinar - 3D Reality Capture for Architects',\n",
       "       'Event: Webinar - Accurate, Competitive Estimation for Construction Pros',\n",
       "       'Event: Webinar - Listing Presentation Panel Discussion',\n",
       "       'FR - FR REMAX Agents - LAL - 4.13',\n",
       "       'FR - FR REMAX Agents - LAL - 5.7',\n",
       "       'FR - FR REMAX Agents - LAL - 8.23',\n",
       "       'FR - FR REMAX Agents - LAL - 8.31', 'FR - FR Website - LAL',\n",
       "       'FR - Facebook Page Engagement - LAL',\n",
       "       'FR - PS - All Lists - Dynamic Creative - 5.11',\n",
       "       'FR - PS - All Lists - Evergreen - 1.21',\n",
       "       'FR - PS - All Lists - LAL - 4.24',\n",
       "       'FR - PS - All Lists - LAL - 5.24',\n",
       "       'FR - PS - All Lists - LAL - 5.7',\n",
       "       'FR - PS - All Lists - LAL - 7.13',\n",
       "       'FR - PS - All Lists - LAL - 7.2',\n",
       "       'FR - PS - All Lists - LAL - 7.9',\n",
       "       'FR - PS - All Lists - LAL - 8.23',\n",
       "       'FR - PS - All Lists - LAL - Evergreen - 10.1',\n",
       "       'FR - PS - All Lists - LAL - September Promo - 9.11',\n",
       "       'FR - PS - All Lists - March Promo - 3.15',\n",
       "       'FR - PS - Evergreen - All Lists - 4.19',\n",
       "       'FR - PS - Evergreen - All Lists - 4.4',\n",
       "       'FR - PS - Evergreen - All Lists - 5.23',\n",
       "       'FR - PS - Evergreen - Job Titles - 7.31',\n",
       "       'FR - PS - Feb Promo - All Lists - Evergreen - 2.6',\n",
       "       'FR - PS - Opened Lead Form - LAL - 7.12',\n",
       "       'FR - PS - Opened Lead Form - LAL - 8.23', 'FR - PS - SQL - LAL',\n",
       "       'FR - PS - SQL - LAL - 2.15', 'FR - PS - SQL - LAL - 2.2',\n",
       "       'FR - PS - SQL - LAL - 4.5',\n",
       "       'FR - PS - Submitted Lead Form - LAL - 7.24',\n",
       "       'FR - PS - Submitted Lead Form - LAL - 8.28',\n",
       "       'FR - PS - Submitted Lead Form - LAL - Evergreen - 10.1',\n",
       "       'FR - PS - Submitted Lead Form - LAL - September Promo - 9.11',\n",
       "       'FR - PS - Submitted Lead Form - LAL - September Promo - 9.14',\n",
       "       'FR - PS - Website Remarketing - LAL - 5.24',\n",
       "       'FR - PS - Website Remarketing - LAL - September Promo - 9.21',\n",
       "       'FR - RRE - All Lists  LAL - Awareness - 11.9',\n",
       "       'FR - RRE - All Lists - LAL -  5.7',\n",
       "       'FR - RRE - All Lists - LAL -  Dynamic Creative - 5.15',\n",
       "       'FR - RRE - All Lists - LAL - 4.13',\n",
       "       'FR - RRE - All Lists - LAL - 5.24',\n",
       "       'FR - RRE - All Lists - LAL - Awareness - 8.23',\n",
       "       'FR - RRE - All Lists - LAL - Awareness - September Promo - 9.11',\n",
       "       'FR - RRE - Awareness - 10.1', 'FR - RRE - Awareness - 7.12',\n",
       "       'FR - RRE - Awareness - 7.18', 'FR - RRE - Awareness - 9.4',\n",
       "       'FR - RRE - Camera Sales & Buy Site LAL - Evergreen - 4.8',\n",
       "       'FR - RRE - Camera Sales & Buy Site LAL - Evergreen - 5.23',\n",
       "       'FR - RRE - Camera Sales & Buy Site LAL - Evergreen - 5.28',\n",
       "       'FR - RRE - December Sale - Awareness - 12.12 - Traffic',\n",
       "       'FR - RRE - Evergreen - Employers - 7.31',\n",
       "       'FR - RRE - Evergreen - Job Titles - 7.31',\n",
       "       'FR - RRE - Feb Promo - Video Remarketing  LAL & Website Remarketing-2.6',\n",
       "       'FR - RRE - Honquet Webinar Remarketing LAL - Awareness - 5.3',\n",
       "       'FR - RRE - Opened Lead Forms - LAL - 7.6',\n",
       "       'FR - RRE - Opened Lead Forms - LAL - 8.16',\n",
       "       'FR - RRE - Opened Lead Forms - LAL - Evergreen - 10.1',\n",
       "       'FR - RRE - Opened Lead Forms - LAL - Evergreen - 9.4',\n",
       "       'FR - RRE - Opened Lead Forms - LAL - September Promo - 9.11',\n",
       "       'FR - RRE - Opened Lead Forms - LAL - September Promo - 9.14',\n",
       "       'FR - RRE - SQL - LAL', 'FR - RRE - SQL - LAL - 2.15',\n",
       "       'FR - RRE - SQL - LAL - 2.2',\n",
       "       'FR - RRE - SeLoger Webinar Remarketing - LAL - Awareness - 5.16',\n",
       "       'FR - RRE - Submitted Lead Form  - LAL - September Promo - 9.17',\n",
       "       'FR - RRE - Video Remarketing  LAL & Website Remarketing- Evergreen - 10.26',\n",
       "       'FR - RRE - Video Remarketing  LAL & Website Remarketing- Evergreen - 12.28',\n",
       "       'FR - RRE - Video Remarketing  LAL & Website Remarketing- Evergreen - 4.4',\n",
       "       'FR - RRE - Video Remarketing  LAL & Website Remarketing- Evergreen - 5.28',\n",
       "       'FR - RRE - Webinar Remarketing - LAL - Awareness - 10.23',\n",
       "       'FR - RRE - Website Remarketing & LAL - 7.13',\n",
       "       'FR - RRE - Website Remarketing & LAL - 8.23',\n",
       "       'FR - RRE - Website Remarketing & LAL - 9.4',\n",
       "       'FR - RRE - Website Remarketing & LAL - September Promo - 9.11',\n",
       "       'FR - RRE - Website Remarketing - 7.12',\n",
       "       'FR - RRE - Website Remarketing - 8.16',\n",
       "       'FR - RRE - Website Remarketing - LAL - 5.24',\n",
       "       'FR - RRE - Website Remarketing LAL - Evergreen - 10.1',\n",
       "       'FR - RRE- Facebook Page Engagement - LAL - 2.15',\n",
       "       'FR - RRE- Facebook Page Engagement - LAL - 2.2',\n",
       "       'FR ROW - RRE - MQL - LAL', 'FR ROW - RRE - MQL - LAL - 2.15',\n",
       "       'FR ROW - RRE - MQL - LAL - 2.2', 'GB -  UK - PS - 6.15 - LAL',\n",
       "       'GB - UK - MQL - RRE - 2-24 - LAL', 'GB - UK Buyer 2% - 5% - LAL',\n",
       "       'IE - PS - MQL - LAL', 'IE - PS - MQL - LAL - 1.19',\n",
       "       'IE - PS - MQL - LAL - 2.15', 'IE - PS - MQL - LAL - 2.6',\n",
       "       'IE - RRE - All Lists - LAL - 2.15',\n",
       "       'IE - RRE - All Lists - LAL - 2.6',\n",
       "       'IE - RRE - All Lists - LAL - 3.29',\n",
       "       'IE - Website Retargeting - LAL', 'IT - PS - All Lists - 4.23',\n",
       "       'IT - PS - All Lists - 5.23', 'IT - PS - All Lists - 5.28',\n",
       "       'IT - PS - All Lists - 5.31', 'IT - PS - All Lists - 7.2',\n",
       "       'IT - PS - All Lists - 8.27',\n",
       "       'IT - PS - Evergreen - Job Titles - 7.31',\n",
       "       'IT - RRE - Website Remarketing - LAL - 6.1', 'IT - RRE MQL - LAL',\n",
       "       'IT - RRE MQL - LAL - 2.2', 'IT - RRE MQL - LAL - 3.5',\n",
       "       'IT - RRE MQL - LAL - 4.23', 'IT - RRE MQL - LAL - 6.28',\n",
       "       'IT - RRE MQL - LAL - 8.24',\n",
       "       'MX - Carribean Islands - RRE - Website Awareness Remarketing - 8.14',\n",
       "       'MX - Latin America - Photographers - Evergreen - 5.6',\n",
       "       'MX - Latin America - RRE - Awareness - Reach - 9.13',\n",
       "       'MX - Latin America - Remax Agents - LAL',\n",
       "       'MX - Latin America - Remax Agents - LAL - 8.27',\n",
       "       'MX - Latin America - Remax Agents - LAL - 9.5',\n",
       "       'MX - Latin America - Remax Agents - LAL - Evergreen - 10.1',\n",
       "       'MX - Latin America - Remax Agents - LAL - September Promo - 9.11',\n",
       "       'MX - Retargeting Website - LAL',\n",
       "       'MX - Retargeting Website - LAL - 3.9',\n",
       "       'MX - Retargeting Website - LAL - 6.25',\n",
       "       'MX - Retargeting Website - LAL - 8.27',\n",
       "       'MX - Retargeting Website - LAL - 9.5',\n",
       "       'MX - Retargeting Website - LAL - Evergreen - 10.1',\n",
       "       'MX - Retargeting Website - LAL - September Promo - 9.11',\n",
       "       'MX Latin America - Caribbean Islands - RRE - Awareness - 10.1',\n",
       "       'MX Latin America - Caribbean Islands - RRE - Awareness - 10.11',\n",
       "       'MX Latin America - Caribbean Islands - RRE - Awareness - 11.8',\n",
       "       'MX Latin America - Caribbean Islands - RRE - Awareness - 8.2',\n",
       "       'MX Latin America - Caribbean Islands - RRE - Awareness - 8.27',\n",
       "       'MX Latin America - Caribbean Islands - RRE - Awareness - 9.5',\n",
       "       'MX Latin America - Caribbean Islands - RRE - Awareness - September Promo - 9.21',\n",
       "       'PL - RRE - LAL - 4.24', 'PL - RRE - LAL - 5.3',\n",
       "       'PL - RRE Camera Sales - LAL', 'PL - RRE Camera Sales - LAL - 2.2',\n",
       "       'PL - RRE Camera Sales - LAL - 4.13',\n",
       "       'SE - RRE - SQL 2-24 - LAL - 2.15',\n",
       "       'SE - RRE - SQL 2-24 - LAL - 2.6', 'SE - SQL - RRE - 2-24 - LAL',\n",
       "       'SimaPRO Promotion - June 2019',\n",
       "       'UK - Cloud 3.0 - Camera Brand Interests',\n",
       "       'UK - ENT - Self Employed / Drivers',\n",
       "       'UK - ENT - Self Employed / Drivers - 2.15',\n",
       "       'UK - ENT - Self Employed / Drivers - 3.9',\n",
       "       'UK - ENT - Self Employed / Drivers-1.19', 'UK - GEN - LAL - 1.19',\n",
       "       'UK - GEN - LAL - 2.15', 'UK - GEN - MQL - LAL',\n",
       "       'UK - PS - All Lists - LAL - 2.15',\n",
       "       'UK - PS - All Lists - LAL - 2.2',\n",
       "       'UK - PS - All Lists - LAL - 3.29',\n",
       "       'UK - PS - All Lists - LAL - 3.9',\n",
       "       'UK - PS - All Lists - LAL - 4.26',\n",
       "       'UK - PS - All Lists - LAL - 6.5',\n",
       "       'UK - PS - All Lists - LAL - Awareness - 8.23',\n",
       "       'UK - PS - All Lists - LAL - Awareness - September Promo - 9.11',\n",
       "       'UK - PS - All Lists - LAL - Reach Frequency - 10.9',\n",
       "       'UK - PS - All Lists - LAL 1.30',\n",
       "       'UK - PS - All Remarketing - Evergreen - New Form - 12.27',\n",
       "       'UK - PS - Awareness - 8.2', 'UK - PS - Awareness - Testing - 8.6',\n",
       "       'UK - PS - Awareness - Webinar - 10.1',\n",
       "       'UK - PS - Awareness - Webinar - 5.22',\n",
       "       'UK - PS - Awareness - Webinar - 9.4',\n",
       "       'UK - PS - Evergreen - Camera Sales LAL - 5.22',\n",
       "       'UK - PS - Evergreen - Camera Sales LAL - 5.23',\n",
       "       'UK - PS - Evergreen - Job Titles - 7.16',\n",
       "       'UK - PS - Evergreen - Job Titles - 7.31',\n",
       "       'UK - PS - Evergreen - SQL LAL - 5.23',\n",
       "       'UK - PS - Evergreen - Video & Website Remarketing - 4.18',\n",
       "       'UK - PS - Evergreen - Video & Website Remarketing - 4.8',\n",
       "       'UK - PS - Evergreen - Video & Website Remarketing - 5.22',\n",
       "       'UK - PS - Evergreen - Video & Website Remarketing - 5.23',\n",
       "       'UK - PS - Evergreen - Website Remarketing & LAL - 5.6',\n",
       "       'UK - PS - Evergreen - Website Remarketing LAL - 5.22',\n",
       "       'UK - PS - Evergreen - Website Remarketing LAL - 5.23',\n",
       "       'UK - PS - Feb Promo - Video & Website Remarketing - 2.7',\n",
       "       'UK - PS - Flash Sale - Awareness - 11.24',\n",
       "       'UK - PS - Infographic - Website Remarketing & LAL - 3.29',\n",
       "       'UK - PS - Opened Lead Form - LAL - 8.23',\n",
       "       'UK - PS - Opened Lead Form - LAL - Evergreen - 10.1',\n",
       "       'UK - PS - Opened Lead Form - LAL - Evergreen - New Form Testing - 11.16',\n",
       "       'UK - PS - Opened Lead Form - LAL - September Promo - 9.18',\n",
       "       'UK - PS - Opening Doors to New Opportunities',\n",
       "       'UK - PS - Thriving 3D Business',\n",
       "       'UK - PS - Video & Website Remarketing - 7.11',\n",
       "       'UK - PS - Video & Website Remarketing - 8.31',\n",
       "       'UK - PS - Video & Website Remarketing - Evergreen - 1.25',\n",
       "       'UK - PS - Video & Website Remarketing - Evergreen - 10.1',\n",
       "       'UK - PS - Video & Website Remarketing - Evergreen - 9.18',\n",
       "       'UK - PS - Video & Website Remarketing - September Promo - 9.11',\n",
       "       'UK - PS - Video & Website Remarketing - September Promo - 9.14',\n",
       "       'UK - PS - Video Remarketing - 6.11',\n",
       "       'UK - PS - Video Remarketing - 6.7',\n",
       "       'UK - PS - Video Remarketing - LAL - Evergreen - 10.23',\n",
       "       'UK - PS - Video Remarketing - LAL - Evergreen - 10.25',\n",
       "       'UK - PS - Video Remarketing - LAL - Evergreen - New Form Testing - 11.16',\n",
       "       'UK - PS - Website Remarketing - $400 Promo - 7.26',\n",
       "       'UK - PS - Website Remarketing - $600 Promo - 7.26',\n",
       "       'UK - PS - Website Remarketing - $600 Promo - 8.1',\n",
       "       'UK - PS - Website Remarketing - LAL - 6.6',\n",
       "       'UK - PS - Website Remarketing - LAL - 7.26',\n",
       "       'UK - PS - Website Remarketing - LAL - 8.23',\n",
       "       'UK - PS - Website Remarketing - LAL - Evergreen - 10.1',\n",
       "       'UK - PS - Website Remarketing - LAL - Evergreen - New Form Testing - 11.16',\n",
       "       'UK - PS - Website Remarketing - LAL - September Promo - 9.11',\n",
       "       'UK - PS - Website Remarketing - Pro 3D Clearance - 6.27',\n",
       "       'UK - PS - Website Remarketing - Pro 3D Clearance - 7.18',\n",
       "       'UK - RRE - All Lists - LAL - 1.19',\n",
       "       'UK - RRE - All Lists - LAL - 3.13',\n",
       "       'UK - RRE - All Lists - LAL - 4.12',\n",
       "       'UK - RRE - All Lists - LAL - 4.26',\n",
       "       'UK - RRE - All Lists - LAL - 4.5',\n",
       "       'UK - RRE - All Lists - LAL - 8.23',\n",
       "       'UK - RRE - All Lists - LAL - Dynamic Creative - 3.23',\n",
       "       'UK - RRE - All Lists - LAL - Dynamic Creative - 4.9',\n",
       "       'UK - RRE - All Lists - LAL - Traffic Driving - 10.10',\n",
       "       'UK - RRE - All Lists - LAL - Traffic Driving - 11.27',\n",
       "       'UK - RRE - Brokers - LAL - $600 Promo - 8.13',\n",
       "       'UK - RRE - DQ Cost - LAL - Pro 3D Clearance - 7.18',\n",
       "       'UK - RRE - DQ Cost - LAL - Pro 3D Clearance - 8.2',\n",
       "       'UK - RRE - DQ Remarketing & LAL - Pro 3D Clearance - 6.29',\n",
       "       'UK - RRE - December Sale - Awareness - 12.12 - Traffic',\n",
       "       'UK - RRE - Evergreen - Employers - 8.8',\n",
       "       'UK - RRE - Evergreen - Job Titles - 8.8',\n",
       "       'UK - RRE - Evergreen - Video Remarketing & LAL - 4.18',\n",
       "       'UK - RRE - Evergreen - Video Remarketing & LAL - 4.8',\n",
       "       'UK - RRE - Feb Promo - Remarketing and LAL - 2.6',\n",
       "       'UK - RRE - Feb Promo - Video Remarketing & LAL - 2.6',\n",
       "       'UK - RRE - Flash Sale - 11.25',\n",
       "       'UK - RRE - Limited Time Offer - Website Remarketing & LAL - $600 Promo - 7.26',\n",
       "       'UK - RRE - Limited Time Offer - Website Remarketing & LAL - $600 Promo - 8.1',\n",
       "       'UK - RRE - MQL - LAL - 3.9', 'UK - RRE - MQL - LAL 2.15',\n",
       "       'UK - RRE - MQL - LAL 3.5',\n",
       "       'UK - RRE - Opened Lead Form - LAL - 7.13', 'UK - RRE - SQL - LAL',\n",
       "       'UK - RRE - Video Remarketing & LAL - 10.16',\n",
       "       'UK - RRE - Video Remarketing & LAL - 7.11',\n",
       "       'UK - RRE - Video Remarketing & LAL - 8.28',\n",
       "       'UK - RRE - Video Remarketing & LAL - 8.31',\n",
       "       'UK - RRE - Video Remarketing - $300 July Sale - 7.17',\n",
       "       'UK - RRE - Video Remarketing - 5.11',\n",
       "       'UK - RRE - Video Remarketing - Pro 3D Clearance - 6.27',\n",
       "       'UK - RRE - Website Remarketing - LAL - 10.11',\n",
       "       'UK - RRE - Website Remarketing - LAL - 10.8',\n",
       "       'UK - RRE - Website Remarketing - LAL - 5.11',\n",
       "       'UK - RRE - Website Remarketing - LAL - 7.10',\n",
       "       'UK - RRE - Website Remarketing - LAL - 7.26',\n",
       "       'UK - RRE - Website Remarketing - LAL - 8.23',\n",
       "       'UK - RRE -Evergreen - Remarketing and LAL - 4.4',\n",
       "       'US - AEC - Architects - Event Webinar - LAL - 7.12',\n",
       "       'US - AEC - Architects - LAL - 2.15',\n",
       "       'US - AEC - Architects - LAL - 2.2',\n",
       "       'US - AEC - Architects - LAL - 4.16',\n",
       "       'US - AEC - Architects - LAL - 5.11',\n",
       "       'US - AEC - Architects - LAL - 6.21',\n",
       "       'US - AEC - Architects - LAL - September Promo - 9.11',\n",
       "       'US - AEC - Architects - Website Remarketing & LAL - 5.11',\n",
       "       'US - AEC - Architects - Website Remarketing & LAL - 6.14',\n",
       "       'US - AEC - Architects - Website Remarketing & LAL - 6.21',\n",
       "       'US - AEC - Architects - Website Remarketing & LAL - 6.6',\n",
       "       'US - AEC - Construction - LAL - $1000 Promo - 9.1',\n",
       "       'US - AEC - Construction - LAL - 2.15',\n",
       "       'US - AEC - Construction - LAL - 2.2',\n",
       "       'US - AEC - Construction - LAL - 4.5',\n",
       "       'US - AEC - Construction - LAL - 5.24',\n",
       "       'US - AEC - Construction - LAL - 7.2',\n",
       "       'US - AEC - Construction - LAL - Enterprise Targeting - 10.3',\n",
       "       'US - AEC - Construction - LAL - Enterprise Targeting - 9.28',\n",
       "       'US - AEC - Construction - LAL - Evergreen - 9.4',\n",
       "       'US - AEC - Construction - Website Remarketing & LAL - 5.11',\n",
       "       'US - AEC - Construction - Website Remarketing & LAL - 6.6',\n",
       "       'US - AEC - Construction - Website Remarketing & LAL - Enterprise Targeting - 10.9',\n",
       "       'US - AEC - Construction Webinar Event - LAL - Evergreen - 9.4',\n",
       "       'US - AEC - Engineers - LAL', 'US - AEC - Engineers - LAL - 2.15',\n",
       "       'US - AEC - Engineers - LAL - 2.2', 'US - AEC Architects - LAL',\n",
       "       'US - All Lists - 10-25 List - Men',\n",
       "       'US - All Segments - Live Meetup - 8.21',\n",
       "       'US - CRE - All Lists - LAL - 5.24',\n",
       "       'US - CRE - All Lists - LAL - 6.7',\n",
       "       'US - CRE - All Lists - LAL - 9.4',\n",
       "       'US - CRE - All Lists - LAL - September Promo - 9.11',\n",
       "       'US - CRE - Opened Lead Form - LAL - $1000 Promo - 9.1',\n",
       "       'US - CRE - Opened Lead Form - LAL - September Promo - 9.11',\n",
       "       'US - CRE - Remarketing - LAL',\n",
       "       'US - CRE - Remarketing - LAL - 3.13',\n",
       "       'US - CRE - Remarketing - LAL - 3.7',\n",
       "       'US - CRE - Remarketing - LAL - 5.7',\n",
       "       'US - CRE - Submitted Lead Form - LAL - 9.4',\n",
       "       'US - CRE - Submitted Lead Form - LAL- 7.11',\n",
       "       'US - CRE - Website Remarketing - LAL - 5.24',\n",
       "       'US - CRE - Website Remarketing - LAL - 6.7',\n",
       "       'US - CRE - Website Remarketing - LAL - 7.3',\n",
       "       'US - CRE - Website Remarketing - LAL - 9.4',\n",
       "       'US - CRE - Website Remarketing - LAL - September Promo - 9.11',\n",
       "       'US - Camera Sale - PS - LAL',\n",
       "       'US - Cloud 3.0 - Adventure, Extreme Sports Photography - 3.21',\n",
       "       'US - Cloud 3.0 - DQ & Lookalike - 3.21',\n",
       "       'US - Cloud 3.0 - DQ & Lookalike - 4.8',\n",
       "       'US - Cloud 3.0 - DQ & Lookalike - 8.5',\n",
       "       'US - Cloud 3.0 - ETA + Camera Brand - 3.21',\n",
       "       'US - Cloud 3.0 - ETA + Camera Brand - 4.8',\n",
       "       'US - Cloud 3.0 - ETA + Camera Brand - 8.5',\n",
       "       'US - Cloud 3.0 - Magazine Interests - 3.21',\n",
       "       'US - Clould 3.0 - Website Remarketing & LAL - 4.17',\n",
       "       'US - Clould 3.0 - Website Remarketing & LAL - 8.5',\n",
       "       'US - ENT - Self Employed / Drivers',\n",
       "       'US - ENT - Self Employed / Drivers - 2.15',\n",
       "       'US - ENT - Self Employed / Drivers - 2.9',\n",
       "       'US - ENT - Self Employed / Drivers - 3.16',\n",
       "       'US - ENT - Self Employed / Drivers - 3.7',\n",
       "       'US - ENT - Self Employed / Drivers - 3.9',\n",
       "       'US - ENT - Self Employed / Drivers - 4.26',\n",
       "       'US - ENT/PS - Website Remarketing - LAL - 4.20',\n",
       "       'US - ENT/PS - Website Remarketing - LAL - 8.23',\n",
       "       'US - ENT/PS - Website Remarketing - LAL - Evergreen - 10.1',\n",
       "       'US - ENT/PS - Website Remarketing - LAL - Evergreen - 11.16',\n",
       "       'US - ENT/PS - Website Remarketing - LAL - September Promo - 9.11',\n",
       "       'US - GEN - MQL - LAL', 'US - GEN - MQL - LAL - 1.19',\n",
       "       'US - GEN - MQL - LAL - 2.15', 'US - GEN - MQL - LAL - 2.2',\n",
       "       'US - GEN - MQL - LAL - 2.22', 'US - GEN - MQL - LAL - 2.9',\n",
       "       'US - INS - Claims Adjusters Job Titles - Chicago Fire & Water Restoration',\n",
       "       'US - INS - Evergreen - Job Titles - 7.31',\n",
       "       'US - INS - Insurance Company Employers - 5.20',\n",
       "       'US - INS - Interest Audience - Awareness - 8.21',\n",
       "       'US - INS - Interest Audience - Awareness - 9.7',\n",
       "       'US - INS - Job Titles Claims, Adjusters - 5.20',\n",
       "       'US - INS - Leads LAL - Awareness - 8.21',\n",
       "       'US - INS - Leads LAL - Awareness - 8.7',\n",
       "       'US - INS - Leads LAL - Awareness - 9.7',\n",
       "       'US - INS - Leads LAL - Awareness - Enterprise Targeting - 9.28',\n",
       "       'US - INS - Page Visitor Remarketing',\n",
       "       'US - INS - Restoration Interests - 5.20',\n",
       "       'US - INS - Restoration Interests - Chicago Fire & Water Restoration',\n",
       "       'US - INS - Website Remarketing - LAL - Awareness - Enterprise Targeting - 10.3',\n",
       "       'US - INS - Xactware 7.18',\n",
       "       'US - LAL - People Who Like MP Page - Men',\n",
       "       'US - MF - Interest Audience - 6.4',\n",
       "       'US - MF - MultiFamily Property Management',\n",
       "       'US - MF - Video Remarketing - 5.24',\n",
       "       'US - MF - Video Remarketing - 6.6',\n",
       "       'US - MF - Website Remarketing - LAL - 5.15',\n",
       "       'US - MF - Website Remarketing - LAL - 6.14',\n",
       "       'US - MF - Website Remarketing - LAL - 7.9', 'US - MF MQL - LAL',\n",
       "       'US - MF MQL - LAL - 2.15', 'US - MF MQL - LAL - 2.28',\n",
       "       'US - MF MQL - LAL - 3.13', 'US - MF MQL - LAL - 4.12',\n",
       "       'US - MF MQL - LAL - 4.23',\n",
       "       'US - MF MQL - LAL - Dynamic Creative - 4.5',\n",
       "       'US - MQL & SQL - PS - LAL', 'US - PS - All Lists - LAL - 2.12',\n",
       "       'US - PS - All Lists - LAL - 2.15',\n",
       "       'US - PS - All Lists - LAL - 2.5',\n",
       "       'US - PS - All Lists - LAL - 3.9',\n",
       "       'US - PS - All Lists - Lead Form - 4.20',\n",
       "       'US - PS - All Lists - Lead Form - 8.23',\n",
       "       'US - PS - All Lists - Lead Form - Evergreen - 10.1',\n",
       "       'US - PS - All Lists - Lead Form - Evergreen - 11.16',\n",
       "       'US - PS - All Lists - Lead Form - Evergreen - 9.4',\n",
       "       'US - PS - All Lists - Lead Form - September Promo - 9.11',\n",
       "       'US - PS - ENT Photography Entrepreneur - 4.24',\n",
       "       'US - PS - ENT Photography Entrepreneur - 5.22',\n",
       "       'US - PS - Evergreen - Camera Sales LAL - 4.17',\n",
       "       'US - PS - Evergreen - Camera Sales LAL - 4.4',\n",
       "       'US - PS - Evergreen - Job Titles - 7.31',\n",
       "       'US - PS - Evergreen - SQL LAL - 4.17',\n",
       "       'US - PS - Evergreen - SQL LAL - 5.22',\n",
       "       'US - PS - Feb Promo - Camera Sales LAL - 3.18',\n",
       "       'US - PS - Feb Promo - Google Street View Photographers - LAL - 2.1',\n",
       "       'US - PS - Feb Promo - Opened Lead Form LAL - 2.1',\n",
       "       'US - PS - Feb Promo - Video Remarketing & LAL - 2.1',\n",
       "       'US - PS - Feb Promo - Website Remarketing & LAL - 3.18',\n",
       "       'US - PS - Google Street View Photographers - LAL - 11.14',\n",
       "       'US - PS - Infographic - Website Remarketing & LAL - 3.22',\n",
       "       'US - PS - Limited Time Offer - Website Remarketing - $400 Promo - 7.25',\n",
       "       'US - PS - Limited Time Offer - Website Remarketing - $600 Promo - 7.26',\n",
       "       'US - PS - Limited Time Offer - Website Remarketing - $600 Promo - 8.1',\n",
       "       'US - PS - Opened Lead Form - $600 Promo - 8.10',\n",
       "       'US - PS - Opened Lead Form - LAL - $500 Promo - 8.10',\n",
       "       'US - PS - Opened Lead Form LAL - 8.23',\n",
       "       'US - PS - Opened Lead Form LAL - Evergreen - 10.1',\n",
       "       'US - PS - Opened Lead Form LAL - Evergreen - 10.4',\n",
       "       'US - PS - Opened Lead Form LAL - Evergreen - 9.4',\n",
       "       'US - PS - Opened Lead Form LAL - September Promo - 9.11',\n",
       "       'US - PS - Opened Lead Form LAL - September Promo - 9.14',\n",
       "       'US - PS - Opened Lead Forms LAL  - 5.16',\n",
       "       'US - PS - Opened Lead Forms LAL - $300 July Sale - 7.17',\n",
       "       'US - PS - Opening Doors to New Opportunities',\n",
       "       'US - PS - Re-Engagement LAL - 4.24',\n",
       "       'US - PS - Submitted Lead Form - LAL - 5.11',\n",
       "       'US - PS - Submitted Lead Form - LAL - 8.23',\n",
       "       'US - PS - Submitted Lead Form - LAL - Evergreen - 10.1',\n",
       "       'US - PS - Submitted Lead Form - LAL - Evergreen - 11.16',\n",
       "       'US - PS - Submitted Lead Form - LAL - Evergreen - 9.4',\n",
       "       'US - PS - Submitted Lead Form - LAL - September Promo - 9.11',\n",
       "       'US - PS - Thriving 3D Business',\n",
       "       'US - PS - Video Remarketing & LAL - $300 Sale - 7.31',\n",
       "       'US - PS - Video Remarketing & LAL - 8.15',\n",
       "       'US - PS - Video Remarketing & LAL - 9.18',\n",
       "       'US - PS - Video Remarketing & LAL - Evergreen - 10.1',\n",
       "       'US - PS - Video Remarketing & LAL - Evergreen - 10.4',\n",
       "       'US - PS - Video Remarketing & LAL - September Promo - 9.21',\n",
       "       'US - PS - Video Remarketing - $300 July Sale - 7.17',\n",
       "       'US - PS - Video Remarketing - 5.1',\n",
       "       'US - PS - Video Remarketing - 6.14',\n",
       "       'US - PS - Website Remarketing - $400 promo - 8.10',\n",
       "       'US - PS - Website Remarketing - 4.22',\n",
       "       'US - PS - Website Remarketing - 5.1',\n",
       "       'US - PS - Website Remarketing - 5.30',\n",
       "       'US - PS - Website Remarketing - 6.1',\n",
       "       'US - PS - Website Remarketing - 6.25',\n",
       "       'US - PS - Website Remarketing - Pro 3D Clearance - 6.27',\n",
       "       'US - PS - Website Remarketing - Pro 3D Clearance - 7.18',\n",
       "       'US - PS - Website Remarketing LAL - 4.18',\n",
       "       'US - RRE  - All Lists - LAL - P1 Areas - California - 10.10',\n",
       "       'US - RRE  - Brokers LAL - P1 Areas - California - 10.4',\n",
       "       'US - RRE  - Brokers LAL - P1 Areas - California - September Promo - 9.14',\n",
       "       'US - RRE  - Submitted Lead Form LAL - P1 Areas - California - 10.10',\n",
       "       'US - RRE  - Submitted Lead Form LAL - P1 Areas - California - 9.21',\n",
       "       'US - RRE  - Submitted Lead Form LAL - P1 Areas - California - September Promo - 9.14',\n",
       "       'US - RRE - 2% - 5% - LAL - 1.25',\n",
       "       'US - RRE - 2% - 5% - LAL - 2.15',\n",
       "       'US - RRE - 2% - 5% - LAL - 2.21',\n",
       "       'US - RRE - 2% - 5% - LAL - 2.27',\n",
       "       'US - RRE - 2% - 5% - LAL - 2.8',\n",
       "       'US - RRE - Agents & Brokers - 2.15',\n",
       "       'US - RRE - Agents & Brokers - 2.2',\n",
       "       'US - RRE - Agents & Brokers - 2.21',\n",
       "       'US - RRE - Agents & Brokers - 2.27',\n",
       "       'US - RRE - Agents & Brokers - 2.6',\n",
       "       'US - RRE - Agents & Brokers - 3.15',\n",
       "       'US - RRE - Agents & Brokers - LAL - 10.17',\n",
       "       'US - RRE - Agents & Brokers - LAL - 4.9',\n",
       "       'US - RRE - Agents & Brokers - LAL - 6.22',\n",
       "       'US - RRE - Agents & Brokers - LAL - Landing Page Test - 4.17',\n",
       "       'US - RRE - Agents & Brokers - LAL - Landing Page Test - 4.20',\n",
       "       'US - RRE - Agents & Brokers - LAL - Landing Page Test - 5.15',\n",
       "       'US - RRE - All Lists - 10-25 List - Women',\n",
       "       'US - RRE - All Lists - LAL - 3.19',\n",
       "       'US - RRE - All Lists - LAL - 3.29',\n",
       "       'US - RRE - All Lists - LAL - Awareness - 8.23',\n",
       "       'US - RRE - All Lists - LAL - Awareness - September Promo - 9.11',\n",
       "       'US - RRE - All Lists - LAL - Landing Page Test - 4.13',\n",
       "       'US - RRE - All Lists - LAL - Landing Page Test - 4.23',\n",
       "       'US - RRE - All Lists - LAL - Landing Page Test - 6.14',\n",
       "       'US - RRE - All Lists - LAL - Men - 1.24',\n",
       "       'US - RRE - All Lists - LAL - Men - 2.15',\n",
       "       'US - RRE - All Lists - LAL - Men - 2.21',\n",
       "       'US - RRE - All Lists - LAL - Men - 2.27',\n",
       "       'US - RRE - All Lists - LAL - Men - 2.9',\n",
       "       'US - RRE - All Lists - LAL - Men - 3.13',\n",
       "       'US - RRE - All Lists - LAL - Men - 3.8',\n",
       "       'US - RRE - All Lists - LAL - Pro 3D Clearance - 6.27',\n",
       "       'US - RRE - All Lists - LAL - Women - 1.24',\n",
       "       'US - RRE - All Lists - LAL - Women - 2.15',\n",
       "       'US - RRE - All Lists - LAL - Women - 2.21',\n",
       "       'US - RRE - All Lists - LAL - Women - 2.27',\n",
       "       'US - RRE - All Lists - LAL - Women - 2.6',\n",
       "       'US - RRE - All Lists - LAL - Women - 3.13',\n",
       "       'US - RRE - All Lists - LAL - Women - 3.8', 'US - RRE - Awareness',\n",
       "       'US - RRE - Awareness - 3.1', 'US - RRE - Awareness - 5.1',\n",
       "       'US - RRE - Awareness - Reach - 9.24',\n",
       "       'US - RRE - Brokers - LAL - $1000 Promo - 8.23',\n",
       "       'US - RRE - Brokers - LAL - $600 Promo - 8.10',\n",
       "       'US - RRE - Brokers - LAL - September Promo - 9.11',\n",
       "       'US - RRE - Brokers - LAL - September Promo - 9.18',\n",
       "       'US - RRE - Camera Sale LAL - Evergreen - 4.24',\n",
       "       'US - RRE - Case Study - Awareness - 8.7',\n",
       "       'US - RRE - DQ Cost - LAL - Pro 3D Clearance - 7.18',\n",
       "       'US - RRE - DQ Cost - Remarketing - LAL - 3.1',\n",
       "       'US - RRE - DQ Cost Remarketing & LAL - Pro 3D Clearance - 6.29',\n",
       "       'US - RRE - DQ Cost Remarketing LAL - Pro 3D Clearance - 7.17',\n",
       "       'US - RRE - David Troyer - Awareness - 6.14',\n",
       "       'US - RRE - David Troyer - Awareness - 8.7',\n",
       "       'US - RRE - David Troyer - Awareness - 9.4',\n",
       "       'US - RRE - December Sale - Awareness - 12.12 - Traffic',\n",
       "       'US - RRE - EBook - Awareness - 4.19',\n",
       "       'US - RRE - Evergreen - Agents & Brokers - LAL - 4.10',\n",
       "       'US - RRE - Evergreen - Agents & Brokers - LAL - 4.19',\n",
       "       'US - RRE - Evergreen - Employers - 7.31',\n",
       "       'US - RRE - Evergreen - Job Titles - 7.31',\n",
       "       'US - RRE - Evergreen - Video Remarketing & LAL - 4.18',\n",
       "       'US - RRE - Evergreen - Video Remarketing & LAL - 4.4',\n",
       "       'US - RRE - Evergreen - Video Remarketing & LAL - 5.21',\n",
       "       'US - RRE - Feb Promo - Agents & Brokers - LAL - 2.1',\n",
       "       'US - RRE - Feb Promo - Opened Lead Forms LAL - 2.1',\n",
       "       'US - RRE - Feb Promo - Video Remarketing & LAL - 2.1',\n",
       "       'US - RRE - Flash Sale - Awareness - 11.24',\n",
       "       'US - RRE - Flash Sale - Awareness - 11.24 - Traffic',\n",
       "       'US - RRE - Interest Audience - Awareness - 8.23',\n",
       "       'US - RRE - Interest Audience - Awareness - September Promo - 9.11',\n",
       "       'US - RRE - Interest Audience - Enterprise Targeting - Case Study - 10.1',\n",
       "       'US - RRE - Interest Audience - Enterprise Targeting - Webinars - 10.1',\n",
       "       'US - RRE - Interest Audience Real Estate - Landing Page Views - 4.5',\n",
       "       'US - RRE - Interest Audience Real Estate Agents - Lead Form - 4.23',\n",
       "       'US - RRE - Interest Audience Real Estate Agents - Lead Form - 6.14',\n",
       "       'US - RRE - Interest Audience Real Estate Agents - Lead Form - 6.8',\n",
       "       'US - RRE - Interest Audience Real Estate Agents - Lead Form - 8.23',\n",
       "       'US - RRE - Interest Audience Real Estate Agents - Lead Form - 8.24',\n",
       "       'US - RRE - Limited Time Offer Website Remarketing - $400 Promo - 7.25',\n",
       "       'US - RRE - Limited Time Offer Website Remarketing - $600 Promo - 7.26',\n",
       "       'US - RRE - Limited Time Offer Website Remarketing - $600 Promo - 8.1',\n",
       "       'US - RRE - Opened Lead Forms - LAL - $300 July Sale - 7.17',\n",
       "       'US - RRE - Opened Lead Forms - LAL - 6.14',\n",
       "       'US - RRE - Opened Lead Forms LAL - $1000 Promo - 8.23',\n",
       "       'US - RRE - Opened Lead Forms LAL - $500 Promo - 8.3',\n",
       "       'US - RRE - Opened Lead Forms LAL - Evergreen - 11.12',\n",
       "       'US - RRE - Opened Lead Forms LAL - Evergreen - 9.20',\n",
       "       'US - RRE - Opened Lead Forms LAL - September Promo - 9.11',\n",
       "       'US - RRE - Opened Lead Forms LAL - September Promo - 9.18',\n",
       "       'US - RRE - Page Visitor Remarketing - CPC',\n",
       "       'US - RRE - Page Visitor Remarketing - oCPM',\n",
       "       'US - RRE - People Who Like MP Page - LAL - Women',\n",
       "       'US - RRE - Pro2 Lite Remarketing - LAL - 2.19',\n",
       "       'US - RRE - Pro2 Lite Remarketing - LAL - 2.21',\n",
       "       'US - RRE - Remarketing - LAL - 1.25',\n",
       "       'US - RRE - Remax Agents - $1000 Promo - 8.23',\n",
       "       'US - RRE - Remax Agents - $400 Promo - 8.3',\n",
       "       'US - RRE - Remax Agents - Evergreen - 9.4',\n",
       "       'US - RRE - Remax Agents - September Promo - 9.11',\n",
       "       'US - RRE - Remax Agents - September Promo - 9.18',\n",
       "       'US - RRE - SDR - Remarketing - LAL - 3.1',\n",
       "       'US - RRE - SDR - Remarketing - LAL - 3.15',\n",
       "       'US - RRE - SQL LAL - Evergreen - 4.24',\n",
       "       'US - RRE - Submitted Lead Form - LAL - 10.23',\n",
       "       'US - RRE - Submitted Lead Form - LAL - 5.15',\n",
       "       'US - RRE - Submitted Lead Form - LAL - 5.24',\n",
       "       'US - RRE - Video Remarketing  & LAL - 10.17',\n",
       "       'US - RRE - Video Remarketing  & LAL - 6.14',\n",
       "       'US - RRE - Video Remarketing  & LAL - 8.31',\n",
       "       'US - RRE - Video Remarketing - 4.20',\n",
       "       'US - RRE - Video Remarketing - 6.1',\n",
       "       'US - RRE - Webinar Remarketing LAL - Enterprise Targeting - 10.23',\n",
       "       'US - RRE - Website Remarketing - $300 July Sale - 7.17',\n",
       "       'US - RRE - Website Remarketing - $300 Sale - 7.31',\n",
       "       'US - RRE - Website Remarketing - $300 Sale - 8.2',\n",
       "       'US - RRE - Website Remarketing - 1.24',\n",
       "       'US - RRE - Website Remarketing - 1.30',\n",
       "       'US - RRE - Website Remarketing - 2.15',\n",
       "       'US - RRE - Website Remarketing - 2.21',\n",
       "       'US - RRE - Website Remarketing - 2.27',\n",
       "       'US - RRE - Website Remarketing - 3.1',\n",
       "       'US - RRE - Website Remarketing - 3.14',\n",
       "       'US - RRE - Website Remarketing - 3.16',\n",
       "       'US - RRE - Website Remarketing - 3.8',\n",
       "       'US - RRE - Website Remarketing - 4.8',\n",
       "       'US - RRE - Website Remarketing - Desktop Testing - 8.15',\n",
       "       'US - RRE - Website Remarketing - Evergreen - 10.1',\n",
       "       'US - RRE - Website Remarketing - Evergreen - 11.12',\n",
       "       'US - RRE - Website Remarketing - Evergreen - 4.10',\n",
       "       'US - RRE - Website Remarketing - Evergreen - 4.18',\n",
       "       'US - RRE - Website Remarketing - Evergreen - 9.28',\n",
       "       'US - RRE - Website Remarketing - LAL - 4.23',\n",
       "       'US - RRE - Website Remarketing - LAL - 7.13',\n",
       "       'US - RRE - Website Remarketing - LAL - 8.23',\n",
       "       'US - RRE - Website Remarketing - LAL - 8.24',\n",
       "       'US - RRE - Website Remarketing - LAL - Evergreen - 10.1',\n",
       "       'US - RRE - Website Remarketing - LAL - September Promo - 9.11',\n",
       "       'US - RRE - Website Remarketing - Landing Page Test - 4.17',\n",
       "       'US - RRE - Website Remarketing - Mobile Testing - 8.15',\n",
       "       'US - RRE - Website Remarketing - Mobile Testing - 8.23',\n",
       "       'US - RRE - Website Remarketing - September Promo - 9.11',\n",
       "       'US - RRE - Website Remarketing - Unique Reach - 4.5',\n",
       "       'US - RRE - Website Remarketing LAL - Evergreen - 4.10',\n",
       "       'US - RRE - Website Remarketing LAL - Evergreen - 4.19',\n",
       "       'US - SQL - 10-25 List', 'US - SQL 10-25 - 2% - 5% - LAL',\n",
       "       'US - Scan Leads - Awareness - 4.2',\n",
       "       'US - TH - All Lists - LAL - 5.11',\n",
       "       'US - TH - All Lists - LAL - Dynamic Creative - 4.5',\n",
       "       'US - TH - All Lists - LAL - Dynamic Creative - 7.3',\n",
       "       'US - TH - B2B TH + Online Advertisiing - 2.6',\n",
       "       'US - TH - B2B TH + Online Advertising - 2.15',\n",
       "       'US - TH - B2B TH + Online Advertising - 2.27',\n",
       "       'US - TH - B2B TH + Online Advertising - 3.15',\n",
       "       'US - TH - B2B TH + Online Advertising - Dynamic Creative - 4.5',\n",
       "       'US - TH - Hotel - LAL', 'US - TH - Hotel - LAL - 3.15',\n",
       "       'US - TH - Hotel - LAL - 3.5', 'US - TH - Hotel - LAL - 4.23',\n",
       "       'US - TH - Vacation Rentals - LAL - 2.15',\n",
       "       'US - TH - Vacation Rentals - LAL - 2.27',\n",
       "       'US - TH - Vacation Rentals - LAL - 2.6',\n",
       "       'US - TH - Video Remarketing - 6.11',\n",
       "       'US - TH - Video Remarketing - 7.11',\n",
       "       'US - TH - Website Remarketing - LAL - 5.15',\n",
       "       'US/CA - RRE - SDR - Remarketing - 3.1',\n",
       "       'US/UK/CA - PS - Awareness',\n",
       "       'Website Visitors (General, Remarketing)',\n",
       "       'ZA - ENT - Self Employed / Drivers - 1.19',\n",
       "       'ZA - ENT - Self Employed / Drivers - 2.15',\n",
       "       'ZA - ENT - Self Employed / Drivers - 5.2',\n",
       "       'ZA - PS - All Lists - 5.30',\n",
       "       'ZA - PS - Evergreen - Job Titles - 7.31',\n",
       "       'ZA - PS - MQL & SQL - LAL', 'ZA - PS - MQL & SQL - LAL - 1.19',\n",
       "       'ZA - PS - MQL & SQL - LAL - 2.15',\n",
       "       'ZA - PS - MQL & SQL - LAL - 7.2',\n",
       "       'ZA - PS - MQL & SQL - LAL - 7.30', 'ZA - RRE - All Lists - 2.15',\n",
       "       'ZA - RRE - All Lists - LAL - 1.30',\n",
       "       'ZA - RRE - All Lists - LAL - 2.15',\n",
       "       'ZA - RRE - All Lists - LAL - 2.5',\n",
       "       'ZA - RRE - All Lists - LAL - 4.12',\n",
       "       'ZA - RRE - All Lists - LAL - 4.5',\n",
       "       'ZA - RRE - All Lists - LAL - 4.9',\n",
       "       'ZA - RRE - All Lists - LAL - 5.1',\n",
       "       'ZA - RRE - All Lists - LAL - 6.1',\n",
       "       'ZA - RRE - All Lists - LAL - 6.4',\n",
       "       'ZA - RRE - Retargeting - 1.30', 'ZA - RRE - Retargeting - 2.5',\n",
       "       'ZA - RRE - Retargeting - LAL - 1.30',\n",
       "       'ZA - RRE - Retargeting - LAL - 2.5', 'ZA - RRE - SQL - LAL',\n",
       "       'ZA - RRE - Website Remarketing - 5.1',\n",
       "       'ZA - RRE - Website Remarketing - LAL - 5.18',\n",
       "       'ZA - RRE - Website Remarketing - LAL - 6.4',\n",
       "       'ZA - ZA Site Retargeting - LAL'], dtype=object)"
      ]
     },
     "execution_count": 33,
     "metadata": {},
     "output_type": "execute_result"
    }
   ],
   "source": [
    "# Filtering out only the conversions in the US\n",
    "np.unique(fb.ad_set_name)\n",
    "#fb.to_csv('ads.csv',index=False)"
   ]
  },
  {
   "cell_type": "code",
   "execution_count": 34,
   "metadata": {},
   "outputs": [],
   "source": [
    "fb['target'] = fb.ad_set_name.str.split('-').str[1]\n",
    "fb['target_sub'] = fb.ad_set_name.str.split('-').str[2]\n",
    "fb['version']=fb.ad_set_name.str.extract('-([^-]*)$')\n",
    "#fb['version']=fb.ad_set_name.str.split('(\\d+)').astype(int)"
   ]
  },
  {
   "cell_type": "code",
   "execution_count": 35,
   "metadata": {},
   "outputs": [],
   "source": [
    "fb['target']=fb['target'].str.replace(\"AEC|CRE|Cloud|Event:Webinar|GEN|INS|MF|MSP|PS|RRE|TH\",'').str.replace('-',\"\")\n",
    "fb['target']=fb['target'].str.replace(\"AU|BoostedPost|CA|DE|EMEA|ES|FR|IT|MX|PL|SE|UK|US|ZA\",'').str.replace('-',\"\")\n",
    "fb['target']=fb['target'].str.replace(\"AU|BoostedPost|CA|DE|EMEA|ES|FR|IT|MX|PL|SE|UK|US|ZA|LAL|Latin America\",'').str.replace('-',\"\")\n"
   ]
  },
  {
   "cell_type": "code",
   "execution_count": 36,
   "metadata": {},
   "outputs": [],
   "source": [
    "fb['target_grouped'] = fb['target'].astype(str) + fb['target_sub'].astype(str)"
   ]
  },
  {
   "cell_type": "code",
   "execution_count": 37,
   "metadata": {
    "scrolled": true
   },
   "outputs": [
    {
     "data": {
      "text/plain": [
       "[['    All Lists ', 558],\n",
       " ['    Brokers LAL ', 113],\n",
       " ['    PS ', 104],\n",
       " ['    Submitted Lead Form LAL ', 148],\n",
       " ['    Website Remarketing ', 132],\n",
       " ['   2% ', 230],\n",
       " ['   Agents & Brokers ', 1625],\n",
       " ['   All Lists ', 15856],\n",
       " ['   All Lists  LAL ', 181],\n",
       " ['   All Remarketing ', 116],\n",
       " ['   Architects ', 1639],\n",
       " ['   Awareness', 232],\n",
       " ['   Awareness ', 1832],\n",
       " ['   B2B TH + Online Advertisiing ', 80],\n",
       " ['   B2B TH + Online Advertising ', 360],\n",
       " ['   Brokers ', 223],\n",
       " ['   Camera Sale LAL ', 110],\n",
       " ['   Camera Sales & Buy Site LAL ', 605],\n",
       " ['   Case Study ', 51],\n",
       " ['   Claims Adjusters Job Titles ', 48],\n",
       " ['   Construction ', 1722],\n",
       " ['   Construction Webinar Event ', 12],\n",
       " ['   DE/ROW ', 689],\n",
       " ['   DQ Cost ', 356],\n",
       " ['   DQ Cost Remarketing & LAL ', 16],\n",
       " ['   DQ Cost Remarketing LAL ', 4],\n",
       " ['   DQ Remarketing & LAL ', 20],\n",
       " ['   David Troyer ', 268],\n",
       " ['   December Sale ', 340],\n",
       " ['   EBook ', 108],\n",
       " ['   ENGL ', 1017],\n",
       " ['   ENT Photography Entrepreneur ', 708],\n",
       " ['   Engineers ', 374],\n",
       " ['   Evergreen ', 9163],\n",
       " ['   Feb Promo ', 2928],\n",
       " ['   Flash Sale ', 48],\n",
       " ['   Google Street View Photographers ', 387],\n",
       " ['   Honquet Webinar Remarketing LAL ', 52],\n",
       " ['   Hotel ', 450],\n",
       " ['   Infographic ', 606],\n",
       " ['   Insurance Company Employers ', 120],\n",
       " ['   Interest Audience ', 1015],\n",
       " ['   Interest Audience Real Estate ', 52],\n",
       " ['   Interest Audience Real Estate Agents ', 516],\n",
       " ['   Job Titles Claims, Adjusters ', 268],\n",
       " ['   LAL ', 673],\n",
       " ['   Leads LAL ', 341],\n",
       " ['   Limited Time Offer ', 137],\n",
       " ['   Limited Time Offer Website Remarketing ', 75],\n",
       " ['   MQL ', 3505],\n",
       " ['   MQL & SQL ', 1179],\n",
       " ['   MultiFamily Property Management', 198],\n",
       " ['   Opened Lead Form ', 604],\n",
       " ['   Opened Lead Form LAL ', 819],\n",
       " ['   Opened Lead Forms ', 540],\n",
       " ['   Opened Lead Forms LAL ', 820],\n",
       " ['   Opened Lead Forms LAL  ', 315],\n",
       " ['   Opening Doors to New Opportunities', 230],\n",
       " ['   Page Visitor Remarketing', 280],\n",
       " ['   Page Visitor Remarketing ', 620],\n",
       " ['   People Who Like MP Page ', 160],\n",
       " ['   Photographers ', 404],\n",
       " ['   Pro2 Lite Remarketing ', 32],\n",
       " ['   REMAX Agents ', 40],\n",
       " ['   ROW ', 248],\n",
       " ['   RRE ', 32],\n",
       " ['   Re', 444],\n",
       " ['   Remarketing ', 352],\n",
       " ['   Remax Agents ', 2568],\n",
       " ['   Restoration Interests ', 472],\n",
       " ['   Retargeting ', 287],\n",
       " ['   Retargeting Website ', 390],\n",
       " ['   SDR ', 210],\n",
       " ['   SQL ', 1625],\n",
       " ['   SQL 2', 528],\n",
       " ['   SQL LAL ', 257],\n",
       " ['   SeLoger Webinar Remarketing ', 96],\n",
       " ['   Submitted Lead Form ', 3130],\n",
       " ['   Submitted Lead Form  ', 52],\n",
       " ['   Submitted Lead Form & LAL ', 492],\n",
       " ['   Thriving 3D Business', 140],\n",
       " ['   Vacation Rentals ', 256],\n",
       " ['   Video & Website Remarketing ', 521],\n",
       " ['   Video Remarketing ', 1589],\n",
       " ['   Video Remarketing  & LAL ', 957],\n",
       " ['   Video Remarketing  LAL & Website Remarketing', 975],\n",
       " ['   Video Remarketing & LAL ', 1613],\n",
       " ['   Webinar ', 177],\n",
       " ['   Webinar Remarketing ', 709],\n",
       " ['   Webinar Remarketing LAL ', 194],\n",
       " ['   Website Remarketing ', 8595],\n",
       " ['   Website Remarketing & LAL ', 1052],\n",
       " ['   Website Remarketing LAL ', 899],\n",
       " ['   Xactware 7.18', 240],\n",
       " ['  3.0  Adventure, Extreme Sports Photography ', 44],\n",
       " ['  3.0  Camera Brand Interests', 141],\n",
       " ['  3.0  DQ & Lookalike ', 856],\n",
       " ['  3.0  ETA + Camera Brand ', 855],\n",
       " ['  3.0  Magazine Interests ', 44],\n",
       " ['  Architects  LAL', 98],\n",
       " ['  Buyer 2%  5% ', 56],\n",
       " ['  Camera Sales  LAL', 153],\n",
       " ['  Camera Sales  LAL ', 575],\n",
       " ['  Evergreen ', 32],\n",
       " ['  Facebook Page Engagement ', 354],\n",
       " ['  MQL  LAL', 582],\n",
       " ['  MQL  LAL ', 1600],\n",
       " ['  REMAX Agents  LAL', 349],\n",
       " ['  REMAX Agents  LAL ', 476],\n",
       " ['  Remax Agents  LAL', 157],\n",
       " ['  Site Retargeting  LAL', 201],\n",
       " ['  Website  LAL', 36],\n",
       " ['  Website Retargeting  LAL', 53],\n",
       " [' 3D Reality Capture for Architectsnan', 28],\n",
       " [' Accurate, Competitive Estimation for Construction Prosnan', 28],\n",
       " [' All Lists  10', 115],\n",
       " [' All Segments  Live Meetup ', 90],\n",
       " [' Camera Sale  PS ', 15],\n",
       " [' Caribbean Islands  RRE ', 1475],\n",
       " [' Carribean Islands  RRE ', 28],\n",
       " [' Clould 3.0  Website Remarketing & LAL ', 748],\n",
       " [' ENGL  RRE ', 256],\n",
       " [' ENT  Self Employed ', 594],\n",
       " [' ENT  Self Employed / Drivers', 858],\n",
       " [' ENT  Self Employed / Drivers ', 2608],\n",
       " [' ENT/  Website Remarketing ', 1578],\n",
       " [' Facebook Page Engagement  LAL', 163],\n",
       " [' June 2019nan', 35],\n",
       " [' Listing Presentation Panel Discussionnan', 56],\n",
       " [' MQL & SQL  PS ', 238],\n",
       " [' REMAX Agents & Brokers  LAL', 769],\n",
       " [' REMAX Agents & Brokers  LAL ', 400],\n",
       " [' Retargeting Website  LAL', 652],\n",
       " [' Retargeting Website  LAL ', 1284],\n",
       " [' SQL  10', 116],\n",
       " [' SQL  LAL', 216],\n",
       " [' SQL  LAL ', 432],\n",
       " [' SQL  RRE ', 204],\n",
       " [' SQL & MQL  RRE ', 152],\n",
       " [' SQL 1025 ', 216],\n",
       " [' Scan Leads  Awareness ', 104],\n",
       " [' Website Retargeting  LAL', 183],\n",
       " ['nannan', 114]]"
      ]
     },
     "execution_count": 37,
     "metadata": {},
     "output_type": "execute_result"
    }
   ],
   "source": [
    "unique_val_count(fb.target_grouped.astype(str)).tolist()"
   ]
  },
  {
   "cell_type": "code",
   "execution_count": 38,
   "metadata": {},
   "outputs": [
    {
     "data": {
      "text/plain": [
       "Index(['ad_account_id', 'ad_account_name', 'reporting_starts',\n",
       "       'reporting_ends', 'ad_set_name', 'age', 'ad_set_delivery', 'bid',\n",
       "       'bid_type', 'ad_set_budget', 'ad_set_budget_type',\n",
       "       'last_significant_edit', 'results', 'result_indicator', 'reach',\n",
       "       'impressions', 'cost_per_results', 'amount_spent_(usd)', 'ends',\n",
       "       'starts', 'link_clicks', 'website_purchases', 'leads_(form)',\n",
       "       'campaign_name', 'campaign_id', 'lead_page_contains_thank-you',\n",
       "       'lead_submission', 'ad_set_id', 'landing_page_views', 'session',\n",
       "       'day_of_week', 'year', 'month', 'week_num', 'location', 'topic', 'type',\n",
       "       'target', 'target_sub', 'version', 'target_grouped'],\n",
       "      dtype='object')"
      ]
     },
     "execution_count": 38,
     "metadata": {},
     "output_type": "execute_result"
    }
   ],
   "source": [
    "fb.columns"
   ]
  },
  {
   "cell_type": "code",
   "execution_count": 39,
   "metadata": {},
   "outputs": [],
   "source": [
    "import re\n",
    "fb['target_grouped'].replace(regex=True, inplace=True, to_replace=r'[^A-Za-z0-9]+',\n",
    "value='')"
   ]
  },
  {
   "cell_type": "code",
   "execution_count": 40,
   "metadata": {},
   "outputs": [],
   "source": [
    "fb.target_grouped=fb.target_grouped.str.strip().str.lower().str.replace(' ', '')"
   ]
  },
  {
   "cell_type": "code",
   "execution_count": 41,
   "metadata": {},
   "outputs": [],
   "source": [
    "fb['target_grouped']=fb.target_grouped.str.replace('openedleadformslal','openedleadformlal')"
   ]
  },
  {
   "cell_type": "code",
   "execution_count": 42,
   "metadata": {},
   "outputs": [],
   "source": [
    "fb['target_grouped']=fb.target_grouped.str.replace('MQLSQLPS','MQLSQL')"
   ]
  },
  {
   "cell_type": "code",
   "execution_count": 43,
   "metadata": {},
   "outputs": [
    {
     "data": {
      "text/html": [
       "<div>\n",
       "<style scoped>\n",
       "    .dataframe tbody tr th:only-of-type {\n",
       "        vertical-align: middle;\n",
       "    }\n",
       "\n",
       "    .dataframe tbody tr th {\n",
       "        vertical-align: top;\n",
       "    }\n",
       "\n",
       "    .dataframe thead th {\n",
       "        text-align: right;\n",
       "    }\n",
       "</style>\n",
       "<table border=\"1\" class=\"dataframe\">\n",
       "  <thead>\n",
       "    <tr style=\"text-align: right;\">\n",
       "      <th></th>\n",
       "      <th>target_grouped</th>\n",
       "    </tr>\n",
       "  </thead>\n",
       "  <tbody>\n",
       "    <tr>\n",
       "      <th>7797</th>\n",
       "      <td>evergreen</td>\n",
       "    </tr>\n",
       "    <tr>\n",
       "      <th>7786</th>\n",
       "      <td>evergreen</td>\n",
       "    </tr>\n",
       "    <tr>\n",
       "      <th>7776</th>\n",
       "      <td>evergreen</td>\n",
       "    </tr>\n",
       "    <tr>\n",
       "      <th>7777</th>\n",
       "      <td>evergreen</td>\n",
       "    </tr>\n",
       "    <tr>\n",
       "      <th>7778</th>\n",
       "      <td>evergreen</td>\n",
       "    </tr>\n",
       "  </tbody>\n",
       "</table>\n",
       "</div>"
      ],
      "text/plain": [
       "     target_grouped\n",
       "7797      evergreen\n",
       "7786      evergreen\n",
       "7776      evergreen\n",
       "7777      evergreen\n",
       "7778      evergreen"
      ]
     },
     "execution_count": 43,
     "metadata": {},
     "output_type": "execute_result"
    }
   ],
   "source": [
    "fb[['target_grouped']].head()"
   ]
  },
  {
   "cell_type": "code",
   "execution_count": 44,
   "metadata": {},
   "outputs": [],
   "source": [
    "fb['topic']=fb.topic.str.replace('Clould3.0','Cloud3.0')\n",
    "fb['topic']=fb.topic.str.replace('CarribeanIslands','CaribbeanIslands')\n",
    "fb['topic']=fb.topic.str.replace('AECArchitects','AEC')\n",
    "fb['topic']=fb.topic.str.replace('CAWebsiteRetargeting','RetargetingWebsite')\n",
    "fb['topic']=fb.topic.str.replace('CAWebsiteRetargeting','RetargetingWebsite')\n",
    "fb['topic']=fb.topic.str.replace('WebsiteRetargeting','RetargetingWebsite')\n",
    "fb['target']=fb.target.str.replace('Re','Re-Engagement')\n",
    "fb['target']=fb.target.str.replace('&','')\n"
   ]
  },
  {
   "cell_type": "code",
   "execution_count": 45,
   "metadata": {},
   "outputs": [],
   "source": [
    "#fb.drop('version',inplace=True,axis=1)"
   ]
  },
  {
   "cell_type": "code",
   "execution_count": 46,
   "metadata": {},
   "outputs": [],
   "source": [
    "age=['18-24', '25-34', '35-44', '45-54', '55-64', '65+']"
   ]
  },
  {
   "cell_type": "code",
   "execution_count": 47,
   "metadata": {},
   "outputs": [],
   "source": [
    "fb=fb.query('age in @age')"
   ]
  },
  {
   "cell_type": "code",
   "execution_count": 48,
   "metadata": {},
   "outputs": [],
   "source": [
    "#fill all blanks with novalue if the column dtype is object\n",
    "fb = fb.apply(lambda x: x.fillna(0.0) if x.dtype.kind in 'biufc' else x.fillna('novalue'))"
   ]
  },
  {
   "cell_type": "code",
   "execution_count": 49,
   "metadata": {},
   "outputs": [],
   "source": [
    "fb=fb.fillna(0.0)      #if the blanks are nan will need this line first"
   ]
  },
  {
   "cell_type": "code",
   "execution_count": 50,
   "metadata": {},
   "outputs": [
    {
     "data": {
      "text/plain": [
       "Index(['ad_account_id', 'ad_account_name', 'reporting_starts',\n",
       "       'reporting_ends', 'ad_set_name', 'age', 'ad_set_delivery', 'bid',\n",
       "       'bid_type', 'ad_set_budget', 'ad_set_budget_type',\n",
       "       'last_significant_edit', 'results', 'result_indicator', 'reach',\n",
       "       'impressions', 'cost_per_results', 'amount_spent_(usd)', 'ends',\n",
       "       'starts', 'link_clicks', 'website_purchases', 'leads_(form)',\n",
       "       'campaign_name', 'campaign_id', 'lead_page_contains_thank-you',\n",
       "       'lead_submission', 'ad_set_id', 'landing_page_views', 'session',\n",
       "       'day_of_week', 'year', 'month', 'week_num', 'location', 'topic', 'type',\n",
       "       'target', 'target_sub', 'version', 'target_grouped'],\n",
       "      dtype='object')"
      ]
     },
     "execution_count": 50,
     "metadata": {},
     "output_type": "execute_result"
    }
   ],
   "source": [
    "fb.columns"
   ]
  },
  {
   "cell_type": "code",
   "execution_count": 51,
   "metadata": {},
   "outputs": [],
   "source": [
    "#fb_us=fb[fb['location']=='US']"
   ]
  },
  {
   "cell_type": "code",
   "execution_count": 52,
   "metadata": {
    "scrolled": true
   },
   "outputs": [
    {
     "data": {
      "text/plain": [
       "campaign_name           ad_set_name                                            target_grouped        \n",
       "US-RRE-LeadSubmissions  US - RRE - Agents & Brokers - LAL - 10.17              agentsbrokers             128\n",
       "                        US - RRE - Camera Sale LAL - Evergreen - 4.24          camerasalelal             108\n",
       "                        US - RRE - Evergreen - Agents & Brokers - LAL - 4.10   evergreen                 256\n",
       "                        US - RRE - Evergreen - Agents & Brokers - LAL - 4.19   evergreen                 128\n",
       "                        US - RRE - Evergreen - Employers - 7.31                evergreen                 175\n",
       "                        US - RRE - Evergreen - Job Titles - 7.31               evergreen                 174\n",
       "                        US - RRE - Evergreen - Video Remarketing & LAL - 4.18  evergreen                 282\n",
       "                        US - RRE - Evergreen - Video Remarketing & LAL - 4.4   evergreen                 108\n",
       "                        US - RRE - Evergreen - Video Remarketing & LAL - 5.21  evergreen                   8\n",
       "                        US - RRE - Feb Promo - Agents & Brokers - LAL - 2.1    febpromo                  112\n",
       "                        US - RRE - Feb Promo - Opened Lead Forms LAL - 2.1     febpromo                   76\n",
       "                        US - RRE - Feb Promo - Video Remarketing & LAL - 2.1   febpromo                  252\n",
       "                        US - RRE - Opened Lead Forms LAL - Evergreen - 11.12   openedleadformlal         128\n",
       "                        US - RRE - Page Visitor Remarketing - CPC              pagevisitorremarketing    170\n",
       "                        US - RRE - Page Visitor Remarketing - oCPM             pagevisitorremarketing    449\n",
       "                        US - RRE - SQL LAL - Evergreen - 4.24                  sqllal                    256\n",
       "                        US - RRE - Video Remarketing  & LAL - 10.17            videoremarketinglal       128\n",
       "                        US - RRE - Website Remarketing - Evergreen - 4.10      websiteremarketing         36\n",
       "                        US - RRE - Website Remarketing - Evergreen - 4.18      websiteremarketing        132\n",
       "                        US - RRE - Website Remarketing LAL - Evergreen - 4.10  websiteremarketinglal      40\n",
       "                        US - RRE - Website Remarketing LAL - Evergreen - 4.19  websiteremarketinglal     128\n",
       "dtype: int64"
      ]
     },
     "execution_count": 52,
     "metadata": {},
     "output_type": "execute_result"
    }
   ],
   "source": [
    "fb[(fb['location']=='US')&(fb['year']==2019) &(fb['topic']=='RRE')\n",
    "   ].groupby(['campaign_name','ad_set_name','target_grouped']).size()"
   ]
  },
  {
   "cell_type": "code",
   "execution_count": 53,
   "metadata": {},
   "outputs": [],
   "source": [
    "fb['conversion']= fb[['lead_page_contains_thank-you']].astype(float)"
   ]
  },
  {
   "cell_type": "code",
   "execution_count": 54,
   "metadata": {},
   "outputs": [
    {
     "data": {
      "text/plain": [
       "7797      0.0\n",
       "7786      1.0\n",
       "7776      0.0\n",
       "7777      0.0\n",
       "7778      0.0\n",
       "7779      1.0\n",
       "7780      0.0\n",
       "7781      1.0\n",
       "7782      0.0\n",
       "7783      0.0\n",
       "7784      4.0\n",
       "7785      2.0\n",
       "7787      0.0\n",
       "7774      0.0\n",
       "7788      0.0\n",
       "7789      0.0\n",
       "7790      0.0\n",
       "7791      0.0\n",
       "7792      3.0\n",
       "7793     20.0\n",
       "7794     18.0\n",
       "7795      6.0\n",
       "7796      5.0\n",
       "7798      1.0\n",
       "7775      2.0\n",
       "7773      1.0\n",
       "7747      0.0\n",
       "7759      1.0\n",
       "7749      0.0\n",
       "7750      0.0\n",
       "         ... \n",
       "17774     0.0\n",
       "17763     0.0\n",
       "17775     1.0\n",
       "17776     0.0\n",
       "17777     0.0\n",
       "17778     0.0\n",
       "17779     1.0\n",
       "17780     0.0\n",
       "17781     7.0\n",
       "17764     2.0\n",
       "17762     0.0\n",
       "17743     0.0\n",
       "17752     0.0\n",
       "17745     0.0\n",
       "17746     0.0\n",
       "17747     0.0\n",
       "17748     0.0\n",
       "17749     2.0\n",
       "17750     2.0\n",
       "17751     1.0\n",
       "17753     2.0\n",
       "17761     0.0\n",
       "17754     0.0\n",
       "17755     0.0\n",
       "17756     5.0\n",
       "17757     1.0\n",
       "17758     3.0\n",
       "17759     1.0\n",
       "17760     4.0\n",
       "17744     0.0\n",
       "Name: conversion, Length: 105885, dtype: float64"
      ]
     },
     "execution_count": 54,
     "metadata": {},
     "output_type": "execute_result"
    }
   ],
   "source": [
    "fb.conversion"
   ]
  },
  {
   "cell_type": "code",
   "execution_count": 55,
   "metadata": {},
   "outputs": [],
   "source": [
    "\n",
    "def conversion_categ(df):\n",
    "    if ((df.conversion>=0) & (df.conversion<=2)):\n",
    "        return \"btw 0 and 2 conversions\"\n",
    "    elif ((df.conversion>=3) & (df.conversion<=6)): \n",
    "        return \"btw 3 and 6 conversions\"\n",
    "    elif ((df.conversion>=7) & (df.conversion<=12)): \n",
    "        return \"btw 7 and 12 conversions\"\n",
    "    else:\n",
    "        return 'more than 12 conversions'\n",
    "    \n",
    "          "
   ]
  },
  {
   "cell_type": "code",
   "execution_count": 56,
   "metadata": {},
   "outputs": [],
   "source": [
    "fb['labels']=fb.apply(conversion_categ,axis=1)"
   ]
  },
  {
   "cell_type": "code",
   "execution_count": 57,
   "metadata": {},
   "outputs": [],
   "source": [
    "def missing_values(df):\n",
    "        mis = df.isnull().sum()\n",
    "        mis_percent = 100 * df.isnull().sum() / len(df)\n",
    "        mis_val_table = pd.concat([mis, mis_percent], axis=1)\n",
    "        mis_val_table_ren_columns = mis_val_table.rename(\n",
    "        columns = {0 : 'Missing Values', 1 : '% of Total Values'})\n",
    "        mis_val_table_ren_columns = mis_val_table_ren_columns[\n",
    "            mis_val_table_ren_columns.iloc[:,1] != 0].sort_values(\n",
    "        '% of Total Values', ascending=False).round(2)\n",
    "        print (\"df has \" + str(df.shape[1]) + \" columns.\\n\"      \n",
    "            \"There are \" + str(mis_val_table_ren_columns.shape[0]) +\n",
    "              \" columns that have missing values.\")\n",
    "        return mis_val_table_ren_columns"
   ]
  },
  {
   "cell_type": "code",
   "execution_count": 58,
   "metadata": {},
   "outputs": [
    {
     "name": "stdout",
     "output_type": "stream",
     "text": [
      "df has 43 columns.\n",
      "There are 0 columns that have missing values.\n"
     ]
    },
    {
     "data": {
      "text/html": [
       "<div>\n",
       "<style scoped>\n",
       "    .dataframe tbody tr th:only-of-type {\n",
       "        vertical-align: middle;\n",
       "    }\n",
       "\n",
       "    .dataframe tbody tr th {\n",
       "        vertical-align: top;\n",
       "    }\n",
       "\n",
       "    .dataframe thead th {\n",
       "        text-align: right;\n",
       "    }\n",
       "</style>\n",
       "<table border=\"1\" class=\"dataframe\">\n",
       "  <thead>\n",
       "    <tr style=\"text-align: right;\">\n",
       "      <th></th>\n",
       "      <th>Missing Values</th>\n",
       "      <th>% of Total Values</th>\n",
       "    </tr>\n",
       "  </thead>\n",
       "  <tbody>\n",
       "  </tbody>\n",
       "</table>\n",
       "</div>"
      ],
      "text/plain": [
       "Empty DataFrame\n",
       "Columns: [Missing Values, % of Total Values]\n",
       "Index: []"
      ]
     },
     "execution_count": 58,
     "metadata": {},
     "output_type": "execute_result"
    }
   ],
   "source": [
    "missing_values(fb)"
   ]
  },
  {
   "cell_type": "code",
   "execution_count": 59,
   "metadata": {},
   "outputs": [
    {
     "data": {
      "text/plain": [
       "(array(['18-24', '25-34', '35-44', '45-54', '55-64', '65+'], dtype=object),\n",
       " array([ 5661, 24286, 24293, 24289, 23058,  4298]))"
      ]
     },
     "execution_count": 59,
     "metadata": {},
     "output_type": "execute_result"
    }
   ],
   "source": [
    "np.unique(fb.age,return_counts=True)"
   ]
  },
  {
   "cell_type": "code",
   "execution_count": 60,
   "metadata": {
    "scrolled": true
   },
   "outputs": [],
   "source": [
    "\n",
    "#repordering the columns\n",
    "fb=fb[['ad_account_id', 'ad_account_name', 'reporting_starts',\n",
    "       'reporting_ends', 'ad_set_name', 'age', 'ad_set_delivery', 'bid',\n",
    "       'bid_type', 'ad_set_budget', 'ad_set_budget_type','day_of_week', 'year', 'month', \n",
    "       'week_num', 'location', 'topic', 'type',\n",
    "       'target', 'target_sub', 'version', 'target_grouped',\n",
    "       'last_significant_edit', 'results', 'result_indicator', 'reach',\n",
    "       'impressions', 'cost_per_results', 'amount_spent_(usd)', 'ends',\n",
    "       'starts', 'link_clicks', 'website_purchases', 'leads_(form)',\n",
    "       'campaign_name', 'campaign_id', 'lead_page_contains_thank-you',\n",
    "       'lead_submission', 'ad_set_id', 'landing_page_views', 'session',\n",
    "        'conversion',\n",
    "       'labels']]"
   ]
  },
  {
   "cell_type": "code",
   "execution_count": 61,
   "metadata": {},
   "outputs": [],
   "source": [
    "#fb_ls_us=fb.query('location in @location and type in @types and topic in @topic')"
   ]
  },
  {
   "cell_type": "code",
   "execution_count": 62,
   "metadata": {},
   "outputs": [],
   "source": [
    "def unique_val_count(a):\n",
    "    unique, inverse = np.unique(a, return_inverse=True)\n",
    "    count = np.zeros(len(unique), np.int)\n",
    "    np.add.at(count, inverse, 1)\n",
    "    return np.vstack((unique, count)).T"
   ]
  },
  {
   "cell_type": "code",
   "execution_count": 63,
   "metadata": {},
   "outputs": [
    {
     "data": {
      "text/html": [
       "<div>\n",
       "<style scoped>\n",
       "    .dataframe tbody tr th:only-of-type {\n",
       "        vertical-align: middle;\n",
       "    }\n",
       "\n",
       "    .dataframe tbody tr th {\n",
       "        vertical-align: top;\n",
       "    }\n",
       "\n",
       "    .dataframe thead th {\n",
       "        text-align: right;\n",
       "    }\n",
       "</style>\n",
       "<table border=\"1\" class=\"dataframe\">\n",
       "  <thead>\n",
       "    <tr style=\"text-align: right;\">\n",
       "      <th></th>\n",
       "      <th>ad_account_id</th>\n",
       "      <th>ad_account_name</th>\n",
       "      <th>reporting_starts</th>\n",
       "      <th>reporting_ends</th>\n",
       "      <th>ad_set_name</th>\n",
       "      <th>age</th>\n",
       "      <th>ad_set_delivery</th>\n",
       "      <th>bid</th>\n",
       "      <th>bid_type</th>\n",
       "      <th>ad_set_budget</th>\n",
       "      <th>...</th>\n",
       "      <th>leads_(form)</th>\n",
       "      <th>campaign_name</th>\n",
       "      <th>campaign_id</th>\n",
       "      <th>lead_page_contains_thank-you</th>\n",
       "      <th>lead_submission</th>\n",
       "      <th>ad_set_id</th>\n",
       "      <th>landing_page_views</th>\n",
       "      <th>session</th>\n",
       "      <th>conversion</th>\n",
       "      <th>labels</th>\n",
       "    </tr>\n",
       "  </thead>\n",
       "  <tbody>\n",
       "    <tr>\n",
       "      <th>7797</th>\n",
       "      <td>971415906232505</td>\n",
       "      <td>Matterport</td>\n",
       "      <td>2019-09-03</td>\n",
       "      <td>2019-09-03</td>\n",
       "      <td>ES - PS - Evergreen - All Lists - 5.1</td>\n",
       "      <td>55-64</td>\n",
       "      <td>active</td>\n",
       "      <td>0</td>\n",
       "      <td>ABSOLUTE_OCPM</td>\n",
       "      <td>25.0</td>\n",
       "      <td>...</td>\n",
       "      <td>0.0</td>\n",
       "      <td>EMEA-ES-PS-LeadSubmissions</td>\n",
       "      <td>6074860433239</td>\n",
       "      <td>0.0</td>\n",
       "      <td>0.0</td>\n",
       "      <td>6124979913439</td>\n",
       "      <td>0.0</td>\n",
       "      <td>sheet10</td>\n",
       "      <td>0.0</td>\n",
       "      <td>btw 0 and 2 conversions</td>\n",
       "    </tr>\n",
       "    <tr>\n",
       "      <th>7786</th>\n",
       "      <td>971415906232505</td>\n",
       "      <td>Matterport</td>\n",
       "      <td>2019-09-03</td>\n",
       "      <td>2019-09-03</td>\n",
       "      <td>UK - PS - Evergreen - Video &amp; Website Remarket...</td>\n",
       "      <td>25-34</td>\n",
       "      <td>active</td>\n",
       "      <td>0</td>\n",
       "      <td>ABSOLUTE_OCPM</td>\n",
       "      <td>400.0</td>\n",
       "      <td>...</td>\n",
       "      <td>0.0</td>\n",
       "      <td>EMEA-UK-PS-LeadSubmissions</td>\n",
       "      <td>6058738984839</td>\n",
       "      <td>1.0</td>\n",
       "      <td>0.0</td>\n",
       "      <td>6127430097839</td>\n",
       "      <td>37.0</td>\n",
       "      <td>sheet10</td>\n",
       "      <td>1.0</td>\n",
       "      <td>btw 0 and 2 conversions</td>\n",
       "    </tr>\n",
       "    <tr>\n",
       "      <th>7776</th>\n",
       "      <td>971415906232505</td>\n",
       "      <td>Matterport</td>\n",
       "      <td>2019-09-03</td>\n",
       "      <td>2019-09-03</td>\n",
       "      <td>UK - PS - Evergreen - SQL LAL - 5.23</td>\n",
       "      <td>25-34</td>\n",
       "      <td>active</td>\n",
       "      <td>0</td>\n",
       "      <td>ABSOLUTE_OCPM</td>\n",
       "      <td>50.0</td>\n",
       "      <td>...</td>\n",
       "      <td>0.0</td>\n",
       "      <td>EMEA-UK-PS-LeadSubmissions</td>\n",
       "      <td>6058738984839</td>\n",
       "      <td>0.0</td>\n",
       "      <td>0.0</td>\n",
       "      <td>6127432339039</td>\n",
       "      <td>4.0</td>\n",
       "      <td>sheet10</td>\n",
       "      <td>0.0</td>\n",
       "      <td>btw 0 and 2 conversions</td>\n",
       "    </tr>\n",
       "    <tr>\n",
       "      <th>7777</th>\n",
       "      <td>971415906232505</td>\n",
       "      <td>Matterport</td>\n",
       "      <td>2019-09-03</td>\n",
       "      <td>2019-09-03</td>\n",
       "      <td>UK - PS - Evergreen - SQL LAL - 5.23</td>\n",
       "      <td>18-24</td>\n",
       "      <td>active</td>\n",
       "      <td>0</td>\n",
       "      <td>ABSOLUTE_OCPM</td>\n",
       "      <td>50.0</td>\n",
       "      <td>...</td>\n",
       "      <td>0.0</td>\n",
       "      <td>EMEA-UK-PS-LeadSubmissions</td>\n",
       "      <td>6058738984839</td>\n",
       "      <td>0.0</td>\n",
       "      <td>0.0</td>\n",
       "      <td>6127432339039</td>\n",
       "      <td>0.0</td>\n",
       "      <td>sheet10</td>\n",
       "      <td>0.0</td>\n",
       "      <td>btw 0 and 2 conversions</td>\n",
       "    </tr>\n",
       "    <tr>\n",
       "      <th>7778</th>\n",
       "      <td>971415906232505</td>\n",
       "      <td>Matterport</td>\n",
       "      <td>2019-09-03</td>\n",
       "      <td>2019-09-03</td>\n",
       "      <td>UK - PS - Evergreen - Camera Sales LAL - 5.23</td>\n",
       "      <td>55-64</td>\n",
       "      <td>active</td>\n",
       "      <td>0</td>\n",
       "      <td>ABSOLUTE_OCPM</td>\n",
       "      <td>50.0</td>\n",
       "      <td>...</td>\n",
       "      <td>0.0</td>\n",
       "      <td>EMEA-UK-PS-LeadSubmissions</td>\n",
       "      <td>6058738984839</td>\n",
       "      <td>0.0</td>\n",
       "      <td>0.0</td>\n",
       "      <td>6127431430239</td>\n",
       "      <td>0.0</td>\n",
       "      <td>sheet10</td>\n",
       "      <td>0.0</td>\n",
       "      <td>btw 0 and 2 conversions</td>\n",
       "    </tr>\n",
       "  </tbody>\n",
       "</table>\n",
       "<p>5 rows × 43 columns</p>\n",
       "</div>"
      ],
      "text/plain": [
       "        ad_account_id ad_account_name reporting_starts reporting_ends  \\\n",
       "7797  971415906232505      Matterport       2019-09-03     2019-09-03   \n",
       "7786  971415906232505      Matterport       2019-09-03     2019-09-03   \n",
       "7776  971415906232505      Matterport       2019-09-03     2019-09-03   \n",
       "7777  971415906232505      Matterport       2019-09-03     2019-09-03   \n",
       "7778  971415906232505      Matterport       2019-09-03     2019-09-03   \n",
       "\n",
       "                                            ad_set_name    age  \\\n",
       "7797              ES - PS - Evergreen - All Lists - 5.1  55-64   \n",
       "7786  UK - PS - Evergreen - Video & Website Remarket...  25-34   \n",
       "7776               UK - PS - Evergreen - SQL LAL - 5.23  25-34   \n",
       "7777               UK - PS - Evergreen - SQL LAL - 5.23  18-24   \n",
       "7778      UK - PS - Evergreen - Camera Sales LAL - 5.23  55-64   \n",
       "\n",
       "     ad_set_delivery  bid       bid_type  ad_set_budget  ... leads_(form)  \\\n",
       "7797          active    0  ABSOLUTE_OCPM           25.0  ...          0.0   \n",
       "7786          active    0  ABSOLUTE_OCPM          400.0  ...          0.0   \n",
       "7776          active    0  ABSOLUTE_OCPM           50.0  ...          0.0   \n",
       "7777          active    0  ABSOLUTE_OCPM           50.0  ...          0.0   \n",
       "7778          active    0  ABSOLUTE_OCPM           50.0  ...          0.0   \n",
       "\n",
       "                   campaign_name    campaign_id  lead_page_contains_thank-you  \\\n",
       "7797  EMEA-ES-PS-LeadSubmissions  6074860433239                           0.0   \n",
       "7786  EMEA-UK-PS-LeadSubmissions  6058738984839                           1.0   \n",
       "7776  EMEA-UK-PS-LeadSubmissions  6058738984839                           0.0   \n",
       "7777  EMEA-UK-PS-LeadSubmissions  6058738984839                           0.0   \n",
       "7778  EMEA-UK-PS-LeadSubmissions  6058738984839                           0.0   \n",
       "\n",
       "      lead_submission      ad_set_id landing_page_views  session conversion  \\\n",
       "7797              0.0  6124979913439                0.0  sheet10        0.0   \n",
       "7786              0.0  6127430097839               37.0  sheet10        1.0   \n",
       "7776              0.0  6127432339039                4.0  sheet10        0.0   \n",
       "7777              0.0  6127432339039                0.0  sheet10        0.0   \n",
       "7778              0.0  6127431430239                0.0  sheet10        0.0   \n",
       "\n",
       "                       labels  \n",
       "7797  btw 0 and 2 conversions  \n",
       "7786  btw 0 and 2 conversions  \n",
       "7776  btw 0 and 2 conversions  \n",
       "7777  btw 0 and 2 conversions  \n",
       "7778  btw 0 and 2 conversions  \n",
       "\n",
       "[5 rows x 43 columns]"
      ]
     },
     "execution_count": 63,
     "metadata": {},
     "output_type": "execute_result"
    }
   ],
   "source": [
    "fb.head()"
   ]
  },
  {
   "cell_type": "code",
   "execution_count": 64,
   "metadata": {},
   "outputs": [
    {
     "data": {
      "text/plain": [
       "US             45508\n",
       "EMEA           31918\n",
       "UK              7396\n",
       "MX              5941\n",
       "DE              5630\n",
       "FR              3439\n",
       "CA              2095\n",
       "AU              1703\n",
       "ZA              1594\n",
       "ES               372\n",
       "IT               112\n",
       "BoostedPost      112\n",
       "SE                65\n",
       "Name: location, dtype: int64"
      ]
     },
     "execution_count": 64,
     "metadata": {},
     "output_type": "execute_result"
    }
   ],
   "source": [
    "fb['location'].value_counts()"
   ]
  },
  {
   "cell_type": "code",
   "execution_count": 65,
   "metadata": {},
   "outputs": [],
   "source": [
    "fb.drop_duplicates(inplace=True)\n",
    "fb.reset_index(drop=True, inplace=True)"
   ]
  },
  {
   "cell_type": "code",
   "execution_count": 66,
   "metadata": {},
   "outputs": [
    {
     "data": {
      "text/plain": [
       "US             45508\n",
       "UK             13573\n",
       "FR             10743\n",
       "DE              6873\n",
       "ES              6649\n",
       "MX              5941\n",
       "EMEA            5321\n",
       "ZA              3939\n",
       "IT              2399\n",
       "CA              2095\n",
       "AU              1703\n",
       "PL               964\n",
       "BoostedPost      112\n",
       "SE                65\n",
       "dtype: int64"
      ]
     },
     "execution_count": 66,
     "metadata": {},
     "output_type": "execute_result"
    }
   ],
   "source": [
    "loc_lst = []\n",
    "\n",
    "for i in range(len(fb)):\n",
    "    if fb['location'][i] == 'EMEA':\n",
    "        if (fb['topic'][i] == 'PS') | (fb['topic'][i] == 'RRE'):\n",
    "            loc_lst.append('EMEA')\n",
    "        else:\n",
    "            loc_lst.append(fb['topic'][i])\n",
    "    else:\n",
    "        loc_lst.append(fb['location'][i])\n",
    "        \n",
    "pd.Series(loc_lst).value_counts()"
   ]
  },
  {
   "cell_type": "code",
   "execution_count": 67,
   "metadata": {},
   "outputs": [],
   "source": [
    "fb['location1'] = loc_lst"
   ]
  },
  {
   "cell_type": "code",
   "execution_count": null,
   "metadata": {},
   "outputs": [],
   "source": []
  },
  {
   "cell_type": "code",
   "execution_count": 68,
   "metadata": {},
   "outputs": [
    {
     "data": {
      "text/plain": [
       "RRE              54284\n",
       "PS               35472\n",
       "AEC               3843\n",
       "TH                2125\n",
       "INS               2107\n",
       "MSP               1835\n",
       "Cloud             1624\n",
       "CRE               1388\n",
       "MF                1304\n",
       "Cloud3.0          1064\n",
       "GEN                637\n",
       "Event:Webinar      112\n",
       "8.21Meetup          90\n",
       "dtype: int64"
      ]
     },
     "execution_count": 68,
     "metadata": {},
     "output_type": "execute_result"
    }
   ],
   "source": [
    "topic_lst = []\n",
    "\n",
    "for i in range(len(fb)):\n",
    "    if fb['location'][i] == 'EMEA':\n",
    "        if (fb['topic'][i] != 'PS') & (fb['topic'][i] != 'RRE'):\n",
    "            topic_lst.append(fb['type'][i])\n",
    "        else:\n",
    "            topic_lst.append(fb['topic'][i])\n",
    "    else:\n",
    "        topic_lst.append(fb['topic'][i])\n",
    "        \n",
    "pd.Series(topic_lst).value_counts()"
   ]
  },
  {
   "cell_type": "code",
   "execution_count": 69,
   "metadata": {},
   "outputs": [],
   "source": [
    "fb['topic1'] = topic_lst"
   ]
  },
  {
   "cell_type": "code",
   "execution_count": null,
   "metadata": {},
   "outputs": [],
   "source": []
  },
  {
   "cell_type": "code",
   "execution_count": 70,
   "metadata": {},
   "outputs": [],
   "source": [
    "fb.drop(columns = ['location','topic'], inplace=True)\n",
    "fb = fb.rename(columns={'location1':'location',\n",
    "                      'topic1':'topic'})"
   ]
  },
  {
   "cell_type": "code",
   "execution_count": null,
   "metadata": {},
   "outputs": [],
   "source": []
  },
  {
   "cell_type": "code",
   "execution_count": 71,
   "metadata": {},
   "outputs": [],
   "source": [
    "fb.to_csv('/home/ec2-user/SageMaker/fb_conversion_predictions_2019-06-27/Data/fb_prepo.csv',index=False)"
   ]
  },
  {
   "cell_type": "code",
   "execution_count": 72,
   "metadata": {},
   "outputs": [
    {
     "data": {
      "text/plain": [
       "{'ResponseMetadata': {'RequestId': '469557806AAE9265',\n",
       "  'HostId': 'ybhz/S/MDFIvxwk225CQQShJN1dHtCQqFAanFCUqpNA/xHgNONhi4sE78EGORAqgv+3kSpXP9/E=',\n",
       "  'HTTPStatusCode': 200,\n",
       "  'HTTPHeaders': {'x-amz-id-2': 'ybhz/S/MDFIvxwk225CQQShJN1dHtCQqFAanFCUqpNA/xHgNONhi4sE78EGORAqgv+3kSpXP9/E=',\n",
       "   'x-amz-request-id': '469557806AAE9265',\n",
       "   'date': 'Fri, 06 Sep 2019 15:52:51 GMT',\n",
       "   'etag': '\"74e8b66ba1ab91458986ba52a2578d0a\"',\n",
       "   'content-length': '0',\n",
       "   'server': 'AmazonS3'},\n",
       "  'RetryAttempts': 0},\n",
       " 'ETag': '\"74e8b66ba1ab91458986ba52a2578d0a\"'}"
      ]
     },
     "execution_count": 72,
     "metadata": {},
     "output_type": "execute_result"
    }
   ],
   "source": [
    "bucket='facebookconversionrates' # bucket name\n",
    "data_key = 'preprocessed/fb_prepro.csv' # name of the csv file that will be created\n",
    "csv_buffer = StringIO()\n",
    "fb.to_csv(csv_buffer)\n",
    "s3_resource = boto3.resource('s3')\n",
    "s3_resource.Object(bucket, data_key).put(Body=csv_buffer.getvalue())"
   ]
  },
  {
   "cell_type": "markdown",
   "metadata": {},
   "source": [
    "Below is the filter that displays only the observations in the US"
   ]
  },
  {
   "cell_type": "code",
   "execution_count": 73,
   "metadata": {},
   "outputs": [],
   "source": [
    "fb_us = fb[fb['location'] == 'US']"
   ]
  },
  {
   "cell_type": "code",
   "execution_count": 74,
   "metadata": {},
   "outputs": [
    {
     "data": {
      "text/html": [
       "<div>\n",
       "<style scoped>\n",
       "    .dataframe tbody tr th:only-of-type {\n",
       "        vertical-align: middle;\n",
       "    }\n",
       "\n",
       "    .dataframe tbody tr th {\n",
       "        vertical-align: top;\n",
       "    }\n",
       "\n",
       "    .dataframe thead th {\n",
       "        text-align: right;\n",
       "    }\n",
       "</style>\n",
       "<table border=\"1\" class=\"dataframe\">\n",
       "  <thead>\n",
       "    <tr style=\"text-align: right;\">\n",
       "      <th></th>\n",
       "      <th>ad_account_id</th>\n",
       "      <th>ad_account_name</th>\n",
       "      <th>reporting_starts</th>\n",
       "      <th>reporting_ends</th>\n",
       "      <th>ad_set_name</th>\n",
       "      <th>age</th>\n",
       "      <th>ad_set_delivery</th>\n",
       "      <th>bid</th>\n",
       "      <th>bid_type</th>\n",
       "      <th>ad_set_budget</th>\n",
       "      <th>...</th>\n",
       "      <th>campaign_id</th>\n",
       "      <th>lead_page_contains_thank-you</th>\n",
       "      <th>lead_submission</th>\n",
       "      <th>ad_set_id</th>\n",
       "      <th>landing_page_views</th>\n",
       "      <th>session</th>\n",
       "      <th>conversion</th>\n",
       "      <th>labels</th>\n",
       "      <th>location</th>\n",
       "      <th>topic</th>\n",
       "    </tr>\n",
       "  </thead>\n",
       "  <tbody>\n",
       "    <tr>\n",
       "      <th>14</th>\n",
       "      <td>971415906232505</td>\n",
       "      <td>Matterport</td>\n",
       "      <td>2019-09-03</td>\n",
       "      <td>2019-09-03</td>\n",
       "      <td>US - INS - Restoration Interests - 5.20</td>\n",
       "      <td>55-64</td>\n",
       "      <td>active</td>\n",
       "      <td>0</td>\n",
       "      <td>ABSOLUTE_OCPM</td>\n",
       "      <td>100.0</td>\n",
       "      <td>...</td>\n",
       "      <td>6102921277239</td>\n",
       "      <td>0.0</td>\n",
       "      <td>0.0</td>\n",
       "      <td>6127098957839</td>\n",
       "      <td>0.0</td>\n",
       "      <td>sheet10</td>\n",
       "      <td>0.0</td>\n",
       "      <td>btw 0 and 2 conversions</td>\n",
       "      <td>US</td>\n",
       "      <td>INS</td>\n",
       "    </tr>\n",
       "    <tr>\n",
       "      <th>15</th>\n",
       "      <td>971415906232505</td>\n",
       "      <td>Matterport</td>\n",
       "      <td>2019-09-03</td>\n",
       "      <td>2019-09-03</td>\n",
       "      <td>US - INS - Restoration Interests - 5.20</td>\n",
       "      <td>45-54</td>\n",
       "      <td>active</td>\n",
       "      <td>0</td>\n",
       "      <td>ABSOLUTE_OCPM</td>\n",
       "      <td>100.0</td>\n",
       "      <td>...</td>\n",
       "      <td>6102921277239</td>\n",
       "      <td>0.0</td>\n",
       "      <td>0.0</td>\n",
       "      <td>6127098957839</td>\n",
       "      <td>4.0</td>\n",
       "      <td>sheet10</td>\n",
       "      <td>0.0</td>\n",
       "      <td>btw 0 and 2 conversions</td>\n",
       "      <td>US</td>\n",
       "      <td>INS</td>\n",
       "    </tr>\n",
       "    <tr>\n",
       "      <th>16</th>\n",
       "      <td>971415906232505</td>\n",
       "      <td>Matterport</td>\n",
       "      <td>2019-09-03</td>\n",
       "      <td>2019-09-03</td>\n",
       "      <td>US - INS - Restoration Interests - 5.20</td>\n",
       "      <td>35-44</td>\n",
       "      <td>active</td>\n",
       "      <td>0</td>\n",
       "      <td>ABSOLUTE_OCPM</td>\n",
       "      <td>100.0</td>\n",
       "      <td>...</td>\n",
       "      <td>6102921277239</td>\n",
       "      <td>0.0</td>\n",
       "      <td>0.0</td>\n",
       "      <td>6127098957839</td>\n",
       "      <td>2.0</td>\n",
       "      <td>sheet10</td>\n",
       "      <td>0.0</td>\n",
       "      <td>btw 0 and 2 conversions</td>\n",
       "      <td>US</td>\n",
       "      <td>INS</td>\n",
       "    </tr>\n",
       "    <tr>\n",
       "      <th>17</th>\n",
       "      <td>971415906232505</td>\n",
       "      <td>Matterport</td>\n",
       "      <td>2019-09-03</td>\n",
       "      <td>2019-09-03</td>\n",
       "      <td>US - INS - Restoration Interests - 5.20</td>\n",
       "      <td>25-34</td>\n",
       "      <td>active</td>\n",
       "      <td>0</td>\n",
       "      <td>ABSOLUTE_OCPM</td>\n",
       "      <td>100.0</td>\n",
       "      <td>...</td>\n",
       "      <td>6102921277239</td>\n",
       "      <td>0.0</td>\n",
       "      <td>0.0</td>\n",
       "      <td>6127098957839</td>\n",
       "      <td>3.0</td>\n",
       "      <td>sheet10</td>\n",
       "      <td>0.0</td>\n",
       "      <td>btw 0 and 2 conversions</td>\n",
       "      <td>US</td>\n",
       "      <td>INS</td>\n",
       "    </tr>\n",
       "    <tr>\n",
       "      <th>18</th>\n",
       "      <td>971415906232505</td>\n",
       "      <td>Matterport</td>\n",
       "      <td>2019-09-03</td>\n",
       "      <td>2019-09-03</td>\n",
       "      <td>US - PS - ENT Photography Entrepreneur - 5.22</td>\n",
       "      <td>55-64</td>\n",
       "      <td>active</td>\n",
       "      <td>0</td>\n",
       "      <td>ABSOLUTE_OCPM</td>\n",
       "      <td>2200.0</td>\n",
       "      <td>...</td>\n",
       "      <td>6054174550039</td>\n",
       "      <td>3.0</td>\n",
       "      <td>3.0</td>\n",
       "      <td>6126598149239</td>\n",
       "      <td>36.0</td>\n",
       "      <td>sheet10</td>\n",
       "      <td>3.0</td>\n",
       "      <td>btw 3 and 6 conversions</td>\n",
       "      <td>US</td>\n",
       "      <td>PS</td>\n",
       "    </tr>\n",
       "  </tbody>\n",
       "</table>\n",
       "<p>5 rows × 43 columns</p>\n",
       "</div>"
      ],
      "text/plain": [
       "      ad_account_id ad_account_name reporting_starts reporting_ends  \\\n",
       "14  971415906232505      Matterport       2019-09-03     2019-09-03   \n",
       "15  971415906232505      Matterport       2019-09-03     2019-09-03   \n",
       "16  971415906232505      Matterport       2019-09-03     2019-09-03   \n",
       "17  971415906232505      Matterport       2019-09-03     2019-09-03   \n",
       "18  971415906232505      Matterport       2019-09-03     2019-09-03   \n",
       "\n",
       "                                      ad_set_name    age ad_set_delivery  bid  \\\n",
       "14        US - INS - Restoration Interests - 5.20  55-64          active    0   \n",
       "15        US - INS - Restoration Interests - 5.20  45-54          active    0   \n",
       "16        US - INS - Restoration Interests - 5.20  35-44          active    0   \n",
       "17        US - INS - Restoration Interests - 5.20  25-34          active    0   \n",
       "18  US - PS - ENT Photography Entrepreneur - 5.22  55-64          active    0   \n",
       "\n",
       "         bid_type  ad_set_budget  ...    campaign_id  \\\n",
       "14  ABSOLUTE_OCPM          100.0  ...  6102921277239   \n",
       "15  ABSOLUTE_OCPM          100.0  ...  6102921277239   \n",
       "16  ABSOLUTE_OCPM          100.0  ...  6102921277239   \n",
       "17  ABSOLUTE_OCPM          100.0  ...  6102921277239   \n",
       "18  ABSOLUTE_OCPM         2200.0  ...  6054174550039   \n",
       "\n",
       "   lead_page_contains_thank-you  lead_submission      ad_set_id  \\\n",
       "14                          0.0              0.0  6127098957839   \n",
       "15                          0.0              0.0  6127098957839   \n",
       "16                          0.0              0.0  6127098957839   \n",
       "17                          0.0              0.0  6127098957839   \n",
       "18                          3.0              3.0  6126598149239   \n",
       "\n",
       "    landing_page_views  session conversion                   labels location  \\\n",
       "14                 0.0  sheet10        0.0  btw 0 and 2 conversions       US   \n",
       "15                 4.0  sheet10        0.0  btw 0 and 2 conversions       US   \n",
       "16                 2.0  sheet10        0.0  btw 0 and 2 conversions       US   \n",
       "17                 3.0  sheet10        0.0  btw 0 and 2 conversions       US   \n",
       "18                36.0  sheet10        3.0  btw 3 and 6 conversions       US   \n",
       "\n",
       "   topic  \n",
       "14   INS  \n",
       "15   INS  \n",
       "16   INS  \n",
       "17   INS  \n",
       "18    PS  \n",
       "\n",
       "[5 rows x 43 columns]"
      ]
     },
     "execution_count": 74,
     "metadata": {},
     "output_type": "execute_result"
    }
   ],
   "source": [
    "fb_us.head()"
   ]
  },
  {
   "cell_type": "code",
   "execution_count": 75,
   "metadata": {},
   "outputs": [
    {
     "data": {
      "text/plain": [
       "US    45508\n",
       "Name: location, dtype: int64"
      ]
     },
     "execution_count": 75,
     "metadata": {},
     "output_type": "execute_result"
    }
   ],
   "source": [
    "fb_us.location.value_counts()"
   ]
  },
  {
   "cell_type": "code",
   "execution_count": 76,
   "metadata": {},
   "outputs": [
    {
     "data": {
      "text/plain": [
       "Index(['ad_account_id', 'ad_account_name', 'reporting_starts',\n",
       "       'reporting_ends', 'ad_set_name', 'age', 'ad_set_delivery', 'bid',\n",
       "       'bid_type', 'ad_set_budget', 'ad_set_budget_type', 'day_of_week',\n",
       "       'year', 'month', 'week_num', 'type', 'target', 'target_sub', 'version',\n",
       "       'target_grouped', 'last_significant_edit', 'results',\n",
       "       'result_indicator', 'reach', 'impressions', 'cost_per_results',\n",
       "       'amount_spent_(usd)', 'ends', 'starts', 'link_clicks',\n",
       "       'website_purchases', 'leads_(form)', 'campaign_name', 'campaign_id',\n",
       "       'lead_page_contains_thank-you', 'lead_submission', 'ad_set_id',\n",
       "       'landing_page_views', 'session', 'conversion', 'labels', 'location',\n",
       "       'topic'],\n",
       "      dtype='object')"
      ]
     },
     "execution_count": 76,
     "metadata": {},
     "output_type": "execute_result"
    }
   ],
   "source": [
    "fb_us.columns"
   ]
  },
  {
   "cell_type": "code",
   "execution_count": 77,
   "metadata": {
    "scrolled": true
   },
   "outputs": [],
   "source": [
    "#EMEA_US_CA=[\"US\",\"CA\",\"UK\",\"FR\",\"DE\",\"SE\",\"ZA\",\"IT\",\"PL\",\"UKRRE\",\"ESRRE\",\"DERRE\",\"UKPS\",\"FRRRE\",\"EMEA\",\"AU\"]"
   ]
  },
  {
   "cell_type": "code",
   "execution_count": 78,
   "metadata": {},
   "outputs": [],
   "source": [
    "#EMEA_grp=fb.groupby(['day','topic','type','labels','location']).agg({'conversion': 'sum', 'landing_page_views': \n",
    "                                                     #'sum','amount_spent_(usd)':'sum'})"
   ]
  },
  {
   "cell_type": "code",
   "execution_count": 79,
   "metadata": {},
   "outputs": [
    {
     "name": "stdout",
     "output_type": "stream",
     "text": [
      "576\n"
     ]
    }
   ],
   "source": [
    "#just to check how many days in any given days for my sanity checks\n",
    "\n",
    "from datetime import date\n",
    "date_start=date(2018,1,1)\n",
    "date_end = date(2019,7,31)\n",
    "\n",
    "def get_days(date_start):\n",
    "    return (date_end - date_start).days\n",
    "\n",
    "print(get_days(date_start))"
   ]
  },
  {
   "cell_type": "code",
   "execution_count": 80,
   "metadata": {},
   "outputs": [],
   "source": [
    "#following section is for modeling purpose"
   ]
  },
  {
   "cell_type": "code",
   "execution_count": 81,
   "metadata": {},
   "outputs": [
    {
     "data": {
      "text/plain": [
       "array(['3DRealityCaptureforArchitects',\n",
       "       'Accurate,CompetitiveEstimationforConstructionPros', 'Awareness',\n",
       "       'Conversions', 'Device', 'FlashSale', 'LATAM', 'LatinAmerica',\n",
       "       'LeadAds', 'LeadSubmissions', 'ListingPresentationPanelDiscussion',\n",
       "       'P1Areas', 'PS', 'RRE', 'Reach', 'Webinar'], dtype=object)"
      ]
     },
     "execution_count": 81,
     "metadata": {},
     "output_type": "execute_result"
    }
   ],
   "source": [
    "np.unique(fb.type)"
   ]
  },
  {
   "cell_type": "code",
   "execution_count": 82,
   "metadata": {},
   "outputs": [
    {
     "data": {
      "text/plain": [
       "Index(['ad_account_id', 'ad_account_name', 'reporting_starts',\n",
       "       'reporting_ends', 'ad_set_name', 'age', 'ad_set_delivery', 'bid',\n",
       "       'bid_type', 'ad_set_budget', 'ad_set_budget_type', 'day_of_week',\n",
       "       'year', 'month', 'week_num', 'type', 'target', 'target_sub', 'version',\n",
       "       'target_grouped', 'last_significant_edit', 'results',\n",
       "       'result_indicator', 'reach', 'impressions', 'cost_per_results',\n",
       "       'amount_spent_(usd)', 'ends', 'starts', 'link_clicks',\n",
       "       'website_purchases', 'leads_(form)', 'campaign_name', 'campaign_id',\n",
       "       'lead_page_contains_thank-you', 'lead_submission', 'ad_set_id',\n",
       "       'landing_page_views', 'session', 'conversion', 'labels', 'location',\n",
       "       'topic'],\n",
       "      dtype='object')"
      ]
     },
     "execution_count": 82,
     "metadata": {},
     "output_type": "execute_result"
    }
   ],
   "source": [
    "fb.columns"
   ]
  },
  {
   "cell_type": "code",
   "execution_count": 83,
   "metadata": {},
   "outputs": [],
   "source": [
    "fb2=fb.groupby(['campaign_name','day_of_week', 'year', 'month',\n",
    "       'week_num', 'location','type','topic',\n",
    "                'target_grouped','age'],as_index=False).agg({'amount_spent_(usd)':'sum','conversion':'sum'})"
   ]
  },
  {
   "cell_type": "code",
   "execution_count": 84,
   "metadata": {},
   "outputs": [
    {
     "name": "stdout",
     "output_type": "stream",
     "text": [
      "df has 12 columns.\n",
      "There are 0 columns that have missing values.\n"
     ]
    },
    {
     "data": {
      "text/html": [
       "<div>\n",
       "<style scoped>\n",
       "    .dataframe tbody tr th:only-of-type {\n",
       "        vertical-align: middle;\n",
       "    }\n",
       "\n",
       "    .dataframe tbody tr th {\n",
       "        vertical-align: top;\n",
       "    }\n",
       "\n",
       "    .dataframe thead th {\n",
       "        text-align: right;\n",
       "    }\n",
       "</style>\n",
       "<table border=\"1\" class=\"dataframe\">\n",
       "  <thead>\n",
       "    <tr style=\"text-align: right;\">\n",
       "      <th></th>\n",
       "      <th>Missing Values</th>\n",
       "      <th>% of Total Values</th>\n",
       "    </tr>\n",
       "  </thead>\n",
       "  <tbody>\n",
       "  </tbody>\n",
       "</table>\n",
       "</div>"
      ],
      "text/plain": [
       "Empty DataFrame\n",
       "Columns: [Missing Values, % of Total Values]\n",
       "Index: []"
      ]
     },
     "execution_count": 84,
     "metadata": {},
     "output_type": "execute_result"
    }
   ],
   "source": [
    "missing_values(fb2)"
   ]
  },
  {
   "cell_type": "code",
   "execution_count": 85,
   "metadata": {
    "scrolled": true
   },
   "outputs": [
    {
     "data": {
      "text/plain": [
       "array(['AU-RRE-LeadSubmissions',\n",
       "       'BoostedPost-Event:Webinar-3DRealityCaptureforArchitects',\n",
       "       'BoostedPost-Event:Webinar-Accurate,CompetitiveEstimationforConstructionPros',\n",
       "       'BoostedPost-Event:Webinar-ListingPresentationPanelDiscussion',\n",
       "       'CA-RRE-LeadSubmissions', 'DE-PS-LeadAds-2018', 'DE-RRE-Awareness',\n",
       "       'DE-RRE-Awareness-DecemberSale', 'DE-RRE-LeadAds-2018',\n",
       "       'DE-RRE-LeadSubmissions', 'EMEA-DE-PS-LeadSubmissions',\n",
       "       'EMEA-DE-RRE-LeadSubmissions', 'EMEA-ES-PS-LeadSubmissions',\n",
       "       'EMEA-ES-RRE-Awareness', 'EMEA-ES-RRE-LeadSubmissions',\n",
       "       'EMEA-FR-PS-LeadSubmissions', 'EMEA-FR-RRE-LeadSubmissions',\n",
       "       'EMEA-IT-PS-LeadSubmissions', 'EMEA-IT-RRE-LeadSubmissions',\n",
       "       'EMEA-PL-RRE-LeadSubmissions', 'EMEA-PS-LeadSubmissions',\n",
       "       'EMEA-RRE-LeadSubmissions', 'EMEA-UK-PS-LeadSubmissions',\n",
       "       'EMEA-UK-RRE-LeadSubmissions', 'EMEA-ZA-PS-LeadSubmissions',\n",
       "       'ES-PS-LeadAds-2018', 'ES-RRE-Awareness-DecemberSale',\n",
       "       'ES-RRE-LeadAds-2018', 'FR-PS-LeadAds-2018',\n",
       "       'FR-RRE-Awareness-DecemberSale', 'FR-RRE-LeadAds-2018',\n",
       "       'FR-RRE-Reach-Awareness', 'IT-RRE-LeadAds-2018',\n",
       "       'MX-PS-LATAM-LeadSubmissions', 'MX-RRE-LatinAmerica-Awareness',\n",
       "       'MX-RRE-LatinAmerica-Awareness-ReachFrequency',\n",
       "       'MX-RRE-LatinAmerica-LeadSubmissions', 'SE-RRE-LeadSubmissions',\n",
       "       'UK-Cloud3.0-Conversions', 'UK-Cloud3.0-Webinar-360Camera',\n",
       "       'UK-PS-Awareness', 'UK-PS-Awareness-ReachFrequency',\n",
       "       'UK-PS-LeadAds-2018', 'UK-PS-Webinar-9.11Webinar2',\n",
       "       'UK-PS-Webinar-OpeningDoors', 'UK-RRE-Awareness',\n",
       "       'UK-RRE-Awareness-DecemberSale', 'UK-RRE-LeadAds-2018',\n",
       "       'UK-RRE-LeadSubmissions', 'US-8.21Meetup-Conversions',\n",
       "       'US-AEC-LeadSubmissions', 'US-CRE-LeadAds-2018',\n",
       "       'US-CRE-LeadSubmissions', 'US-Cloud-Awareness',\n",
       "       'US-Cloud3.0-Awareness', 'US-Cloud3.0-Conversions',\n",
       "       'US-Cloud3.0-Webinar-360Camera', 'US-GEN-LeadSubmissions',\n",
       "       'US-INS-LeadSubmissions', 'US-INS-Reach-Awareness',\n",
       "       'US-INS-Webinar-ChicagoWater&FireRestoration',\n",
       "       'US-MF-LeadAds-2018', 'US-MF-LeadSubmissions',\n",
       "       'US-MSP-Reach-Awareness', 'US-PS-LeadAds-2018',\n",
       "       'US-PS-LeadSubmissions', 'US-PS-Webinar-9.11Webinar2',\n",
       "       'US-PS-Webinar-OpeningDoors', 'US-RRE-Awareness-DecemberSale',\n",
       "       'US-RRE-Awareness-ReachFrequency', 'US-RRE-Device-LeadSubmissions',\n",
       "       'US-RRE-FlashSale', 'US-RRE-LeadAds-2018',\n",
       "       'US-RRE-LeadSubmissions', 'US-RRE-P1Areas-LeadSubmissions',\n",
       "       'US-RRE-Reach-Awareness-Pro2Lite', 'US-TH-LeadAds-2018',\n",
       "       'US-TH-LeadSubmissions', 'ZA-RRE-LeadAds-2018',\n",
       "       'ZA-RRE-LeadSubmissions'], dtype=object)"
      ]
     },
     "execution_count": 85,
     "metadata": {},
     "output_type": "execute_result"
    }
   ],
   "source": [
    "np.unique(fb2.campaign_name)"
   ]
  },
  {
   "cell_type": "code",
   "execution_count": 86,
   "metadata": {},
   "outputs": [],
   "source": [
    "###GROUPED by Campaign and ad level (processed)"
   ]
  },
  {
   "cell_type": "code",
   "execution_count": 87,
   "metadata": {},
   "outputs": [],
   "source": [
    "fb2.to_csv('/home/ec2-user/SageMaker/fb_conversion_predictions_2019-06-27/Data/fb_prepo_grouped.csv',index=False)"
   ]
  },
  {
   "cell_type": "code",
   "execution_count": 88,
   "metadata": {},
   "outputs": [
    {
     "data": {
      "text/plain": [
       "{'ResponseMetadata': {'RequestId': '5B53A15892DD4F70',\n",
       "  'HostId': 'E+pyFODjHco3+PFVGSvXIkm2KersjBfBrVvOTPldXc41oMmsb1n76vDpC9IzKw6/r+4oaV/y0Po=',\n",
       "  'HTTPStatusCode': 200,\n",
       "  'HTTPHeaders': {'x-amz-id-2': 'E+pyFODjHco3+PFVGSvXIkm2KersjBfBrVvOTPldXc41oMmsb1n76vDpC9IzKw6/r+4oaV/y0Po=',\n",
       "   'x-amz-request-id': '5B53A15892DD4F70',\n",
       "   'date': 'Fri, 06 Sep 2019 15:54:31 GMT',\n",
       "   'etag': '\"1f3de0e8df039f7ade967ae3448ecb7e\"',\n",
       "   'content-length': '0',\n",
       "   'server': 'AmazonS3'},\n",
       "  'RetryAttempts': 0},\n",
       " 'ETag': '\"1f3de0e8df039f7ade967ae3448ecb7e\"'}"
      ]
     },
     "execution_count": 88,
     "metadata": {},
     "output_type": "execute_result"
    }
   ],
   "source": [
    "bucket='facebookconversionrates' # bucket name\n",
    "data_key = 'preprocessed/fb_prepro_grouped.csv' # name of the csv file that will be created\n",
    "csv_buffer = StringIO()\n",
    "fb2.to_csv(csv_buffer)\n",
    "s3_resource = boto3.resource('s3')\n",
    "s3_resource.Object(bucket, data_key).put(Body=csv_buffer.getvalue())"
   ]
  },
  {
   "cell_type": "code",
   "execution_count": 89,
   "metadata": {},
   "outputs": [
    {
     "data": {
      "text/plain": [
       "US-RRE-LeadSubmissions             9939\n",
       "US-RRE-LeadAds-2018                1428\n",
       "US-RRE-P1Areas-LeadSubmissions      289\n",
       "US-RRE-Reach-Awareness-Pro2Lite      80\n",
       "US-RRE-Awareness-DecemberSale        68\n",
       "US-RRE-Device-LeadSubmissions        50\n",
       "US-RRE-Awareness-ReachFrequency      28\n",
       "US-RRE-FlashSale                      8\n",
       "Name: campaign_name, dtype: int64"
      ]
     },
     "execution_count": 89,
     "metadata": {},
     "output_type": "execute_result"
    }
   ],
   "source": [
    "fb2[(fb2['location'] == 'US') & (fb2['topic'] == 'RRE')]['campaign_name'].value_counts()"
   ]
  },
  {
   "cell_type": "code",
   "execution_count": 91,
   "metadata": {
    "scrolled": true
   },
   "outputs": [
    {
     "data": {
      "text/plain": [
       "US-RRE-LeadSubmissions                                                         9939\n",
       "US-PS-LeadSubmissions                                                          8324\n",
       "US-PS-LeadAds-2018                                                             4160\n",
       "EMEA-ES-RRE-LeadSubmissions                                                    3986\n",
       "EMEA-FR-RRE-LeadSubmissions                                                    3865\n",
       "MX-RRE-LatinAmerica-LeadSubmissions                                            3709\n",
       "EMEA-UK-PS-LeadSubmissions                                                     3276\n",
       "US-AEC-LeadSubmissions                                                         2339\n",
       "EMEA-RRE-LeadSubmissions                                                       2331\n",
       "DE-RRE-LeadSubmissions                                                         2206\n",
       "EMEA-FR-PS-LeadSubmissions                                                     2185\n",
       "EMEA-ZA-PS-LeadSubmissions                                                     1761\n",
       "US-MSP-Reach-Awareness                                                         1706\n",
       "EMEA-IT-RRE-LeadSubmissions                                                    1648\n",
       "US-Cloud-Awareness                                                             1616\n",
       "UK-RRE-LeadSubmissions                                                         1606\n",
       "FR-RRE-Reach-Awareness                                                         1569\n",
       "US-INS-LeadSubmissions                                                         1507\n",
       "MX-RRE-LatinAmerica-Awareness                                                  1455\n",
       "US-RRE-LeadAds-2018                                                            1428\n",
       "UK-PS-LeadAds-2018                                                             1400\n",
       "UK-PS-Awareness                                                                1356\n",
       "CA-RRE-LeadSubmissions                                                         1312\n",
       "US-TH-LeadSubmissions                                                          1285\n",
       "EMEA-PS-LeadSubmissions                                                        1222\n",
       "DE-PS-LeadAds-2018                                                             1212\n",
       "AU-RRE-LeadSubmissions                                                         1141\n",
       "DE-RRE-LeadAds-2018                                                            1100\n",
       "UK-RRE-LeadAds-2018                                                            1048\n",
       "US-CRE-LeadAds-2018                                                            1004\n",
       "                                                                               ... \n",
       "US-Cloud3.0-Webinar-360Camera                                                   203\n",
       "ES-RRE-LeadAds-2018                                                             192\n",
       "EMEA-UK-RRE-LeadSubmissions                                                     130\n",
       "US-PS-Webinar-OpeningDoors                                                      115\n",
       "UK-PS-Webinar-OpeningDoors                                                      115\n",
       "EMEA-DE-RRE-LeadSubmissions                                                     115\n",
       "IT-RRE-LeadAds-2018                                                             112\n",
       "ES-PS-LeadAds-2018                                                              112\n",
       "US-INS-Webinar-ChicagoWater&FireRestoration                                      96\n",
       "UK-Cloud3.0-Conversions                                                          90\n",
       "US-8.21Meetup-Conversions                                                        90\n",
       "DE-RRE-Awareness                                                                 84\n",
       "US-RRE-Reach-Awareness-Pro2Lite                                                  80\n",
       "US-PS-Webinar-9.11Webinar2                                                       70\n",
       "UK-PS-Webinar-9.11Webinar2                                                       70\n",
       "US-RRE-Awareness-DecemberSale                                                    68\n",
       "UK-RRE-Awareness-DecemberSale                                                    68\n",
       "ES-RRE-Awareness-DecemberSale                                                    68\n",
       "FR-RRE-Awareness-DecemberSale                                                    68\n",
       "DE-RRE-Awareness-DecemberSale                                                    68\n",
       "SE-RRE-LeadSubmissions                                                           65\n",
       "UK-PS-Awareness-ReachFrequency                                                   60\n",
       "BoostedPost-Event:Webinar-ListingPresentationPanelDiscussion                     54\n",
       "UK-Cloud3.0-Webinar-360Camera                                                    51\n",
       "US-RRE-Device-LeadSubmissions                                                    50\n",
       "MX-RRE-LatinAmerica-Awareness-ReachFrequency                                     32\n",
       "BoostedPost-Event:Webinar-Accurate,CompetitiveEstimationforConstructionPros      28\n",
       "BoostedPost-Event:Webinar-3DRealityCaptureforArchitects                          28\n",
       "US-RRE-Awareness-ReachFrequency                                                  28\n",
       "US-RRE-FlashSale                                                                  8\n",
       "Name: campaign_name, Length: 80, dtype: int64"
      ]
     },
     "execution_count": 91,
     "metadata": {},
     "output_type": "execute_result"
    }
   ],
   "source": [
    "fb2['campaign_name'].value_counts()"
   ]
  },
  {
   "cell_type": "code",
   "execution_count": 92,
   "metadata": {},
   "outputs": [],
   "source": [
    "campaigns=['US-RRE-LeadSubmissions' ,'US-PS-LeadSubmissions']"
   ]
  },
  {
   "cell_type": "code",
   "execution_count": 93,
   "metadata": {},
   "outputs": [],
   "source": [
    "fb_m=fb2.query('campaign_name in @campaigns')"
   ]
  },
  {
   "cell_type": "code",
   "execution_count": 94,
   "metadata": {},
   "outputs": [
    {
     "data": {
      "text/plain": [
       "array(['PS', 'RRE'], dtype=object)"
      ]
     },
     "execution_count": 94,
     "metadata": {},
     "output_type": "execute_result"
    }
   ],
   "source": [
    "np.unique(fb_m.topic)"
   ]
  },
  {
   "cell_type": "code",
   "execution_count": 95,
   "metadata": {},
   "outputs": [],
   "source": [
    "fb_m['target_grouped']=fb_m.target_grouped.str.replace('MQLSQLPS','MQLSQL')"
   ]
  },
  {
   "cell_type": "code",
   "execution_count": 96,
   "metadata": {},
   "outputs": [
    {
     "data": {
      "text/plain": [
       "{'2': 114,\n",
       " 'agentsbrokers': 1327,\n",
       " 'alllists': 1059,\n",
       " 'alllists10': 114,\n",
       " 'brokers': 185,\n",
       " 'camerasalelal': 108,\n",
       " 'camerasaleps': 15,\n",
       " 'dqcost': 28,\n",
       " 'dqcostremarketinglal': 20,\n",
       " 'entphotographyentrepreneur': 654,\n",
       " 'entselfemployeddrivers': 637,\n",
       " 'evergreen': 1362,\n",
       " 'febpromo': 562,\n",
       " 'googlestreetviewphotographers': 387,\n",
       " 'infographic': 521,\n",
       " 'interestaudiencerealestate': 52,\n",
       " 'limitedtimeoffer': 75,\n",
       " 'limitedtimeofferwebsiteremarketing': 65,\n",
       " 'mqlsqlps': 208,\n",
       " 'nannan': 114,\n",
       " 'openedleadform': 30,\n",
       " 'openedleadformlal': 1909,\n",
       " 'openedleadforms': 148,\n",
       " 'pagevisitorremarketing': 449,\n",
       " 'peoplewholikemppage': 121,\n",
       " 'pro2literemarketing': 16,\n",
       " 're': 444,\n",
       " 'remarketing': 24,\n",
       " 'remaxagents': 285,\n",
       " 'sdr': 72,\n",
       " 'sql10': 116,\n",
       " 'sql1025': 174,\n",
       " 'sqllal': 256,\n",
       " 'submittedleadform': 867,\n",
       " 'videoremarketing': 689,\n",
       " 'videoremarketinglal': 1849,\n",
       " 'websiteremarketing': 2556,\n",
       " 'websiteremarketinglal': 651}"
      ]
     },
     "execution_count": 96,
     "metadata": {},
     "output_type": "execute_result"
    }
   ],
   "source": [
    "values,counts=np.unique(fb_m.target_grouped,return_counts=True)\n",
    "dict(sorted(zip(values,counts), key=lambda x: x[0]))"
   ]
  },
  {
   "cell_type": "code",
   "execution_count": 97,
   "metadata": {},
   "outputs": [],
   "source": [
    "exc=['flashsale','febpromo','camerasaleps','limitedtimeoffer',\n",
    "     'openedleadform','remarketing','dqcost','dqcostremarketinglal',\n",
    "     'interestaudiencerealestate','limitedtimeofferwebsiteremarketing']"
   ]
  },
  {
   "cell_type": "code",
   "execution_count": 98,
   "metadata": {},
   "outputs": [],
   "source": [
    "fb_m=fb_m.query('target_grouped not in @exc')"
   ]
  },
  {
   "cell_type": "code",
   "execution_count": 109,
   "metadata": {},
   "outputs": [],
   "source": [
    "#labels_spent = [\"{0} - {1}\".format(i, i + 10) for i in range(0, 550, 11)]"
   ]
  },
  {
   "cell_type": "code",
   "execution_count": 110,
   "metadata": {},
   "outputs": [],
   "source": [
    "#fb2_ps_us['bin_spent'] = pd.cut(fb2_ps_us['amount_spent_(usd)'], range(0, 555, 11), right=False, labels=labels_spent)"
   ]
  },
  {
   "cell_type": "code",
   "execution_count": 99,
   "metadata": {},
   "outputs": [],
   "source": [
    "fb_m['labels']=fb_m.apply(conversion_categ,axis=1)"
   ]
  },
  {
   "cell_type": "code",
   "execution_count": 100,
   "metadata": {},
   "outputs": [
    {
     "data": {
      "text/html": [
       "<div>\n",
       "<style scoped>\n",
       "    .dataframe tbody tr th:only-of-type {\n",
       "        vertical-align: middle;\n",
       "    }\n",
       "\n",
       "    .dataframe tbody tr th {\n",
       "        vertical-align: top;\n",
       "    }\n",
       "\n",
       "    .dataframe thead th {\n",
       "        text-align: right;\n",
       "    }\n",
       "</style>\n",
       "<table border=\"1\" class=\"dataframe\">\n",
       "  <thead>\n",
       "    <tr style=\"text-align: right;\">\n",
       "      <th></th>\n",
       "      <th>campaign_name</th>\n",
       "      <th>day_of_week</th>\n",
       "      <th>year</th>\n",
       "      <th>month</th>\n",
       "      <th>week_num</th>\n",
       "      <th>location</th>\n",
       "      <th>type</th>\n",
       "      <th>topic</th>\n",
       "      <th>target_grouped</th>\n",
       "      <th>age</th>\n",
       "      <th>amount_spent_(usd)</th>\n",
       "      <th>conversion</th>\n",
       "      <th>labels</th>\n",
       "    </tr>\n",
       "  </thead>\n",
       "  <tbody>\n",
       "    <tr>\n",
       "      <th>62492</th>\n",
       "      <td>US-PS-LeadSubmissions</td>\n",
       "      <td>Fri</td>\n",
       "      <td>2018</td>\n",
       "      <td>1</td>\n",
       "      <td>1</td>\n",
       "      <td>US</td>\n",
       "      <td>LeadSubmissions</td>\n",
       "      <td>PS</td>\n",
       "      <td>entselfemployeddrivers</td>\n",
       "      <td>18-24</td>\n",
       "      <td>7.90</td>\n",
       "      <td>0.0</td>\n",
       "      <td>btw 0 and 2 conversions</td>\n",
       "    </tr>\n",
       "    <tr>\n",
       "      <th>62493</th>\n",
       "      <td>US-PS-LeadSubmissions</td>\n",
       "      <td>Fri</td>\n",
       "      <td>2018</td>\n",
       "      <td>1</td>\n",
       "      <td>1</td>\n",
       "      <td>US</td>\n",
       "      <td>LeadSubmissions</td>\n",
       "      <td>PS</td>\n",
       "      <td>entselfemployeddrivers</td>\n",
       "      <td>25-34</td>\n",
       "      <td>50.18</td>\n",
       "      <td>3.0</td>\n",
       "      <td>btw 3 and 6 conversions</td>\n",
       "    </tr>\n",
       "    <tr>\n",
       "      <th>62494</th>\n",
       "      <td>US-PS-LeadSubmissions</td>\n",
       "      <td>Fri</td>\n",
       "      <td>2018</td>\n",
       "      <td>1</td>\n",
       "      <td>1</td>\n",
       "      <td>US</td>\n",
       "      <td>LeadSubmissions</td>\n",
       "      <td>PS</td>\n",
       "      <td>entselfemployeddrivers</td>\n",
       "      <td>35-44</td>\n",
       "      <td>37.79</td>\n",
       "      <td>3.0</td>\n",
       "      <td>btw 3 and 6 conversions</td>\n",
       "    </tr>\n",
       "    <tr>\n",
       "      <th>62495</th>\n",
       "      <td>US-PS-LeadSubmissions</td>\n",
       "      <td>Fri</td>\n",
       "      <td>2018</td>\n",
       "      <td>1</td>\n",
       "      <td>1</td>\n",
       "      <td>US</td>\n",
       "      <td>LeadSubmissions</td>\n",
       "      <td>PS</td>\n",
       "      <td>entselfemployeddrivers</td>\n",
       "      <td>45-54</td>\n",
       "      <td>20.92</td>\n",
       "      <td>1.0</td>\n",
       "      <td>btw 0 and 2 conversions</td>\n",
       "    </tr>\n",
       "    <tr>\n",
       "      <th>62496</th>\n",
       "      <td>US-PS-LeadSubmissions</td>\n",
       "      <td>Fri</td>\n",
       "      <td>2018</td>\n",
       "      <td>1</td>\n",
       "      <td>1</td>\n",
       "      <td>US</td>\n",
       "      <td>LeadSubmissions</td>\n",
       "      <td>PS</td>\n",
       "      <td>entselfemployeddrivers</td>\n",
       "      <td>55-64</td>\n",
       "      <td>1.69</td>\n",
       "      <td>0.0</td>\n",
       "      <td>btw 0 and 2 conversions</td>\n",
       "    </tr>\n",
       "  </tbody>\n",
       "</table>\n",
       "</div>"
      ],
      "text/plain": [
       "               campaign_name day_of_week  year  month  week_num location  \\\n",
       "62492  US-PS-LeadSubmissions         Fri  2018      1         1       US   \n",
       "62493  US-PS-LeadSubmissions         Fri  2018      1         1       US   \n",
       "62494  US-PS-LeadSubmissions         Fri  2018      1         1       US   \n",
       "62495  US-PS-LeadSubmissions         Fri  2018      1         1       US   \n",
       "62496  US-PS-LeadSubmissions         Fri  2018      1         1       US   \n",
       "\n",
       "                  type topic          target_grouped    age  \\\n",
       "62492  LeadSubmissions    PS  entselfemployeddrivers  18-24   \n",
       "62493  LeadSubmissions    PS  entselfemployeddrivers  25-34   \n",
       "62494  LeadSubmissions    PS  entselfemployeddrivers  35-44   \n",
       "62495  LeadSubmissions    PS  entselfemployeddrivers  45-54   \n",
       "62496  LeadSubmissions    PS  entselfemployeddrivers  55-64   \n",
       "\n",
       "       amount_spent_(usd)  conversion                   labels  \n",
       "62492                7.90         0.0  btw 0 and 2 conversions  \n",
       "62493               50.18         3.0  btw 3 and 6 conversions  \n",
       "62494               37.79         3.0  btw 3 and 6 conversions  \n",
       "62495               20.92         1.0  btw 0 and 2 conversions  \n",
       "62496                1.69         0.0  btw 0 and 2 conversions  "
      ]
     },
     "execution_count": 100,
     "metadata": {},
     "output_type": "execute_result"
    }
   ],
   "source": [
    "fb_m[fb_m['topic']=='PS'].head()"
   ]
  },
  {
   "cell_type": "code",
   "execution_count": 101,
   "metadata": {},
   "outputs": [
    {
     "name": "stdout",
     "output_type": "stream",
     "text": [
      "df has 13 columns.\n",
      "There are 0 columns that have missing values.\n"
     ]
    },
    {
     "data": {
      "text/html": [
       "<div>\n",
       "<style scoped>\n",
       "    .dataframe tbody tr th:only-of-type {\n",
       "        vertical-align: middle;\n",
       "    }\n",
       "\n",
       "    .dataframe tbody tr th {\n",
       "        vertical-align: top;\n",
       "    }\n",
       "\n",
       "    .dataframe thead th {\n",
       "        text-align: right;\n",
       "    }\n",
       "</style>\n",
       "<table border=\"1\" class=\"dataframe\">\n",
       "  <thead>\n",
       "    <tr style=\"text-align: right;\">\n",
       "      <th></th>\n",
       "      <th>Missing Values</th>\n",
       "      <th>% of Total Values</th>\n",
       "    </tr>\n",
       "  </thead>\n",
       "  <tbody>\n",
       "  </tbody>\n",
       "</table>\n",
       "</div>"
      ],
      "text/plain": [
       "Empty DataFrame\n",
       "Columns: [Missing Values, % of Total Values]\n",
       "Index: []"
      ]
     },
     "execution_count": 101,
     "metadata": {},
     "output_type": "execute_result"
    }
   ],
   "source": [
    "missing_values(fb_m)"
   ]
  },
  {
   "cell_type": "code",
   "execution_count": 102,
   "metadata": {},
   "outputs": [],
   "source": [
    "from scipy.stats.mstats import mquantiles"
   ]
  },
  {
   "cell_type": "code",
   "execution_count": 103,
   "metadata": {},
   "outputs": [
    {
     "data": {
      "text/html": [
       "<div>\n",
       "<style scoped>\n",
       "    .dataframe tbody tr th:only-of-type {\n",
       "        vertical-align: middle;\n",
       "    }\n",
       "\n",
       "    .dataframe tbody tr th {\n",
       "        vertical-align: top;\n",
       "    }\n",
       "\n",
       "    .dataframe thead th {\n",
       "        text-align: right;\n",
       "    }\n",
       "</style>\n",
       "<table border=\"1\" class=\"dataframe\">\n",
       "  <thead>\n",
       "    <tr style=\"text-align: right;\">\n",
       "      <th></th>\n",
       "      <th>campaign_name</th>\n",
       "      <th>day_of_week</th>\n",
       "      <th>year</th>\n",
       "      <th>month</th>\n",
       "      <th>week_num</th>\n",
       "      <th>location</th>\n",
       "      <th>type</th>\n",
       "      <th>topic</th>\n",
       "      <th>target_grouped</th>\n",
       "      <th>age</th>\n",
       "      <th>amount_spent_(usd)</th>\n",
       "      <th>conversion</th>\n",
       "      <th>labels</th>\n",
       "    </tr>\n",
       "  </thead>\n",
       "  <tbody>\n",
       "    <tr>\n",
       "      <th>62492</th>\n",
       "      <td>US-PS-LeadSubmissions</td>\n",
       "      <td>Fri</td>\n",
       "      <td>2018</td>\n",
       "      <td>1</td>\n",
       "      <td>1</td>\n",
       "      <td>US</td>\n",
       "      <td>LeadSubmissions</td>\n",
       "      <td>PS</td>\n",
       "      <td>entselfemployeddrivers</td>\n",
       "      <td>18-24</td>\n",
       "      <td>7.900000</td>\n",
       "      <td>0.0</td>\n",
       "      <td>btw 0 and 2 conversions</td>\n",
       "    </tr>\n",
       "    <tr>\n",
       "      <th>62493</th>\n",
       "      <td>US-PS-LeadSubmissions</td>\n",
       "      <td>Fri</td>\n",
       "      <td>2018</td>\n",
       "      <td>1</td>\n",
       "      <td>1</td>\n",
       "      <td>US</td>\n",
       "      <td>LeadSubmissions</td>\n",
       "      <td>PS</td>\n",
       "      <td>entselfemployeddrivers</td>\n",
       "      <td>25-34</td>\n",
       "      <td>50.180000</td>\n",
       "      <td>3.0</td>\n",
       "      <td>btw 3 and 6 conversions</td>\n",
       "    </tr>\n",
       "    <tr>\n",
       "      <th>62494</th>\n",
       "      <td>US-PS-LeadSubmissions</td>\n",
       "      <td>Fri</td>\n",
       "      <td>2018</td>\n",
       "      <td>1</td>\n",
       "      <td>1</td>\n",
       "      <td>US</td>\n",
       "      <td>LeadSubmissions</td>\n",
       "      <td>PS</td>\n",
       "      <td>entselfemployeddrivers</td>\n",
       "      <td>35-44</td>\n",
       "      <td>37.790000</td>\n",
       "      <td>3.0</td>\n",
       "      <td>btw 3 and 6 conversions</td>\n",
       "    </tr>\n",
       "    <tr>\n",
       "      <th>62495</th>\n",
       "      <td>US-PS-LeadSubmissions</td>\n",
       "      <td>Fri</td>\n",
       "      <td>2018</td>\n",
       "      <td>1</td>\n",
       "      <td>1</td>\n",
       "      <td>US</td>\n",
       "      <td>LeadSubmissions</td>\n",
       "      <td>PS</td>\n",
       "      <td>entselfemployeddrivers</td>\n",
       "      <td>45-54</td>\n",
       "      <td>20.920000</td>\n",
       "      <td>1.0</td>\n",
       "      <td>btw 0 and 2 conversions</td>\n",
       "    </tr>\n",
       "    <tr>\n",
       "      <th>62496</th>\n",
       "      <td>US-PS-LeadSubmissions</td>\n",
       "      <td>Fri</td>\n",
       "      <td>2018</td>\n",
       "      <td>1</td>\n",
       "      <td>1</td>\n",
       "      <td>US</td>\n",
       "      <td>LeadSubmissions</td>\n",
       "      <td>PS</td>\n",
       "      <td>entselfemployeddrivers</td>\n",
       "      <td>55-64</td>\n",
       "      <td>1.690000</td>\n",
       "      <td>0.0</td>\n",
       "      <td>btw 0 and 2 conversions</td>\n",
       "    </tr>\n",
       "    <tr>\n",
       "      <th>62497</th>\n",
       "      <td>US-PS-LeadSubmissions</td>\n",
       "      <td>Fri</td>\n",
       "      <td>2018</td>\n",
       "      <td>1</td>\n",
       "      <td>1</td>\n",
       "      <td>US</td>\n",
       "      <td>LeadSubmissions</td>\n",
       "      <td>PS</td>\n",
       "      <td>entselfemployeddrivers</td>\n",
       "      <td>65+</td>\n",
       "      <td>0.170000</td>\n",
       "      <td>0.0</td>\n",
       "      <td>btw 0 and 2 conversions</td>\n",
       "    </tr>\n",
       "    <tr>\n",
       "      <th>62498</th>\n",
       "      <td>US-PS-LeadSubmissions</td>\n",
       "      <td>Fri</td>\n",
       "      <td>2018</td>\n",
       "      <td>1</td>\n",
       "      <td>1</td>\n",
       "      <td>US</td>\n",
       "      <td>LeadSubmissions</td>\n",
       "      <td>PS</td>\n",
       "      <td>mqlsqlps</td>\n",
       "      <td>18-24</td>\n",
       "      <td>3.399159</td>\n",
       "      <td>0.0</td>\n",
       "      <td>btw 0 and 2 conversions</td>\n",
       "    </tr>\n",
       "    <tr>\n",
       "      <th>62499</th>\n",
       "      <td>US-PS-LeadSubmissions</td>\n",
       "      <td>Fri</td>\n",
       "      <td>2018</td>\n",
       "      <td>1</td>\n",
       "      <td>1</td>\n",
       "      <td>US</td>\n",
       "      <td>LeadSubmissions</td>\n",
       "      <td>PS</td>\n",
       "      <td>mqlsqlps</td>\n",
       "      <td>25-34</td>\n",
       "      <td>25.403711</td>\n",
       "      <td>0.0</td>\n",
       "      <td>btw 0 and 2 conversions</td>\n",
       "    </tr>\n",
       "    <tr>\n",
       "      <th>62500</th>\n",
       "      <td>US-PS-LeadSubmissions</td>\n",
       "      <td>Fri</td>\n",
       "      <td>2018</td>\n",
       "      <td>1</td>\n",
       "      <td>1</td>\n",
       "      <td>US</td>\n",
       "      <td>LeadSubmissions</td>\n",
       "      <td>PS</td>\n",
       "      <td>mqlsqlps</td>\n",
       "      <td>35-44</td>\n",
       "      <td>23.694134</td>\n",
       "      <td>0.0</td>\n",
       "      <td>btw 0 and 2 conversions</td>\n",
       "    </tr>\n",
       "    <tr>\n",
       "      <th>62501</th>\n",
       "      <td>US-PS-LeadSubmissions</td>\n",
       "      <td>Fri</td>\n",
       "      <td>2018</td>\n",
       "      <td>1</td>\n",
       "      <td>1</td>\n",
       "      <td>US</td>\n",
       "      <td>LeadSubmissions</td>\n",
       "      <td>PS</td>\n",
       "      <td>mqlsqlps</td>\n",
       "      <td>45-54</td>\n",
       "      <td>26.033555</td>\n",
       "      <td>4.0</td>\n",
       "      <td>btw 3 and 6 conversions</td>\n",
       "    </tr>\n",
       "    <tr>\n",
       "      <th>62502</th>\n",
       "      <td>US-PS-LeadSubmissions</td>\n",
       "      <td>Fri</td>\n",
       "      <td>2018</td>\n",
       "      <td>1</td>\n",
       "      <td>1</td>\n",
       "      <td>US</td>\n",
       "      <td>LeadSubmissions</td>\n",
       "      <td>PS</td>\n",
       "      <td>mqlsqlps</td>\n",
       "      <td>55-64</td>\n",
       "      <td>1.799555</td>\n",
       "      <td>0.0</td>\n",
       "      <td>btw 0 and 2 conversions</td>\n",
       "    </tr>\n",
       "    <tr>\n",
       "      <th>62503</th>\n",
       "      <td>US-PS-LeadSubmissions</td>\n",
       "      <td>Fri</td>\n",
       "      <td>2018</td>\n",
       "      <td>1</td>\n",
       "      <td>1</td>\n",
       "      <td>US</td>\n",
       "      <td>LeadSubmissions</td>\n",
       "      <td>PS</td>\n",
       "      <td>mqlsqlps</td>\n",
       "      <td>65+</td>\n",
       "      <td>0.459886</td>\n",
       "      <td>1.0</td>\n",
       "      <td>btw 0 and 2 conversions</td>\n",
       "    </tr>\n",
       "    <tr>\n",
       "      <th>62504</th>\n",
       "      <td>US-PS-LeadSubmissions</td>\n",
       "      <td>Fri</td>\n",
       "      <td>2018</td>\n",
       "      <td>1</td>\n",
       "      <td>2</td>\n",
       "      <td>US</td>\n",
       "      <td>LeadSubmissions</td>\n",
       "      <td>PS</td>\n",
       "      <td>entselfemployeddrivers</td>\n",
       "      <td>18-24</td>\n",
       "      <td>4.279588</td>\n",
       "      <td>0.0</td>\n",
       "      <td>btw 0 and 2 conversions</td>\n",
       "    </tr>\n",
       "    <tr>\n",
       "      <th>62505</th>\n",
       "      <td>US-PS-LeadSubmissions</td>\n",
       "      <td>Fri</td>\n",
       "      <td>2018</td>\n",
       "      <td>1</td>\n",
       "      <td>2</td>\n",
       "      <td>US</td>\n",
       "      <td>LeadSubmissions</td>\n",
       "      <td>PS</td>\n",
       "      <td>entselfemployeddrivers</td>\n",
       "      <td>25-34</td>\n",
       "      <td>45.545719</td>\n",
       "      <td>1.0</td>\n",
       "      <td>btw 0 and 2 conversions</td>\n",
       "    </tr>\n",
       "    <tr>\n",
       "      <th>62506</th>\n",
       "      <td>US-PS-LeadSubmissions</td>\n",
       "      <td>Fri</td>\n",
       "      <td>2018</td>\n",
       "      <td>1</td>\n",
       "      <td>2</td>\n",
       "      <td>US</td>\n",
       "      <td>LeadSubmissions</td>\n",
       "      <td>PS</td>\n",
       "      <td>entselfemployeddrivers</td>\n",
       "      <td>35-44</td>\n",
       "      <td>42.766173</td>\n",
       "      <td>2.0</td>\n",
       "      <td>btw 0 and 2 conversions</td>\n",
       "    </tr>\n",
       "    <tr>\n",
       "      <th>62507</th>\n",
       "      <td>US-PS-LeadSubmissions</td>\n",
       "      <td>Fri</td>\n",
       "      <td>2018</td>\n",
       "      <td>1</td>\n",
       "      <td>2</td>\n",
       "      <td>US</td>\n",
       "      <td>LeadSubmissions</td>\n",
       "      <td>PS</td>\n",
       "      <td>entselfemployeddrivers</td>\n",
       "      <td>45-54</td>\n",
       "      <td>27.298582</td>\n",
       "      <td>0.0</td>\n",
       "      <td>btw 0 and 2 conversions</td>\n",
       "    </tr>\n",
       "    <tr>\n",
       "      <th>62508</th>\n",
       "      <td>US-PS-LeadSubmissions</td>\n",
       "      <td>Fri</td>\n",
       "      <td>2018</td>\n",
       "      <td>1</td>\n",
       "      <td>2</td>\n",
       "      <td>US</td>\n",
       "      <td>LeadSubmissions</td>\n",
       "      <td>PS</td>\n",
       "      <td>entselfemployeddrivers</td>\n",
       "      <td>55-64</td>\n",
       "      <td>1.289951</td>\n",
       "      <td>0.0</td>\n",
       "      <td>btw 0 and 2 conversions</td>\n",
       "    </tr>\n",
       "    <tr>\n",
       "      <th>62509</th>\n",
       "      <td>US-PS-LeadSubmissions</td>\n",
       "      <td>Fri</td>\n",
       "      <td>2018</td>\n",
       "      <td>1</td>\n",
       "      <td>2</td>\n",
       "      <td>US</td>\n",
       "      <td>LeadSubmissions</td>\n",
       "      <td>PS</td>\n",
       "      <td>entselfemployeddrivers</td>\n",
       "      <td>65+</td>\n",
       "      <td>0.049987</td>\n",
       "      <td>0.0</td>\n",
       "      <td>btw 0 and 2 conversions</td>\n",
       "    </tr>\n",
       "    <tr>\n",
       "      <th>62510</th>\n",
       "      <td>US-PS-LeadSubmissions</td>\n",
       "      <td>Fri</td>\n",
       "      <td>2018</td>\n",
       "      <td>1</td>\n",
       "      <td>2</td>\n",
       "      <td>US</td>\n",
       "      <td>LeadSubmissions</td>\n",
       "      <td>PS</td>\n",
       "      <td>mqlsqlps</td>\n",
       "      <td>18-24</td>\n",
       "      <td>4.048002</td>\n",
       "      <td>0.0</td>\n",
       "      <td>btw 0 and 2 conversions</td>\n",
       "    </tr>\n",
       "    <tr>\n",
       "      <th>62511</th>\n",
       "      <td>US-PS-LeadSubmissions</td>\n",
       "      <td>Fri</td>\n",
       "      <td>2018</td>\n",
       "      <td>1</td>\n",
       "      <td>2</td>\n",
       "      <td>US</td>\n",
       "      <td>LeadSubmissions</td>\n",
       "      <td>PS</td>\n",
       "      <td>mqlsqlps</td>\n",
       "      <td>25-34</td>\n",
       "      <td>17.911158</td>\n",
       "      <td>0.0</td>\n",
       "      <td>btw 0 and 2 conversions</td>\n",
       "    </tr>\n",
       "    <tr>\n",
       "      <th>62512</th>\n",
       "      <td>US-PS-LeadSubmissions</td>\n",
       "      <td>Fri</td>\n",
       "      <td>2018</td>\n",
       "      <td>1</td>\n",
       "      <td>2</td>\n",
       "      <td>US</td>\n",
       "      <td>LeadSubmissions</td>\n",
       "      <td>PS</td>\n",
       "      <td>mqlsqlps</td>\n",
       "      <td>35-44</td>\n",
       "      <td>25.407458</td>\n",
       "      <td>1.0</td>\n",
       "      <td>btw 0 and 2 conversions</td>\n",
       "    </tr>\n",
       "    <tr>\n",
       "      <th>62513</th>\n",
       "      <td>US-PS-LeadSubmissions</td>\n",
       "      <td>Fri</td>\n",
       "      <td>2018</td>\n",
       "      <td>1</td>\n",
       "      <td>2</td>\n",
       "      <td>US</td>\n",
       "      <td>LeadSubmissions</td>\n",
       "      <td>PS</td>\n",
       "      <td>mqlsqlps</td>\n",
       "      <td>45-54</td>\n",
       "      <td>30.774808</td>\n",
       "      <td>1.0</td>\n",
       "      <td>btw 0 and 2 conversions</td>\n",
       "    </tr>\n",
       "    <tr>\n",
       "      <th>62514</th>\n",
       "      <td>US-PS-LeadSubmissions</td>\n",
       "      <td>Fri</td>\n",
       "      <td>2018</td>\n",
       "      <td>1</td>\n",
       "      <td>2</td>\n",
       "      <td>US</td>\n",
       "      <td>LeadSubmissions</td>\n",
       "      <td>PS</td>\n",
       "      <td>mqlsqlps</td>\n",
       "      <td>55-64</td>\n",
       "      <td>2.758638</td>\n",
       "      <td>0.0</td>\n",
       "      <td>btw 0 and 2 conversions</td>\n",
       "    </tr>\n",
       "    <tr>\n",
       "      <th>62515</th>\n",
       "      <td>US-PS-LeadSubmissions</td>\n",
       "      <td>Fri</td>\n",
       "      <td>2018</td>\n",
       "      <td>1</td>\n",
       "      <td>2</td>\n",
       "      <td>US</td>\n",
       "      <td>LeadSubmissions</td>\n",
       "      <td>PS</td>\n",
       "      <td>mqlsqlps</td>\n",
       "      <td>65+</td>\n",
       "      <td>0.129936</td>\n",
       "      <td>0.0</td>\n",
       "      <td>btw 0 and 2 conversions</td>\n",
       "    </tr>\n",
       "    <tr>\n",
       "      <th>62516</th>\n",
       "      <td>US-PS-LeadSubmissions</td>\n",
       "      <td>Fri</td>\n",
       "      <td>2018</td>\n",
       "      <td>1</td>\n",
       "      <td>3</td>\n",
       "      <td>US</td>\n",
       "      <td>LeadSubmissions</td>\n",
       "      <td>PS</td>\n",
       "      <td>entselfemployeddrivers</td>\n",
       "      <td>18-24</td>\n",
       "      <td>6.160000</td>\n",
       "      <td>0.0</td>\n",
       "      <td>btw 0 and 2 conversions</td>\n",
       "    </tr>\n",
       "    <tr>\n",
       "      <th>62517</th>\n",
       "      <td>US-PS-LeadSubmissions</td>\n",
       "      <td>Fri</td>\n",
       "      <td>2018</td>\n",
       "      <td>1</td>\n",
       "      <td>3</td>\n",
       "      <td>US</td>\n",
       "      <td>LeadSubmissions</td>\n",
       "      <td>PS</td>\n",
       "      <td>entselfemployeddrivers</td>\n",
       "      <td>25-34</td>\n",
       "      <td>45.280000</td>\n",
       "      <td>2.0</td>\n",
       "      <td>btw 0 and 2 conversions</td>\n",
       "    </tr>\n",
       "    <tr>\n",
       "      <th>62518</th>\n",
       "      <td>US-PS-LeadSubmissions</td>\n",
       "      <td>Fri</td>\n",
       "      <td>2018</td>\n",
       "      <td>1</td>\n",
       "      <td>3</td>\n",
       "      <td>US</td>\n",
       "      <td>LeadSubmissions</td>\n",
       "      <td>PS</td>\n",
       "      <td>entselfemployeddrivers</td>\n",
       "      <td>35-44</td>\n",
       "      <td>49.470000</td>\n",
       "      <td>0.0</td>\n",
       "      <td>btw 0 and 2 conversions</td>\n",
       "    </tr>\n",
       "    <tr>\n",
       "      <th>62519</th>\n",
       "      <td>US-PS-LeadSubmissions</td>\n",
       "      <td>Fri</td>\n",
       "      <td>2018</td>\n",
       "      <td>1</td>\n",
       "      <td>3</td>\n",
       "      <td>US</td>\n",
       "      <td>LeadSubmissions</td>\n",
       "      <td>PS</td>\n",
       "      <td>entselfemployeddrivers</td>\n",
       "      <td>45-54</td>\n",
       "      <td>46.560000</td>\n",
       "      <td>2.0</td>\n",
       "      <td>btw 0 and 2 conversions</td>\n",
       "    </tr>\n",
       "    <tr>\n",
       "      <th>62520</th>\n",
       "      <td>US-PS-LeadSubmissions</td>\n",
       "      <td>Fri</td>\n",
       "      <td>2018</td>\n",
       "      <td>1</td>\n",
       "      <td>3</td>\n",
       "      <td>US</td>\n",
       "      <td>LeadSubmissions</td>\n",
       "      <td>PS</td>\n",
       "      <td>entselfemployeddrivers</td>\n",
       "      <td>55-64</td>\n",
       "      <td>2.540000</td>\n",
       "      <td>0.0</td>\n",
       "      <td>btw 0 and 2 conversions</td>\n",
       "    </tr>\n",
       "    <tr>\n",
       "      <th>62521</th>\n",
       "      <td>US-PS-LeadSubmissions</td>\n",
       "      <td>Fri</td>\n",
       "      <td>2018</td>\n",
       "      <td>1</td>\n",
       "      <td>3</td>\n",
       "      <td>US</td>\n",
       "      <td>LeadSubmissions</td>\n",
       "      <td>PS</td>\n",
       "      <td>entselfemployeddrivers</td>\n",
       "      <td>65+</td>\n",
       "      <td>0.000000</td>\n",
       "      <td>0.0</td>\n",
       "      <td>btw 0 and 2 conversions</td>\n",
       "    </tr>\n",
       "    <tr>\n",
       "      <th>...</th>\n",
       "      <td>...</td>\n",
       "      <td>...</td>\n",
       "      <td>...</td>\n",
       "      <td>...</td>\n",
       "      <td>...</td>\n",
       "      <td>...</td>\n",
       "      <td>...</td>\n",
       "      <td>...</td>\n",
       "      <td>...</td>\n",
       "      <td>...</td>\n",
       "      <td>...</td>\n",
       "      <td>...</td>\n",
       "      <td>...</td>\n",
       "    </tr>\n",
       "    <tr>\n",
       "      <th>82492</th>\n",
       "      <td>US-RRE-LeadSubmissions</td>\n",
       "      <td>Weds</td>\n",
       "      <td>2019</td>\n",
       "      <td>8</td>\n",
       "      <td>33</td>\n",
       "      <td>US</td>\n",
       "      <td>LeadSubmissions</td>\n",
       "      <td>RRE</td>\n",
       "      <td>evergreen</td>\n",
       "      <td>25-34</td>\n",
       "      <td>33.230000</td>\n",
       "      <td>1.0</td>\n",
       "      <td>btw 0 and 2 conversions</td>\n",
       "    </tr>\n",
       "    <tr>\n",
       "      <th>82493</th>\n",
       "      <td>US-RRE-LeadSubmissions</td>\n",
       "      <td>Weds</td>\n",
       "      <td>2019</td>\n",
       "      <td>8</td>\n",
       "      <td>33</td>\n",
       "      <td>US</td>\n",
       "      <td>LeadSubmissions</td>\n",
       "      <td>RRE</td>\n",
       "      <td>evergreen</td>\n",
       "      <td>35-44</td>\n",
       "      <td>84.670000</td>\n",
       "      <td>1.0</td>\n",
       "      <td>btw 0 and 2 conversions</td>\n",
       "    </tr>\n",
       "    <tr>\n",
       "      <th>82494</th>\n",
       "      <td>US-RRE-LeadSubmissions</td>\n",
       "      <td>Weds</td>\n",
       "      <td>2019</td>\n",
       "      <td>8</td>\n",
       "      <td>33</td>\n",
       "      <td>US</td>\n",
       "      <td>LeadSubmissions</td>\n",
       "      <td>RRE</td>\n",
       "      <td>evergreen</td>\n",
       "      <td>45-54</td>\n",
       "      <td>168.500000</td>\n",
       "      <td>2.0</td>\n",
       "      <td>btw 0 and 2 conversions</td>\n",
       "    </tr>\n",
       "    <tr>\n",
       "      <th>82495</th>\n",
       "      <td>US-RRE-LeadSubmissions</td>\n",
       "      <td>Weds</td>\n",
       "      <td>2019</td>\n",
       "      <td>8</td>\n",
       "      <td>33</td>\n",
       "      <td>US</td>\n",
       "      <td>LeadSubmissions</td>\n",
       "      <td>RRE</td>\n",
       "      <td>evergreen</td>\n",
       "      <td>55-64</td>\n",
       "      <td>137.340000</td>\n",
       "      <td>0.0</td>\n",
       "      <td>btw 0 and 2 conversions</td>\n",
       "    </tr>\n",
       "    <tr>\n",
       "      <th>82496</th>\n",
       "      <td>US-RRE-LeadSubmissions</td>\n",
       "      <td>Weds</td>\n",
       "      <td>2019</td>\n",
       "      <td>8</td>\n",
       "      <td>33</td>\n",
       "      <td>US</td>\n",
       "      <td>LeadSubmissions</td>\n",
       "      <td>RRE</td>\n",
       "      <td>evergreen</td>\n",
       "      <td>65+</td>\n",
       "      <td>66.380000</td>\n",
       "      <td>0.0</td>\n",
       "      <td>btw 0 and 2 conversions</td>\n",
       "    </tr>\n",
       "    <tr>\n",
       "      <th>82497</th>\n",
       "      <td>US-RRE-LeadSubmissions</td>\n",
       "      <td>Weds</td>\n",
       "      <td>2019</td>\n",
       "      <td>8</td>\n",
       "      <td>33</td>\n",
       "      <td>US</td>\n",
       "      <td>LeadSubmissions</td>\n",
       "      <td>RRE</td>\n",
       "      <td>pagevisitorremarketing</td>\n",
       "      <td>25-34</td>\n",
       "      <td>23.180000</td>\n",
       "      <td>2.0</td>\n",
       "      <td>btw 0 and 2 conversions</td>\n",
       "    </tr>\n",
       "    <tr>\n",
       "      <th>82498</th>\n",
       "      <td>US-RRE-LeadSubmissions</td>\n",
       "      <td>Weds</td>\n",
       "      <td>2019</td>\n",
       "      <td>8</td>\n",
       "      <td>33</td>\n",
       "      <td>US</td>\n",
       "      <td>LeadSubmissions</td>\n",
       "      <td>RRE</td>\n",
       "      <td>pagevisitorremarketing</td>\n",
       "      <td>35-44</td>\n",
       "      <td>31.100000</td>\n",
       "      <td>0.0</td>\n",
       "      <td>btw 0 and 2 conversions</td>\n",
       "    </tr>\n",
       "    <tr>\n",
       "      <th>82499</th>\n",
       "      <td>US-RRE-LeadSubmissions</td>\n",
       "      <td>Weds</td>\n",
       "      <td>2019</td>\n",
       "      <td>8</td>\n",
       "      <td>33</td>\n",
       "      <td>US</td>\n",
       "      <td>LeadSubmissions</td>\n",
       "      <td>RRE</td>\n",
       "      <td>pagevisitorremarketing</td>\n",
       "      <td>45-54</td>\n",
       "      <td>39.150000</td>\n",
       "      <td>0.0</td>\n",
       "      <td>btw 0 and 2 conversions</td>\n",
       "    </tr>\n",
       "    <tr>\n",
       "      <th>82500</th>\n",
       "      <td>US-RRE-LeadSubmissions</td>\n",
       "      <td>Weds</td>\n",
       "      <td>2019</td>\n",
       "      <td>8</td>\n",
       "      <td>33</td>\n",
       "      <td>US</td>\n",
       "      <td>LeadSubmissions</td>\n",
       "      <td>RRE</td>\n",
       "      <td>pagevisitorremarketing</td>\n",
       "      <td>55-64</td>\n",
       "      <td>36.230000</td>\n",
       "      <td>0.0</td>\n",
       "      <td>btw 0 and 2 conversions</td>\n",
       "    </tr>\n",
       "    <tr>\n",
       "      <th>82501</th>\n",
       "      <td>US-RRE-LeadSubmissions</td>\n",
       "      <td>Weds</td>\n",
       "      <td>2019</td>\n",
       "      <td>8</td>\n",
       "      <td>33</td>\n",
       "      <td>US</td>\n",
       "      <td>LeadSubmissions</td>\n",
       "      <td>RRE</td>\n",
       "      <td>pagevisitorremarketing</td>\n",
       "      <td>65+</td>\n",
       "      <td>19.640000</td>\n",
       "      <td>1.0</td>\n",
       "      <td>btw 0 and 2 conversions</td>\n",
       "    </tr>\n",
       "    <tr>\n",
       "      <th>82502</th>\n",
       "      <td>US-RRE-LeadSubmissions</td>\n",
       "      <td>Weds</td>\n",
       "      <td>2019</td>\n",
       "      <td>8</td>\n",
       "      <td>34</td>\n",
       "      <td>US</td>\n",
       "      <td>LeadSubmissions</td>\n",
       "      <td>RRE</td>\n",
       "      <td>evergreen</td>\n",
       "      <td>25-34</td>\n",
       "      <td>61.650000</td>\n",
       "      <td>0.0</td>\n",
       "      <td>btw 0 and 2 conversions</td>\n",
       "    </tr>\n",
       "    <tr>\n",
       "      <th>82503</th>\n",
       "      <td>US-RRE-LeadSubmissions</td>\n",
       "      <td>Weds</td>\n",
       "      <td>2019</td>\n",
       "      <td>8</td>\n",
       "      <td>34</td>\n",
       "      <td>US</td>\n",
       "      <td>LeadSubmissions</td>\n",
       "      <td>RRE</td>\n",
       "      <td>evergreen</td>\n",
       "      <td>35-44</td>\n",
       "      <td>131.200000</td>\n",
       "      <td>1.0</td>\n",
       "      <td>btw 0 and 2 conversions</td>\n",
       "    </tr>\n",
       "    <tr>\n",
       "      <th>82504</th>\n",
       "      <td>US-RRE-LeadSubmissions</td>\n",
       "      <td>Weds</td>\n",
       "      <td>2019</td>\n",
       "      <td>8</td>\n",
       "      <td>34</td>\n",
       "      <td>US</td>\n",
       "      <td>LeadSubmissions</td>\n",
       "      <td>RRE</td>\n",
       "      <td>evergreen</td>\n",
       "      <td>45-54</td>\n",
       "      <td>189.890000</td>\n",
       "      <td>1.0</td>\n",
       "      <td>btw 0 and 2 conversions</td>\n",
       "    </tr>\n",
       "    <tr>\n",
       "      <th>82505</th>\n",
       "      <td>US-RRE-LeadSubmissions</td>\n",
       "      <td>Weds</td>\n",
       "      <td>2019</td>\n",
       "      <td>8</td>\n",
       "      <td>34</td>\n",
       "      <td>US</td>\n",
       "      <td>LeadSubmissions</td>\n",
       "      <td>RRE</td>\n",
       "      <td>evergreen</td>\n",
       "      <td>55-64</td>\n",
       "      <td>146.450000</td>\n",
       "      <td>0.0</td>\n",
       "      <td>btw 0 and 2 conversions</td>\n",
       "    </tr>\n",
       "    <tr>\n",
       "      <th>82506</th>\n",
       "      <td>US-RRE-LeadSubmissions</td>\n",
       "      <td>Weds</td>\n",
       "      <td>2019</td>\n",
       "      <td>8</td>\n",
       "      <td>34</td>\n",
       "      <td>US</td>\n",
       "      <td>LeadSubmissions</td>\n",
       "      <td>RRE</td>\n",
       "      <td>evergreen</td>\n",
       "      <td>65+</td>\n",
       "      <td>76.050000</td>\n",
       "      <td>0.0</td>\n",
       "      <td>btw 0 and 2 conversions</td>\n",
       "    </tr>\n",
       "    <tr>\n",
       "      <th>82507</th>\n",
       "      <td>US-RRE-LeadSubmissions</td>\n",
       "      <td>Weds</td>\n",
       "      <td>2019</td>\n",
       "      <td>8</td>\n",
       "      <td>34</td>\n",
       "      <td>US</td>\n",
       "      <td>LeadSubmissions</td>\n",
       "      <td>RRE</td>\n",
       "      <td>pagevisitorremarketing</td>\n",
       "      <td>25-34</td>\n",
       "      <td>19.940000</td>\n",
       "      <td>0.0</td>\n",
       "      <td>btw 0 and 2 conversions</td>\n",
       "    </tr>\n",
       "    <tr>\n",
       "      <th>82508</th>\n",
       "      <td>US-RRE-LeadSubmissions</td>\n",
       "      <td>Weds</td>\n",
       "      <td>2019</td>\n",
       "      <td>8</td>\n",
       "      <td>34</td>\n",
       "      <td>US</td>\n",
       "      <td>LeadSubmissions</td>\n",
       "      <td>RRE</td>\n",
       "      <td>pagevisitorremarketing</td>\n",
       "      <td>35-44</td>\n",
       "      <td>31.280000</td>\n",
       "      <td>0.0</td>\n",
       "      <td>btw 0 and 2 conversions</td>\n",
       "    </tr>\n",
       "    <tr>\n",
       "      <th>82509</th>\n",
       "      <td>US-RRE-LeadSubmissions</td>\n",
       "      <td>Weds</td>\n",
       "      <td>2019</td>\n",
       "      <td>8</td>\n",
       "      <td>34</td>\n",
       "      <td>US</td>\n",
       "      <td>LeadSubmissions</td>\n",
       "      <td>RRE</td>\n",
       "      <td>pagevisitorremarketing</td>\n",
       "      <td>45-54</td>\n",
       "      <td>35.630000</td>\n",
       "      <td>0.0</td>\n",
       "      <td>btw 0 and 2 conversions</td>\n",
       "    </tr>\n",
       "    <tr>\n",
       "      <th>82510</th>\n",
       "      <td>US-RRE-LeadSubmissions</td>\n",
       "      <td>Weds</td>\n",
       "      <td>2019</td>\n",
       "      <td>8</td>\n",
       "      <td>34</td>\n",
       "      <td>US</td>\n",
       "      <td>LeadSubmissions</td>\n",
       "      <td>RRE</td>\n",
       "      <td>pagevisitorremarketing</td>\n",
       "      <td>55-64</td>\n",
       "      <td>37.470000</td>\n",
       "      <td>1.0</td>\n",
       "      <td>btw 0 and 2 conversions</td>\n",
       "    </tr>\n",
       "    <tr>\n",
       "      <th>82511</th>\n",
       "      <td>US-RRE-LeadSubmissions</td>\n",
       "      <td>Weds</td>\n",
       "      <td>2019</td>\n",
       "      <td>8</td>\n",
       "      <td>34</td>\n",
       "      <td>US</td>\n",
       "      <td>LeadSubmissions</td>\n",
       "      <td>RRE</td>\n",
       "      <td>pagevisitorremarketing</td>\n",
       "      <td>65+</td>\n",
       "      <td>23.110000</td>\n",
       "      <td>1.0</td>\n",
       "      <td>btw 0 and 2 conversions</td>\n",
       "    </tr>\n",
       "    <tr>\n",
       "      <th>82512</th>\n",
       "      <td>US-RRE-LeadSubmissions</td>\n",
       "      <td>Weds</td>\n",
       "      <td>2019</td>\n",
       "      <td>8</td>\n",
       "      <td>35</td>\n",
       "      <td>US</td>\n",
       "      <td>LeadSubmissions</td>\n",
       "      <td>RRE</td>\n",
       "      <td>evergreen</td>\n",
       "      <td>25-34</td>\n",
       "      <td>1.210000</td>\n",
       "      <td>1.0</td>\n",
       "      <td>btw 0 and 2 conversions</td>\n",
       "    </tr>\n",
       "    <tr>\n",
       "      <th>82513</th>\n",
       "      <td>US-RRE-LeadSubmissions</td>\n",
       "      <td>Weds</td>\n",
       "      <td>2019</td>\n",
       "      <td>8</td>\n",
       "      <td>35</td>\n",
       "      <td>US</td>\n",
       "      <td>LeadSubmissions</td>\n",
       "      <td>RRE</td>\n",
       "      <td>evergreen</td>\n",
       "      <td>35-44</td>\n",
       "      <td>2.990000</td>\n",
       "      <td>0.0</td>\n",
       "      <td>btw 0 and 2 conversions</td>\n",
       "    </tr>\n",
       "    <tr>\n",
       "      <th>82514</th>\n",
       "      <td>US-RRE-LeadSubmissions</td>\n",
       "      <td>Weds</td>\n",
       "      <td>2019</td>\n",
       "      <td>8</td>\n",
       "      <td>35</td>\n",
       "      <td>US</td>\n",
       "      <td>LeadSubmissions</td>\n",
       "      <td>RRE</td>\n",
       "      <td>evergreen</td>\n",
       "      <td>45-54</td>\n",
       "      <td>4.180000</td>\n",
       "      <td>0.0</td>\n",
       "      <td>btw 0 and 2 conversions</td>\n",
       "    </tr>\n",
       "    <tr>\n",
       "      <th>82515</th>\n",
       "      <td>US-RRE-LeadSubmissions</td>\n",
       "      <td>Weds</td>\n",
       "      <td>2019</td>\n",
       "      <td>8</td>\n",
       "      <td>35</td>\n",
       "      <td>US</td>\n",
       "      <td>LeadSubmissions</td>\n",
       "      <td>RRE</td>\n",
       "      <td>evergreen</td>\n",
       "      <td>55-64</td>\n",
       "      <td>5.040000</td>\n",
       "      <td>0.0</td>\n",
       "      <td>btw 0 and 2 conversions</td>\n",
       "    </tr>\n",
       "    <tr>\n",
       "      <th>82516</th>\n",
       "      <td>US-RRE-LeadSubmissions</td>\n",
       "      <td>Weds</td>\n",
       "      <td>2019</td>\n",
       "      <td>8</td>\n",
       "      <td>35</td>\n",
       "      <td>US</td>\n",
       "      <td>LeadSubmissions</td>\n",
       "      <td>RRE</td>\n",
       "      <td>evergreen</td>\n",
       "      <td>65+</td>\n",
       "      <td>2.690000</td>\n",
       "      <td>0.0</td>\n",
       "      <td>btw 0 and 2 conversions</td>\n",
       "    </tr>\n",
       "    <tr>\n",
       "      <th>82517</th>\n",
       "      <td>US-RRE-LeadSubmissions</td>\n",
       "      <td>Weds</td>\n",
       "      <td>2019</td>\n",
       "      <td>8</td>\n",
       "      <td>35</td>\n",
       "      <td>US</td>\n",
       "      <td>LeadSubmissions</td>\n",
       "      <td>RRE</td>\n",
       "      <td>pagevisitorremarketing</td>\n",
       "      <td>25-34</td>\n",
       "      <td>1.410000</td>\n",
       "      <td>0.0</td>\n",
       "      <td>btw 0 and 2 conversions</td>\n",
       "    </tr>\n",
       "    <tr>\n",
       "      <th>82518</th>\n",
       "      <td>US-RRE-LeadSubmissions</td>\n",
       "      <td>Weds</td>\n",
       "      <td>2019</td>\n",
       "      <td>8</td>\n",
       "      <td>35</td>\n",
       "      <td>US</td>\n",
       "      <td>LeadSubmissions</td>\n",
       "      <td>RRE</td>\n",
       "      <td>pagevisitorremarketing</td>\n",
       "      <td>35-44</td>\n",
       "      <td>1.590000</td>\n",
       "      <td>0.0</td>\n",
       "      <td>btw 0 and 2 conversions</td>\n",
       "    </tr>\n",
       "    <tr>\n",
       "      <th>82519</th>\n",
       "      <td>US-RRE-LeadSubmissions</td>\n",
       "      <td>Weds</td>\n",
       "      <td>2019</td>\n",
       "      <td>8</td>\n",
       "      <td>35</td>\n",
       "      <td>US</td>\n",
       "      <td>LeadSubmissions</td>\n",
       "      <td>RRE</td>\n",
       "      <td>pagevisitorremarketing</td>\n",
       "      <td>45-54</td>\n",
       "      <td>1.270000</td>\n",
       "      <td>0.0</td>\n",
       "      <td>btw 0 and 2 conversions</td>\n",
       "    </tr>\n",
       "    <tr>\n",
       "      <th>82520</th>\n",
       "      <td>US-RRE-LeadSubmissions</td>\n",
       "      <td>Weds</td>\n",
       "      <td>2019</td>\n",
       "      <td>8</td>\n",
       "      <td>35</td>\n",
       "      <td>US</td>\n",
       "      <td>LeadSubmissions</td>\n",
       "      <td>RRE</td>\n",
       "      <td>pagevisitorremarketing</td>\n",
       "      <td>55-64</td>\n",
       "      <td>0.320000</td>\n",
       "      <td>0.0</td>\n",
       "      <td>btw 0 and 2 conversions</td>\n",
       "    </tr>\n",
       "    <tr>\n",
       "      <th>82521</th>\n",
       "      <td>US-RRE-LeadSubmissions</td>\n",
       "      <td>Weds</td>\n",
       "      <td>2019</td>\n",
       "      <td>8</td>\n",
       "      <td>35</td>\n",
       "      <td>US</td>\n",
       "      <td>LeadSubmissions</td>\n",
       "      <td>RRE</td>\n",
       "      <td>pagevisitorremarketing</td>\n",
       "      <td>65+</td>\n",
       "      <td>0.270000</td>\n",
       "      <td>0.0</td>\n",
       "      <td>btw 0 and 2 conversions</td>\n",
       "    </tr>\n",
       "  </tbody>\n",
       "</table>\n",
       "<p>17392 rows × 13 columns</p>\n",
       "</div>"
      ],
      "text/plain": [
       "                campaign_name day_of_week  year  month  week_num location  \\\n",
       "62492   US-PS-LeadSubmissions         Fri  2018      1         1       US   \n",
       "62493   US-PS-LeadSubmissions         Fri  2018      1         1       US   \n",
       "62494   US-PS-LeadSubmissions         Fri  2018      1         1       US   \n",
       "62495   US-PS-LeadSubmissions         Fri  2018      1         1       US   \n",
       "62496   US-PS-LeadSubmissions         Fri  2018      1         1       US   \n",
       "62497   US-PS-LeadSubmissions         Fri  2018      1         1       US   \n",
       "62498   US-PS-LeadSubmissions         Fri  2018      1         1       US   \n",
       "62499   US-PS-LeadSubmissions         Fri  2018      1         1       US   \n",
       "62500   US-PS-LeadSubmissions         Fri  2018      1         1       US   \n",
       "62501   US-PS-LeadSubmissions         Fri  2018      1         1       US   \n",
       "62502   US-PS-LeadSubmissions         Fri  2018      1         1       US   \n",
       "62503   US-PS-LeadSubmissions         Fri  2018      1         1       US   \n",
       "62504   US-PS-LeadSubmissions         Fri  2018      1         2       US   \n",
       "62505   US-PS-LeadSubmissions         Fri  2018      1         2       US   \n",
       "62506   US-PS-LeadSubmissions         Fri  2018      1         2       US   \n",
       "62507   US-PS-LeadSubmissions         Fri  2018      1         2       US   \n",
       "62508   US-PS-LeadSubmissions         Fri  2018      1         2       US   \n",
       "62509   US-PS-LeadSubmissions         Fri  2018      1         2       US   \n",
       "62510   US-PS-LeadSubmissions         Fri  2018      1         2       US   \n",
       "62511   US-PS-LeadSubmissions         Fri  2018      1         2       US   \n",
       "62512   US-PS-LeadSubmissions         Fri  2018      1         2       US   \n",
       "62513   US-PS-LeadSubmissions         Fri  2018      1         2       US   \n",
       "62514   US-PS-LeadSubmissions         Fri  2018      1         2       US   \n",
       "62515   US-PS-LeadSubmissions         Fri  2018      1         2       US   \n",
       "62516   US-PS-LeadSubmissions         Fri  2018      1         3       US   \n",
       "62517   US-PS-LeadSubmissions         Fri  2018      1         3       US   \n",
       "62518   US-PS-LeadSubmissions         Fri  2018      1         3       US   \n",
       "62519   US-PS-LeadSubmissions         Fri  2018      1         3       US   \n",
       "62520   US-PS-LeadSubmissions         Fri  2018      1         3       US   \n",
       "62521   US-PS-LeadSubmissions         Fri  2018      1         3       US   \n",
       "...                       ...         ...   ...    ...       ...      ...   \n",
       "82492  US-RRE-LeadSubmissions        Weds  2019      8        33       US   \n",
       "82493  US-RRE-LeadSubmissions        Weds  2019      8        33       US   \n",
       "82494  US-RRE-LeadSubmissions        Weds  2019      8        33       US   \n",
       "82495  US-RRE-LeadSubmissions        Weds  2019      8        33       US   \n",
       "82496  US-RRE-LeadSubmissions        Weds  2019      8        33       US   \n",
       "82497  US-RRE-LeadSubmissions        Weds  2019      8        33       US   \n",
       "82498  US-RRE-LeadSubmissions        Weds  2019      8        33       US   \n",
       "82499  US-RRE-LeadSubmissions        Weds  2019      8        33       US   \n",
       "82500  US-RRE-LeadSubmissions        Weds  2019      8        33       US   \n",
       "82501  US-RRE-LeadSubmissions        Weds  2019      8        33       US   \n",
       "82502  US-RRE-LeadSubmissions        Weds  2019      8        34       US   \n",
       "82503  US-RRE-LeadSubmissions        Weds  2019      8        34       US   \n",
       "82504  US-RRE-LeadSubmissions        Weds  2019      8        34       US   \n",
       "82505  US-RRE-LeadSubmissions        Weds  2019      8        34       US   \n",
       "82506  US-RRE-LeadSubmissions        Weds  2019      8        34       US   \n",
       "82507  US-RRE-LeadSubmissions        Weds  2019      8        34       US   \n",
       "82508  US-RRE-LeadSubmissions        Weds  2019      8        34       US   \n",
       "82509  US-RRE-LeadSubmissions        Weds  2019      8        34       US   \n",
       "82510  US-RRE-LeadSubmissions        Weds  2019      8        34       US   \n",
       "82511  US-RRE-LeadSubmissions        Weds  2019      8        34       US   \n",
       "82512  US-RRE-LeadSubmissions        Weds  2019      8        35       US   \n",
       "82513  US-RRE-LeadSubmissions        Weds  2019      8        35       US   \n",
       "82514  US-RRE-LeadSubmissions        Weds  2019      8        35       US   \n",
       "82515  US-RRE-LeadSubmissions        Weds  2019      8        35       US   \n",
       "82516  US-RRE-LeadSubmissions        Weds  2019      8        35       US   \n",
       "82517  US-RRE-LeadSubmissions        Weds  2019      8        35       US   \n",
       "82518  US-RRE-LeadSubmissions        Weds  2019      8        35       US   \n",
       "82519  US-RRE-LeadSubmissions        Weds  2019      8        35       US   \n",
       "82520  US-RRE-LeadSubmissions        Weds  2019      8        35       US   \n",
       "82521  US-RRE-LeadSubmissions        Weds  2019      8        35       US   \n",
       "\n",
       "                  type topic          target_grouped    age  \\\n",
       "62492  LeadSubmissions    PS  entselfemployeddrivers  18-24   \n",
       "62493  LeadSubmissions    PS  entselfemployeddrivers  25-34   \n",
       "62494  LeadSubmissions    PS  entselfemployeddrivers  35-44   \n",
       "62495  LeadSubmissions    PS  entselfemployeddrivers  45-54   \n",
       "62496  LeadSubmissions    PS  entselfemployeddrivers  55-64   \n",
       "62497  LeadSubmissions    PS  entselfemployeddrivers    65+   \n",
       "62498  LeadSubmissions    PS                mqlsqlps  18-24   \n",
       "62499  LeadSubmissions    PS                mqlsqlps  25-34   \n",
       "62500  LeadSubmissions    PS                mqlsqlps  35-44   \n",
       "62501  LeadSubmissions    PS                mqlsqlps  45-54   \n",
       "62502  LeadSubmissions    PS                mqlsqlps  55-64   \n",
       "62503  LeadSubmissions    PS                mqlsqlps    65+   \n",
       "62504  LeadSubmissions    PS  entselfemployeddrivers  18-24   \n",
       "62505  LeadSubmissions    PS  entselfemployeddrivers  25-34   \n",
       "62506  LeadSubmissions    PS  entselfemployeddrivers  35-44   \n",
       "62507  LeadSubmissions    PS  entselfemployeddrivers  45-54   \n",
       "62508  LeadSubmissions    PS  entselfemployeddrivers  55-64   \n",
       "62509  LeadSubmissions    PS  entselfemployeddrivers    65+   \n",
       "62510  LeadSubmissions    PS                mqlsqlps  18-24   \n",
       "62511  LeadSubmissions    PS                mqlsqlps  25-34   \n",
       "62512  LeadSubmissions    PS                mqlsqlps  35-44   \n",
       "62513  LeadSubmissions    PS                mqlsqlps  45-54   \n",
       "62514  LeadSubmissions    PS                mqlsqlps  55-64   \n",
       "62515  LeadSubmissions    PS                mqlsqlps    65+   \n",
       "62516  LeadSubmissions    PS  entselfemployeddrivers  18-24   \n",
       "62517  LeadSubmissions    PS  entselfemployeddrivers  25-34   \n",
       "62518  LeadSubmissions    PS  entselfemployeddrivers  35-44   \n",
       "62519  LeadSubmissions    PS  entselfemployeddrivers  45-54   \n",
       "62520  LeadSubmissions    PS  entselfemployeddrivers  55-64   \n",
       "62521  LeadSubmissions    PS  entselfemployeddrivers    65+   \n",
       "...                ...   ...                     ...    ...   \n",
       "82492  LeadSubmissions   RRE               evergreen  25-34   \n",
       "82493  LeadSubmissions   RRE               evergreen  35-44   \n",
       "82494  LeadSubmissions   RRE               evergreen  45-54   \n",
       "82495  LeadSubmissions   RRE               evergreen  55-64   \n",
       "82496  LeadSubmissions   RRE               evergreen    65+   \n",
       "82497  LeadSubmissions   RRE  pagevisitorremarketing  25-34   \n",
       "82498  LeadSubmissions   RRE  pagevisitorremarketing  35-44   \n",
       "82499  LeadSubmissions   RRE  pagevisitorremarketing  45-54   \n",
       "82500  LeadSubmissions   RRE  pagevisitorremarketing  55-64   \n",
       "82501  LeadSubmissions   RRE  pagevisitorremarketing    65+   \n",
       "82502  LeadSubmissions   RRE               evergreen  25-34   \n",
       "82503  LeadSubmissions   RRE               evergreen  35-44   \n",
       "82504  LeadSubmissions   RRE               evergreen  45-54   \n",
       "82505  LeadSubmissions   RRE               evergreen  55-64   \n",
       "82506  LeadSubmissions   RRE               evergreen    65+   \n",
       "82507  LeadSubmissions   RRE  pagevisitorremarketing  25-34   \n",
       "82508  LeadSubmissions   RRE  pagevisitorremarketing  35-44   \n",
       "82509  LeadSubmissions   RRE  pagevisitorremarketing  45-54   \n",
       "82510  LeadSubmissions   RRE  pagevisitorremarketing  55-64   \n",
       "82511  LeadSubmissions   RRE  pagevisitorremarketing    65+   \n",
       "82512  LeadSubmissions   RRE               evergreen  25-34   \n",
       "82513  LeadSubmissions   RRE               evergreen  35-44   \n",
       "82514  LeadSubmissions   RRE               evergreen  45-54   \n",
       "82515  LeadSubmissions   RRE               evergreen  55-64   \n",
       "82516  LeadSubmissions   RRE               evergreen    65+   \n",
       "82517  LeadSubmissions   RRE  pagevisitorremarketing  25-34   \n",
       "82518  LeadSubmissions   RRE  pagevisitorremarketing  35-44   \n",
       "82519  LeadSubmissions   RRE  pagevisitorremarketing  45-54   \n",
       "82520  LeadSubmissions   RRE  pagevisitorremarketing  55-64   \n",
       "82521  LeadSubmissions   RRE  pagevisitorremarketing    65+   \n",
       "\n",
       "       amount_spent_(usd)  conversion                   labels  \n",
       "62492            7.900000         0.0  btw 0 and 2 conversions  \n",
       "62493           50.180000         3.0  btw 3 and 6 conversions  \n",
       "62494           37.790000         3.0  btw 3 and 6 conversions  \n",
       "62495           20.920000         1.0  btw 0 and 2 conversions  \n",
       "62496            1.690000         0.0  btw 0 and 2 conversions  \n",
       "62497            0.170000         0.0  btw 0 and 2 conversions  \n",
       "62498            3.399159         0.0  btw 0 and 2 conversions  \n",
       "62499           25.403711         0.0  btw 0 and 2 conversions  \n",
       "62500           23.694134         0.0  btw 0 and 2 conversions  \n",
       "62501           26.033555         4.0  btw 3 and 6 conversions  \n",
       "62502            1.799555         0.0  btw 0 and 2 conversions  \n",
       "62503            0.459886         1.0  btw 0 and 2 conversions  \n",
       "62504            4.279588         0.0  btw 0 and 2 conversions  \n",
       "62505           45.545719         1.0  btw 0 and 2 conversions  \n",
       "62506           42.766173         2.0  btw 0 and 2 conversions  \n",
       "62507           27.298582         0.0  btw 0 and 2 conversions  \n",
       "62508            1.289951         0.0  btw 0 and 2 conversions  \n",
       "62509            0.049987         0.0  btw 0 and 2 conversions  \n",
       "62510            4.048002         0.0  btw 0 and 2 conversions  \n",
       "62511           17.911158         0.0  btw 0 and 2 conversions  \n",
       "62512           25.407458         1.0  btw 0 and 2 conversions  \n",
       "62513           30.774808         1.0  btw 0 and 2 conversions  \n",
       "62514            2.758638         0.0  btw 0 and 2 conversions  \n",
       "62515            0.129936         0.0  btw 0 and 2 conversions  \n",
       "62516            6.160000         0.0  btw 0 and 2 conversions  \n",
       "62517           45.280000         2.0  btw 0 and 2 conversions  \n",
       "62518           49.470000         0.0  btw 0 and 2 conversions  \n",
       "62519           46.560000         2.0  btw 0 and 2 conversions  \n",
       "62520            2.540000         0.0  btw 0 and 2 conversions  \n",
       "62521            0.000000         0.0  btw 0 and 2 conversions  \n",
       "...                   ...         ...                      ...  \n",
       "82492           33.230000         1.0  btw 0 and 2 conversions  \n",
       "82493           84.670000         1.0  btw 0 and 2 conversions  \n",
       "82494          168.500000         2.0  btw 0 and 2 conversions  \n",
       "82495          137.340000         0.0  btw 0 and 2 conversions  \n",
       "82496           66.380000         0.0  btw 0 and 2 conversions  \n",
       "82497           23.180000         2.0  btw 0 and 2 conversions  \n",
       "82498           31.100000         0.0  btw 0 and 2 conversions  \n",
       "82499           39.150000         0.0  btw 0 and 2 conversions  \n",
       "82500           36.230000         0.0  btw 0 and 2 conversions  \n",
       "82501           19.640000         1.0  btw 0 and 2 conversions  \n",
       "82502           61.650000         0.0  btw 0 and 2 conversions  \n",
       "82503          131.200000         1.0  btw 0 and 2 conversions  \n",
       "82504          189.890000         1.0  btw 0 and 2 conversions  \n",
       "82505          146.450000         0.0  btw 0 and 2 conversions  \n",
       "82506           76.050000         0.0  btw 0 and 2 conversions  \n",
       "82507           19.940000         0.0  btw 0 and 2 conversions  \n",
       "82508           31.280000         0.0  btw 0 and 2 conversions  \n",
       "82509           35.630000         0.0  btw 0 and 2 conversions  \n",
       "82510           37.470000         1.0  btw 0 and 2 conversions  \n",
       "82511           23.110000         1.0  btw 0 and 2 conversions  \n",
       "82512            1.210000         1.0  btw 0 and 2 conversions  \n",
       "82513            2.990000         0.0  btw 0 and 2 conversions  \n",
       "82514            4.180000         0.0  btw 0 and 2 conversions  \n",
       "82515            5.040000         0.0  btw 0 and 2 conversions  \n",
       "82516            2.690000         0.0  btw 0 and 2 conversions  \n",
       "82517            1.410000         0.0  btw 0 and 2 conversions  \n",
       "82518            1.590000         0.0  btw 0 and 2 conversions  \n",
       "82519            1.270000         0.0  btw 0 and 2 conversions  \n",
       "82520            0.320000         0.0  btw 0 and 2 conversions  \n",
       "82521            0.270000         0.0  btw 0 and 2 conversions  \n",
       "\n",
       "[17392 rows x 13 columns]"
      ]
     },
     "execution_count": 103,
     "metadata": {},
     "output_type": "execute_result"
    }
   ],
   "source": [
    "fb_m"
   ]
  },
  {
   "cell_type": "code",
   "execution_count": 104,
   "metadata": {},
   "outputs": [],
   "source": [
    "fb_m.to_csv('/home/ec2-user/SageMaker/fb_conversion_predictions_2019-06-27/Data/fb_prepro_grouped_ps_rre.csv',index=False)"
   ]
  },
  {
   "cell_type": "code",
   "execution_count": 105,
   "metadata": {},
   "outputs": [
    {
     "data": {
      "text/plain": [
       "{'ResponseMetadata': {'RequestId': 'BBF4327B9D814CEB',\n",
       "  'HostId': 'MVhLg2idf84DgfxrGOHgusCQXfuPzRlnKO/cuZWWOmNHnP3lBxLDY/8swNfCD9llzcI3fFlmCds=',\n",
       "  'HTTPStatusCode': 200,\n",
       "  'HTTPHeaders': {'x-amz-id-2': 'MVhLg2idf84DgfxrGOHgusCQXfuPzRlnKO/cuZWWOmNHnP3lBxLDY/8swNfCD9llzcI3fFlmCds=',\n",
       "   'x-amz-request-id': 'BBF4327B9D814CEB',\n",
       "   'date': 'Fri, 06 Sep 2019 16:00:45 GMT',\n",
       "   'etag': '\"e5890125cf2384852b81824f0a54628e\"',\n",
       "   'content-length': '0',\n",
       "   'server': 'AmazonS3'},\n",
       "  'RetryAttempts': 0},\n",
       " 'ETag': '\"e5890125cf2384852b81824f0a54628e\"'}"
      ]
     },
     "execution_count": 105,
     "metadata": {},
     "output_type": "execute_result"
    }
   ],
   "source": [
    "bucket='facebookconversionrates' # bucket name\n",
    "data_key = 'preprocessed/fb_prepro_grouped_ps_rre.csv' # name of the csv file that will be created\n",
    "csv_buffer = StringIO()\n",
    "fb_m.to_csv(csv_buffer)\n",
    "s3_resource = boto3.resource('s3')\n",
    "s3_resource.Object(bucket, data_key).put(Body=csv_buffer.getvalue())"
   ]
  },
  {
   "cell_type": "code",
   "execution_count": 106,
   "metadata": {},
   "outputs": [],
   "source": [
    "# Uploading the Facebook Ads Manager from S3 Bucket:\n",
    "# This will be running like a second test data so that we can generate predictions:\n",
    "import boto3\n",
    "from sagemaker import get_execution_role\n",
    "\n",
    "role = get_execution_role()\n",
    "bucket='facebookconversionrates/test_data'\n",
    "data_key = 'testdata_aug.csv'\n",
    "data_location = 's3://{}/{}'.format(bucket, data_key)\n",
    "\n",
    "df_aug_test = pd.read_csv(data_location)"
   ]
  },
  {
   "cell_type": "code",
   "execution_count": 107,
   "metadata": {},
   "outputs": [
    {
     "data": {
      "text/html": [
       "<div>\n",
       "<style scoped>\n",
       "    .dataframe tbody tr th:only-of-type {\n",
       "        vertical-align: middle;\n",
       "    }\n",
       "\n",
       "    .dataframe tbody tr th {\n",
       "        vertical-align: top;\n",
       "    }\n",
       "\n",
       "    .dataframe thead th {\n",
       "        text-align: right;\n",
       "    }\n",
       "</style>\n",
       "<table border=\"1\" class=\"dataframe\">\n",
       "  <thead>\n",
       "    <tr style=\"text-align: right;\">\n",
       "      <th></th>\n",
       "      <th>date</th>\n",
       "      <th>year</th>\n",
       "      <th>month</th>\n",
       "      <th>week_num</th>\n",
       "      <th>day_of_week</th>\n",
       "      <th>age</th>\n",
       "      <th>location</th>\n",
       "      <th>topic</th>\n",
       "      <th>target_grouped</th>\n",
       "      <th>amount_spend_usd</th>\n",
       "    </tr>\n",
       "  </thead>\n",
       "  <tbody>\n",
       "    <tr>\n",
       "      <th>0</th>\n",
       "      <td>2019-08-01</td>\n",
       "      <td>2019</td>\n",
       "      <td>8</td>\n",
       "      <td>31</td>\n",
       "      <td>Thurs</td>\n",
       "      <td>18-24</td>\n",
       "      <td>US</td>\n",
       "      <td>RRE</td>\n",
       "      <td>evergreen</td>\n",
       "      <td>50</td>\n",
       "    </tr>\n",
       "    <tr>\n",
       "      <th>1</th>\n",
       "      <td>2019-08-01</td>\n",
       "      <td>2019</td>\n",
       "      <td>8</td>\n",
       "      <td>31</td>\n",
       "      <td>Thurs</td>\n",
       "      <td>18-24</td>\n",
       "      <td>US</td>\n",
       "      <td>RRE</td>\n",
       "      <td>pagevisitorremarketing</td>\n",
       "      <td>50</td>\n",
       "    </tr>\n",
       "    <tr>\n",
       "      <th>2</th>\n",
       "      <td>2019-08-01</td>\n",
       "      <td>2019</td>\n",
       "      <td>8</td>\n",
       "      <td>31</td>\n",
       "      <td>Thurs</td>\n",
       "      <td>18-24</td>\n",
       "      <td>US</td>\n",
       "      <td>PS</td>\n",
       "      <td>evergreen</td>\n",
       "      <td>50</td>\n",
       "    </tr>\n",
       "    <tr>\n",
       "      <th>3</th>\n",
       "      <td>2019-08-01</td>\n",
       "      <td>2019</td>\n",
       "      <td>8</td>\n",
       "      <td>31</td>\n",
       "      <td>Thurs</td>\n",
       "      <td>18-24</td>\n",
       "      <td>US</td>\n",
       "      <td>PS</td>\n",
       "      <td>entphotographyentrepreneur</td>\n",
       "      <td>50</td>\n",
       "    </tr>\n",
       "    <tr>\n",
       "      <th>4</th>\n",
       "      <td>2019-08-01</td>\n",
       "      <td>2019</td>\n",
       "      <td>8</td>\n",
       "      <td>31</td>\n",
       "      <td>Thurs</td>\n",
       "      <td>18-24</td>\n",
       "      <td>US</td>\n",
       "      <td>PS</td>\n",
       "      <td>infographic</td>\n",
       "      <td>50</td>\n",
       "    </tr>\n",
       "  </tbody>\n",
       "</table>\n",
       "</div>"
      ],
      "text/plain": [
       "         date  year  month  week_num day_of_week    age location topic  \\\n",
       "0  2019-08-01  2019      8        31       Thurs  18-24       US   RRE   \n",
       "1  2019-08-01  2019      8        31       Thurs  18-24       US   RRE   \n",
       "2  2019-08-01  2019      8        31       Thurs  18-24       US    PS   \n",
       "3  2019-08-01  2019      8        31       Thurs  18-24       US    PS   \n",
       "4  2019-08-01  2019      8        31       Thurs  18-24       US    PS   \n",
       "\n",
       "               target_grouped  amount_spend_usd  \n",
       "0                   evergreen                50  \n",
       "1      pagevisitorremarketing                50  \n",
       "2                   evergreen                50  \n",
       "3  entphotographyentrepreneur                50  \n",
       "4                 infographic                50  "
      ]
     },
     "execution_count": 107,
     "metadata": {},
     "output_type": "execute_result"
    }
   ],
   "source": [
    "# For the first week of August:\n",
    "df_aug_test.drop(columns=['Unnamed: 0'], inplace = True)\n",
    "df_aug_test.head()"
   ]
  },
  {
   "cell_type": "code",
   "execution_count": 108,
   "metadata": {},
   "outputs": [
    {
     "data": {
      "text/plain": [
       "(3303360, 10)"
      ]
     },
     "execution_count": 108,
     "metadata": {},
     "output_type": "execute_result"
    }
   ],
   "source": [
    "df_aug_test.shape"
   ]
  },
  {
   "cell_type": "code",
   "execution_count": 109,
   "metadata": {
    "scrolled": false
   },
   "outputs": [
    {
     "data": {
      "text/html": [
       "<div>\n",
       "<style scoped>\n",
       "    .dataframe tbody tr th:only-of-type {\n",
       "        vertical-align: middle;\n",
       "    }\n",
       "\n",
       "    .dataframe tbody tr th {\n",
       "        vertical-align: top;\n",
       "    }\n",
       "\n",
       "    .dataframe thead th {\n",
       "        text-align: right;\n",
       "    }\n",
       "</style>\n",
       "<table border=\"1\" class=\"dataframe\">\n",
       "  <thead>\n",
       "    <tr style=\"text-align: right;\">\n",
       "      <th></th>\n",
       "      <th>index</th>\n",
       "      <th>conversion</th>\n",
       "      <th>ratio</th>\n",
       "    </tr>\n",
       "  </thead>\n",
       "  <tbody>\n",
       "    <tr>\n",
       "      <th>0</th>\n",
       "      <td>0.0</td>\n",
       "      <td>8812</td>\n",
       "      <td>0.506670</td>\n",
       "    </tr>\n",
       "    <tr>\n",
       "      <th>1</th>\n",
       "      <td>1.0</td>\n",
       "      <td>2662</td>\n",
       "      <td>0.153059</td>\n",
       "    </tr>\n",
       "    <tr>\n",
       "      <th>2</th>\n",
       "      <td>2.0</td>\n",
       "      <td>2099</td>\n",
       "      <td>0.120688</td>\n",
       "    </tr>\n",
       "    <tr>\n",
       "      <th>3</th>\n",
       "      <td>3.0</td>\n",
       "      <td>1119</td>\n",
       "      <td>0.064340</td>\n",
       "    </tr>\n",
       "    <tr>\n",
       "      <th>4</th>\n",
       "      <td>4.0</td>\n",
       "      <td>885</td>\n",
       "      <td>0.050885</td>\n",
       "    </tr>\n",
       "    <tr>\n",
       "      <th>5</th>\n",
       "      <td>5.0</td>\n",
       "      <td>473</td>\n",
       "      <td>0.027196</td>\n",
       "    </tr>\n",
       "    <tr>\n",
       "      <th>6</th>\n",
       "      <td>6.0</td>\n",
       "      <td>423</td>\n",
       "      <td>0.024322</td>\n",
       "    </tr>\n",
       "    <tr>\n",
       "      <th>7</th>\n",
       "      <td>7.0</td>\n",
       "      <td>195</td>\n",
       "      <td>0.011212</td>\n",
       "    </tr>\n",
       "    <tr>\n",
       "      <th>8</th>\n",
       "      <td>8.0</td>\n",
       "      <td>217</td>\n",
       "      <td>0.012477</td>\n",
       "    </tr>\n",
       "    <tr>\n",
       "      <th>9</th>\n",
       "      <td>9.0</td>\n",
       "      <td>99</td>\n",
       "      <td>0.005692</td>\n",
       "    </tr>\n",
       "    <tr>\n",
       "      <th>10</th>\n",
       "      <td>10.0</td>\n",
       "      <td>102</td>\n",
       "      <td>0.005865</td>\n",
       "    </tr>\n",
       "    <tr>\n",
       "      <th>11</th>\n",
       "      <td>11.0</td>\n",
       "      <td>68</td>\n",
       "      <td>0.003910</td>\n",
       "    </tr>\n",
       "    <tr>\n",
       "      <th>12</th>\n",
       "      <td>12.0</td>\n",
       "      <td>50</td>\n",
       "      <td>0.002875</td>\n",
       "    </tr>\n",
       "    <tr>\n",
       "      <th>13</th>\n",
       "      <td>13.0</td>\n",
       "      <td>35</td>\n",
       "      <td>0.002012</td>\n",
       "    </tr>\n",
       "    <tr>\n",
       "      <th>14</th>\n",
       "      <td>14.0</td>\n",
       "      <td>32</td>\n",
       "      <td>0.001840</td>\n",
       "    </tr>\n",
       "    <tr>\n",
       "      <th>15</th>\n",
       "      <td>15.0</td>\n",
       "      <td>22</td>\n",
       "      <td>0.001265</td>\n",
       "    </tr>\n",
       "    <tr>\n",
       "      <th>16</th>\n",
       "      <td>16.0</td>\n",
       "      <td>20</td>\n",
       "      <td>0.001150</td>\n",
       "    </tr>\n",
       "    <tr>\n",
       "      <th>17</th>\n",
       "      <td>17.0</td>\n",
       "      <td>14</td>\n",
       "      <td>0.000805</td>\n",
       "    </tr>\n",
       "    <tr>\n",
       "      <th>18</th>\n",
       "      <td>18.0</td>\n",
       "      <td>14</td>\n",
       "      <td>0.000805</td>\n",
       "    </tr>\n",
       "    <tr>\n",
       "      <th>19</th>\n",
       "      <td>19.0</td>\n",
       "      <td>11</td>\n",
       "      <td>0.000632</td>\n",
       "    </tr>\n",
       "    <tr>\n",
       "      <th>20</th>\n",
       "      <td>20.0</td>\n",
       "      <td>12</td>\n",
       "      <td>0.000690</td>\n",
       "    </tr>\n",
       "    <tr>\n",
       "      <th>21</th>\n",
       "      <td>21.0</td>\n",
       "      <td>7</td>\n",
       "      <td>0.000402</td>\n",
       "    </tr>\n",
       "    <tr>\n",
       "      <th>22</th>\n",
       "      <td>22.0</td>\n",
       "      <td>6</td>\n",
       "      <td>0.000345</td>\n",
       "    </tr>\n",
       "    <tr>\n",
       "      <th>23</th>\n",
       "      <td>23.0</td>\n",
       "      <td>2</td>\n",
       "      <td>0.000115</td>\n",
       "    </tr>\n",
       "    <tr>\n",
       "      <th>24</th>\n",
       "      <td>25.0</td>\n",
       "      <td>2</td>\n",
       "      <td>NaN</td>\n",
       "    </tr>\n",
       "    <tr>\n",
       "      <th>25</th>\n",
       "      <td>26.0</td>\n",
       "      <td>3</td>\n",
       "      <td>0.000115</td>\n",
       "    </tr>\n",
       "    <tr>\n",
       "      <th>26</th>\n",
       "      <td>27.0</td>\n",
       "      <td>3</td>\n",
       "      <td>0.000172</td>\n",
       "    </tr>\n",
       "    <tr>\n",
       "      <th>27</th>\n",
       "      <td>29.0</td>\n",
       "      <td>1</td>\n",
       "      <td>0.000172</td>\n",
       "    </tr>\n",
       "    <tr>\n",
       "      <th>28</th>\n",
       "      <td>30.0</td>\n",
       "      <td>1</td>\n",
       "      <td>NaN</td>\n",
       "    </tr>\n",
       "    <tr>\n",
       "      <th>29</th>\n",
       "      <td>31.0</td>\n",
       "      <td>1</td>\n",
       "      <td>0.000057</td>\n",
       "    </tr>\n",
       "    <tr>\n",
       "      <th>30</th>\n",
       "      <td>34.0</td>\n",
       "      <td>1</td>\n",
       "      <td>0.000057</td>\n",
       "    </tr>\n",
       "    <tr>\n",
       "      <th>31</th>\n",
       "      <td>35.0</td>\n",
       "      <td>1</td>\n",
       "      <td>0.000057</td>\n",
       "    </tr>\n",
       "  </tbody>\n",
       "</table>\n",
       "</div>"
      ],
      "text/plain": [
       "    index  conversion     ratio\n",
       "0     0.0        8812  0.506670\n",
       "1     1.0        2662  0.153059\n",
       "2     2.0        2099  0.120688\n",
       "3     3.0        1119  0.064340\n",
       "4     4.0         885  0.050885\n",
       "5     5.0         473  0.027196\n",
       "6     6.0         423  0.024322\n",
       "7     7.0         195  0.011212\n",
       "8     8.0         217  0.012477\n",
       "9     9.0          99  0.005692\n",
       "10   10.0         102  0.005865\n",
       "11   11.0          68  0.003910\n",
       "12   12.0          50  0.002875\n",
       "13   13.0          35  0.002012\n",
       "14   14.0          32  0.001840\n",
       "15   15.0          22  0.001265\n",
       "16   16.0          20  0.001150\n",
       "17   17.0          14  0.000805\n",
       "18   18.0          14  0.000805\n",
       "19   19.0          11  0.000632\n",
       "20   20.0          12  0.000690\n",
       "21   21.0           7  0.000402\n",
       "22   22.0           6  0.000345\n",
       "23   23.0           2  0.000115\n",
       "24   25.0           2       NaN\n",
       "25   26.0           3  0.000115\n",
       "26   27.0           3  0.000172\n",
       "27   29.0           1  0.000172\n",
       "28   30.0           1       NaN\n",
       "29   31.0           1  0.000057\n",
       "30   34.0           1  0.000057\n",
       "31   35.0           1  0.000057"
      ]
     },
     "execution_count": 109,
     "metadata": {},
     "output_type": "execute_result"
    }
   ],
   "source": [
    "conver_num = pd.DataFrame(fb_m.conversion.value_counts()).sort_index()\n",
    "conver_num.reset_index(inplace=True)\n",
    "conver_num['ratio'] = fb_m.conversion.value_counts()/len(fb_m)\n",
    "conver_num"
   ]
  },
  {
   "cell_type": "code",
   "execution_count": 110,
   "metadata": {},
   "outputs": [
    {
     "data": {
      "text/plain": [
       "0.3402713891444342"
      ]
     },
     "execution_count": 110,
     "metadata": {},
     "output_type": "execute_result"
    }
   ],
   "source": [
    "# Ratio of values less or equal and higher than 1:\n",
    "conver_num[conver_num['index'] > 1]['conversion'].sum() / conver_num['conversion'].sum()"
   ]
  },
  {
   "cell_type": "code",
   "execution_count": 111,
   "metadata": {},
   "outputs": [],
   "source": [
    "X = fb_m[['year', 'month', 'week_num', 'day_of_week', 'age','topic','target_grouped','location', 'amount_spent_(usd)']]\n",
    "y = fb_m['labels']"
   ]
  },
  {
   "cell_type": "code",
   "execution_count": 112,
   "metadata": {},
   "outputs": [],
   "source": [
    "X.columns = ['year', 'month', 'week_num', 'day_of_week', 'age','topic','target_grouped','location', 'amount_spent_usd']"
   ]
  },
  {
   "cell_type": "code",
   "execution_count": 113,
   "metadata": {},
   "outputs": [
    {
     "data": {
      "text/plain": [
       "Index(['date', 'year', 'month', 'week_num', 'day_of_week', 'age', 'location',\n",
       "       'topic', 'target_grouped', 'amount_spend_usd'],\n",
       "      dtype='object')"
      ]
     },
     "execution_count": 113,
     "metadata": {},
     "output_type": "execute_result"
    }
   ],
   "source": [
    "# For the first week of August:\n",
    "df_aug_test.columns"
   ]
  },
  {
   "cell_type": "code",
   "execution_count": 115,
   "metadata": {},
   "outputs": [],
   "source": [
    "# For the first week of August:\n",
    "X_aug_test = df_aug_test[['year', 'month', 'week_num', 'day_of_week', 'age','topic','target_grouped','location', \"amount_spend_usd\"]]"
   ]
  },
  {
   "cell_type": "code",
   "execution_count": 116,
   "metadata": {},
   "outputs": [],
   "source": [
    "X_aug_test.columns = ['year', 'month', 'week_num', 'day_of_week', 'age','topic','target_grouped','location', 'amount_spent_usd']"
   ]
  },
  {
   "cell_type": "code",
   "execution_count": 117,
   "metadata": {},
   "outputs": [],
   "source": [
    "from sklearn.model_selection import train_test_split\n",
    "X_train, X_test, y_train, y_test = train_test_split(X, y, stratify=y, test_size=0.3,random_state=44)"
   ]
  },
  {
   "cell_type": "code",
   "execution_count": 118,
   "metadata": {},
   "outputs": [],
   "source": [
    "X_testa = X_aug_test.copy()"
   ]
  },
  {
   "cell_type": "code",
   "execution_count": 119,
   "metadata": {},
   "outputs": [],
   "source": [
    "X_testa = X_testa[X_testa['location'] == 'US']"
   ]
  },
  {
   "cell_type": "code",
   "execution_count": 120,
   "metadata": {},
   "outputs": [
    {
     "data": {
      "text/plain": [
       "(12174, 9)"
      ]
     },
     "execution_count": 120,
     "metadata": {},
     "output_type": "execute_result"
    }
   ],
   "source": [
    "X_train.shape"
   ]
  },
  {
   "cell_type": "code",
   "execution_count": 121,
   "metadata": {},
   "outputs": [
    {
     "data": {
      "text/plain": [
       "(12174,)"
      ]
     },
     "execution_count": 121,
     "metadata": {},
     "output_type": "execute_result"
    }
   ],
   "source": [
    "y_train.shape"
   ]
  },
  {
   "cell_type": "code",
   "execution_count": 122,
   "metadata": {},
   "outputs": [
    {
     "data": {
      "text/plain": [
       "(5218,)"
      ]
     },
     "execution_count": 122,
     "metadata": {},
     "output_type": "execute_result"
    }
   ],
   "source": [
    "y_test.shape"
   ]
  },
  {
   "cell_type": "code",
   "execution_count": 123,
   "metadata": {},
   "outputs": [
    {
     "data": {
      "text/plain": [
       "(5218, 9)"
      ]
     },
     "execution_count": 123,
     "metadata": {},
     "output_type": "execute_result"
    }
   ],
   "source": [
    "X_test.shape"
   ]
  },
  {
   "cell_type": "code",
   "execution_count": 124,
   "metadata": {},
   "outputs": [
    {
     "data": {
      "text/plain": [
       "(330336, 9)"
      ]
     },
     "execution_count": 124,
     "metadata": {},
     "output_type": "execute_result"
    }
   ],
   "source": [
    "# For the first week of August:\n",
    "X_testa.shape"
   ]
  },
  {
   "cell_type": "code",
   "execution_count": 125,
   "metadata": {},
   "outputs": [
    {
     "name": "stdout",
     "output_type": "stream",
     "text": [
      "<class 'pandas.core.frame.DataFrame'>\n",
      "Int64Index: 5218 entries, 67585 to 65231\n",
      "Data columns (total 9 columns):\n",
      "year                5218 non-null int64\n",
      "month               5218 non-null int64\n",
      "week_num            5218 non-null int64\n",
      "day_of_week         5218 non-null object\n",
      "age                 5218 non-null object\n",
      "topic               5218 non-null object\n",
      "target_grouped      5218 non-null object\n",
      "location            5218 non-null object\n",
      "amount_spent_usd    5218 non-null float64\n",
      "dtypes: float64(1), int64(3), object(5)\n",
      "memory usage: 407.7+ KB\n"
     ]
    }
   ],
   "source": [
    "X_test.info()"
   ]
  },
  {
   "cell_type": "code",
   "execution_count": 126,
   "metadata": {},
   "outputs": [
    {
     "name": "stdout",
     "output_type": "stream",
     "text": [
      "<class 'pandas.core.frame.DataFrame'>\n",
      "Int64Index: 330336 entries, 0 to 3303305\n",
      "Data columns (total 9 columns):\n",
      "year                330336 non-null int64\n",
      "month               330336 non-null int64\n",
      "week_num            330336 non-null int64\n",
      "day_of_week         330336 non-null object\n",
      "age                 330336 non-null object\n",
      "topic               330336 non-null object\n",
      "target_grouped      330336 non-null object\n",
      "location            330336 non-null object\n",
      "amount_spent_usd    330336 non-null int64\n",
      "dtypes: int64(4), object(5)\n",
      "memory usage: 25.2+ MB\n"
     ]
    }
   ],
   "source": [
    "# For the first week of August:\n",
    "X_testa.info()"
   ]
  },
  {
   "cell_type": "code",
   "execution_count": null,
   "metadata": {},
   "outputs": [],
   "source": []
  },
  {
   "cell_type": "code",
   "execution_count": null,
   "metadata": {},
   "outputs": [],
   "source": [
    "#X_test.to_csv('X_test.csv',index=False)"
   ]
  },
  {
   "cell_type": "code",
   "execution_count": 127,
   "metadata": {},
   "outputs": [],
   "source": [
    "X_train_catg=['year', 'month', 'week_num','day_of_week', 'age','topic','target_grouped', 'location']"
   ]
  },
  {
   "cell_type": "code",
   "execution_count": 128,
   "metadata": {},
   "outputs": [],
   "source": [
    "X_test_catg=['year', 'month', 'week_num','day_of_week', 'age','topic','target_grouped', 'location']"
   ]
  },
  {
   "cell_type": "code",
   "execution_count": 129,
   "metadata": {},
   "outputs": [],
   "source": [
    "X_testa_catg=['year', 'month', 'week_num','day_of_week', 'age','topic','target_grouped', 'location']"
   ]
  },
  {
   "cell_type": "code",
   "execution_count": 130,
   "metadata": {},
   "outputs": [],
   "source": [
    "X_train_num=['amount_spent_usd']"
   ]
  },
  {
   "cell_type": "code",
   "execution_count": 131,
   "metadata": {},
   "outputs": [],
   "source": [
    "X_test_num=['amount_spent_usd']"
   ]
  },
  {
   "cell_type": "code",
   "execution_count": 132,
   "metadata": {},
   "outputs": [],
   "source": [
    "X_testa_num=['amount_spent_usd']"
   ]
  },
  {
   "cell_type": "code",
   "execution_count": 133,
   "metadata": {},
   "outputs": [
    {
     "data": {
      "text/html": [
       "<div>\n",
       "<style scoped>\n",
       "    .dataframe tbody tr th:only-of-type {\n",
       "        vertical-align: middle;\n",
       "    }\n",
       "\n",
       "    .dataframe tbody tr th {\n",
       "        vertical-align: top;\n",
       "    }\n",
       "\n",
       "    .dataframe thead th {\n",
       "        text-align: right;\n",
       "    }\n",
       "</style>\n",
       "<table border=\"1\" class=\"dataframe\">\n",
       "  <thead>\n",
       "    <tr style=\"text-align: right;\">\n",
       "      <th></th>\n",
       "      <th>year</th>\n",
       "      <th>month</th>\n",
       "      <th>week_num</th>\n",
       "      <th>day_of_week</th>\n",
       "      <th>age</th>\n",
       "      <th>topic</th>\n",
       "      <th>target_grouped</th>\n",
       "      <th>location</th>\n",
       "      <th>amount_spent_usd</th>\n",
       "    </tr>\n",
       "  </thead>\n",
       "  <tbody>\n",
       "    <tr>\n",
       "      <th>75720</th>\n",
       "      <td>2018</td>\n",
       "      <td>4</td>\n",
       "      <td>15</td>\n",
       "      <td>Sat</td>\n",
       "      <td>65+</td>\n",
       "      <td>RRE</td>\n",
       "      <td>websiteremarketing</td>\n",
       "      <td>US</td>\n",
       "      <td>17.040000</td>\n",
       "    </tr>\n",
       "    <tr>\n",
       "      <th>78423</th>\n",
       "      <td>2018</td>\n",
       "      <td>2</td>\n",
       "      <td>8</td>\n",
       "      <td>Thurs</td>\n",
       "      <td>55-64</td>\n",
       "      <td>RRE</td>\n",
       "      <td>websiteremarketing</td>\n",
       "      <td>US</td>\n",
       "      <td>13.515912</td>\n",
       "    </tr>\n",
       "    <tr>\n",
       "      <th>63358</th>\n",
       "      <td>2019</td>\n",
       "      <td>6</td>\n",
       "      <td>23</td>\n",
       "      <td>Fri</td>\n",
       "      <td>35-44</td>\n",
       "      <td>PS</td>\n",
       "      <td>websiteremarketing</td>\n",
       "      <td>US</td>\n",
       "      <td>55.390000</td>\n",
       "    </tr>\n",
       "    <tr>\n",
       "      <th>64957</th>\n",
       "      <td>2018</td>\n",
       "      <td>2</td>\n",
       "      <td>5</td>\n",
       "      <td>Sat</td>\n",
       "      <td>25-34</td>\n",
       "      <td>PS</td>\n",
       "      <td>mqlsqlps</td>\n",
       "      <td>US</td>\n",
       "      <td>48.200000</td>\n",
       "    </tr>\n",
       "    <tr>\n",
       "      <th>68742</th>\n",
       "      <td>2018</td>\n",
       "      <td>7</td>\n",
       "      <td>30</td>\n",
       "      <td>Tues</td>\n",
       "      <td>45-54</td>\n",
       "      <td>PS</td>\n",
       "      <td>videoremarketing</td>\n",
       "      <td>US</td>\n",
       "      <td>39.366659</td>\n",
       "    </tr>\n",
       "  </tbody>\n",
       "</table>\n",
       "</div>"
      ],
      "text/plain": [
       "       year  month  week_num day_of_week    age topic      target_grouped  \\\n",
       "75720  2018      4        15         Sat    65+   RRE  websiteremarketing   \n",
       "78423  2018      2         8       Thurs  55-64   RRE  websiteremarketing   \n",
       "63358  2019      6        23         Fri  35-44    PS  websiteremarketing   \n",
       "64957  2018      2         5         Sat  25-34    PS            mqlsqlps   \n",
       "68742  2018      7        30        Tues  45-54    PS    videoremarketing   \n",
       "\n",
       "      location  amount_spent_usd  \n",
       "75720       US         17.040000  \n",
       "78423       US         13.515912  \n",
       "63358       US         55.390000  \n",
       "64957       US         48.200000  \n",
       "68742       US         39.366659  "
      ]
     },
     "execution_count": 133,
     "metadata": {},
     "output_type": "execute_result"
    }
   ],
   "source": [
    "X_train.head()"
   ]
  },
  {
   "cell_type": "code",
   "execution_count": 134,
   "metadata": {},
   "outputs": [
    {
     "data": {
      "text/html": [
       "<div>\n",
       "<style scoped>\n",
       "    .dataframe tbody tr th:only-of-type {\n",
       "        vertical-align: middle;\n",
       "    }\n",
       "\n",
       "    .dataframe tbody tr th {\n",
       "        vertical-align: top;\n",
       "    }\n",
       "\n",
       "    .dataframe thead th {\n",
       "        text-align: right;\n",
       "    }\n",
       "</style>\n",
       "<table border=\"1\" class=\"dataframe\">\n",
       "  <thead>\n",
       "    <tr style=\"text-align: right;\">\n",
       "      <th></th>\n",
       "      <th>year</th>\n",
       "      <th>month</th>\n",
       "      <th>week_num</th>\n",
       "      <th>day_of_week</th>\n",
       "      <th>age</th>\n",
       "      <th>topic</th>\n",
       "      <th>target_grouped</th>\n",
       "      <th>location</th>\n",
       "      <th>amount_spent_usd</th>\n",
       "    </tr>\n",
       "  </thead>\n",
       "  <tbody>\n",
       "    <tr>\n",
       "      <th>67585</th>\n",
       "      <td>2018</td>\n",
       "      <td>8</td>\n",
       "      <td>33</td>\n",
       "      <td>Thurs</td>\n",
       "      <td>18-24</td>\n",
       "      <td>PS</td>\n",
       "      <td>videoremarketinglal</td>\n",
       "      <td>US</td>\n",
       "      <td>8.140000</td>\n",
       "    </tr>\n",
       "    <tr>\n",
       "      <th>73372</th>\n",
       "      <td>2018</td>\n",
       "      <td>9</td>\n",
       "      <td>38</td>\n",
       "      <td>Fri</td>\n",
       "      <td>55-64</td>\n",
       "      <td>RRE</td>\n",
       "      <td>remaxagents</td>\n",
       "      <td>US</td>\n",
       "      <td>21.010000</td>\n",
       "    </tr>\n",
       "    <tr>\n",
       "      <th>82370</th>\n",
       "      <td>2019</td>\n",
       "      <td>5</td>\n",
       "      <td>20</td>\n",
       "      <td>Weds</td>\n",
       "      <td>25-34</td>\n",
       "      <td>RRE</td>\n",
       "      <td>evergreen</td>\n",
       "      <td>US</td>\n",
       "      <td>262.328430</td>\n",
       "    </tr>\n",
       "    <tr>\n",
       "      <th>72812</th>\n",
       "      <td>2018</td>\n",
       "      <td>3</td>\n",
       "      <td>13</td>\n",
       "      <td>Fri</td>\n",
       "      <td>45-54</td>\n",
       "      <td>RRE</td>\n",
       "      <td>alllists</td>\n",
       "      <td>US</td>\n",
       "      <td>62.260000</td>\n",
       "    </tr>\n",
       "    <tr>\n",
       "      <th>75220</th>\n",
       "      <td>2019</td>\n",
       "      <td>4</td>\n",
       "      <td>16</td>\n",
       "      <td>Mon</td>\n",
       "      <td>45-54</td>\n",
       "      <td>RRE</td>\n",
       "      <td>evergreen</td>\n",
       "      <td>US</td>\n",
       "      <td>251.244524</td>\n",
       "    </tr>\n",
       "  </tbody>\n",
       "</table>\n",
       "</div>"
      ],
      "text/plain": [
       "       year  month  week_num day_of_week    age topic       target_grouped  \\\n",
       "67585  2018      8        33       Thurs  18-24    PS  videoremarketinglal   \n",
       "73372  2018      9        38         Fri  55-64   RRE          remaxagents   \n",
       "82370  2019      5        20        Weds  25-34   RRE            evergreen   \n",
       "72812  2018      3        13         Fri  45-54   RRE             alllists   \n",
       "75220  2019      4        16         Mon  45-54   RRE            evergreen   \n",
       "\n",
       "      location  amount_spent_usd  \n",
       "67585       US          8.140000  \n",
       "73372       US         21.010000  \n",
       "82370       US        262.328430  \n",
       "72812       US         62.260000  \n",
       "75220       US        251.244524  "
      ]
     },
     "execution_count": 134,
     "metadata": {},
     "output_type": "execute_result"
    }
   ],
   "source": [
    "X_test.head()"
   ]
  },
  {
   "cell_type": "code",
   "execution_count": 135,
   "metadata": {},
   "outputs": [
    {
     "data": {
      "text/html": [
       "<div>\n",
       "<style scoped>\n",
       "    .dataframe tbody tr th:only-of-type {\n",
       "        vertical-align: middle;\n",
       "    }\n",
       "\n",
       "    .dataframe tbody tr th {\n",
       "        vertical-align: top;\n",
       "    }\n",
       "\n",
       "    .dataframe thead th {\n",
       "        text-align: right;\n",
       "    }\n",
       "</style>\n",
       "<table border=\"1\" class=\"dataframe\">\n",
       "  <thead>\n",
       "    <tr style=\"text-align: right;\">\n",
       "      <th></th>\n",
       "      <th>year</th>\n",
       "      <th>month</th>\n",
       "      <th>week_num</th>\n",
       "      <th>day_of_week</th>\n",
       "      <th>age</th>\n",
       "      <th>topic</th>\n",
       "      <th>target_grouped</th>\n",
       "      <th>location</th>\n",
       "      <th>amount_spent_usd</th>\n",
       "    </tr>\n",
       "  </thead>\n",
       "  <tbody>\n",
       "    <tr>\n",
       "      <th>0</th>\n",
       "      <td>2019</td>\n",
       "      <td>8</td>\n",
       "      <td>31</td>\n",
       "      <td>Thurs</td>\n",
       "      <td>18-24</td>\n",
       "      <td>RRE</td>\n",
       "      <td>evergreen</td>\n",
       "      <td>US</td>\n",
       "      <td>50</td>\n",
       "    </tr>\n",
       "    <tr>\n",
       "      <th>1</th>\n",
       "      <td>2019</td>\n",
       "      <td>8</td>\n",
       "      <td>31</td>\n",
       "      <td>Thurs</td>\n",
       "      <td>18-24</td>\n",
       "      <td>RRE</td>\n",
       "      <td>pagevisitorremarketing</td>\n",
       "      <td>US</td>\n",
       "      <td>50</td>\n",
       "    </tr>\n",
       "    <tr>\n",
       "      <th>2</th>\n",
       "      <td>2019</td>\n",
       "      <td>8</td>\n",
       "      <td>31</td>\n",
       "      <td>Thurs</td>\n",
       "      <td>18-24</td>\n",
       "      <td>PS</td>\n",
       "      <td>evergreen</td>\n",
       "      <td>US</td>\n",
       "      <td>50</td>\n",
       "    </tr>\n",
       "    <tr>\n",
       "      <th>3</th>\n",
       "      <td>2019</td>\n",
       "      <td>8</td>\n",
       "      <td>31</td>\n",
       "      <td>Thurs</td>\n",
       "      <td>18-24</td>\n",
       "      <td>PS</td>\n",
       "      <td>entphotographyentrepreneur</td>\n",
       "      <td>US</td>\n",
       "      <td>50</td>\n",
       "    </tr>\n",
       "    <tr>\n",
       "      <th>4</th>\n",
       "      <td>2019</td>\n",
       "      <td>8</td>\n",
       "      <td>31</td>\n",
       "      <td>Thurs</td>\n",
       "      <td>18-24</td>\n",
       "      <td>PS</td>\n",
       "      <td>infographic</td>\n",
       "      <td>US</td>\n",
       "      <td>50</td>\n",
       "    </tr>\n",
       "  </tbody>\n",
       "</table>\n",
       "</div>"
      ],
      "text/plain": [
       "   year  month  week_num day_of_week    age topic              target_grouped  \\\n",
       "0  2019      8        31       Thurs  18-24   RRE                   evergreen   \n",
       "1  2019      8        31       Thurs  18-24   RRE      pagevisitorremarketing   \n",
       "2  2019      8        31       Thurs  18-24    PS                   evergreen   \n",
       "3  2019      8        31       Thurs  18-24    PS  entphotographyentrepreneur   \n",
       "4  2019      8        31       Thurs  18-24    PS                 infographic   \n",
       "\n",
       "  location  amount_spent_usd  \n",
       "0       US                50  \n",
       "1       US                50  \n",
       "2       US                50  \n",
       "3       US                50  \n",
       "4       US                50  "
      ]
     },
     "execution_count": 135,
     "metadata": {},
     "output_type": "execute_result"
    }
   ],
   "source": [
    "X_testa.head()"
   ]
  },
  {
   "cell_type": "code",
   "execution_count": 136,
   "metadata": {},
   "outputs": [
    {
     "name": "stdout",
     "output_type": "stream",
     "text": [
      "<class 'pandas.core.frame.DataFrame'>\n",
      "Int64Index: 5218 entries, 67585 to 65231\n",
      "Data columns (total 9 columns):\n",
      "year                5218 non-null int64\n",
      "month               5218 non-null int64\n",
      "week_num            5218 non-null int64\n",
      "day_of_week         5218 non-null object\n",
      "age                 5218 non-null object\n",
      "topic               5218 non-null object\n",
      "target_grouped      5218 non-null object\n",
      "location            5218 non-null object\n",
      "amount_spent_usd    5218 non-null float64\n",
      "dtypes: float64(1), int64(3), object(5)\n",
      "memory usage: 407.7+ KB\n"
     ]
    }
   ],
   "source": [
    "X_test.info()"
   ]
  },
  {
   "cell_type": "code",
   "execution_count": 137,
   "metadata": {},
   "outputs": [
    {
     "name": "stdout",
     "output_type": "stream",
     "text": [
      "<class 'pandas.core.frame.DataFrame'>\n",
      "Int64Index: 330336 entries, 0 to 3303305\n",
      "Data columns (total 9 columns):\n",
      "year                330336 non-null int64\n",
      "month               330336 non-null int64\n",
      "week_num            330336 non-null int64\n",
      "day_of_week         330336 non-null object\n",
      "age                 330336 non-null object\n",
      "topic               330336 non-null object\n",
      "target_grouped      330336 non-null object\n",
      "location            330336 non-null object\n",
      "amount_spent_usd    330336 non-null int64\n",
      "dtypes: int64(4), object(5)\n",
      "memory usage: 25.2+ MB\n"
     ]
    }
   ],
   "source": [
    "X_testa.info()"
   ]
  },
  {
   "cell_type": "code",
   "execution_count": 163,
   "metadata": {},
   "outputs": [
    {
     "data": {
      "text/plain": [
       "29"
      ]
     },
     "execution_count": 163,
     "metadata": {},
     "output_type": "execute_result"
    }
   ],
   "source": [
    "len(X_test.target_grouped.value_counts())"
   ]
  },
  {
   "cell_type": "code",
   "execution_count": 165,
   "metadata": {},
   "outputs": [
    {
     "data": {
      "text/plain": [
       "30"
      ]
     },
     "execution_count": 165,
     "metadata": {},
     "output_type": "execute_result"
    }
   ],
   "source": [
    "len(X_testa.target_grouped.value_counts())"
   ]
  },
  {
   "cell_type": "code",
   "execution_count": 167,
   "metadata": {
    "scrolled": true
   },
   "outputs": [
    {
     "data": {
      "text/plain": [
       "['websiteremarketing',\n",
       " 'videoremarketinglal',\n",
       " 'openedleadformlal',\n",
       " 'evergreen',\n",
       " 'agentsbrokers',\n",
       " 'alllists',\n",
       " 'submittedleadform',\n",
       " 'videoremarketing',\n",
       " 'websiteremarketinglal',\n",
       " 'entphotographyentrepreneur',\n",
       " 'entselfemployeddrivers',\n",
       " 'infographic',\n",
       " 'pagevisitorremarketing',\n",
       " 're',\n",
       " 'googlestreetviewphotographers',\n",
       " 'remaxagents',\n",
       " 'sqllal',\n",
       " 'brokers',\n",
       " 'sql1025',\n",
       " 'mqlsqlps',\n",
       " 'alllists10',\n",
       " '2',\n",
       " 'openedleadforms',\n",
       " 'nannan',\n",
       " 'sql10',\n",
       " 'peoplewholikemppage',\n",
       " 'camerasalelal',\n",
       " 'sdr',\n",
       " 'pro2literemarketing']"
      ]
     },
     "execution_count": 167,
     "metadata": {},
     "output_type": "execute_result"
    }
   ],
   "source": [
    "X_test.target_grouped.value_counts().index.tolist()"
   ]
  },
  {
   "cell_type": "code",
   "execution_count": 168,
   "metadata": {
    "scrolled": true
   },
   "outputs": [
    {
     "data": {
      "text/plain": [
       "['evergreen',\n",
       " 'entphotographyentrepreneur',\n",
       " 'infographic',\n",
       " 'pagevisitorremarketing',\n",
       " 'photographers',\n",
       " 'websiteremarketing',\n",
       " 'sqllal',\n",
       " 'brokers',\n",
       " 'videoremarketing',\n",
       " 'openedleadforms',\n",
       " 'alllists10',\n",
       " 'openedleadformlal',\n",
       " 'websiteremarketinglal',\n",
       " 'remaxagents',\n",
       " 'videoremarketinglal',\n",
       " '2',\n",
       " 'agentsbrokers',\n",
       " 'mqlsqlps',\n",
       " 're',\n",
       " 'googlestreetviewphotographers',\n",
       " 'sql1025',\n",
       " 'alllists',\n",
       " 'entselfemployeddrivers',\n",
       " 'submittedleadform',\n",
       " 'peoplewholikemppage',\n",
       " 'camerasalelal',\n",
       " 'sdr',\n",
       " 'pro2literemarketing',\n",
       " 'nannan',\n",
       " 'sql10']"
      ]
     },
     "execution_count": 168,
     "metadata": {},
     "output_type": "execute_result"
    }
   ],
   "source": [
    "X_testa.target_grouped.value_counts().index.tolist()"
   ]
  },
  {
   "cell_type": "code",
   "execution_count": 171,
   "metadata": {},
   "outputs": [
    {
     "data": {
      "text/plain": [
       "array(['photographers'], dtype='<U29')"
      ]
     },
     "execution_count": 171,
     "metadata": {},
     "output_type": "execute_result"
    }
   ],
   "source": [
    "np.setdiff1d(X_testa.target_grouped.value_counts().index.tolist(),X_test.target_grouped.value_counts().index.tolist())"
   ]
  },
  {
   "cell_type": "markdown",
   "metadata": {},
   "source": [
    "In the X_testa dataframe, we don't have all the variation as we have in the X_test. That creates different number of hotencoder and then different number of columns are generated. As a result, the models don't accept X_testa and they cannot predict any conversion rates."
   ]
  },
  {
   "cell_type": "code",
   "execution_count": 140,
   "metadata": {},
   "outputs": [],
   "source": [
    "dummies = pd.DataFrame(list(range(1,53)), columns = ['week_num'])\n",
    "dummies['month'] = (list(range(1,13))*4) + [1,2,3,4]\n",
    "dummies['year'] = 2018\n",
    "dummies['target_grouped'] = list(X_test.target_grouped.value_counts().index)+list(X_test.target_grouped.value_counts().index)[:23]"
   ]
  },
  {
   "cell_type": "code",
   "execution_count": 141,
   "metadata": {},
   "outputs": [],
   "source": [
    "dummies = dummies[['year','month','week_num']]\n",
    "dummies['day_of_week'] = 'Tues'\n",
    "dummies['age'] = '18-24'\n",
    "dummies['topic'] = 'RRE'\n",
    "dummies['target_grouped'] = list(X_test.target_grouped.value_counts().index)+list(X_test.target_grouped.value_counts().index)[:23]\n",
    "dummies['location'] = 'US'\n",
    "dummies['amount_spent_usd'] = 100\n",
    "dummies = dummies.set_value(1,'day_of_week', 'Weds')"
   ]
  },
  {
   "cell_type": "code",
   "execution_count": 142,
   "metadata": {},
   "outputs": [
    {
     "data": {
      "text/html": [
       "<div>\n",
       "<style scoped>\n",
       "    .dataframe tbody tr th:only-of-type {\n",
       "        vertical-align: middle;\n",
       "    }\n",
       "\n",
       "    .dataframe tbody tr th {\n",
       "        vertical-align: top;\n",
       "    }\n",
       "\n",
       "    .dataframe thead th {\n",
       "        text-align: right;\n",
       "    }\n",
       "</style>\n",
       "<table border=\"1\" class=\"dataframe\">\n",
       "  <thead>\n",
       "    <tr style=\"text-align: right;\">\n",
       "      <th></th>\n",
       "      <th>year</th>\n",
       "      <th>month</th>\n",
       "      <th>week_num</th>\n",
       "      <th>day_of_week</th>\n",
       "      <th>age</th>\n",
       "      <th>topic</th>\n",
       "      <th>target_grouped</th>\n",
       "      <th>location</th>\n",
       "      <th>amount_spent_usd</th>\n",
       "    </tr>\n",
       "  </thead>\n",
       "  <tbody>\n",
       "    <tr>\n",
       "      <th>0</th>\n",
       "      <td>2018</td>\n",
       "      <td>1</td>\n",
       "      <td>1</td>\n",
       "      <td>Tues</td>\n",
       "      <td>18-24</td>\n",
       "      <td>RRE</td>\n",
       "      <td>websiteremarketing</td>\n",
       "      <td>US</td>\n",
       "      <td>100</td>\n",
       "    </tr>\n",
       "    <tr>\n",
       "      <th>1</th>\n",
       "      <td>2018</td>\n",
       "      <td>2</td>\n",
       "      <td>2</td>\n",
       "      <td>Weds</td>\n",
       "      <td>18-24</td>\n",
       "      <td>RRE</td>\n",
       "      <td>videoremarketinglal</td>\n",
       "      <td>US</td>\n",
       "      <td>100</td>\n",
       "    </tr>\n",
       "    <tr>\n",
       "      <th>2</th>\n",
       "      <td>2018</td>\n",
       "      <td>3</td>\n",
       "      <td>3</td>\n",
       "      <td>Tues</td>\n",
       "      <td>18-24</td>\n",
       "      <td>RRE</td>\n",
       "      <td>openedleadformlal</td>\n",
       "      <td>US</td>\n",
       "      <td>100</td>\n",
       "    </tr>\n",
       "    <tr>\n",
       "      <th>3</th>\n",
       "      <td>2018</td>\n",
       "      <td>4</td>\n",
       "      <td>4</td>\n",
       "      <td>Tues</td>\n",
       "      <td>18-24</td>\n",
       "      <td>RRE</td>\n",
       "      <td>evergreen</td>\n",
       "      <td>US</td>\n",
       "      <td>100</td>\n",
       "    </tr>\n",
       "    <tr>\n",
       "      <th>4</th>\n",
       "      <td>2018</td>\n",
       "      <td>5</td>\n",
       "      <td>5</td>\n",
       "      <td>Tues</td>\n",
       "      <td>18-24</td>\n",
       "      <td>RRE</td>\n",
       "      <td>agentsbrokers</td>\n",
       "      <td>US</td>\n",
       "      <td>100</td>\n",
       "    </tr>\n",
       "  </tbody>\n",
       "</table>\n",
       "</div>"
      ],
      "text/plain": [
       "   year  month  week_num day_of_week    age topic       target_grouped  \\\n",
       "0  2018      1         1        Tues  18-24   RRE   websiteremarketing   \n",
       "1  2018      2         2        Weds  18-24   RRE  videoremarketinglal   \n",
       "2  2018      3         3        Tues  18-24   RRE    openedleadformlal   \n",
       "3  2018      4         4        Tues  18-24   RRE            evergreen   \n",
       "4  2018      5         5        Tues  18-24   RRE        agentsbrokers   \n",
       "\n",
       "  location  amount_spent_usd  \n",
       "0       US               100  \n",
       "1       US               100  \n",
       "2       US               100  \n",
       "3       US               100  \n",
       "4       US               100  "
      ]
     },
     "execution_count": 142,
     "metadata": {},
     "output_type": "execute_result"
    }
   ],
   "source": [
    "dummies.head()"
   ]
  },
  {
   "cell_type": "code",
   "execution_count": 143,
   "metadata": {},
   "outputs": [
    {
     "data": {
      "text/plain": [
       "(52, 9)"
      ]
     },
     "execution_count": 143,
     "metadata": {},
     "output_type": "execute_result"
    }
   ],
   "source": [
    "dummies.shape"
   ]
  },
  {
   "cell_type": "code",
   "execution_count": 144,
   "metadata": {},
   "outputs": [],
   "source": [
    "X_testa = pd.concat([X_testa,dummies], axis = 0)"
   ]
  },
  {
   "cell_type": "code",
   "execution_count": 145,
   "metadata": {},
   "outputs": [],
   "source": [
    "num_attribs = list(X_train_num)\n",
    "cat_attribs = list(X_train_catg)\n",
    "num_pipeline = Pipeline([('selector',DataFrameSelector(num_attribs)), \n",
    "                         ('std_scaler', StandardScaler()),]) \n",
    "\n",
    "cat_pipeline = Pipeline([('selector', DataFrameSelector(cat_attribs)),\n",
    "                          ('onehot', OneHotEncoder()),]) \n",
    "\n",
    "full_pipeline = FeatureUnion (transformer_list = [(\"num_pipeline\", num_pipeline ),\n",
    "                                                  (\"cat_pipeline\", cat_pipeline ),]) \n"
   ]
  },
  {
   "cell_type": "code",
   "execution_count": 146,
   "metadata": {},
   "outputs": [
    {
     "data": {
      "text/plain": [
       "['amount_spent_usd']"
      ]
     },
     "execution_count": 146,
     "metadata": {},
     "output_type": "execute_result"
    }
   ],
   "source": [
    "num_attribs"
   ]
  },
  {
   "cell_type": "code",
   "execution_count": 147,
   "metadata": {},
   "outputs": [],
   "source": [
    "train_X= full_pipeline.fit_transform(X_train) \n",
    "# train_y=onehot.fit_transform(y_train)\n",
    "test_X=full_pipeline.fit_transform(X_test)"
   ]
  },
  {
   "cell_type": "code",
   "execution_count": 148,
   "metadata": {},
   "outputs": [
    {
     "data": {
      "text/plain": [
       "Index(['year', 'month', 'week_num', 'day_of_week', 'age', 'topic',\n",
       "       'target_grouped', 'location', 'amount_spent_usd'],\n",
       "      dtype='object')"
      ]
     },
     "execution_count": 148,
     "metadata": {},
     "output_type": "execute_result"
    }
   ],
   "source": [
    "X_testa.columns"
   ]
  },
  {
   "cell_type": "code",
   "execution_count": 149,
   "metadata": {},
   "outputs": [],
   "source": [
    "# First week of August\n",
    "testa_X=full_pipeline.fit_transform(X_testa)"
   ]
  },
  {
   "cell_type": "code",
   "execution_count": 150,
   "metadata": {},
   "outputs": [
    {
     "data": {
      "text/plain": [
       "<5218x112 sparse matrix of type '<class 'numpy.float64'>'\n",
       "\twith 46962 stored elements in Compressed Sparse Row format>"
      ]
     },
     "execution_count": 150,
     "metadata": {},
     "output_type": "execute_result"
    }
   ],
   "source": [
    "test_X"
   ]
  },
  {
   "cell_type": "code",
   "execution_count": 151,
   "metadata": {},
   "outputs": [
    {
     "data": {
      "text/plain": [
       "<330388x113 sparse matrix of type '<class 'numpy.float64'>'\n",
       "\twith 2973492 stored elements in Compressed Sparse Row format>"
      ]
     },
     "execution_count": 151,
     "metadata": {},
     "output_type": "execute_result"
    }
   ],
   "source": [
    "testa_X"
   ]
  },
  {
   "cell_type": "code",
   "execution_count": 152,
   "metadata": {},
   "outputs": [
    {
     "data": {
      "text/plain": [
       "<12174x112 sparse matrix of type '<class 'numpy.float64'>'\n",
       "\twith 109566 stored elements in Compressed Sparse Row format>"
      ]
     },
     "execution_count": 152,
     "metadata": {},
     "output_type": "execute_result"
    }
   ],
   "source": [
    "train_X"
   ]
  },
  {
   "cell_type": "code",
   "execution_count": 153,
   "metadata": {},
   "outputs": [
    {
     "data": {
      "text/plain": [
       "(12174, 112)"
      ]
     },
     "execution_count": 153,
     "metadata": {},
     "output_type": "execute_result"
    }
   ],
   "source": [
    "train_X.shape"
   ]
  },
  {
   "cell_type": "code",
   "execution_count": 154,
   "metadata": {},
   "outputs": [
    {
     "data": {
      "text/plain": [
       "(330388, 113)"
      ]
     },
     "execution_count": 154,
     "metadata": {},
     "output_type": "execute_result"
    }
   ],
   "source": [
    "testa_X.shape"
   ]
  },
  {
   "cell_type": "code",
   "execution_count": 151,
   "metadata": {},
   "outputs": [
    {
     "data": {
      "text/plain": [
       "0"
      ]
     },
     "execution_count": 151,
     "metadata": {},
     "output_type": "execute_result"
    }
   ],
   "source": [
    "# Amount of null in our sparse matrix\n",
    "pd.DataFrame(testa_X.toarray()).isnull().sum().sum()"
   ]
  },
  {
   "cell_type": "code",
   "execution_count": 152,
   "metadata": {},
   "outputs": [],
   "source": [
    "softmax_reg = LogisticRegression(multi_class = \"multinomial\", solver = \"lbfgs\" ,penalty='l2',tol=1e-16,\n",
    "                                class_weight='balanced', \n",
    "                                 C = 10,max_iter=100000 ) \n",
    "softmax_reg=softmax_reg.fit(train_X,y_train) \n",
    "y_pred_softmax = softmax_reg.predict(test_X)  "
   ]
  },
  {
   "cell_type": "code",
   "execution_count": 153,
   "metadata": {},
   "outputs": [],
   "source": [
    "y_preda_softmax = softmax_reg.predict(testa_X)"
   ]
  },
  {
   "cell_type": "code",
   "execution_count": 154,
   "metadata": {},
   "outputs": [
    {
     "data": {
      "text/plain": [
       "btw 0 and 2 conversions     8738\n",
       "btw 3 and 6 conversions     1207\n",
       "btw 7 and 12 conversions     907\n",
       "dtype: int64"
      ]
     },
     "execution_count": 154,
     "metadata": {},
     "output_type": "execute_result"
    }
   ],
   "source": [
    "pd.Series(y_preda_softmax).value_counts()"
   ]
  },
  {
   "cell_type": "code",
   "execution_count": 155,
   "metadata": {},
   "outputs": [
    {
     "data": {
      "text/plain": [
       "array([0.70541958, 0.6791958 , 0.69816273, 0.67454068, 0.70753065,\n",
       "       0.71278459, 0.69789842, 0.70990359, 0.70614035, 0.69912281])"
      ]
     },
     "execution_count": 155,
     "metadata": {},
     "output_type": "execute_result"
    }
   ],
   "source": [
    "cross_val_score(softmax_reg,train_X, y_train, cv=10, scoring=\"accuracy\")"
   ]
  },
  {
   "cell_type": "code",
   "execution_count": 156,
   "metadata": {},
   "outputs": [
    {
     "name": "stdout",
     "output_type": "stream",
     "text": [
      "Precision (weighted): 0.801023\n",
      "Recall (weighted):    0.687640\n",
      "F1 score (weighted):  0.730798\n"
     ]
    }
   ],
   "source": [
    "print(\"Precision (weighted): %f\" % precision_score(y_test, y_pred_softmax, average='weighted'))\n",
    "print(\"Recall (weighted):    %f\" % recall_score(y_test, y_pred_softmax, average='weighted'))\n",
    "print(\"F1 score (weighted):  %f\" % f1_score(y_test,y_pred_softmax, average='weighted'))"
   ]
  },
  {
   "cell_type": "code",
   "execution_count": 157,
   "metadata": {},
   "outputs": [
    {
     "name": "stdout",
     "output_type": "stream",
     "text": [
      "Precision (micro): 0.687640\n",
      "Recall (micro):    0.687640\n",
      "F1 score (micro):  0.687640\n"
     ]
    }
   ],
   "source": [
    "print(\"Precision (micro): %f\" % precision_score(y_test, y_pred_softmax, average='micro'))\n",
    "print(\"Recall (micro):    %f\" % recall_score(y_test, y_pred_softmax, average='micro'))\n",
    "print(\"F1 score (micro):  %f\" % f1_score(y_test,y_pred_softmax, average='micro'))"
   ]
  },
  {
   "cell_type": "code",
   "execution_count": 158,
   "metadata": {},
   "outputs": [],
   "source": [
    "label=np.unique(y_train)"
   ]
  },
  {
   "cell_type": "markdown",
   "metadata": {},
   "source": [
    "### How to interpret the below graph?"
   ]
  },
  {
   "cell_type": "code",
   "execution_count": 159,
   "metadata": {},
   "outputs": [
    {
     "name": "stdout",
     "output_type": "stream",
     "text": [
      "                          precision    recall  f1-score   support\n",
      "\n",
      " btw 0 and 2 conversions       0.94      0.75      0.83      3832\n",
      " btw 3 and 6 conversions       0.33      0.49      0.39       835\n",
      "btw 7 and 12 conversions       0.20      0.41      0.27       199\n",
      "more than 12 conversions       0.06      0.41      0.10        29\n",
      "\n",
      "                accuracy                           0.69      4895\n",
      "               macro avg       0.38      0.52      0.40      4895\n",
      "            weighted avg       0.80      0.69      0.73      4895\n",
      "\n"
     ]
    }
   ],
   "source": [
    "print (metrics.classification_report(y_test,y_pred_softmax, target_names=label))"
   ]
  },
  {
   "cell_type": "code",
   "execution_count": 160,
   "metadata": {},
   "outputs": [],
   "source": [
    "def plot_confusion_matrix(cm, classes,\n",
    "                          normalize=False,\n",
    "                          title='Confusion matrix',\n",
    "                          cmap=plt.cm.Blues):\n",
    "    \"\"\"\n",
    "    This function prints and plots the confusion matrix.\n",
    "    Normalization can be applied by setting `normalize=True`.\n",
    "    \"\"\"\n",
    "    if normalize:\n",
    "        cm = cm.astype('float') / cm.sum(axis=1)[:, np.newaxis]\n",
    "        print(\"Normalized confusion matrix\")\n",
    "    else:\n",
    "        print('Confusion matrix, without normalization')\n",
    "\n",
    "    print(cm)\n",
    "\n",
    "    plt.imshow(cm, interpolation='nearest', cmap=cmap)\n",
    "    plt.title(title)\n",
    "    plt.colorbar()\n",
    "    tick_marks = np.arange(len(classes))\n",
    "    plt.xticks(tick_marks, classes, rotation=90)\n",
    "    plt.yticks(tick_marks, classes)\n",
    "\n",
    "    fmt = '.2f' if normalize else 'd'\n",
    "    thresh = cm.max() / 2.\n",
    "    for i, j in product(range(cm.shape[0]), range(cm.shape[1])):\n",
    "        plt.text(j, i, format(cm[i, j], fmt),\n",
    "                 horizontalalignment=\"center\",\n",
    "                 color=\"white\" if cm[i, j] > thresh else \"black\")\n",
    "\n",
    "    plt.ylabel('True label')\n",
    "    plt.xlabel('Predicted label')\n",
    "    plt.tight_layout()"
   ]
  },
  {
   "cell_type": "code",
   "execution_count": 161,
   "metadata": {},
   "outputs": [
    {
     "data": {
      "text/plain": [
       "array(['btw 0 and 2 conversions', 'btw 3 and 6 conversions',\n",
       "       'btw 7 and 12 conversions', 'more than 12 conversions'],\n",
       "      dtype=object)"
      ]
     },
     "execution_count": 161,
     "metadata": {},
     "output_type": "execute_result"
    }
   ],
   "source": [
    "label"
   ]
  },
  {
   "cell_type": "code",
   "execution_count": 162,
   "metadata": {},
   "outputs": [
    {
     "name": "stdout",
     "output_type": "stream",
     "text": [
      "Confusion matrix, without normalization\n",
      "[[2863  776  133   60]\n",
      " [ 168  409  176   82]\n",
      " [  13   50   82   54]\n",
      " [   1    2   14   12]]\n"
     ]
    },
    {
     "data": {
      "image/png": "[encoded data removed]",
      "text/plain": [
       "<Figure size 576x576 with 2 Axes>"
      ]
     },
     "metadata": {},
     "output_type": "display_data"
    }
   ],
   "source": [
    "cnf_matrix = confusion_matrix(y_test, y_pred_softmax,labels=label)\n",
    "np.set_printoptions(precision=2)\n",
    "\n",
    "# Plot non-normalized confusion matrix\n",
    "plt.figure(figsize=(8,8))\n",
    "plot_confusion_matrix(cnf_matrix, classes=label,\n",
    "                      title='Confusion matrix, without normalization')"
   ]
  },
  {
   "cell_type": "code",
   "execution_count": 163,
   "metadata": {},
   "outputs": [],
   "source": [
    "clf = RandomForestClassifier(n_estimators = 50, max_leaf_nodes = 16 , n_jobs =-1)\n",
    "\n",
    "param_grid = {\n",
    "    'min_samples_split': [3, 5, 10], \n",
    "    'n_estimators' : [100, 300],\n",
    "    'max_depth': [3, 5, 15, 25],\n",
    "    'max_features': [3, 5, 10, 20,40,50]\n",
    "}\n",
    "\n",
    "scorers = {\n",
    "    'precision_score': make_scorer(precision_score,average='micro'),\n",
    "    'recall_score': make_scorer(recall_score,average='micro')\n",
    "}"
   ]
  },
  {
   "cell_type": "code",
   "execution_count": 164,
   "metadata": {},
   "outputs": [
    {
     "data": {
      "text/plain": [
       "GridSearchCV(cv=StratifiedKFold(n_splits=10, random_state=None, shuffle=False),\n",
       "             error_score='raise-deprecating',\n",
       "             estimator=RandomForestClassifier(bootstrap=True, class_weight=None,\n",
       "                                              criterion='gini', max_depth=None,\n",
       "                                              max_features='auto',\n",
       "                                              max_leaf_nodes=16,\n",
       "                                              min_impurity_decrease=0.0,\n",
       "                                              min_impurity_split=None,\n",
       "                                              min_samples_leaf=1,\n",
       "                                              min_samples_split=2,\n",
       "                                              min_weight_fract...\n",
       "             iid='warn', n_jobs=-1,\n",
       "             param_grid={'max_depth': [3, 5, 15, 25],\n",
       "                         'max_features': [3, 5, 10, 20, 40, 50],\n",
       "                         'min_samples_split': [3, 5, 10],\n",
       "                         'n_estimators': [100, 300]},\n",
       "             pre_dispatch='2*n_jobs', refit='precision_score',\n",
       "             return_train_score=True,\n",
       "             scoring={'precision_score': make_scorer(precision_score, average=micro),\n",
       "                      'recall_score': make_scorer(recall_score, average=micro)},\n",
       "             verbose=0)"
      ]
     },
     "execution_count": 164,
     "metadata": {},
     "output_type": "execute_result"
    }
   ],
   "source": [
    "refit_score='precision_score'\n",
    "    #\"\"\"\n",
    "    #fits a GridSearchCV classifier using refit_score for optimization\n",
    "    #prints classifier performance metrics\n",
    "    #\"\"\"\n",
    "skf = StratifiedKFold(n_splits=10)\n",
    "grid_search = GridSearchCV(clf, param_grid, scoring=scorers, refit=refit_score,\n",
    "                           cv=skf, return_train_score=True, n_jobs=-1)\n",
    "grid_search.fit(train_X, y_train)"
   ]
  },
  {
   "cell_type": "code",
   "execution_count": 165,
   "metadata": {},
   "outputs": [
    {
     "name": "stdout",
     "output_type": "stream",
     "text": [
      "Best params for precision_score\n",
      "{'max_depth': 15, 'max_features': 50, 'min_samples_split': 5, 'n_estimators': 100}\n",
      "\n",
      "Confusion matrix of Random Forest optimized for precision_score on the test data:\n"
     ]
    }
   ],
   "source": [
    "    # make the predictions\n",
    "y_pred = grid_search.predict(test_X)\n",
    "y_preda = grid_search.predict(testa_X)\n",
    "\n",
    "print('Best params for {}'.format(refit_score))\n",
    "print(grid_search.best_params_)\n",
    "\n",
    "    # confusion matrix on the test data.\n",
    "print('\\nConfusion matrix of Random Forest optimized for {} on the test data:'.format(refit_score))"
   ]
  },
  {
   "cell_type": "code",
   "execution_count": 166,
   "metadata": {},
   "outputs": [],
   "source": [
    "from sklearn.calibration import CalibratedClassifierCV\n",
    "from sklearn import linear_model\n"
   ]
  },
  {
   "cell_type": "markdown",
   "metadata": {},
   "source": [
    "### What is the difference between the Lg_mult and softmax_reg? OR picking solver as lbfgs and newton-cg?\n",
    "\n",
    "In sklearn explanation, it suggests that lbfgs is recommended for small data-sets and newton-cg for . Both supports L2 regularization.\n",
    "\n",
    ">**Newton’s Method**: *Recall the motivation for gradient descent step at x: we minimize the quadratic function (i.e. Cost Function).\n",
    "Newton’s method uses in a sense a better quadratic function minimisation. A better because it uses the quadratic approximation (i.e. first AND second partial derivatives).\n",
    "You can imagine it as a twisted Gradient Descent with The Hessian (The Hessian is a square matrix of second-order partial derivatives of order nxn).\n",
    "Moreover, the geometric interpretation of Newton's method is that at each iteration one approximates  f(x) by a quadratic function around xn, and then takes a step towards the maximum/minimum of that quadratic function (in higher dimensions, this may also be a saddle point). Note that if f(x) happens to be a quadratic function, then the exact extremum is found in one step.*\n",
    "\n",
    "> Drawbacks:\n",
    "It’s computationally expensive because of The Hessian Matrix (i.e. second partial derivatives calculations).\n",
    "It attracts to Saddle Points which are common in multivariable optimization (i.e. a point its partial derivatives disagree over whether this input should be a maximum or a minimum point!).\n",
    "\n",
    ">**Limited-memory Broyden-Fletcher-Goldfarb-Shanno Algorithm:** *In a nutshell, it is analogue of the Newton’s Method but here the Hessian matrix is approximated using updates specified by gradient evaluations (or approximate gradient evaluations). In other words, using an estimation to the inverse Hessian matrix. \n",
    "The term Limited-memory simply means it stores only a few vectors that represent the approximation implicitly. \n",
    "If I dare say that when dataset is small, L-BFGS relatively performs the best compared to other methods especially it saves a lot of memory, however there are some “serious” drawbacks such that if it is unsafeguarded, it may not converge to anything.*\n",
    "\n",
    "- [https://scikit-learn.org/stable/modules/linear_model.html#logistic-regression](https://scikit-learn.org/stable/modules/linear_model.html#logistic-regression)\n",
    "- [https://stackoverflow.com/questions/38640109/logistic-regression-python-solvers-defintions](https://stackoverflow.com/questions/38640109/logistic-regression-python-solvers-defintions)\n",
    "\n",
    "### There are other solvers that are compatible with multinomial and L2 regularization: sag and saga. Why did we just used two of the solver? These two are faster on large datasets. (We don't need to  run the model fast but it will be bigger at some point.)"
   ]
  },
  {
   "cell_type": "code",
   "execution_count": 167,
   "metadata": {},
   "outputs": [],
   "source": [
    "clf_lg_mult = LogisticRegression(multi_class = 'multinomial',class_weight='balanced',\n",
    "                              C=10, solver = 'newton-cg').fit(train_X, y_train)\n",
    "clf_rf_enpy = RandomForestClassifier(criterion='entropy',max_depth=15, \n",
    "                                 max_features=40,min_samples_split=10, \n",
    "                                 n_estimators=100).fit(train_X, y_train)\n",
    "clf_rf_gini = RandomForestClassifier(criterion='gini',max_depth=15, \n",
    "                                 max_features=40,min_samples_split=10, \n",
    "                                 n_estimators=100).fit(train_X, y_train)\n"
   ]
  },
  {
   "cell_type": "code",
   "execution_count": 168,
   "metadata": {},
   "outputs": [],
   "source": [
    "# Copy pasted here for comparison purposes. Do not uncomment since it has already run before!\n",
    "\n",
    "# softmax_reg = LogisticRegression(multi_class = \"multinomial\", solver = \"lbfgs\" ,penalty='l2',tol=1e-16,\n",
    "#                                 class_weight='balanced', C = 10,max_iter=10000 ) \n",
    "\n",
    "# clf_lg_mult = LogisticRegression(multi_class = 'multinomial', solver = 'newton-cg',class_weight='balanced',\n",
    "#                               C=10)"
   ]
  },
  {
   "cell_type": "code",
   "execution_count": 169,
   "metadata": {},
   "outputs": [],
   "source": [
    "y_pred_rf_enpy= clf_rf_enpy.predict(test_X)\n",
    "probs_rf_enpy=clf_rf_enpy.predict_proba(test_X)\n",
    "y_pred_clf_gini= clf_rf_gini.predict(test_X) \n",
    "probs_rf_gini=clf_rf_gini.predict_proba(test_X)\n",
    "y_pred_lg_mult= clf_lg_mult.predict(test_X)\n",
    "probs_lg_mult=clf_lg_mult.predict_proba(test_X)"
   ]
  },
  {
   "cell_type": "code",
   "execution_count": 170,
   "metadata": {},
   "outputs": [],
   "source": [
    "y_preda_rf_enpy= clf_rf_enpy.predict(testa_X)\n",
    "probsa_rf_enpy=clf_rf_enpy.predict_proba(testa_X)\n",
    "y_preda_clf_gini= clf_rf_gini.predict(testa_X)\n",
    "probsa_rf_gini=clf_rf_gini.predict_proba(testa_X)\n",
    "y_preda_lg_mult= clf_lg_mult.predict(testa_X)\n",
    "probsa_lg_mult=clf_lg_mult.predict_proba(testa_X)"
   ]
  },
  {
   "cell_type": "code",
   "execution_count": 171,
   "metadata": {},
   "outputs": [
    {
     "name": "stdout",
     "output_type": "stream",
     "text": [
      "Confusion matrix, without normalization\n",
      "[[3652  176    4    0]\n",
      " [ 527  275   32    1]\n",
      " [  53  110   35    1]\n",
      " [   2   16    9    2]]\n"
     ]
    },
    {
     "data": {
      "image/png": "[encoded data removed]",
      "text/plain": [
       "<Figure size 432x432 with 2 Axes>"
      ]
     },
     "metadata": {},
     "output_type": "display_data"
    }
   ],
   "source": [
    "cnf_matrix = confusion_matrix(y_test, y_pred_clf_gini,labels=label)\n",
    "np.set_printoptions(precision=2)\n",
    "\n",
    "# Plot non-normalized confusion matrix\n",
    "plt.figure(figsize=(6,6))\n",
    "plot_confusion_matrix(cnf_matrix, classes=label,\n",
    "                      title='Confusion matrix, without normalization')"
   ]
  },
  {
   "cell_type": "code",
   "execution_count": 172,
   "metadata": {},
   "outputs": [
    {
     "name": "stdout",
     "output_type": "stream",
     "text": [
      "Confusion matrix, without normalization\n",
      "[[3652  174    6    0]\n",
      " [ 518  285   31    1]\n",
      " [  58  103   36    2]\n",
      " [   2   16    8    3]]\n"
     ]
    },
    {
     "data": {
      "image/png": "[encoded data removed]",
      "text/plain": [
       "<Figure size 432x432 with 2 Axes>"
      ]
     },
     "metadata": {},
     "output_type": "display_data"
    }
   ],
   "source": [
    "cnf_matrix = confusion_matrix(y_test, y_pred_rf_enpy,labels=label)\n",
    "np.set_printoptions(precision=2)\n",
    "\n",
    "# Plot non-normalized confusion matrix\n",
    "plt.figure(figsize=(6,6))\n",
    "plot_confusion_matrix(cnf_matrix, classes=label,\n",
    "                      title='Confusion matrix, without normalization')"
   ]
  },
  {
   "cell_type": "code",
   "execution_count": 173,
   "metadata": {},
   "outputs": [],
   "source": [
    "y_test_df=pd.DataFrame(y_test)\n"
   ]
  },
  {
   "cell_type": "code",
   "execution_count": 174,
   "metadata": {},
   "outputs": [
    {
     "data": {
      "text/plain": [
       "63966    btw 0 and 2 conversions\n",
       "64722    btw 3 and 6 conversions\n",
       "61359    btw 0 and 2 conversions\n",
       "72877    btw 0 and 2 conversions\n",
       "62935    btw 3 and 6 conversions\n",
       "Name: labels, dtype: object"
      ]
     },
     "execution_count": 174,
     "metadata": {},
     "output_type": "execute_result"
    }
   ],
   "source": [
    "y_test.head()"
   ]
  },
  {
   "cell_type": "code",
   "execution_count": 175,
   "metadata": {},
   "outputs": [],
   "source": [
    "my_list_mult=np.round(np.array(probs_lg_mult),2).tolist()"
   ]
  },
  {
   "cell_type": "code",
   "execution_count": 176,
   "metadata": {},
   "outputs": [],
   "source": [
    "my_lista_mult=np.round(np.array(probsa_lg_mult),2).tolist()"
   ]
  },
  {
   "cell_type": "code",
   "execution_count": 177,
   "metadata": {},
   "outputs": [],
   "source": [
    "my_list_gini=np.round(np.array(probs_rf_gini),2).tolist()\n",
    "y_test_df['pred_rf_gini']=y_pred_clf_gini\n",
    "y_test_df['probs_rf_gini']=my_list_gini"
   ]
  },
  {
   "cell_type": "code",
   "execution_count": 178,
   "metadata": {},
   "outputs": [],
   "source": [
    "my_lista_gini=np.round(np.array(probsa_rf_gini),2).tolist()\n",
    "y_testa_df = pd.DataFrame(y_preda_clf_gini, columns = ['pred_rf_gini'])\n",
    "y_testa_df['probs_rf_gini']=my_lista_gini"
   ]
  },
  {
   "cell_type": "code",
   "execution_count": 179,
   "metadata": {},
   "outputs": [],
   "source": [
    "my_list_enpy=np.round(np.array(probs_rf_enpy),2).tolist()\n",
    "y_test_df['pred_rf_enpy']=y_pred_rf_enpy\n",
    "y_test_df['probs_rf_enpy']=my_list_enpy"
   ]
  },
  {
   "cell_type": "code",
   "execution_count": 180,
   "metadata": {},
   "outputs": [],
   "source": [
    "my_lista_enpy=np.round(np.array(probsa_rf_enpy),2).tolist()\n",
    "y_testa_df['pred_rf_enpy']=y_preda_rf_enpy\n",
    "y_testa_df['probs_rf_enpy']=my_lista_enpy"
   ]
  },
  {
   "cell_type": "code",
   "execution_count": 181,
   "metadata": {},
   "outputs": [],
   "source": [
    "\n",
    "y_test_df['pred_lg_mult']=y_pred_lg_mult\n",
    "y_test_df['probs_lg_mult']=my_list_mult"
   ]
  },
  {
   "cell_type": "code",
   "execution_count": 182,
   "metadata": {},
   "outputs": [],
   "source": [
    "\n",
    "y_testa_df['pred_lg_mult']=y_preda_lg_mult\n",
    "y_testa_df['probs_lg_mult']=my_lista_mult"
   ]
  },
  {
   "cell_type": "code",
   "execution_count": 183,
   "metadata": {},
   "outputs": [],
   "source": [
    "y_pred_softmax = softmax_reg.predict(test_X) \n",
    "probs_softmax = softmax_reg.predict_proba(test_X) \n",
    "my_list_softmax=np.round(np.array(probs_softmax),2).tolist()\n",
    "\n",
    "y_test_df['pred_softmax']=y_pred_softmax\n",
    "y_test_df['probs_lg_softmax']=my_list_softmax\n"
   ]
  },
  {
   "cell_type": "code",
   "execution_count": 184,
   "metadata": {},
   "outputs": [],
   "source": [
    "y_preda_softmax = softmax_reg.predict(testa_X) \n",
    "probsa_softmax = softmax_reg.predict_proba(testa_X) \n",
    "my_lista_softmax=np.round(np.array(probsa_softmax),2).tolist()\n",
    "\n",
    "y_testa_df['pred_softmax']=y_preda_softmax\n",
    "y_testa_df['probs_lg_softmax']=my_lista_softmax\n"
   ]
  },
  {
   "cell_type": "code",
   "execution_count": 185,
   "metadata": {},
   "outputs": [
    {
     "data": {
      "text/html": [
       "<div>\n",
       "<style scoped>\n",
       "    .dataframe tbody tr th:only-of-type {\n",
       "        vertical-align: middle;\n",
       "    }\n",
       "\n",
       "    .dataframe tbody tr th {\n",
       "        vertical-align: top;\n",
       "    }\n",
       "\n",
       "    .dataframe thead th {\n",
       "        text-align: right;\n",
       "    }\n",
       "</style>\n",
       "<table border=\"1\" class=\"dataframe\">\n",
       "  <thead>\n",
       "    <tr style=\"text-align: right;\">\n",
       "      <th></th>\n",
       "      <th>labels</th>\n",
       "      <th>pred_rf_gini</th>\n",
       "      <th>probs_rf_gini</th>\n",
       "      <th>pred_rf_enpy</th>\n",
       "      <th>probs_rf_enpy</th>\n",
       "      <th>pred_lg_mult</th>\n",
       "      <th>probs_lg_mult</th>\n",
       "      <th>pred_softmax</th>\n",
       "      <th>probs_lg_softmax</th>\n",
       "    </tr>\n",
       "  </thead>\n",
       "  <tbody>\n",
       "    <tr>\n",
       "      <th>63966</th>\n",
       "      <td>btw 0 and 2 conversions</td>\n",
       "      <td>btw 0 and 2 conversions</td>\n",
       "      <td>[0.99, 0.01, 0.0, 0.0]</td>\n",
       "      <td>btw 0 and 2 conversions</td>\n",
       "      <td>[1.0, 0.0, 0.0, 0.0]</td>\n",
       "      <td>btw 0 and 2 conversions</td>\n",
       "      <td>[0.95, 0.04, 0.01, 0.0]</td>\n",
       "      <td>btw 0 and 2 conversions</td>\n",
       "      <td>[0.95, 0.04, 0.01, 0.0]</td>\n",
       "    </tr>\n",
       "    <tr>\n",
       "      <th>64722</th>\n",
       "      <td>btw 3 and 6 conversions</td>\n",
       "      <td>btw 0 and 2 conversions</td>\n",
       "      <td>[0.45, 0.41, 0.13, 0.01]</td>\n",
       "      <td>btw 0 and 2 conversions</td>\n",
       "      <td>[0.43, 0.38, 0.17, 0.01]</td>\n",
       "      <td>btw 3 and 6 conversions</td>\n",
       "      <td>[0.13, 0.56, 0.3, 0.0]</td>\n",
       "      <td>btw 3 and 6 conversions</td>\n",
       "      <td>[0.13, 0.56, 0.3, 0.0]</td>\n",
       "    </tr>\n",
       "  </tbody>\n",
       "</table>\n",
       "</div>"
      ],
      "text/plain": [
       "                        labels             pred_rf_gini  \\\n",
       "63966  btw 0 and 2 conversions  btw 0 and 2 conversions   \n",
       "64722  btw 3 and 6 conversions  btw 0 and 2 conversions   \n",
       "\n",
       "                  probs_rf_gini             pred_rf_enpy  \\\n",
       "63966    [0.99, 0.01, 0.0, 0.0]  btw 0 and 2 conversions   \n",
       "64722  [0.45, 0.41, 0.13, 0.01]  btw 0 and 2 conversions   \n",
       "\n",
       "                  probs_rf_enpy             pred_lg_mult  \\\n",
       "63966      [1.0, 0.0, 0.0, 0.0]  btw 0 and 2 conversions   \n",
       "64722  [0.43, 0.38, 0.17, 0.01]  btw 3 and 6 conversions   \n",
       "\n",
       "                 probs_lg_mult             pred_softmax  \\\n",
       "63966  [0.95, 0.04, 0.01, 0.0]  btw 0 and 2 conversions   \n",
       "64722   [0.13, 0.56, 0.3, 0.0]  btw 3 and 6 conversions   \n",
       "\n",
       "              probs_lg_softmax  \n",
       "63966  [0.95, 0.04, 0.01, 0.0]  \n",
       "64722   [0.13, 0.56, 0.3, 0.0]  "
      ]
     },
     "execution_count": 185,
     "metadata": {},
     "output_type": "execute_result"
    }
   ],
   "source": [
    "y_test_df.head(2)"
   ]
  },
  {
   "cell_type": "code",
   "execution_count": 186,
   "metadata": {},
   "outputs": [
    {
     "data": {
      "text/html": [
       "<div>\n",
       "<style scoped>\n",
       "    .dataframe tbody tr th:only-of-type {\n",
       "        vertical-align: middle;\n",
       "    }\n",
       "\n",
       "    .dataframe tbody tr th {\n",
       "        vertical-align: top;\n",
       "    }\n",
       "\n",
       "    .dataframe thead th {\n",
       "        text-align: right;\n",
       "    }\n",
       "</style>\n",
       "<table border=\"1\" class=\"dataframe\">\n",
       "  <thead>\n",
       "    <tr style=\"text-align: right;\">\n",
       "      <th></th>\n",
       "      <th>pred_rf_gini</th>\n",
       "      <th>probs_rf_gini</th>\n",
       "      <th>pred_rf_enpy</th>\n",
       "      <th>probs_rf_enpy</th>\n",
       "      <th>pred_lg_mult</th>\n",
       "      <th>probs_lg_mult</th>\n",
       "      <th>pred_softmax</th>\n",
       "      <th>probs_lg_softmax</th>\n",
       "    </tr>\n",
       "  </thead>\n",
       "  <tbody>\n",
       "    <tr>\n",
       "      <th>0</th>\n",
       "      <td>btw 0 and 2 conversions</td>\n",
       "      <td>[0.99, 0.0, 0.0, 0.0]</td>\n",
       "      <td>btw 0 and 2 conversions</td>\n",
       "      <td>[1.0, 0.0, 0.0, 0.0]</td>\n",
       "      <td>btw 0 and 2 conversions</td>\n",
       "      <td>[1.0, 0.0, 0.0, 0.0]</td>\n",
       "      <td>btw 0 and 2 conversions</td>\n",
       "      <td>[1.0, 0.0, 0.0, 0.0]</td>\n",
       "    </tr>\n",
       "    <tr>\n",
       "      <th>1</th>\n",
       "      <td>btw 0 and 2 conversions</td>\n",
       "      <td>[1.0, 0.0, 0.0, 0.0]</td>\n",
       "      <td>btw 0 and 2 conversions</td>\n",
       "      <td>[1.0, 0.0, 0.0, 0.0]</td>\n",
       "      <td>btw 0 and 2 conversions</td>\n",
       "      <td>[1.0, 0.0, 0.0, 0.0]</td>\n",
       "      <td>btw 0 and 2 conversions</td>\n",
       "      <td>[1.0, 0.0, 0.0, 0.0]</td>\n",
       "    </tr>\n",
       "  </tbody>\n",
       "</table>\n",
       "</div>"
      ],
      "text/plain": [
       "              pred_rf_gini          probs_rf_gini             pred_rf_enpy  \\\n",
       "0  btw 0 and 2 conversions  [0.99, 0.0, 0.0, 0.0]  btw 0 and 2 conversions   \n",
       "1  btw 0 and 2 conversions   [1.0, 0.0, 0.0, 0.0]  btw 0 and 2 conversions   \n",
       "\n",
       "          probs_rf_enpy             pred_lg_mult         probs_lg_mult  \\\n",
       "0  [1.0, 0.0, 0.0, 0.0]  btw 0 and 2 conversions  [1.0, 0.0, 0.0, 0.0]   \n",
       "1  [1.0, 0.0, 0.0, 0.0]  btw 0 and 2 conversions  [1.0, 0.0, 0.0, 0.0]   \n",
       "\n",
       "              pred_softmax      probs_lg_softmax  \n",
       "0  btw 0 and 2 conversions  [1.0, 0.0, 0.0, 0.0]  \n",
       "1  btw 0 and 2 conversions  [1.0, 0.0, 0.0, 0.0]  "
      ]
     },
     "execution_count": 186,
     "metadata": {},
     "output_type": "execute_result"
    }
   ],
   "source": [
    "y_testa_df.head(2)"
   ]
  },
  {
   "cell_type": "code",
   "execution_count": 187,
   "metadata": {
    "scrolled": true
   },
   "outputs": [],
   "source": [
    "X_testa.reset_index(drop = True, inplace = True)"
   ]
  },
  {
   "cell_type": "code",
   "execution_count": 188,
   "metadata": {},
   "outputs": [],
   "source": [
    "df_test = pd.merge(X_test,y_test_df,how = 'left',left_index = True, right_index = True)"
   ]
  },
  {
   "cell_type": "code",
   "execution_count": 189,
   "metadata": {},
   "outputs": [],
   "source": [
    "df_testa = pd.merge(X_testa.reset_index(drop = True),y_testa_df,how = 'left',left_index = True, right_index = True)"
   ]
  },
  {
   "cell_type": "code",
   "execution_count": 190,
   "metadata": {},
   "outputs": [
    {
     "data": {
      "text/plain": [
       "(10852, 9)"
      ]
     },
     "execution_count": 190,
     "metadata": {},
     "output_type": "execute_result"
    }
   ],
   "source": [
    "X_testa.shape"
   ]
  },
  {
   "cell_type": "code",
   "execution_count": 191,
   "metadata": {},
   "outputs": [
    {
     "data": {
      "text/plain": [
       "(10852, 8)"
      ]
     },
     "execution_count": 191,
     "metadata": {},
     "output_type": "execute_result"
    }
   ],
   "source": [
    "y_testa_df.shape"
   ]
  },
  {
   "cell_type": "code",
   "execution_count": 192,
   "metadata": {},
   "outputs": [
    {
     "data": {
      "text/plain": [
       "(10852, 17)"
      ]
     },
     "execution_count": 192,
     "metadata": {},
     "output_type": "execute_result"
    }
   ],
   "source": [
    "df_testa.shape"
   ]
  },
  {
   "cell_type": "code",
   "execution_count": 193,
   "metadata": {},
   "outputs": [
    {
     "data": {
      "text/plain": [
       "pred_rf_gini        0\n",
       "probs_rf_gini       0\n",
       "pred_rf_enpy        0\n",
       "probs_rf_enpy       0\n",
       "pred_lg_mult        0\n",
       "probs_lg_mult       0\n",
       "pred_softmax        0\n",
       "probs_lg_softmax    0\n",
       "dtype: int64"
      ]
     },
     "execution_count": 193,
     "metadata": {},
     "output_type": "execute_result"
    }
   ],
   "source": [
    "y_testa_df.isnull().sum()"
   ]
  },
  {
   "cell_type": "code",
   "execution_count": 194,
   "metadata": {},
   "outputs": [
    {
     "data": {
      "text/plain": [
       "year                0\n",
       "month               0\n",
       "week_num            0\n",
       "day_of_week         0\n",
       "age                 0\n",
       "topic               0\n",
       "target_grouped      0\n",
       "location            0\n",
       "amount_spent_usd    0\n",
       "pred_rf_gini        0\n",
       "probs_rf_gini       0\n",
       "pred_rf_enpy        0\n",
       "probs_rf_enpy       0\n",
       "pred_lg_mult        0\n",
       "probs_lg_mult       0\n",
       "pred_softmax        0\n",
       "probs_lg_softmax    0\n",
       "dtype: int64"
      ]
     },
     "execution_count": 194,
     "metadata": {},
     "output_type": "execute_result"
    }
   ],
   "source": [
    "df_testa.isnull().sum()"
   ]
  },
  {
   "cell_type": "code",
   "execution_count": 195,
   "metadata": {},
   "outputs": [
    {
     "data": {
      "text/html": [
       "<div>\n",
       "<style scoped>\n",
       "    .dataframe tbody tr th:only-of-type {\n",
       "        vertical-align: middle;\n",
       "    }\n",
       "\n",
       "    .dataframe tbody tr th {\n",
       "        vertical-align: top;\n",
       "    }\n",
       "\n",
       "    .dataframe thead th {\n",
       "        text-align: right;\n",
       "    }\n",
       "</style>\n",
       "<table border=\"1\" class=\"dataframe\">\n",
       "  <thead>\n",
       "    <tr style=\"text-align: right;\">\n",
       "      <th></th>\n",
       "      <th>year</th>\n",
       "      <th>month</th>\n",
       "      <th>week_num</th>\n",
       "      <th>day_of_week</th>\n",
       "      <th>age</th>\n",
       "      <th>topic</th>\n",
       "      <th>target_grouped</th>\n",
       "      <th>location</th>\n",
       "      <th>amount_spent_usd</th>\n",
       "      <th>labels</th>\n",
       "      <th>pred_rf_gini</th>\n",
       "      <th>probs_rf_gini</th>\n",
       "      <th>pred_rf_enpy</th>\n",
       "      <th>probs_rf_enpy</th>\n",
       "      <th>pred_lg_mult</th>\n",
       "      <th>probs_lg_mult</th>\n",
       "      <th>pred_softmax</th>\n",
       "      <th>probs_lg_softmax</th>\n",
       "    </tr>\n",
       "  </thead>\n",
       "  <tbody>\n",
       "    <tr>\n",
       "      <th>63966</th>\n",
       "      <td>2019</td>\n",
       "      <td>6</td>\n",
       "      <td>26</td>\n",
       "      <td>Thurs</td>\n",
       "      <td>45-54</td>\n",
       "      <td>PS</td>\n",
       "      <td>websiteremarketinglal</td>\n",
       "      <td>US</td>\n",
       "      <td>0.340000</td>\n",
       "      <td>btw 0 and 2 conversions</td>\n",
       "      <td>btw 0 and 2 conversions</td>\n",
       "      <td>[0.99, 0.01, 0.0, 0.0]</td>\n",
       "      <td>btw 0 and 2 conversions</td>\n",
       "      <td>[1.0, 0.0, 0.0, 0.0]</td>\n",
       "      <td>btw 0 and 2 conversions</td>\n",
       "      <td>[0.95, 0.04, 0.01, 0.0]</td>\n",
       "      <td>btw 0 and 2 conversions</td>\n",
       "      <td>[0.95, 0.04, 0.01, 0.0]</td>\n",
       "    </tr>\n",
       "    <tr>\n",
       "      <th>64722</th>\n",
       "      <td>2019</td>\n",
       "      <td>1</td>\n",
       "      <td>4</td>\n",
       "      <td>Tues</td>\n",
       "      <td>35-44</td>\n",
       "      <td>PS</td>\n",
       "      <td>googlestreetviewphotographers</td>\n",
       "      <td>US</td>\n",
       "      <td>134.480000</td>\n",
       "      <td>btw 3 and 6 conversions</td>\n",
       "      <td>btw 0 and 2 conversions</td>\n",
       "      <td>[0.45, 0.41, 0.13, 0.01]</td>\n",
       "      <td>btw 0 and 2 conversions</td>\n",
       "      <td>[0.43, 0.38, 0.17, 0.01]</td>\n",
       "      <td>btw 3 and 6 conversions</td>\n",
       "      <td>[0.13, 0.56, 0.3, 0.0]</td>\n",
       "      <td>btw 3 and 6 conversions</td>\n",
       "      <td>[0.13, 0.56, 0.3, 0.0]</td>\n",
       "    </tr>\n",
       "    <tr>\n",
       "      <th>61359</th>\n",
       "      <td>2018</td>\n",
       "      <td>11</td>\n",
       "      <td>45</td>\n",
       "      <td>Sat</td>\n",
       "      <td>18-24</td>\n",
       "      <td>PS</td>\n",
       "      <td>openedleadformlal</td>\n",
       "      <td>US</td>\n",
       "      <td>8.189683</td>\n",
       "      <td>btw 0 and 2 conversions</td>\n",
       "      <td>btw 0 and 2 conversions</td>\n",
       "      <td>[1.0, 0.0, 0.0, 0.0]</td>\n",
       "      <td>btw 0 and 2 conversions</td>\n",
       "      <td>[1.0, 0.0, 0.0, 0.0]</td>\n",
       "      <td>btw 0 and 2 conversions</td>\n",
       "      <td>[0.83, 0.16, 0.0, 0.0]</td>\n",
       "      <td>btw 0 and 2 conversions</td>\n",
       "      <td>[0.83, 0.16, 0.0, 0.0]</td>\n",
       "    </tr>\n",
       "    <tr>\n",
       "      <th>72877</th>\n",
       "      <td>2018</td>\n",
       "      <td>9</td>\n",
       "      <td>38</td>\n",
       "      <td>Sun</td>\n",
       "      <td>35-44</td>\n",
       "      <td>RRE</td>\n",
       "      <td>openedleadformlal</td>\n",
       "      <td>US</td>\n",
       "      <td>54.430000</td>\n",
       "      <td>btw 0 and 2 conversions</td>\n",
       "      <td>btw 0 and 2 conversions</td>\n",
       "      <td>[0.87, 0.12, 0.0, 0.0]</td>\n",
       "      <td>btw 0 and 2 conversions</td>\n",
       "      <td>[0.88, 0.12, 0.0, 0.0]</td>\n",
       "      <td>btw 0 and 2 conversions</td>\n",
       "      <td>[0.56, 0.44, 0.0, 0.0]</td>\n",
       "      <td>btw 0 and 2 conversions</td>\n",
       "      <td>[0.56, 0.44, 0.0, 0.0]</td>\n",
       "    </tr>\n",
       "    <tr>\n",
       "      <th>62935</th>\n",
       "      <td>2019</td>\n",
       "      <td>7</td>\n",
       "      <td>28</td>\n",
       "      <td>Sun</td>\n",
       "      <td>35-44</td>\n",
       "      <td>PS</td>\n",
       "      <td>infographic</td>\n",
       "      <td>US</td>\n",
       "      <td>296.530000</td>\n",
       "      <td>btw 3 and 6 conversions</td>\n",
       "      <td>btw 3 and 6 conversions</td>\n",
       "      <td>[0.17, 0.6, 0.2, 0.02]</td>\n",
       "      <td>btw 3 and 6 conversions</td>\n",
       "      <td>[0.18, 0.58, 0.22, 0.02]</td>\n",
       "      <td>btw 7 and 12 conversions</td>\n",
       "      <td>[0.0, 0.07, 0.93, 0.0]</td>\n",
       "      <td>btw 7 and 12 conversions</td>\n",
       "      <td>[0.0, 0.07, 0.93, 0.0]</td>\n",
       "    </tr>\n",
       "  </tbody>\n",
       "</table>\n",
       "</div>"
      ],
      "text/plain": [
       "       year  month  week_num day_of_week    age topic  \\\n",
       "63966  2019      6        26       Thurs  45-54    PS   \n",
       "64722  2019      1         4        Tues  35-44    PS   \n",
       "61359  2018     11        45         Sat  18-24    PS   \n",
       "72877  2018      9        38         Sun  35-44   RRE   \n",
       "62935  2019      7        28         Sun  35-44    PS   \n",
       "\n",
       "                      target_grouped location  amount_spent_usd  \\\n",
       "63966          websiteremarketinglal       US          0.340000   \n",
       "64722  googlestreetviewphotographers       US        134.480000   \n",
       "61359              openedleadformlal       US          8.189683   \n",
       "72877              openedleadformlal       US         54.430000   \n",
       "62935                    infographic       US        296.530000   \n",
       "\n",
       "                        labels             pred_rf_gini  \\\n",
       "63966  btw 0 and 2 conversions  btw 0 and 2 conversions   \n",
       "64722  btw 3 and 6 conversions  btw 0 and 2 conversions   \n",
       "61359  btw 0 and 2 conversions  btw 0 and 2 conversions   \n",
       "72877  btw 0 and 2 conversions  btw 0 and 2 conversions   \n",
       "62935  btw 3 and 6 conversions  btw 3 and 6 conversions   \n",
       "\n",
       "                  probs_rf_gini             pred_rf_enpy  \\\n",
       "63966    [0.99, 0.01, 0.0, 0.0]  btw 0 and 2 conversions   \n",
       "64722  [0.45, 0.41, 0.13, 0.01]  btw 0 and 2 conversions   \n",
       "61359      [1.0, 0.0, 0.0, 0.0]  btw 0 and 2 conversions   \n",
       "72877    [0.87, 0.12, 0.0, 0.0]  btw 0 and 2 conversions   \n",
       "62935    [0.17, 0.6, 0.2, 0.02]  btw 3 and 6 conversions   \n",
       "\n",
       "                  probs_rf_enpy              pred_lg_mult  \\\n",
       "63966      [1.0, 0.0, 0.0, 0.0]   btw 0 and 2 conversions   \n",
       "64722  [0.43, 0.38, 0.17, 0.01]   btw 3 and 6 conversions   \n",
       "61359      [1.0, 0.0, 0.0, 0.0]   btw 0 and 2 conversions   \n",
       "72877    [0.88, 0.12, 0.0, 0.0]   btw 0 and 2 conversions   \n",
       "62935  [0.18, 0.58, 0.22, 0.02]  btw 7 and 12 conversions   \n",
       "\n",
       "                 probs_lg_mult              pred_softmax  \\\n",
       "63966  [0.95, 0.04, 0.01, 0.0]   btw 0 and 2 conversions   \n",
       "64722   [0.13, 0.56, 0.3, 0.0]   btw 3 and 6 conversions   \n",
       "61359   [0.83, 0.16, 0.0, 0.0]   btw 0 and 2 conversions   \n",
       "72877   [0.56, 0.44, 0.0, 0.0]   btw 0 and 2 conversions   \n",
       "62935   [0.0, 0.07, 0.93, 0.0]  btw 7 and 12 conversions   \n",
       "\n",
       "              probs_lg_softmax  \n",
       "63966  [0.95, 0.04, 0.01, 0.0]  \n",
       "64722   [0.13, 0.56, 0.3, 0.0]  \n",
       "61359   [0.83, 0.16, 0.0, 0.0]  \n",
       "72877   [0.56, 0.44, 0.0, 0.0]  \n",
       "62935   [0.0, 0.07, 0.93, 0.0]  "
      ]
     },
     "execution_count": 195,
     "metadata": {},
     "output_type": "execute_result"
    }
   ],
   "source": [
    "df_test.head()"
   ]
  },
  {
   "cell_type": "code",
   "execution_count": 196,
   "metadata": {},
   "outputs": [
    {
     "data": {
      "text/html": [
       "<div>\n",
       "<style scoped>\n",
       "    .dataframe tbody tr th:only-of-type {\n",
       "        vertical-align: middle;\n",
       "    }\n",
       "\n",
       "    .dataframe tbody tr th {\n",
       "        vertical-align: top;\n",
       "    }\n",
       "\n",
       "    .dataframe thead th {\n",
       "        text-align: right;\n",
       "    }\n",
       "</style>\n",
       "<table border=\"1\" class=\"dataframe\">\n",
       "  <thead>\n",
       "    <tr style=\"text-align: right;\">\n",
       "      <th></th>\n",
       "      <th>year</th>\n",
       "      <th>month</th>\n",
       "      <th>week_num</th>\n",
       "      <th>day_of_week</th>\n",
       "      <th>age</th>\n",
       "      <th>topic</th>\n",
       "      <th>target_grouped</th>\n",
       "      <th>location</th>\n",
       "      <th>amount_spent_usd</th>\n",
       "      <th>pred_rf_gini</th>\n",
       "      <th>probs_rf_gini</th>\n",
       "      <th>pred_rf_enpy</th>\n",
       "      <th>probs_rf_enpy</th>\n",
       "      <th>pred_lg_mult</th>\n",
       "      <th>probs_lg_mult</th>\n",
       "      <th>pred_softmax</th>\n",
       "      <th>probs_lg_softmax</th>\n",
       "    </tr>\n",
       "  </thead>\n",
       "  <tbody>\n",
       "    <tr>\n",
       "      <th>0</th>\n",
       "      <td>2019</td>\n",
       "      <td>8</td>\n",
       "      <td>31</td>\n",
       "      <td>Thurs</td>\n",
       "      <td>18-24</td>\n",
       "      <td>RRE</td>\n",
       "      <td>evergreen</td>\n",
       "      <td>US</td>\n",
       "      <td>10</td>\n",
       "      <td>btw 0 and 2 conversions</td>\n",
       "      <td>[0.99, 0.0, 0.0, 0.0]</td>\n",
       "      <td>btw 0 and 2 conversions</td>\n",
       "      <td>[1.0, 0.0, 0.0, 0.0]</td>\n",
       "      <td>btw 0 and 2 conversions</td>\n",
       "      <td>[1.0, 0.0, 0.0, 0.0]</td>\n",
       "      <td>btw 0 and 2 conversions</td>\n",
       "      <td>[1.0, 0.0, 0.0, 0.0]</td>\n",
       "    </tr>\n",
       "    <tr>\n",
       "      <th>1</th>\n",
       "      <td>2019</td>\n",
       "      <td>8</td>\n",
       "      <td>31</td>\n",
       "      <td>Thurs</td>\n",
       "      <td>18-24</td>\n",
       "      <td>RRE</td>\n",
       "      <td>sqllal</td>\n",
       "      <td>US</td>\n",
       "      <td>10</td>\n",
       "      <td>btw 0 and 2 conversions</td>\n",
       "      <td>[1.0, 0.0, 0.0, 0.0]</td>\n",
       "      <td>btw 0 and 2 conversions</td>\n",
       "      <td>[1.0, 0.0, 0.0, 0.0]</td>\n",
       "      <td>btw 0 and 2 conversions</td>\n",
       "      <td>[1.0, 0.0, 0.0, 0.0]</td>\n",
       "      <td>btw 0 and 2 conversions</td>\n",
       "      <td>[1.0, 0.0, 0.0, 0.0]</td>\n",
       "    </tr>\n",
       "    <tr>\n",
       "      <th>2</th>\n",
       "      <td>2019</td>\n",
       "      <td>8</td>\n",
       "      <td>31</td>\n",
       "      <td>Thurs</td>\n",
       "      <td>18-24</td>\n",
       "      <td>RRE</td>\n",
       "      <td>pagevisitorremarketing</td>\n",
       "      <td>US</td>\n",
       "      <td>10</td>\n",
       "      <td>btw 0 and 2 conversions</td>\n",
       "      <td>[1.0, 0.0, 0.0, 0.0]</td>\n",
       "      <td>btw 0 and 2 conversions</td>\n",
       "      <td>[1.0, 0.0, 0.0, 0.0]</td>\n",
       "      <td>btw 0 and 2 conversions</td>\n",
       "      <td>[1.0, 0.0, 0.0, 0.0]</td>\n",
       "      <td>btw 0 and 2 conversions</td>\n",
       "      <td>[1.0, 0.0, 0.0, 0.0]</td>\n",
       "    </tr>\n",
       "    <tr>\n",
       "      <th>3</th>\n",
       "      <td>2019</td>\n",
       "      <td>8</td>\n",
       "      <td>31</td>\n",
       "      <td>Thurs</td>\n",
       "      <td>18-24</td>\n",
       "      <td>PS</td>\n",
       "      <td>evergreen</td>\n",
       "      <td>US</td>\n",
       "      <td>10</td>\n",
       "      <td>btw 0 and 2 conversions</td>\n",
       "      <td>[0.99, 0.0, 0.0, 0.0]</td>\n",
       "      <td>btw 0 and 2 conversions</td>\n",
       "      <td>[0.99, 0.0, 0.01, 0.0]</td>\n",
       "      <td>btw 0 and 2 conversions</td>\n",
       "      <td>[0.99, 0.01, 0.0, 0.0]</td>\n",
       "      <td>btw 0 and 2 conversions</td>\n",
       "      <td>[0.99, 0.01, 0.0, 0.0]</td>\n",
       "    </tr>\n",
       "    <tr>\n",
       "      <th>4</th>\n",
       "      <td>2019</td>\n",
       "      <td>8</td>\n",
       "      <td>31</td>\n",
       "      <td>Thurs</td>\n",
       "      <td>18-24</td>\n",
       "      <td>PS</td>\n",
       "      <td>entphotographyentrepreneur</td>\n",
       "      <td>US</td>\n",
       "      <td>10</td>\n",
       "      <td>btw 0 and 2 conversions</td>\n",
       "      <td>[1.0, 0.0, 0.0, 0.0]</td>\n",
       "      <td>btw 0 and 2 conversions</td>\n",
       "      <td>[1.0, 0.0, 0.0, 0.0]</td>\n",
       "      <td>btw 0 and 2 conversions</td>\n",
       "      <td>[0.99, 0.01, 0.0, 0.0]</td>\n",
       "      <td>btw 0 and 2 conversions</td>\n",
       "      <td>[0.99, 0.01, 0.0, 0.0]</td>\n",
       "    </tr>\n",
       "  </tbody>\n",
       "</table>\n",
       "</div>"
      ],
      "text/plain": [
       "   year  month  week_num day_of_week    age topic              target_grouped  \\\n",
       "0  2019      8        31       Thurs  18-24   RRE                   evergreen   \n",
       "1  2019      8        31       Thurs  18-24   RRE                      sqllal   \n",
       "2  2019      8        31       Thurs  18-24   RRE      pagevisitorremarketing   \n",
       "3  2019      8        31       Thurs  18-24    PS                   evergreen   \n",
       "4  2019      8        31       Thurs  18-24    PS  entphotographyentrepreneur   \n",
       "\n",
       "  location  amount_spent_usd             pred_rf_gini          probs_rf_gini  \\\n",
       "0       US                10  btw 0 and 2 conversions  [0.99, 0.0, 0.0, 0.0]   \n",
       "1       US                10  btw 0 and 2 conversions   [1.0, 0.0, 0.0, 0.0]   \n",
       "2       US                10  btw 0 and 2 conversions   [1.0, 0.0, 0.0, 0.0]   \n",
       "3       US                10  btw 0 and 2 conversions  [0.99, 0.0, 0.0, 0.0]   \n",
       "4       US                10  btw 0 and 2 conversions   [1.0, 0.0, 0.0, 0.0]   \n",
       "\n",
       "              pred_rf_enpy           probs_rf_enpy             pred_lg_mult  \\\n",
       "0  btw 0 and 2 conversions    [1.0, 0.0, 0.0, 0.0]  btw 0 and 2 conversions   \n",
       "1  btw 0 and 2 conversions    [1.0, 0.0, 0.0, 0.0]  btw 0 and 2 conversions   \n",
       "2  btw 0 and 2 conversions    [1.0, 0.0, 0.0, 0.0]  btw 0 and 2 conversions   \n",
       "3  btw 0 and 2 conversions  [0.99, 0.0, 0.01, 0.0]  btw 0 and 2 conversions   \n",
       "4  btw 0 and 2 conversions    [1.0, 0.0, 0.0, 0.0]  btw 0 and 2 conversions   \n",
       "\n",
       "            probs_lg_mult             pred_softmax        probs_lg_softmax  \n",
       "0    [1.0, 0.0, 0.0, 0.0]  btw 0 and 2 conversions    [1.0, 0.0, 0.0, 0.0]  \n",
       "1    [1.0, 0.0, 0.0, 0.0]  btw 0 and 2 conversions    [1.0, 0.0, 0.0, 0.0]  \n",
       "2    [1.0, 0.0, 0.0, 0.0]  btw 0 and 2 conversions    [1.0, 0.0, 0.0, 0.0]  \n",
       "3  [0.99, 0.01, 0.0, 0.0]  btw 0 and 2 conversions  [0.99, 0.01, 0.0, 0.0]  \n",
       "4  [0.99, 0.01, 0.0, 0.0]  btw 0 and 2 conversions  [0.99, 0.01, 0.0, 0.0]  "
      ]
     },
     "execution_count": 196,
     "metadata": {},
     "output_type": "execute_result"
    }
   ],
   "source": [
    "df_testa.head()"
   ]
  },
  {
   "cell_type": "code",
   "execution_count": 197,
   "metadata": {},
   "outputs": [
    {
     "data": {
      "text/plain": [
       "year                0\n",
       "month               0\n",
       "week_num            0\n",
       "day_of_week         0\n",
       "age                 0\n",
       "topic               0\n",
       "target_grouped      0\n",
       "location            0\n",
       "amount_spent_usd    0\n",
       "pred_rf_gini        0\n",
       "probs_rf_gini       0\n",
       "pred_rf_enpy        0\n",
       "probs_rf_enpy       0\n",
       "pred_lg_mult        0\n",
       "probs_lg_mult       0\n",
       "pred_softmax        0\n",
       "probs_lg_softmax    0\n",
       "dtype: int64"
      ]
     },
     "execution_count": 197,
     "metadata": {},
     "output_type": "execute_result"
    }
   ],
   "source": [
    "df_testa.isnull().sum()"
   ]
  },
  {
   "cell_type": "code",
   "execution_count": 198,
   "metadata": {},
   "outputs": [
    {
     "name": "stdout",
     "output_type": "stream",
     "text": [
      "actual:       location\n",
      "63966       US\n",
      "probability rf_gini: [('btw 3 and 6 conversions', 0.014905284307197295), ('btw 0 and 2 conversions', 0.9850575875556643)]\n",
      "probability rf_enpy: [('btw 3 and 6 conversions', 0.001), ('btw 0 and 2 conversions', 0.9990000000000001)]\n",
      "probability lg_mult: [('btw 3 and 6 conversions', 0.04217412389223237), ('btw 0 and 2 conversions', 0.9489552958903287)]\n"
     ]
    }
   ],
   "source": [
    "print(\"actual: \" + str(df_test.iloc[0:1, 7:8]))\n",
    "print(\"probability rf_gini: \" + str(sorted(zip(clf_rf_gini.classes_, probs_rf_gini[0] ), key=lambda x:x[1] )[-2:]))\n",
    "print(\"probability rf_enpy: \" + str(sorted(zip(clf_rf_enpy.classes_, probs_rf_enpy[0] ), key=lambda x:x[1] )[-2:]))\n",
    "print(\"probability lg_mult: \" + str(sorted(zip(clf_lg_mult.classes_, probs_lg_mult[0] ), key=lambda x:x[1] )[-2:]))\n",
    "\n"
   ]
  },
  {
   "cell_type": "markdown",
   "metadata": {},
   "source": [
    "### Why assigning different weights to knn, dt and SVC in votingclassifier()? Because knn is lazy and has a low performance?"
   ]
  },
  {
   "cell_type": "code",
   "execution_count": 199,
   "metadata": {},
   "outputs": [
    {
     "name": "stdout",
     "output_type": "stream",
     "text": [
      "Automatically created module for IPython interactive environment\n"
     ]
    },
    {
     "data": {
      "text/plain": [
       "VotingClassifier(estimators=[('dt',\n",
       "                              DecisionTreeClassifier(class_weight='balanced',\n",
       "                                                     criterion='gini',\n",
       "                                                     max_depth=5,\n",
       "                                                     max_features=None,\n",
       "                                                     max_leaf_nodes=None,\n",
       "                                                     min_impurity_decrease=0.0,\n",
       "                                                     min_impurity_split=None,\n",
       "                                                     min_samples_leaf=1,\n",
       "                                                     min_samples_split=2,\n",
       "                                                     min_weight_fraction_leaf=0.0,\n",
       "                                                     presort=False,\n",
       "                                                     random_state=None,\n",
       "                                                     splitter='best')),\n",
       "                             ('knn',\n",
       "                              KNeighborsClassifier(algor...\n",
       "                                                   metric='minkowski',\n",
       "                                                   metric_params=None,\n",
       "                                                   n_jobs=None, n_neighbors=7,\n",
       "                                                   p=2, weights='uniform')),\n",
       "                             ('svc',\n",
       "                              SVC(C=1.0, cache_size=200, class_weight=None,\n",
       "                                  coef0=0.0, decision_function_shape='ovr',\n",
       "                                  degree=3, gamma=0.01, kernel='rbf',\n",
       "                                  max_iter=-1, probability=True,\n",
       "                                  random_state=None, shrinking=True, tol=0.001,\n",
       "                                  verbose=False))],\n",
       "                 flatten_transform=True, n_jobs=None, voting='soft',\n",
       "                 weights=[2, 1, 2])"
      ]
     },
     "execution_count": 199,
     "metadata": {},
     "output_type": "execute_result"
    }
   ],
   "source": [
    "print(__doc__)\n",
    "\n",
    "from itertools import product\n",
    "\n",
    "import numpy as np\n",
    "import matplotlib.pyplot as plt\n",
    "\n",
    "from sklearn.tree import DecisionTreeClassifier\n",
    "from sklearn.neighbors import KNeighborsClassifier\n",
    "from sklearn.svm import SVC\n",
    "from sklearn.ensemble import VotingClassifier\n",
    "\n",
    "# Training classifiers\n",
    "clf1 = DecisionTreeClassifier(max_depth=5,class_weight='balanced')\n",
    "clf2 = KNeighborsClassifier(n_neighbors=7)\n",
    "clf3 = SVC(gamma=.01, kernel='rbf', probability=True)\n",
    "eclf = VotingClassifier(estimators=[('dt', clf1), ('knn', clf2),\n",
    "                                    ('svc', clf3)],\n",
    "                        voting='soft', weights=[2, 1, 2])\n",
    "\n",
    "clf1.fit(train_X, y_train)\n",
    "clf2.fit(train_X, y_train)\n",
    "clf3.fit(train_X, y_train)\n",
    "eclf.fit(train_X, y_train)\n"
   ]
  },
  {
   "cell_type": "code",
   "execution_count": 200,
   "metadata": {},
   "outputs": [
    {
     "data": {
      "text/plain": [
       "array([0.79, 0.8 , 0.81, 0.8 , 0.79, 0.81, 0.82, 0.81, 0.82, 0.81])"
      ]
     },
     "execution_count": 200,
     "metadata": {},
     "output_type": "execute_result"
    }
   ],
   "source": [
    "cross_val_score(eclf,train_X, y_train, cv=10, scoring=\"accuracy\")"
   ]
  },
  {
   "cell_type": "code",
   "execution_count": 201,
   "metadata": {},
   "outputs": [],
   "source": [
    "y_pred_clf1 = clf1.predict(test_X) \n",
    "y_pred_clf2 = clf2.predict(test_X)\n",
    "y_pred_clf3 = clf3.predict(test_X)\n",
    "y_pred_voter=eclf.predict(test_X)"
   ]
  },
  {
   "cell_type": "code",
   "execution_count": 219,
   "metadata": {},
   "outputs": [
    {
     "data": {
      "text/plain": [
       "<100x112 sparse matrix of type '<class 'numpy.float64'>'\n",
       "\twith 900 stored elements in Compressed Sparse Row format>"
      ]
     },
     "execution_count": 219,
     "metadata": {},
     "output_type": "execute_result"
    }
   ],
   "source": [
    "select_ind = np.array(list(range(0,100)))\n",
    "testa_X.tocsr()[select_ind,:]"
   ]
  },
  {
   "cell_type": "code",
   "execution_count": 209,
   "metadata": {},
   "outputs": [],
   "source": [
    "y_preda_clf1 = clf1.predict(testa_X)\n",
    "y_preda_clf2 = clf2.predict(testa_X)\n",
    "y_preda_clf3 = clf3.predict(testa_X)\n",
    "y_preda_voter=eclf.predict(testa_X)"
   ]
  },
  {
   "cell_type": "code",
   "execution_count": 1,
   "metadata": {},
   "outputs": [
    {
     "ename": "NameError",
     "evalue": "name 'eclf' is not defined",
     "output_type": "error",
     "traceback": [
      "\u001b[0;31m---------------------------------------------------------------------------\u001b[0m",
      "\u001b[0;31mNameError\u001b[0m                                 Traceback (most recent call last)",
      "\u001b[0;32m<ipython-input-1-f21fca3ee948>\u001b[0m in \u001b[0;36m<module>\u001b[0;34m()\u001b[0m\n\u001b[0;32m----> 1\u001b[0;31m \u001b[0mprb_voter_clf\u001b[0m\u001b[0;34m=\u001b[0m\u001b[0meclf\u001b[0m\u001b[0;34m.\u001b[0m\u001b[0mpredict_proba\u001b[0m\u001b[0;34m(\u001b[0m\u001b[0mtest_X\u001b[0m\u001b[0;34m)\u001b[0m\u001b[0;34m\u001b[0m\u001b[0m\n\u001b[0m\u001b[1;32m      2\u001b[0m \u001b[0mmy_list_voter\u001b[0m\u001b[0;34m=\u001b[0m\u001b[0mnp\u001b[0m\u001b[0;34m.\u001b[0m\u001b[0mround\u001b[0m\u001b[0;34m(\u001b[0m\u001b[0mnp\u001b[0m\u001b[0;34m.\u001b[0m\u001b[0marray\u001b[0m\u001b[0;34m(\u001b[0m\u001b[0mprb_voter_clf\u001b[0m\u001b[0;34m)\u001b[0m\u001b[0;34m,\u001b[0m\u001b[0;36m2\u001b[0m\u001b[0;34m)\u001b[0m\u001b[0;34m.\u001b[0m\u001b[0mtolist\u001b[0m\u001b[0;34m(\u001b[0m\u001b[0;34m)\u001b[0m\u001b[0;34m\u001b[0m\u001b[0m\n",
      "\u001b[0;31mNameError\u001b[0m: name 'eclf' is not defined"
     ]
    }
   ],
   "source": [
    "prb_voter_clf=eclf.predict_proba(test_X)\n",
    "my_list_voter=np.round(np.array(prb_voter_clf),2).tolist()"
   ]
  },
  {
   "cell_type": "code",
   "execution_count": null,
   "metadata": {},
   "outputs": [],
   "source": [
    "prba_voter_clf=eclf.predict_proba(testa_X)\n",
    "my_lista_voter=np.round(np.array(prba_voter_clf),2).tolist()"
   ]
  },
  {
   "cell_type": "code",
   "execution_count": null,
   "metadata": {},
   "outputs": [],
   "source": [
    "df_test['pred_voter']=y_pred_voter\n",
    "df_test['prop_voter']=my_list_voter"
   ]
  },
  {
   "cell_type": "code",
   "execution_count": null,
   "metadata": {},
   "outputs": [],
   "source": [
    "df_testa['pred_voter']=y_preda_voter\n",
    "df_testa['prop_voter']=my_lista_voter"
   ]
  },
  {
   "cell_type": "code",
   "execution_count": null,
   "metadata": {},
   "outputs": [],
   "source": [
    "df_test.head()"
   ]
  },
  {
   "cell_type": "code",
   "execution_count": null,
   "metadata": {},
   "outputs": [],
   "source": [
    "df_testa.head()"
   ]
  },
  {
   "cell_type": "code",
   "execution_count": null,
   "metadata": {},
   "outputs": [],
   "source": [
    "cross_val_score(clf_rf_gini,train_X, y_train, cv=10, scoring=\"accuracy\")"
   ]
  },
  {
   "cell_type": "code",
   "execution_count": null,
   "metadata": {},
   "outputs": [],
   "source": [
    "cross_val_score(clf_rf_enpy,train_X, y_train, cv=10, scoring=\"accuracy\")"
   ]
  },
  {
   "cell_type": "code",
   "execution_count": null,
   "metadata": {},
   "outputs": [],
   "source": [
    "cnf_matrix_gini = confusion_matrix(y_test,y_pred_voter,labels=label)\n",
    "np.set_printoptions(precision=2)\n",
    "\n",
    "# Plot non-normalized confusion matrix\n",
    "plt.figure(figsize=(7,7))\n",
    "plot_confusion_matrix(cnf_matrix_gini, classes=label,\n",
    "                      title='Confusion matrix, without normalization')"
   ]
  },
  {
   "cell_type": "code",
   "execution_count": null,
   "metadata": {},
   "outputs": [],
   "source": [
    "#rf_err_df=df_test[df_test['labels']!=df_test['rf_pred']].iloc[0:30,0:12].head(30)"
   ]
  },
  {
   "cell_type": "code",
   "execution_count": null,
   "metadata": {},
   "outputs": [],
   "source": [
    "unique_val_count(df_test.target_grouped)"
   ]
  },
  {
   "cell_type": "code",
   "execution_count": null,
   "metadata": {},
   "outputs": [],
   "source": [
    "df_test.head(15)"
   ]
  },
  {
   "cell_type": "code",
   "execution_count": null,
   "metadata": {},
   "outputs": [],
   "source": [
    "df_test[\"month\"] = pd.to_numeric(df_test[\"month\"])"
   ]
  },
  {
   "cell_type": "code",
   "execution_count": null,
   "metadata": {},
   "outputs": [],
   "source": [
    "df_testa[\"month\"] = pd.to_numeric(df_testa[\"month\"])"
   ]
  },
  {
   "cell_type": "code",
   "execution_count": null,
   "metadata": {},
   "outputs": [],
   "source": [
    "df_test_entph=df_test[df_test['target_grouped']=='entphotographyentrepreneur']"
   ]
  },
  {
   "cell_type": "code",
   "execution_count": null,
   "metadata": {},
   "outputs": [],
   "source": [
    "ax_low_ent= df_test_entph[(df_test_entph['pred_rf_gini']==\"btw 0 and 2 conversions\")|\n",
    "             (df_test_entph['pred_rf_gini']==\"btw 3 and 6 conversions\")].groupby(['pred_rf_gini',\n",
    "                                                                                'month','year'])['pred_rf_gini'].count().unstack(0).sort_values(by=['year',\n",
    "             'month'],ascending=[True,True]).plot.bar(title=\"Number monthly frequencies\",\n",
    "                                                                           figsize=(18,5),\n",
    "                                                                           color=['salmon','navy','cyan','yellow']\n",
    "                                                                           ,width = 0.90)"
   ]
  },
  {
   "cell_type": "code",
   "execution_count": null,
   "metadata": {},
   "outputs": [],
   "source": [
    "np.unique(df_test.labels)"
   ]
  },
  {
   "cell_type": "code",
   "execution_count": null,
   "metadata": {},
   "outputs": [],
   "source": [
    "df_test.head(2)"
   ]
  },
  {
   "cell_type": "code",
   "execution_count": null,
   "metadata": {},
   "outputs": [],
   "source": [
    "import seaborn as sns\n",
    "import matplotlib.pylab as plt\n",
    "%matplotlib inline\n",
    "\n",
    "#df_test['new'] = np.where(df_test.labels=='btw 0 and 2 conversions', 'low',\n",
    "                          # np.where(df_test.labels=='more 3 than 6 conversions', 'low','high'))"
   ]
  },
  {
   "cell_type": "code",
   "execution_count": null,
   "metadata": {},
   "outputs": [],
   "source": [
    "#df_test=df_test.drop('new',axis=1)"
   ]
  },
  {
   "cell_type": "markdown",
   "metadata": {},
   "source": [
    "Below code generated an error saying that 'seaborn doesn't have a function called catplot.' That's why I picked countplot with the same purpose."
   ]
  },
  {
   "cell_type": "code",
   "execution_count": null,
   "metadata": {},
   "outputs": [],
   "source": [
    "# orders=label\n",
    "# sns.set_style(\"whitegrid\")\n",
    "# sns.set(font_scale=1)\n",
    "# p=sns.catplot(x=\"labels\",hue=\"labels\", kind=\"count\",order=orders,height=8,aspect=1,col='year', data=df_test)\n",
    "\n"
   ]
  },
  {
   "cell_type": "code",
   "execution_count": null,
   "metadata": {},
   "outputs": [],
   "source": [
    "sns.set(rc={'figure.figsize':(11.7,8.27)})\n",
    "ax = sns.countplot(x=df_test['year'], hue = df_test['labels'], \n",
    "                    data = df_test, )"
   ]
  },
  {
   "cell_type": "code",
   "execution_count": null,
   "metadata": {},
   "outputs": [],
   "source": [
    "bag_clf = BaggingClassifier(DecisionTreeClassifier( splitter = \"random\" ,class_weight='balanced', max_leaf_nodes = 5, min_samples_split=10 ), \n",
    "                            n_estimators =100 , max_samples = 0.5 , bootstrap = True , n_jobs =-1 ) "
   ]
  },
  {
   "cell_type": "code",
   "execution_count": null,
   "metadata": {},
   "outputs": [],
   "source": [
    "bag_clf.fit(train_X,y_train)"
   ]
  },
  {
   "cell_type": "code",
   "execution_count": null,
   "metadata": {
    "scrolled": true
   },
   "outputs": [],
   "source": [
    "cross_val_score(bag_clf,train_X, y_train, cv=10, scoring=\"accuracy\")"
   ]
  },
  {
   "cell_type": "code",
   "execution_count": null,
   "metadata": {},
   "outputs": [],
   "source": [
    "X_train.shape[0]"
   ]
  },
  {
   "cell_type": "code",
   "execution_count": null,
   "metadata": {},
   "outputs": [],
   "source": [
    "smote=SMOTE('minority')"
   ]
  },
  {
   "cell_type": "code",
   "execution_count": null,
   "metadata": {},
   "outputs": [],
   "source": [
    "X_sm_logr,y_sm_logr=smote.fit_sample(train_X,y_train)"
   ]
  },
  {
   "cell_type": "code",
   "execution_count": null,
   "metadata": {},
   "outputs": [],
   "source": [
    "logr_sm=softmax_reg.fit(X_sm_logr,y_sm_logr)"
   ]
  },
  {
   "cell_type": "code",
   "execution_count": null,
   "metadata": {},
   "outputs": [],
   "source": [
    "softmax_pred_sm=logr_sm.predict(test_X) \n"
   ]
  },
  {
   "cell_type": "code",
   "execution_count": null,
   "metadata": {},
   "outputs": [],
   "source": [
    "softmax_preda_sm=logr_sm.predict(testa_X) \n"
   ]
  },
  {
   "cell_type": "code",
   "execution_count": null,
   "metadata": {},
   "outputs": [],
   "source": [
    "cnf_matrix = confusion_matrix(y_test,softmax_pred_sm,labels=np.unique(y_train))\n",
    "np.set_printoptions(precision=2)\n",
    "\n",
    "# Plot non-normalized confusion matrix\n",
    "plt.figure(figsize=(7,7))\n",
    "plot_confusion_matrix(cnf_matrix, classes=np.unique(y_train),\n",
    "                      title='Confusion matrix, without normalization')"
   ]
  },
  {
   "cell_type": "code",
   "execution_count": null,
   "metadata": {},
   "outputs": [],
   "source": [
    "cross_val_score(logr_sm,X_sm_logr, y_sm_logr, cv=10, scoring=\"accuracy\",)"
   ]
  },
  {
   "cell_type": "code",
   "execution_count": null,
   "metadata": {},
   "outputs": [],
   "source": [
    "print (metrics.classification_report(y_test,softmax_pred_sm, target_names=df_test['labels'].unique()))"
   ]
  },
  {
   "cell_type": "code",
   "execution_count": null,
   "metadata": {},
   "outputs": [],
   "source": [
    "#lsvc\n",
    "\n",
    "lsvc = LinearSVC(C=0.9, penalty=\"l1\", dual=False, multi_class='ovr',class_weight='balanced').fit(train_X, y_train)\n",
    "model = SelectFromModel(lsvc, prefit=True)"
   ]
  },
  {
   "cell_type": "code",
   "execution_count": null,
   "metadata": {},
   "outputs": [],
   "source": [
    "y_pred_lsvc= lsvc.predict(test_X) "
   ]
  },
  {
   "cell_type": "code",
   "execution_count": null,
   "metadata": {},
   "outputs": [],
   "source": [
    "y_preda_lsvc= lsvc.predict(testa_X) "
   ]
  },
  {
   "cell_type": "code",
   "execution_count": null,
   "metadata": {},
   "outputs": [],
   "source": [
    "#df_test['pred_lsvc']=y_pred_lsvc"
   ]
  },
  {
   "cell_type": "code",
   "execution_count": null,
   "metadata": {},
   "outputs": [],
   "source": [
    "#df_test=df_test.drop('pred_lsvc',axis=1)"
   ]
  },
  {
   "cell_type": "code",
   "execution_count": null,
   "metadata": {},
   "outputs": [],
   "source": [
    "cross_val_score(lsvc,train_X, y_train, cv=10, scoring=\"accuracy\",)"
   ]
  },
  {
   "cell_type": "code",
   "execution_count": null,
   "metadata": {},
   "outputs": [],
   "source": [
    "cnf_matrix = confusion_matrix(y_test,y_pred_lsvc,labels=np.unique(y_train))\n",
    "np.set_printoptions(precision=2)\n",
    "\n",
    "# Plot non-normalized confusion matrix\n",
    "plt.figure(figsize=(7,7))\n",
    "plot_confusion_matrix(cnf_matrix, classes=np.unique(y_train),\n",
    "                      title='Confusion matrix, without normalization')"
   ]
  },
  {
   "cell_type": "code",
   "execution_count": null,
   "metadata": {},
   "outputs": [],
   "source": [
    "print(metrics.classification_report(y_test, y_pred_lsvc, target_names=df_test['labels'].unique()))"
   ]
  },
  {
   "cell_type": "code",
   "execution_count": null,
   "metadata": {},
   "outputs": [],
   "source": [
    "y_pred_bag= bag_clf.predict(test_X) "
   ]
  },
  {
   "cell_type": "code",
   "execution_count": null,
   "metadata": {},
   "outputs": [],
   "source": [
    "y_preda_bag= bag_clf.predict(testa_X) "
   ]
  },
  {
   "cell_type": "code",
   "execution_count": null,
   "metadata": {},
   "outputs": [],
   "source": [
    "prb_bag_clf=bag_clf.predict_proba(test_X)\n",
    "my_list_bag=np.round(np.array(prb_bag_clf),2).tolist()"
   ]
  },
  {
   "cell_type": "code",
   "execution_count": null,
   "metadata": {},
   "outputs": [],
   "source": [
    "prba_bag_clf=bag_clf.predict_proba(testa_X)\n",
    "my_lista_bag=np.round(np.array(prba_bag_clf),2).tolist()"
   ]
  },
  {
   "cell_type": "code",
   "execution_count": null,
   "metadata": {},
   "outputs": [],
   "source": [
    "df_test['pred_bag']=y_pred_bag"
   ]
  },
  {
   "cell_type": "code",
   "execution_count": null,
   "metadata": {},
   "outputs": [],
   "source": [
    "df_testa['pred_bag']=y_preda_bag"
   ]
  },
  {
   "cell_type": "code",
   "execution_count": null,
   "metadata": {},
   "outputs": [],
   "source": [
    "df_test['prb_bag_clf']=my_list_bag"
   ]
  },
  {
   "cell_type": "code",
   "execution_count": null,
   "metadata": {},
   "outputs": [],
   "source": [
    "df_testa['prb_bag_clf']=my_lista_bag"
   ]
  },
  {
   "cell_type": "code",
   "execution_count": null,
   "metadata": {},
   "outputs": [],
   "source": [
    "df_test.isnull().sum()"
   ]
  },
  {
   "cell_type": "code",
   "execution_count": null,
   "metadata": {},
   "outputs": [],
   "source": [
    "df_testa.isnull().sum()"
   ]
  },
  {
   "cell_type": "code",
   "execution_count": null,
   "metadata": {},
   "outputs": [],
   "source": [
    "df_test.columns"
   ]
  },
  {
   "cell_type": "code",
   "execution_count": null,
   "metadata": {},
   "outputs": [],
   "source": [
    "df_test.head(10)"
   ]
  },
  {
   "cell_type": "code",
   "execution_count": null,
   "metadata": {},
   "outputs": [],
   "source": [
    "#print(metrics.classification_report(y_test, y_pred_bag, target_names=df['labels'].unique()))"
   ]
  },
  {
   "cell_type": "code",
   "execution_count": null,
   "metadata": {},
   "outputs": [],
   "source": [
    "#print(metrics.classification_report(y_test, y_pred_clf1, target_names=df['labels'].unique()))"
   ]
  },
  {
   "cell_type": "code",
   "execution_count": null,
   "metadata": {},
   "outputs": [],
   "source": [
    "#print(metrics.classification_report(y_test, y_pred_clf2, target_names=df['labels'].unique()))"
   ]
  },
  {
   "cell_type": "code",
   "execution_count": null,
   "metadata": {},
   "outputs": [],
   "source": [
    "#print(metrics.classification_report(y_test, y_pred_clf3, target_names=df['labels'].unique()))"
   ]
  },
  {
   "cell_type": "code",
   "execution_count": null,
   "metadata": {},
   "outputs": [],
   "source": [
    "#print(metrics.classification_report(y_test, y_pred_voter, target_names=df['labels'].unique()))"
   ]
  },
  {
   "cell_type": "code",
   "execution_count": null,
   "metadata": {},
   "outputs": [],
   "source": [
    "tree_reg=DecisionTreeClassifier(class_weight='balanced',max_depth=3,criterion='gini',min_samples_leaf=10)\n",
    "tree_reg.fit(train_X,y_train)"
   ]
  },
  {
   "cell_type": "code",
   "execution_count": null,
   "metadata": {},
   "outputs": [],
   "source": [
    "y_pred_tree=tree_reg.predict(test_X)\n",
    "prb_tree_reg=tree_reg.predict_proba(test_X)\n",
    "my_list_tree=np.round(np.array(prb_tree_reg),2).tolist()\n"
   ]
  },
  {
   "cell_type": "code",
   "execution_count": null,
   "metadata": {},
   "outputs": [],
   "source": [
    "y_preda_tree=tree_reg.predict(testa_X)\n",
    "prba_tree_reg=tree_reg.predict_proba(testa_X)\n",
    "my_lista_tree=np.round(np.array(prba_tree_reg),2).tolist()\n"
   ]
  },
  {
   "cell_type": "code",
   "execution_count": null,
   "metadata": {},
   "outputs": [],
   "source": [
    "df_test['pred_reg_tree']=y_pred_tree\n",
    "df_test['probs_reg_tree']=my_list_tree"
   ]
  },
  {
   "cell_type": "code",
   "execution_count": null,
   "metadata": {},
   "outputs": [],
   "source": [
    "df_testa['pred_reg_tree']=y_preda_tree\n",
    "df_testa['probs_reg_tree']=my_lista_tree"
   ]
  },
  {
   "cell_type": "code",
   "execution_count": null,
   "metadata": {
    "scrolled": false
   },
   "outputs": [],
   "source": [
    "cnf_matrix = confusion_matrix(y_test, y_pred_tree,labels=np.unique(y_train))\n",
    "np.set_printoptions(precision=2)\n",
    "\n",
    "# Plot non-normalized confusion matrix\n",
    "plt.figure(figsize=(7,7))\n",
    "plot_confusion_matrix(cnf_matrix, classes=np.unique(y_train),\n",
    "                      title='Confusion matrix, without normalization')"
   ]
  },
  {
   "cell_type": "code",
   "execution_count": null,
   "metadata": {},
   "outputs": [],
   "source": [
    "!pip install xgboost"
   ]
  },
  {
   "cell_type": "code",
   "execution_count": null,
   "metadata": {},
   "outputs": [],
   "source": [
    "from pandas import read_csv\n",
    "from xgboost import XGBClassifier\n",
    "from sklearn.model_selection import GridSearchCV\n",
    "from sklearn.model_selection import StratifiedKFold\n",
    "from sklearn.preprocessing import LabelEncoder\n",
    "import matplotlib\n",
    "matplotlib.use('Agg')\n",
    "from matplotlib import pyplot"
   ]
  },
  {
   "cell_type": "code",
   "execution_count": null,
   "metadata": {},
   "outputs": [],
   "source": [
    "# grid search\n",
    "model_xgb = XGBClassifier()\n",
    "n_estimators = range(50, 400, 50)\n",
    "param_grid = dict(n_estimators=n_estimators)\n",
    "kfold = StratifiedKFold(n_splits=10, shuffle=True, random_state=7)\n",
    "grid_search = GridSearchCV(model_xgb, param_grid, scoring=\"neg_log_loss\", n_jobs=-1, cv=kfold)\n",
    "grid_result = grid_search.fit(train_X,y_train)"
   ]
  },
  {
   "cell_type": "code",
   "execution_count": null,
   "metadata": {},
   "outputs": [],
   "source": [
    "# summarize results\n",
    "print(\"Best: %f using %s\" % (grid_result.best_score_, grid_result.best_params_))\n",
    "means = grid_result.cv_results_['mean_test_score']\n",
    "stds = grid_result.cv_results_['std_test_score']\n",
    "params = grid_result.cv_results_['params']\n",
    "for mean, stdev, param in zip(means, stds, params):\n",
    "\tprint(\"%f (%f) with: %r\" % (mean, stdev, param))\n",
    "# plot\n",
    "pyplot.errorbar(n_estimators, means, yerr=stds)\n",
    "pyplot.title(\"XGBoost n_estimators vs Log Loss\")\n",
    "pyplot.xlabel('n_estimators')\n",
    "pyplot.ylabel('Log Loss')\n",
    "pyplot.savefig('n_estimators.png')"
   ]
  },
  {
   "cell_type": "code",
   "execution_count": null,
   "metadata": {},
   "outputs": [],
   "source": [
    "# XGBoost, Tune n_estimators and max_depth\n",
    "from pandas import read_csv\n",
    "from xgboost import XGBClassifier\n",
    "from sklearn.model_selection import GridSearchCV\n",
    "from sklearn.model_selection import StratifiedKFold\n",
    "from sklearn.preprocessing import LabelEncoder\n",
    "import matplotlib\n",
    "matplotlib.use('Agg')\n",
    "from matplotlib import pyplot"
   ]
  },
  {
   "cell_type": "code",
   "execution_count": null,
   "metadata": {},
   "outputs": [],
   "source": [
    "model_xgb = XGBClassifier()\n",
    "n_estimators = [50, 100, 150, 200]\n",
    "max_depth = [2, 4, 6, 8]\n",
    "print(max_depth)\n",
    "param_grid = dict(max_depth=max_depth, n_estimators=n_estimators)\n",
    "kfold = StratifiedKFold(n_splits=10, shuffle=True, random_state=7)\n",
    "grid_search = GridSearchCV(model_xgb, param_grid, scoring=\"neg_log_loss\", n_jobs=-1, cv=kfold, verbose=1)\n",
    "grid_result = grid_search.fit(train_X, y_train)"
   ]
  },
  {
   "cell_type": "code",
   "execution_count": null,
   "metadata": {},
   "outputs": [],
   "source": [
    "# summarize results\n",
    "print(\"Best: %f using %s\" % (grid_result.best_score_, grid_result.best_params_))\n",
    "means = grid_result.cv_results_['mean_test_score']\n",
    "stds = grid_result.cv_results_['std_test_score']\n",
    "params = grid_result.cv_results_['params']\n",
    "for mean, stdev, param in zip(means, stds, params):\n",
    "\tprint(\"%f (%f) with: %r\" % (mean, stdev, param))\n",
    "# plot results\n",
    "scores = np.array(means).reshape(len(max_depth), len(n_estimators))\n",
    "for i, value in enumerate(max_depth):\n",
    "    pyplot.plot(n_estimators, scores[i], label='depth: ' + str(value))\n",
    "pyplot.legend()\n",
    "pyplot.xlabel('n_estimators')\n",
    "pyplot.ylabel('Log Loss')\n",
    "pyplot.savefig('n_estimators_vs_max_depth.png')"
   ]
  },
  {
   "cell_type": "code",
   "execution_count": null,
   "metadata": {},
   "outputs": [],
   "source": [
    "model_xgb_tn = XGBClassifier(n_estimators=150,max_depth=4,objective='multi:softprob')\n",
    "model_xgb_tn.fit(train_X,y_train)"
   ]
  },
  {
   "cell_type": "code",
   "execution_count": null,
   "metadata": {},
   "outputs": [],
   "source": [
    "y_pred_xgb=model_xgb_tn.predict(test_X)"
   ]
  },
  {
   "cell_type": "code",
   "execution_count": null,
   "metadata": {},
   "outputs": [],
   "source": [
    "y_preda_xgb=model_xgb_tn.predict(testa_X)"
   ]
  },
  {
   "cell_type": "code",
   "execution_count": null,
   "metadata": {},
   "outputs": [],
   "source": [
    "np.set_printoptions(precision=3,suppress=True)\n",
    "prb_xgb_clf=model_xgb_tn.predict_proba(test_X)\n",
    "my_list_xgb=np.round(np.array(prb_xgb_clf),2).tolist()"
   ]
  },
  {
   "cell_type": "code",
   "execution_count": null,
   "metadata": {},
   "outputs": [],
   "source": [
    "np.set_printoptions(precision=3,suppress=True)\n",
    "prba_xgb_clf=model_xgb_tn.predict_proba(testa_X)\n",
    "my_lista_xgb=np.round(np.array(prba_xgb_clf),2).tolist()"
   ]
  },
  {
   "cell_type": "code",
   "execution_count": null,
   "metadata": {},
   "outputs": [],
   "source": [
    "df_test['pred_xgb']=y_pred_xgb\n",
    "df_test['xgb_prob']=my_list_xgb\n"
   ]
  },
  {
   "cell_type": "code",
   "execution_count": null,
   "metadata": {},
   "outputs": [],
   "source": [
    "df_testa['pred_xgb']=y_preda_xgb\n",
    "df_testa['xgb_prob']=my_lista_xgb\n"
   ]
  },
  {
   "cell_type": "code",
   "execution_count": null,
   "metadata": {},
   "outputs": [],
   "source": [
    "print(metrics.classification_report(y_test, y_pred_xgb, target_names=df_test['labels'].unique()))"
   ]
  },
  {
   "cell_type": "code",
   "execution_count": null,
   "metadata": {},
   "outputs": [],
   "source": [
    "df_test.head(20)"
   ]
  },
  {
   "cell_type": "code",
   "execution_count": null,
   "metadata": {},
   "outputs": [],
   "source": [
    "cnf_matrix = confusion_matrix(y_test, y_pred_xgb,labels=np.unique(y_train))\n",
    "np.set_printoptions(precision=2)\n",
    "\n",
    "# Plot non-normalized confusion matrix\n",
    "plt.figure(figsize=(7,7))\n",
    "plot_confusion_matrix(cnf_matrix, classes=np.unique(y_train),\n",
    "                      title='Confusion matrix, without normalization')"
   ]
  },
  {
   "cell_type": "code",
   "execution_count": null,
   "metadata": {},
   "outputs": [],
   "source": [
    "fb.columns"
   ]
  },
  {
   "cell_type": "code",
   "execution_count": null,
   "metadata": {},
   "outputs": [],
   "source": [
    "# Create adaboost classifer object\n",
    "abc_discrete =AdaBoostClassifier(n_estimators=100, base_estimator=clf_rf_gini,learning_rate=0.001,\n",
    "    algorithm=\"SAMME\")\n",
    "\n",
    "abc_real =AdaBoostClassifier(n_estimators=100, base_estimator=clf_rf_gini,learning_rate=0.001)"
   ]
  },
  {
   "cell_type": "code",
   "execution_count": null,
   "metadata": {},
   "outputs": [],
   "source": [
    "# Train Adaboost Classifer\n",
    "abc_discrete.fit(train_X, y_train)\n",
    "abc_real.fit(train_X, y_train)"
   ]
  },
  {
   "cell_type": "code",
   "execution_count": null,
   "metadata": {},
   "outputs": [],
   "source": [
    "#Predict the response for test dataset\n",
    "y_pred_abc_disc = abc_discrete.predict(test_X)\n",
    "y_pred_abc_real = abc_real.predict(test_X)\n",
    "\n",
    "\n",
    "\n",
    "\n",
    "# Model Accuracy, how often is the classifier correct?\n",
    "print(\"Accuracy abc SAMME:\",metrics.accuracy_score(y_test, y_pred_abc_disc))\n",
    "print(\"Accuracy abc:\",metrics.accuracy_score(y_test, y_pred_abc_real))"
   ]
  },
  {
   "cell_type": "code",
   "execution_count": null,
   "metadata": {},
   "outputs": [],
   "source": [
    "#Predict the response for test dataset\n",
    "y_preda_abc_disc = abc_discrete.predict(testa_X)\n",
    "y_preda_abc_real = abc_real.predict(testa_X)\n",
    "\n",
    "\n",
    "\n",
    "\n",
    "# Model Accuracy, how often is the classifier correct?\n",
    "print(\"Accuracy abc SAMME:\",metrics.accuracy_score(y_test, y_pred_abc_disc))\n",
    "print(\"Accuracy abc:\",metrics.accuracy_score(y_test, y_pred_abc_real))"
   ]
  },
  {
   "cell_type": "code",
   "execution_count": null,
   "metadata": {},
   "outputs": [],
   "source": [
    "print(metrics.classification_report(y_test, y_pred_abc_real, target_names=fb['labels'].unique()))"
   ]
  },
  {
   "cell_type": "code",
   "execution_count": null,
   "metadata": {},
   "outputs": [],
   "source": [
    "print(metrics.classification_report(y_test, y_pred_abc_disc, target_names=fb['labels'].unique()))"
   ]
  },
  {
   "cell_type": "code",
   "execution_count": null,
   "metadata": {},
   "outputs": [],
   "source": [
    "cnf_matrix = confusion_matrix(y_test, y_pred_abc_disc,labels=np.unique(y_train))\n",
    "np.set_printoptions(precision=2)\n",
    "\n",
    "# Plot non-normalized confusion matrix\n",
    "plt.figure(figsize=(7,7))\n",
    "plot_confusion_matrix(cnf_matrix, classes=np.unique(y_train),\n",
    "                      title='Confusion matrix, without normalization')"
   ]
  },
  {
   "cell_type": "code",
   "execution_count": null,
   "metadata": {},
   "outputs": [],
   "source": [
    "cnf_matrix = confusion_matrix(y_test, y_pred_abc_real,labels=np.unique(y_train))\n",
    "np.set_printoptions(precision=2)\n",
    "\n",
    "# Plot non-normalized confusion matrix\n",
    "plt.figure(figsize=(7,7))\n",
    "plot_confusion_matrix(cnf_matrix, classes=np.unique(y_train),\n",
    "                      title='Confusion matrix, without normalization')"
   ]
  },
  {
   "cell_type": "code",
   "execution_count": null,
   "metadata": {},
   "outputs": [],
   "source": [
    "prb_abc_disc=abc_discrete.predict_proba(test_X)\n",
    "my_list_abc_disc=np.round(np.array(prb_abc_disc),2).tolist()"
   ]
  },
  {
   "cell_type": "code",
   "execution_count": null,
   "metadata": {},
   "outputs": [],
   "source": [
    "prba_abc_disc=abc_discrete.predict_proba(testa_X)\n",
    "my_lista_abc_disc=np.round(np.array(prba_abc_disc),2).tolist()"
   ]
  },
  {
   "cell_type": "code",
   "execution_count": null,
   "metadata": {},
   "outputs": [],
   "source": [
    "df_test['pred_abc_disc']=y_pred_abc_disc\n",
    "df_test['probs_abc_disc']=my_list_abc_disc"
   ]
  },
  {
   "cell_type": "code",
   "execution_count": null,
   "metadata": {},
   "outputs": [],
   "source": [
    "df_testa['pred_abc_disc']=y_preda_abc_disc\n",
    "df_testa['probs_abc_disc']=my_lista_abc_disc"
   ]
  },
  {
   "cell_type": "code",
   "execution_count": null,
   "metadata": {},
   "outputs": [],
   "source": [
    "prb_abc_real=abc_real.predict_proba(test_X)\n",
    "my_list_abc_real=np.round(np.array(prb_abc_real),2).tolist()"
   ]
  },
  {
   "cell_type": "code",
   "execution_count": null,
   "metadata": {},
   "outputs": [],
   "source": [
    "prba_abc_real=abc_real.predict_proba(testa_X)\n",
    "my_lista_abc_real=np.round(np.array(prba_abc_real),2).tolist()"
   ]
  },
  {
   "cell_type": "code",
   "execution_count": null,
   "metadata": {},
   "outputs": [],
   "source": [
    "df_test['pred_abc_real']=y_pred_abc_real\n",
    "df_test['probs_abc_real']=my_list_abc_real\n"
   ]
  },
  {
   "cell_type": "code",
   "execution_count": null,
   "metadata": {},
   "outputs": [],
   "source": [
    "df_testa['pred_abc_real']=y_preda_abc_real\n",
    "df_testa['probs_abc_real']=my_lista_abc_real\n"
   ]
  },
  {
   "cell_type": "code",
   "execution_count": null,
   "metadata": {},
   "outputs": [],
   "source": [
    "df_test.shape"
   ]
  },
  {
   "cell_type": "code",
   "execution_count": null,
   "metadata": {},
   "outputs": [],
   "source": [
    "df_testa.shape"
   ]
  },
  {
   "cell_type": "code",
   "execution_count": null,
   "metadata": {},
   "outputs": [],
   "source": []
  },
  {
   "cell_type": "code",
   "execution_count": null,
   "metadata": {},
   "outputs": [],
   "source": [
    "#np.unique(df_test['topic'].values.tolist())"
   ]
  },
  {
   "cell_type": "code",
   "execution_count": null,
   "metadata": {},
   "outputs": [],
   "source": [
    "df_test[df_test['year']==2019].sort_values(by='amount_spent_usd',ascending=False).head(20)"
   ]
  },
  {
   "cell_type": "code",
   "execution_count": null,
   "metadata": {},
   "outputs": [],
   "source": [
    "df_test[df_test['labels']=='btw 7 and 12 conversions'].head(10)"
   ]
  },
  {
   "cell_type": "code",
   "execution_count": null,
   "metadata": {},
   "outputs": [],
   "source": [
    "# How many observations there are per week in June 2019\n",
    "june_pred = pd.DataFrame(df_test[(df_test['year'] == 2019) & (df_test['month'] == 6)]['week_num'].value_counts()).reset_index()\n",
    "june_pred.columns = ['week_num', 'count']\n",
    "june_pred.sort_values(by = ['week_num'], inplace = True)\n",
    "june_pred"
   ]
  },
  {
   "cell_type": "code",
   "execution_count": null,
   "metadata": {},
   "outputs": [],
   "source": [
    "# How many observations there are per week in July 2019\n",
    "july_pred = pd.DataFrame(df_test[(df_test['year'] == 2019) & (df_test['month'] == 7)]['week_num'].value_counts()).reset_index()\n",
    "july_pred.columns = ['week_num', 'count']\n",
    "july_pred.sort_values(by = ['week_num'], inplace = True)\n",
    "july_pred"
   ]
  },
  {
   "cell_type": "code",
   "execution_count": null,
   "metadata": {},
   "outputs": [],
   "source": [
    "df_testa = df_testa.rename(index=str, columns={'prop_voter':'props_voter',\n",
    "                                    'prb_bag_clf':'probs_bag_clf',\n",
    "                                    'xgb_prob':'probs_xgb'})"
   ]
  },
  {
   "cell_type": "code",
   "execution_count": null,
   "metadata": {
    "scrolled": false
   },
   "outputs": [],
   "source": [
    "df_testa.columns.tolist()"
   ]
  },
  {
   "cell_type": "code",
   "execution_count": null,
   "metadata": {},
   "outputs": [],
   "source": [
    "prob_cols = [prob_col for prob_col in df_testa if prob_col.startswith('probs')]\n",
    "df_probs = df_testa[prob_cols]\n",
    "df_probs['probs_final'] = np.nan"
   ]
  },
  {
   "cell_type": "code",
   "execution_count": null,
   "metadata": {},
   "outputs": [],
   "source": [
    "df_probs.columns.tolist()"
   ]
  },
  {
   "cell_type": "code",
   "execution_count": null,
   "metadata": {},
   "outputs": [],
   "source": [
    "prob_lst = []\n",
    "for i in range(len(df_probs)):\n",
    "    total_1 = 0\n",
    "    total_2 = 0\n",
    "    total_3 = 0\n",
    "    total_4 = 0\n",
    "    \n",
    "    for j in range(len(df_probs.columns)-1):\n",
    "        total_1 = total_1 + df_probs.iloc[i,j][0]\n",
    "        total_2 = total_2 + df_probs.iloc[i,j][1]\n",
    "        total_3 = total_3 + df_probs.iloc[i,j][2]\n",
    "        total_4 = total_4 + df_probs.iloc[i,j][3]\n",
    "        \n",
    "    num_col = (len(df_probs.columns.tolist()) - 1)\n",
    "    all_probs = [total_1, total_2, total_3, total_4]\n",
    "    prob_lst.append([k/num_col for k in all_probs])"
   ]
  },
  {
   "cell_type": "code",
   "execution_count": null,
   "metadata": {},
   "outputs": [],
   "source": [
    "df_probs['probs_final'] = prob_lst"
   ]
  },
  {
   "cell_type": "code",
   "execution_count": null,
   "metadata": {},
   "outputs": [],
   "source": [
    "df_probs['pred_final'] = 0"
   ]
  },
  {
   "cell_type": "code",
   "execution_count": null,
   "metadata": {},
   "outputs": [],
   "source": [
    "df_testa['probs_final'] = prob_lst"
   ]
  },
  {
   "cell_type": "code",
   "execution_count": null,
   "metadata": {},
   "outputs": [],
   "source": [
    "some_ser = []\n",
    "for i in range(len(df_probs)):\n",
    "    some_lst = df_probs['probs_final'][i]\n",
    "    m = max(some_lst)\n",
    "    ind_max = some_lst.index(max(some_lst))\n",
    "    some_ser.append(ind_max)"
   ]
  },
  {
   "cell_type": "code",
   "execution_count": null,
   "metadata": {},
   "outputs": [],
   "source": [
    "df_probs['pred_final'] = some_ser"
   ]
  },
  {
   "cell_type": "code",
   "execution_count": null,
   "metadata": {},
   "outputs": [],
   "source": [
    "df_probs.pred_final.value_counts()"
   ]
  },
  {
   "cell_type": "code",
   "execution_count": null,
   "metadata": {},
   "outputs": [],
   "source": [
    "df_probs.pred_final = df_probs.pred_final.astype(int)\n",
    "df_probs['final_prediction'] = np.nan"
   ]
  },
  {
   "cell_type": "code",
   "execution_count": null,
   "metadata": {},
   "outputs": [],
   "source": [
    "def label_converter(x):\n",
    "    if x == 0:\n",
    "        return 'btw 0 and 2 conversions'\n",
    "    elif x == 1:\n",
    "        return 'btw 3 and 6 conversions'\n",
    "    elif x == 2:\n",
    "        return 'btw 7 and 12 conversions'\n",
    "    elif x == 3:\n",
    "        return 'more than 12 conversions'\n",
    "    else:\n",
    "        return 'Error'"
   ]
  },
  {
   "cell_type": "code",
   "execution_count": null,
   "metadata": {},
   "outputs": [],
   "source": [
    "df_probs['final_prediction'] = df_probs['pred_final'].apply(label_converter)"
   ]
  },
  {
   "cell_type": "code",
   "execution_count": null,
   "metadata": {},
   "outputs": [],
   "source": [
    "df_probs.final_prediction.value_counts()"
   ]
  },
  {
   "cell_type": "code",
   "execution_count": null,
   "metadata": {},
   "outputs": [],
   "source": [
    "df_probs"
   ]
  },
  {
   "cell_type": "code",
   "execution_count": null,
   "metadata": {},
   "outputs": [],
   "source": [
    "df_predictionsa = pd.merge(df_testa,df_probs[['final_prediction']],how = 'left',left_index = True, right_index = True)"
   ]
  },
  {
   "cell_type": "code",
   "execution_count": null,
   "metadata": {},
   "outputs": [],
   "source": [
    "# The below line can computed if the results needs to be printed but for now what we are curious\n",
    "# about is the predictions for the first week of august, which is uploaded to S3 and SageMaker in the below cell:\n",
    "# df_test.to_csv('/home/ec2-user/SageMaker/fb_conversion_predictions_2019-06-27/Data/predictions.csv',index=False)"
   ]
  },
  {
   "cell_type": "code",
   "execution_count": null,
   "metadata": {},
   "outputs": [],
   "source": [
    "df_predictionsa = df_predictionsa[(df_predictionsa['year'] == 2019) & (df_predictionsa['month'] == 8)]\n",
    "df_testa = df_testa[(df_testa['year'] == 2019) & (df_testa['month'] == 8)]"
   ]
  },
  {
   "cell_type": "code",
   "execution_count": null,
   "metadata": {
    "scrolled": true
   },
   "outputs": [],
   "source": [
    "len(df_testa)"
   ]
  },
  {
   "cell_type": "code",
   "execution_count": null,
   "metadata": {},
   "outputs": [],
   "source": [
    "df_predictionsa.final_prediction.value_counts()"
   ]
  },
  {
   "cell_type": "code",
   "execution_count": null,
   "metadata": {},
   "outputs": [],
   "source": [
    "df_predictionsa"
   ]
  },
  {
   "cell_type": "code",
   "execution_count": null,
   "metadata": {},
   "outputs": [],
   "source": [
    "df_predictionsa.to_csv('/home/ec2-user/SageMaker/fb_conversion_predictions_2019-06-27/Data/predictions_aug.csv',index=False)"
   ]
  },
  {
   "cell_type": "code",
   "execution_count": null,
   "metadata": {},
   "outputs": [],
   "source": [
    "# Saving the file to S3:\n",
    "from io import StringIO\n",
    "import boto3\n",
    "\n",
    "bucket='facebookconversionrates' # bucket name\n",
    "data_key = 'modelling/predictions_aug.csv' # name of the csv file that will be created\n",
    "csv_buffer = StringIO()\n",
    "df_predictionsa.to_csv(csv_buffer)\n",
    "s3_resource = boto3.resource('s3')\n",
    "s3_resource.Object(bucket, data_key).put(Body=csv_buffer.getvalue())"
   ]
  },
  {
   "cell_type": "markdown",
   "metadata": {},
   "source": [
    "Below code are WIP! They need adjustment to give a prediction result!"
   ]
  },
  {
   "cell_type": "code",
   "execution_count": null,
   "metadata": {},
   "outputs": [],
   "source": [
    "encoder = LabelBinarizer()\n",
    "Y = encoder.fit_transform(y_train)\n",
    "Y_test = encoder.fit_transform(y_test)"
   ]
  },
  {
   "cell_type": "code",
   "execution_count": null,
   "metadata": {},
   "outputs": [],
   "source": [
    "y_train.shape"
   ]
  },
  {
   "cell_type": "code",
   "execution_count": null,
   "metadata": {},
   "outputs": [],
   "source": [
    "Y.shape[0]"
   ]
  },
  {
   "cell_type": "code",
   "execution_count": null,
   "metadata": {},
   "outputs": [],
   "source": []
  },
  {
   "cell_type": "code",
   "execution_count": null,
   "metadata": {},
   "outputs": [],
   "source": [
    "train_X.shape"
   ]
  },
  {
   "cell_type": "code",
   "execution_count": null,
   "metadata": {},
   "outputs": [],
   "source": [
    "def create_network():\n",
    "    model = Sequential()\n",
    "    model.add(Dense(40, input_shape=(111,), activation='relu'))\n",
    "    model.add(Dropout(0.1))\n",
    "\n",
    "    model.add(Dense(30, kernel_initializer='normal', activation='relu'))\n",
    "    model.add(Dropout(0.1))\n",
    "    \n",
    "    model.add(Dense(10, kernel_initializer='normal', activation='relu'))\n",
    "    model.add(Dropout(0.1))\n",
    "    \n",
    "    model.add(Dense(4, activation='softmax'))\n",
    "        \n",
    "    #stochastic gradient descent\n",
    "    sgd = SGD(lr=0.001, decay=1e-6, momentum=0.9, nesterov=True)\n",
    "    model.compile(loss='categorical_crossentropy', optimizer=sgd, metrics=['accuracy'])\n",
    "    return model"
   ]
  },
  {
   "cell_type": "code",
   "execution_count": null,
   "metadata": {
    "scrolled": false
   },
   "outputs": [],
   "source": [
    "neural_network = create_network()\n",
    "neural_network.fit(train_X,Y, epochs=60, batch_size=10)"
   ]
  },
  {
   "cell_type": "code",
   "execution_count": null,
   "metadata": {},
   "outputs": [],
   "source": [
    "neural_network.save('neural_network.h5')\n"
   ]
  },
  {
   "cell_type": "code",
   "execution_count": null,
   "metadata": {},
   "outputs": [],
   "source": [
    "from keras.models import load_model\n",
    "model_nn = load_model('neural_network.h5')"
   ]
  },
  {
   "cell_type": "code",
   "execution_count": null,
   "metadata": {},
   "outputs": [],
   "source": [
    "y_nn_pred=neural_network.predict(test_X, batch_size=8, verbose=0)"
   ]
  },
  {
   "cell_type": "code",
   "execution_count": null,
   "metadata": {},
   "outputs": [],
   "source": [
    "neural_network.compute_output_shape"
   ]
  },
  {
   "cell_type": "code",
   "execution_count": null,
   "metadata": {},
   "outputs": [],
   "source": [
    "y_nn_pred_lst=y_nn_pred.tolist()"
   ]
  },
  {
   "cell_type": "code",
   "execution_count": null,
   "metadata": {},
   "outputs": [],
   "source": [
    "df_nn=pd.DataFrame({'0 to 2':y_nn_pred[:,0],'3 to 6':y_nn_pred[:,1],'7 to 12':y_nn_pred[:,2],'more than 12':y_nn_pred[:,3]})"
   ]
  },
  {
   "cell_type": "code",
   "execution_count": null,
   "metadata": {},
   "outputs": [],
   "source": [
    "nn_df=pd.DataFrame(y_nn_pred_lst, columns =['0 to 2', '3 to 6', '7 to 12','more than 12'], dtype = float) "
   ]
  },
  {
   "cell_type": "code",
   "execution_count": null,
   "metadata": {},
   "outputs": [],
   "source": [
    "pd.options.display.float_format = '{:.3f}'.format"
   ]
  },
  {
   "cell_type": "code",
   "execution_count": null,
   "metadata": {
    "scrolled": true
   },
   "outputs": [],
   "source": [
    "nn_df.head(30)"
   ]
  },
  {
   "cell_type": "code",
   "execution_count": null,
   "metadata": {},
   "outputs": [],
   "source": [
    "df_test['week_num']=df_test['week_num'].astype(str)"
   ]
  },
  {
   "cell_type": "code",
   "execution_count": null,
   "metadata": {},
   "outputs": [],
   "source": [
    "df_test['year']=df_test['year'].astype(str)"
   ]
  },
  {
   "cell_type": "code",
   "execution_count": null,
   "metadata": {},
   "outputs": [],
   "source": [
    "df_test['month']=df_test['month'].astype(str)"
   ]
  },
  {
   "cell_type": "code",
   "execution_count": null,
   "metadata": {},
   "outputs": [],
   "source": [
    "df_test.info()"
   ]
  },
  {
   "cell_type": "code",
   "execution_count": null,
   "metadata": {},
   "outputs": [],
   "source": [
    "year=['2019']\n",
    "month=['5','6','7']"
   ]
  },
  {
   "cell_type": "code",
   "execution_count": null,
   "metadata": {},
   "outputs": [],
   "source": [
    "df_rcnt=df_test.query('year in @year and month in @month')"
   ]
  },
  {
   "cell_type": "code",
   "execution_count": null,
   "metadata": {},
   "outputs": [],
   "source": [
    "df_rcnt[(df_rcnt['amount_spent_(usd)']>100)][0:10]"
   ]
  },
  {
   "cell_type": "code",
   "execution_count": null,
   "metadata": {},
   "outputs": [],
   "source": [
    "Y_test[0:3]"
   ]
  },
  {
   "cell_type": "code",
   "execution_count": null,
   "metadata": {},
   "outputs": [],
   "source": [
    "# evaluate the model\n",
    "_, train_acc = neural_network.evaluate(train_X, Y, verbose=0)\n",
    "_, test_acc = neural_network.evaluate(test_X, Y_test, verbose=0)\n",
    "print('Train: %.3f, Test: %.3f' % (train_acc, test_acc))"
   ]
  },
  {
   "cell_type": "code",
   "execution_count": null,
   "metadata": {},
   "outputs": [],
   "source": [
    "encoder = LabelBinarizer()\n",
    "Y = encoder.fit_transform(y_train)\n",
    "Y_test = encoder.fit_transform(y_test)"
   ]
  },
  {
   "cell_type": "code",
   "execution_count": null,
   "metadata": {},
   "outputs": [],
   "source": [
    "lst=y_nn_pred[0:20]"
   ]
  },
  {
   "cell_type": "code",
   "execution_count": null,
   "metadata": {},
   "outputs": [],
   "source": [
    "keys=fb['labels'].unique()\n",
    "ls=[lst,Y_test]\n",
    "def assign_label(keys,lst):\n",
    "    new_lst=[]\n",
    "    for k, l in [(keys,lst) for k in keys for l in lst]:\n",
    "        for i in range(len(lst)):\n",
    "            results=list(zip(k,lst[i]))\n",
    "            new_lst.append(results)\n",
    "    return new_lst[0:5]\n"
   ]
  },
  {
   "cell_type": "code",
   "execution_count": null,
   "metadata": {
    "scrolled": false
   },
   "outputs": [],
   "source": [
    "assign_label(keys,lst)"
   ]
  },
  {
   "cell_type": "code",
   "execution_count": null,
   "metadata": {},
   "outputs": [],
   "source": [
    "np.unique(y_test.values)"
   ]
  },
  {
   "cell_type": "code",
   "execution_count": null,
   "metadata": {},
   "outputs": [],
   "source": [
    "history = neural_network.fit(train_X, Y, validation_data=(test_X, Y_test), epochs=20, verbose=0, batch_size=5)"
   ]
  },
  {
   "cell_type": "code",
   "execution_count": null,
   "metadata": {},
   "outputs": [],
   "source": [
    "\n",
    "# plot training history\n",
    "plt.plot(history.history['acc'], label='train')\n",
    "plt.plot(history.history['val_acc'], label='test')\n",
    "#plt.figure(figsize=(15,28))\n",
    "plt.legend()\n",
    "plt.show()"
   ]
  },
  {
   "cell_type": "code",
   "execution_count": null,
   "metadata": {},
   "outputs": [],
   "source": [
    "def fit_model(train_X, Y, test_X,Y_test, n_batch):\n",
    "# define model\n",
    "    model = Sequential()\n",
    "    model.add(Dense(30, input_dim=111, activation='relu', kernel_initializer='he_uniform'))\n",
    "    model.add(Dense(20,  activation='relu', kernel_initializer='he_uniform'))\n",
    "    model.add(Dense(4, activation='softmax'))\n",
    "# compile model\n",
    "    opt = SGD(lr=0.01, momentum=0.9)\n",
    "    model.compile(loss='categorical_crossentropy', optimizer=opt, metrics=['accuracy'])\n",
    "# fit model\n",
    "    history = model.fit(train_X, Y, validation_data=(test_X,Y_test), epochs=40, verbose=0, batch_size=n_batch)\n",
    "    _, train_acc = neural_network.evaluate(train_X, Y, verbose=0)\n",
    "    _, test_acc = neural_network.evaluate(test_X, Y_test, verbose=0)\n",
    "    print('Train: %.3f, Test: %.3f' % (train_acc, test_acc))\n",
    "# plot learning curves\n",
    "    plt.plot(history.history['acc'], label='train')\n",
    "    plt.plot(history.history['val_acc'], label='test')\n",
    "    plt.title('batch='+str(n_batch), pad=-40)"
   ]
  },
  {
   "cell_type": "code",
   "execution_count": null,
   "metadata": {},
   "outputs": [],
   "source": [
    "batch_sizes = [8,16]#32,64,128, 256, 450]\n",
    "for i in range(len(batch_sizes)):\n",
    "    # determine the plot number\n",
    "    plot_no = 420 + (i+1)\n",
    "    f = plt.figure(figsize=(10,10))\n",
    "    f.add_subplot(plot_no)\n",
    "    # fit model and plot learning curves for a batch size\n",
    "    fit_model(train_X, Y, test_X, Y_test, batch_sizes[i])\n",
    "# show learning curves\n",
    "\n",
    "plt.legend()\n",
    "plt.show()"
   ]
  },
  {
   "cell_type": "code",
   "execution_count": null,
   "metadata": {},
   "outputs": [],
   "source": [
    "def make_classifier():\n",
    "    # define model\n",
    "    model = Sequential()\n",
    "    model.add(Dense(10, input_dim=111, activation='relu', kernel_initializer='he_uniform'))\n",
    "    model.add(Dense(20, activation='relu', kernel_initializer='he_uniform'))\n",
    "    model.add(Dense(4, activation='softmax'))\n",
    "# compile model\n",
    "    opt = SGD(lr=0.01, momentum=0.9)\n",
    "    model.compile(loss='categorical_crossentropy', optimizer=opt, metrics=['accuracy'])\n",
    "    return model"
   ]
  },
  {
   "cell_type": "code",
   "execution_count": null,
   "metadata": {},
   "outputs": [],
   "source": [
    "classifier = KerasClassifier(build_fn = make_classifier)\n",
    "                             #,\n",
    "                           # batch_size=10, \n",
    "                             #nb_epoch=100)\n",
    "def gen_results(classifier,train_X,Y):\n",
    "    batch_sizes = [10, 20]\n",
    "    epochs = [10]\n",
    "    \n",
    "    param_grid = dict(batch_size=batch_sizes, epochs=epochs)\n",
    "    for key, value in param_grid.items():\n",
    "        for x in value:\n",
    "            grid = GridSearchCV(estimator=classifier, param_grid=param_grid, n_jobs=-1)\n",
    "            grid_result = grid.fit(train_X, Y)\n",
    "            return grid_result"
   ]
  },
  {
   "cell_type": "code",
   "execution_count": null,
   "metadata": {},
   "outputs": [],
   "source": [
    "gen_results(classifier,train_X,Y)"
   ]
  },
  {
   "cell_type": "code",
   "execution_count": null,
   "metadata": {},
   "outputs": [],
   "source": [
    "accuracies = cross_val_score(estimator = classifier,\n",
    "                             X =train_X,\n",
    "                             y = Y,\n",
    "                             cv = 10,\n",
    "                             n_jobs = -1)"
   ]
  },
  {
   "cell_type": "code",
   "execution_count": null,
   "metadata": {},
   "outputs": [],
   "source": [
    "accuracies"
   ]
  },
  {
   "cell_type": "code",
   "execution_count": null,
   "metadata": {},
   "outputs": [],
   "source": [
    "mean = accuracies.mean()"
   ]
  },
  {
   "cell_type": "code",
   "execution_count": null,
   "metadata": {},
   "outputs": [],
   "source": [
    "variance = accuracies.var()"
   ]
  },
  {
   "cell_type": "code",
   "execution_count": null,
   "metadata": {},
   "outputs": [],
   "source": [
    "mean"
   ]
  }
 ],
 "metadata": {
  "kernelspec": {
   "display_name": "Python 3",
   "language": "python",
   "name": "python3"
  },
  "language_info": {
   "codemirror_mode": {
    "name": "ipython",
    "version": 3
   },
   "file_extension": ".py",
   "mimetype": "text/x-python",
   "name": "python",
   "nbconvert_exporter": "python",
   "pygments_lexer": "ipython3",
   "version": "3.6.6"
  }
 },
 "nbformat": 4,
 "nbformat_minor": 2
}
