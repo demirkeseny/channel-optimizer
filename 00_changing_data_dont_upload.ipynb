{
 "cells": [
  {
   "cell_type": "markdown",
   "metadata": {},
   "source": [
    "# Don't Upload"
   ]
  },
  {
   "cell_type": "code",
   "execution_count": 200,
   "metadata": {},
   "outputs": [],
   "source": [
    "# necessary libraries:\n",
    "import pandas as pd\n",
    "import numpy as np\n",
    "import re\n",
    "from datetime import datetime\n",
    "from itertools import product\n",
    "from datetime import date, timedelta\n",
    "import calendar\n",
    "\n",
    "# display settings\n",
    "from IPython.display import display\n",
    "pd.options.display.max_columns = None\n",
    "pd.options.display.max_rows = 500"
   ]
  },
  {
   "cell_type": "markdown",
   "metadata": {},
   "source": [
    "## Preparing the Data"
   ]
  },
  {
   "cell_type": "code",
   "execution_count": 201,
   "metadata": {},
   "outputs": [
    {
     "name": "stderr",
     "output_type": "stream",
     "text": [
      "C:\\Users\\demir\\Anaconda3\\lib\\site-packages\\IPython\\core\\interactiveshell.py:3018: DtypeWarning: Columns (24) have mixed types.Specify dtype option on import or set low_memory=False.\n",
      "  interactivity=interactivity, compiler=compiler, result=result)\n"
     ]
    }
   ],
   "source": [
    "df1 = pd.read_csv(\"data/campaign/01_campaign_level_performance-Jan-1-2018-Jun-30-2018.csv\")\n",
    "df2 = pd.read_csv(\"data/campaign/02_campaign_level_performance-Jul-1-2018-Dec-31-2018.csv\")\n",
    "df3 = pd.read_csv(\"data/campaign/03_campaign_level_performance-Jan-1-2019-Jun-30-2019.csv\")\n",
    "df4 = pd.read_csv(\"data/campaign/04_campaign_level_performance-Jul-1-2019-Dec-31-2019.csv\")"
   ]
  },
  {
   "cell_type": "code",
   "execution_count": 202,
   "metadata": {},
   "outputs": [],
   "source": [
    "df = pd.concat([df1,df2,df3,df4])"
   ]
  },
  {
   "cell_type": "code",
   "execution_count": 203,
   "metadata": {},
   "outputs": [],
   "source": [
    "df = df.sort_values(by=['Day'])"
   ]
  },
  {
   "cell_type": "code",
   "execution_count": 204,
   "metadata": {},
   "outputs": [],
   "source": [
    "df['Amount Spent (USD)']=df['Amount Spent (USD)']*0.73"
   ]
  },
  {
   "cell_type": "code",
   "execution_count": 205,
   "metadata": {},
   "outputs": [
    {
     "data": {
      "text/plain": [
       "2018-01    15662\n",
       "2018-02    14328\n",
       "2018-03    15692\n",
       "2018-04    14701\n",
       "2018-05    16910\n",
       "2018-06    17973\n",
       "2018-07    19457\n",
       "2018-08    18871\n",
       "2018-09    15410\n",
       "2018-10    14906\n",
       "2018-11    13910\n",
       "2018-12    13813\n",
       "2019-01    11189\n",
       "2019-02    10253\n",
       "2019-03    11736\n",
       "2019-04    11984\n",
       "2019-05    12784\n",
       "2019-06     9639\n",
       "2019-07     9842\n",
       "2019-08    12092\n",
       "2019-09    10277\n",
       "2019-10     5872\n",
       "2019-11     5495\n",
       "2019-12     5493\n",
       "Name: Day, dtype: int64"
      ]
     },
     "execution_count": 205,
     "metadata": {},
     "output_type": "execute_result"
    }
   ],
   "source": [
    "pd.to_datetime(df.Day).dt.strftime(\"%Y-%m\").value_counts().sort_index()"
   ]
  },
  {
   "cell_type": "code",
   "execution_count": 206,
   "metadata": {},
   "outputs": [
    {
     "data": {
      "text/plain": [
       "(308289, 26)"
      ]
     },
     "execution_count": 206,
     "metadata": {},
     "output_type": "execute_result"
    }
   ],
   "source": [
    "df.shape"
   ]
  },
  {
   "cell_type": "code",
   "execution_count": 207,
   "metadata": {},
   "outputs": [],
   "source": [
    "#remove space and concat _column names\n",
    "df.columns = df.columns.str.strip().str.lower().str.replace(' ', '_').str.replace('_-_', '_')"
   ]
  },
  {
   "cell_type": "code",
   "execution_count": 208,
   "metadata": {},
   "outputs": [],
   "source": [
    "df=df[df['campaign_name'].str.contains('Facebook')]"
   ]
  },
  {
   "cell_type": "code",
   "execution_count": 209,
   "metadata": {},
   "outputs": [],
   "source": [
    "df['campaign_name']=df.campaign_name.str.strip().str.replace(' ','')"
   ]
  },
  {
   "cell_type": "code",
   "execution_count": 210,
   "metadata": {},
   "outputs": [],
   "source": [
    "df.campaign_name = df.campaign_name.str.replace(\"EMEA-\",\"\")\n",
    "df.campaign_name = df.campaign_name.str.replace(\"LATAM-\",\"\")\n",
    "df.campaign_name = df.campaign_name.str.replace(\"LatinAmerica-\",\"\")\n",
    "df.campaign_name = df.campaign_name.str.replace(\"P1Areas-\",\"\")"
   ]
  },
  {
   "cell_type": "code",
   "execution_count": 211,
   "metadata": {},
   "outputs": [],
   "source": [
    "df.campaign_name = df.campaign_name.str.replace(\"-old\",\"\")\n",
    "df.campaign_name = df.campaign_name.str.replace(\"Facebook-\",\"\")\n",
    "df.campaign_name = df.campaign_name.str.replace(\"P1Areas-\",\"\")\n",
    "df.campaign_name = df.campaign_name.str.replace(\"-2018\",\"\")"
   ]
  },
  {
   "cell_type": "code",
   "execution_count": 212,
   "metadata": {},
   "outputs": [],
   "source": [
    "df=df[df['campaign_name'].str.contains('LeadSubmission')]\n",
    "df=df[df['campaign_name'].str.contains('PS|RRE')]"
   ]
  },
  {
   "cell_type": "code",
   "execution_count": 213,
   "metadata": {},
   "outputs": [],
   "source": [
    "df=df[df['campaign_name']!='PS-LeadSubmissions']\n",
    "df=df[df['campaign_name']!='RRE-LeadSubmissions']"
   ]
  },
  {
   "cell_type": "code",
   "execution_count": 214,
   "metadata": {},
   "outputs": [],
   "source": [
    "df['campaign_name'] = df['campaign_name'].str.replace(\"PS\",\"OR\")\n",
    "df['campaign_name'] = df['campaign_name'].str.replace(\"RRE\",\"SSF\")"
   ]
  },
  {
   "cell_type": "code",
   "execution_count": 215,
   "metadata": {},
   "outputs": [],
   "source": [
    "df=df.rename(columns={'amount_spent_(usd)':'amount_spent_usd'})"
   ]
  },
  {
   "cell_type": "code",
   "execution_count": 216,
   "metadata": {},
   "outputs": [],
   "source": [
    "df['location'] = df.campaign_name.str.split('-').str[0]\n",
    "df['industry'] = df.campaign_name.str.split('-').str[1]"
   ]
  },
  {
   "cell_type": "code",
   "execution_count": 217,
   "metadata": {},
   "outputs": [],
   "source": [
    "df.reset_index(drop=True,inplace=True)"
   ]
  },
  {
   "cell_type": "code",
   "execution_count": 218,
   "metadata": {},
   "outputs": [],
   "source": [
    "df.drop(columns=['campaign_id',\n",
    "                 'campaign_name',\n",
    "                 'delivery_status',\n",
    "                 'delivery_level',\n",
    "                 'uk_thank_you',\n",
    "                 'lead_submission',\n",
    "                 'lead_submission_conversion_value',\n",
    "                 'lead_page_contains_thank-you_conversion_value',\n",
    "                 'reporting_starts',\n",
    "                 'reporting_ends',\n",
    "                 'unique_landing_page_views',\n",
    "                 'page_engagement',\n",
    "                 'cpc_(cost_per_link_click)',\n",
    "                 'adds_to_cart',\n",
    "                 'campaign_budget',\n",
    "                 'campaign_budget_type',\n",
    "                 'campaign_budget',],inplace=True)"
   ]
  },
  {
   "cell_type": "code",
   "execution_count": 219,
   "metadata": {},
   "outputs": [],
   "source": [
    "df=df.fillna(0)"
   ]
  },
  {
   "cell_type": "code",
   "execution_count": 220,
   "metadata": {},
   "outputs": [],
   "source": [
    "df.columns = ['day',\n",
    " 'time_of_day',\n",
    " 'amount_spent_usd',\n",
    " 'impressions',\n",
    " 'landing_page_views',\n",
    " 'conversion',\n",
    " 'page_likes',\n",
    " 'post_comments',\n",
    " 'post_engagement',\n",
    " 'post_reactions',\n",
    " 'location',\n",
    " 'industry']"
   ]
  },
  {
   "cell_type": "code",
   "execution_count": 221,
   "metadata": {},
   "outputs": [],
   "source": [
    "df = df[['day',\n",
    " 'time_of_day',\n",
    " 'amount_spent_usd',\n",
    " 'impressions',\n",
    " 'landing_page_views',\n",
    " 'page_likes',\n",
    " 'post_comments',\n",
    " 'post_engagement',\n",
    " 'post_reactions',\n",
    " 'location',\n",
    " 'industry',\n",
    " 'conversion']]"
   ]
  },
  {
   "cell_type": "code",
   "execution_count": 222,
   "metadata": {},
   "outputs": [],
   "source": [
    "df.drop_duplicates(keep=False,inplace=True)"
   ]
  },
  {
   "cell_type": "code",
   "execution_count": 223,
   "metadata": {},
   "outputs": [],
   "source": [
    "df=df[df['location'].isin(['US', 'FR', 'UK', 'MX', 'ES', 'DE', 'ZA', 'IT'])].reset_index(drop=True)"
   ]
  },
  {
   "cell_type": "code",
   "execution_count": 224,
   "metadata": {},
   "outputs": [],
   "source": [
    "df['time_of_day']=df['time_of_day'].str.split(':').str[0].astype(int)"
   ]
  },
  {
   "cell_type": "code",
   "execution_count": 226,
   "metadata": {},
   "outputs": [],
   "source": [
    "df=df[pd.to_datetime(df['day'])<'2019-10']"
   ]
  },
  {
   "cell_type": "code",
   "execution_count": 227,
   "metadata": {},
   "outputs": [
    {
     "data": {
      "text/html": [
       "<div>\n",
       "<style scoped>\n",
       "    .dataframe tbody tr th:only-of-type {\n",
       "        vertical-align: middle;\n",
       "    }\n",
       "\n",
       "    .dataframe tbody tr th {\n",
       "        vertical-align: top;\n",
       "    }\n",
       "\n",
       "    .dataframe thead th {\n",
       "        text-align: right;\n",
       "    }\n",
       "</style>\n",
       "<table border=\"1\" class=\"dataframe\">\n",
       "  <thead>\n",
       "    <tr style=\"text-align: right;\">\n",
       "      <th></th>\n",
       "      <th>day</th>\n",
       "      <th>time_of_day</th>\n",
       "      <th>amount_spent_usd</th>\n",
       "      <th>impressions</th>\n",
       "      <th>landing_page_views</th>\n",
       "      <th>page_likes</th>\n",
       "      <th>post_comments</th>\n",
       "      <th>post_engagement</th>\n",
       "      <th>post_reactions</th>\n",
       "      <th>location</th>\n",
       "      <th>industry</th>\n",
       "      <th>conversion</th>\n",
       "    </tr>\n",
       "  </thead>\n",
       "  <tbody>\n",
       "    <tr>\n",
       "      <th>0</th>\n",
       "      <td>2018-01-01</td>\n",
       "      <td>5</td>\n",
       "      <td>0.7008</td>\n",
       "      <td>203</td>\n",
       "      <td>1.0</td>\n",
       "      <td>0.0</td>\n",
       "      <td>0.0</td>\n",
       "      <td>16.0</td>\n",
       "      <td>1.0</td>\n",
       "      <td>ZA</td>\n",
       "      <td>OR</td>\n",
       "      <td>0.0</td>\n",
       "    </tr>\n",
       "    <tr>\n",
       "      <th>1</th>\n",
       "      <td>2018-01-01</td>\n",
       "      <td>6</td>\n",
       "      <td>0.6570</td>\n",
       "      <td>299</td>\n",
       "      <td>2.0</td>\n",
       "      <td>0.0</td>\n",
       "      <td>0.0</td>\n",
       "      <td>31.0</td>\n",
       "      <td>0.0</td>\n",
       "      <td>ZA</td>\n",
       "      <td>OR</td>\n",
       "      <td>2.0</td>\n",
       "    </tr>\n",
       "    <tr>\n",
       "      <th>2</th>\n",
       "      <td>2018-01-01</td>\n",
       "      <td>7</td>\n",
       "      <td>1.1461</td>\n",
       "      <td>551</td>\n",
       "      <td>3.0</td>\n",
       "      <td>0.0</td>\n",
       "      <td>0.0</td>\n",
       "      <td>73.0</td>\n",
       "      <td>0.0</td>\n",
       "      <td>ZA</td>\n",
       "      <td>OR</td>\n",
       "      <td>0.0</td>\n",
       "    </tr>\n",
       "    <tr>\n",
       "      <th>3</th>\n",
       "      <td>2018-01-01</td>\n",
       "      <td>8</td>\n",
       "      <td>1.3870</td>\n",
       "      <td>554</td>\n",
       "      <td>2.0</td>\n",
       "      <td>0.0</td>\n",
       "      <td>0.0</td>\n",
       "      <td>68.0</td>\n",
       "      <td>1.0</td>\n",
       "      <td>ZA</td>\n",
       "      <td>OR</td>\n",
       "      <td>0.0</td>\n",
       "    </tr>\n",
       "    <tr>\n",
       "      <th>4</th>\n",
       "      <td>2018-01-01</td>\n",
       "      <td>9</td>\n",
       "      <td>1.2629</td>\n",
       "      <td>537</td>\n",
       "      <td>3.0</td>\n",
       "      <td>1.0</td>\n",
       "      <td>0.0</td>\n",
       "      <td>62.0</td>\n",
       "      <td>0.0</td>\n",
       "      <td>ZA</td>\n",
       "      <td>OR</td>\n",
       "      <td>0.0</td>\n",
       "    </tr>\n",
       "  </tbody>\n",
       "</table>\n",
       "</div>"
      ],
      "text/plain": [
       "          day  time_of_day  amount_spent_usd  impressions  landing_page_views  \\\n",
       "0  2018-01-01            5            0.7008          203                 1.0   \n",
       "1  2018-01-01            6            0.6570          299                 2.0   \n",
       "2  2018-01-01            7            1.1461          551                 3.0   \n",
       "3  2018-01-01            8            1.3870          554                 2.0   \n",
       "4  2018-01-01            9            1.2629          537                 3.0   \n",
       "\n",
       "   page_likes  post_comments  post_engagement  post_reactions location  \\\n",
       "0         0.0            0.0             16.0             1.0       ZA   \n",
       "1         0.0            0.0             31.0             0.0       ZA   \n",
       "2         0.0            0.0             73.0             0.0       ZA   \n",
       "3         0.0            0.0             68.0             1.0       ZA   \n",
       "4         1.0            0.0             62.0             0.0       ZA   \n",
       "\n",
       "  industry  conversion  \n",
       "0       OR         0.0  \n",
       "1       OR         2.0  \n",
       "2       OR         0.0  \n",
       "3       OR         0.0  \n",
       "4       OR         0.0  "
      ]
     },
     "execution_count": 227,
     "metadata": {},
     "output_type": "execute_result"
    }
   ],
   "source": [
    "df.head()"
   ]
  },
  {
   "cell_type": "code",
   "execution_count": 228,
   "metadata": {},
   "outputs": [],
   "source": [
    "df.reset_index(drop=True,inplace=True)"
   ]
  },
  {
   "cell_type": "code",
   "execution_count": 229,
   "metadata": {},
   "outputs": [],
   "source": [
    "df.to_csv('data/campaign/fb_campaign.csv',index=False)"
   ]
  },
  {
   "cell_type": "code",
   "execution_count": null,
   "metadata": {},
   "outputs": [],
   "source": []
  }
 ],
 "metadata": {
  "kernelspec": {
   "display_name": "Python 3",
   "language": "python",
   "name": "python3"
  },
  "language_info": {
   "codemirror_mode": {
    "name": "ipython",
    "version": 3
   },
   "file_extension": ".py",
   "mimetype": "text/x-python",
   "name": "python",
   "nbconvert_exporter": "python",
   "pygments_lexer": "ipython3",
   "version": "3.6.6"
  }
 },
 "nbformat": 4,
 "nbformat_minor": 4
}
